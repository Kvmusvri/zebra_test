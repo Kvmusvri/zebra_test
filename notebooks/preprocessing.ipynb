{
 "cells": [
  {
   "cell_type": "markdown",
   "metadata": {},
   "source": [
    "# Постановка задачи\n",
    "Обучить модель yolo11 на полученных данных для задачи распознавания посуды, еды и людей в кадре. Делаем упрощение, что мы не отслеживаем никакую мебель, кроме стола за которым ведется ведется трапеза, так как отслеживание стола имеет конкретный прикладной характер. Так же не остлеживаем столовые приборы и сторонние объекты в кадре по типу телефона. \n",
    "\n",
    "# Логика решения \n",
    "\n",
    "1. Найти подходящую модель-трекер для авто разметки, уже есть готовые решения, смотрим, какое подойдет лучше всего в инфраструктуре yolo (Лучше всего подошло yolo11s)\n",
    "2. Разметить данные через эту модель, посмотреть результаты, свести ручную разметку к возможному минимуму. "
   ]
  },
  {
   "cell_type": "markdown",
   "metadata": {},
   "source": [
    "# Скачиваем датасет"
   ]
  },
  {
   "cell_type": "code",
   "execution_count": null,
   "metadata": {},
   "outputs": [],
   "source": [
    "import requests\n",
    "from time import time\n",
    "\n",
    "public_key = \"https://disk.360.yandex.ru/d/_8CpYlNBpmYidQ\"\n",
    "\n",
    "print(\"Запрашиваем ссылку на скачивание...\")\n",
    "api_url = \"https://cloud-api.yandex.net/v1/disk/public/resources/download\"\n",
    "params = {\"public_key\": public_key}\n",
    "\n",
    "response = requests.get(api_url, params=params)\n",
    "response.raise_for_status()\n",
    "download_url = response.json()[\"href\"]\n",
    "print(\"Ссылка получена, начинаем скачивание...\")\n",
    "\n",
    "output_path = \"dataset.zip\"\n",
    "with requests.get(download_url, stream=True) as r:\n",
    "    r.raise_for_status()\n",
    "    total_size = int(r.headers.get('content-length', 0))\n",
    "    downloaded = 0\n",
    "    chunk_size = 8192\n",
    "    start = time()\n",
    "\n",
    "    with open(output_path, \"wb\") as f:\n",
    "        for i, chunk in enumerate(r.iter_content(chunk_size=chunk_size), 1):\n",
    "            if chunk:\n",
    "                f.write(chunk)\n",
    "                downloaded += len(chunk)\n",
    "                if i % 100 == 0 or downloaded == total_size:\n",
    "                    percent = downloaded * 100 / total_size if total_size else 0\n",
    "                    speed = downloaded / (time() - start + 1e-3) / 1024  # KB/s\n",
    "                    print(f\"Скачано: {downloaded / 1024:.1f} KB ({percent:.1f}%), Скорость: {speed:.1f} KB/s\")\n",
    "\n",
    "print(\"✅ Файл успешно скачан:\", output_path)\n"
   ]
  },
  {
   "cell_type": "markdown",
   "metadata": {},
   "source": [
    "# Тестируем разные трекеры \n",
    "\n",
    "Сначала протестируем из документации \n",
    "\n",
    "1. botsort.yaml\n",
    "2. bytetrack.yaml\n",
    "\n",
    "Так же посмотрим разные типы моделей, какая из них лучше определяет предметы. \n",
    "\n",
    "Нужно определять \n",
    "\n",
    "1. Людей в кадре\n",
    "2. Тарелки\n",
    "3. Еду \n",
    "\n",
    "Людей в кадре и тарелки (а так же столовые приборы) хорошо определяют базовые трекеры, с едой проблемы, ищем подходящий. \n",
    "\n"
   ]
  },
  {
   "cell_type": "code",
   "execution_count": 6,
   "metadata": {},
   "outputs": [],
   "source": [
    "from ultralytics import YOLO\n",
    "\n",
    "model = YOLO(\"yolo11x-seg.pt\")  # Load an official Detect model"
   ]
  },
  {
   "cell_type": "markdown",
   "metadata": {},
   "source": [
    "# Записываем результаты по размерам модели \n",
    "\n",
    "*сейчас мы выбираем модель для авто разметки, поэтому первая необходимость - задетектить как можно больше объектов в кадре. Желательно правильно.\n",
    "\n",
    "yolo11n с bytetrack - детектит только крупные объекты\n",
    "yolo11s с bytetrack - детектит все мелкие предметы, даже попробовал определить еду как пиццу.\n",
    "yolo11m с bytetrack - не детектит некоторые большие объекты, пытается детектит мелкие, получается хуже чем у s\n",
    "yolo11l с bytetrack - так же пропускает некоторые крупные объекты, детектит больше мелких объектов, но качестве хуже чем у s\n",
    "yolo11x с bytetrack - как ни странно качество как у n, но чуть лучше \n",
    "\n",
    "С bytetrack лучшая модель __yolo11s__\n",
    "\n",
    "Дальше тестим с botsort\n",
    "yolo11n - видит больше крупных объектов\n",
    "yolo11s - видит практически все, некоторые объекты пропадают, но в целом это уже можно использовать для автоматизации.\n",
    "yolo11m - меньше объектов, хуже s\n",
    "yolo11l - хуже s\n",
    "yolo11x - хуже s\n",
    "\n",
    "Лучшая модель с botsort __yolo11s__\n",
    "\n",
    "Без разницы какой трекер, одинаковые предметы в кадре не видит. "
   ]
  },
  {
   "cell_type": "markdown",
   "metadata": {},
   "source": [
    "# Теперь пройдемся по видео этой моделью, чтобы определить, какие видео придется все таки размечать руками \n",
    "\n",
    "* 1.mov - вообще не видит кружек, человека задетектило, из смешного - одну кружку в процессе задетектило как wife. Придется размечать самостоятельно все.\n",
    "* 2_1.mov - в начале не увидел кружки по середине, зато даже подсветил броколи в тарелке, что явно плюс, увидел человека, после чего начал видеть на одну кружку в центре больше и потерял * * броколи, но не увидел поднос, зато увидел соус. На этом видео модель хорошо поможет и ускорит процесс\n",
    "* 3_1.mov - видит людей в кадре, не видит только кружку по середине и подносы, в некоторых кадрах видит телефон и пытается поймать ложки. Не видит вилку на тарелке, одну тарелку считает фруктом. В целом по этому видео так же хорошо поможет и ускорит процесс разметки. \n",
    "* 3_2.mov - аналогичная ситуация с предыдущем видео, не видит две тарелки у людей, вместо одной тарелки детектит пиццу, столовые приборы в тарелке тоже не видит, но если они лежат отдельно, то он их детектит. Так же поможет частично.\n",
    "* 4_1.mov - не видит поднос и прибор на нем, перестает видеть кружки в центре, с этим у него проблема, человека видит и то что у него в руках тоже, что интересно, поднос он начинает видеть когда он у человека в руках. Кружки под конец перестал видеть вообще. Начало разметки автоматизирует, остальное придется руками делать\n",
    "* 4.mov - не видит кружки в центре и поднос, человека видит, не видит что у него в руках. Аналогично с предыдущим поможет автоматизировать начало разметки. \n",
    "\n",
    "Для теста будем использовать видео 4_1, т.к. на нем много обектов, плюс они начинают исчезать, что хорошо покажет способность к обобщению.\n",
    "\n",
    "# Общий вывод \n",
    "\n",
    "Модель поможет автоматизировать начало разметки, после чего можно будет добить руками, что сильно сократит время\n",
    "\n",
    "Имена файлов переименуем \n",
    "\n",
    "\n",
    "4 > test, на нем много объектов и они в динамике\n",
    "3.2 > val, на нем много объектов, что поможет отследить способность модели к обобщению.\n",
    "\n",
    "Возьмем один на валидацию \n",
    "\n",
    "*Подобный подход позволяем себе как раз за счет маленького датасета, который мы в ручную можем отсмотреть и в ручную переименовать. Если бы видео было хотя бы больше 20, то подход бы изменился, на частичный отсмотр, разделение выборки по процентам и автоматическое переименование.*"
   ]
  },
  {
   "cell_type": "markdown",
   "metadata": {},
   "source": [
    "# Какие классы видит сетка \n",
    "\n",
    "1. person\n",
    "2. bowl\n",
    "3. cup\n",
    "4. bottle\n",
    "5. wine glass\n",
    "\n",
    "Так же он видит еще овощи и еду, определяет он их по цвету, из-за чего тарелка может стать апельсином или бананом, это мы не трогаем, будем размечать вручную\n",
    "\n",
    "Так же не будем трогать столовые приборы, чтобы не тратить на это время, при большом желании можно так же найти сетку для \n",
    "\n",
    "Из всех этих классов редко появляется bottle и wine glass, таким образом автоматом мы будем размечать только 3 класса \n",
    "\n",
    "1. person\n",
    "2. bowl\n",
    "3. cup \n"
   ]
  },
  {
   "cell_type": "code",
   "execution_count": null,
   "metadata": {},
   "outputs": [
    {
     "name": "stdout",
     "output_type": "stream",
     "text": [
      "\n",
      "0: 384x640 5 foods, 4 dishess, 25.9ms\n",
      "Speed: 2.4ms preprocess, 25.9ms inference, 3.1ms postprocess per image at shape (1, 3, 384, 640)\n",
      "\n",
      "0: 384x640 5 foods, 3 dishess, 16.9ms\n",
      "Speed: 2.1ms preprocess, 16.9ms inference, 1.8ms postprocess per image at shape (1, 3, 384, 640)\n",
      "\n",
      "0: 384x640 4 foods, 6 dishess, 16.8ms\n",
      "Speed: 2.4ms preprocess, 16.8ms inference, 2.3ms postprocess per image at shape (1, 3, 384, 640)\n",
      "\n",
      "0: 384x640 7 foods, 5 dishess, 14.6ms\n",
      "Speed: 3.3ms preprocess, 14.6ms inference, 2.0ms postprocess per image at shape (1, 3, 384, 640)\n",
      "\n",
      "0: 384x640 6 foods, 5 dishess, 15.1ms\n",
      "Speed: 2.1ms preprocess, 15.1ms inference, 1.8ms postprocess per image at shape (1, 3, 384, 640)\n",
      "\n",
      "0: 384x640 6 foods, 6 dishess, 15.9ms\n",
      "Speed: 2.3ms preprocess, 15.9ms inference, 3.2ms postprocess per image at shape (1, 3, 384, 640)\n",
      "\n",
      "0: 384x640 6 foods, 6 dishess, 16.4ms\n",
      "Speed: 2.8ms preprocess, 16.4ms inference, 3.5ms postprocess per image at shape (1, 3, 384, 640)\n",
      "\n",
      "0: 384x640 7 foods, 6 dishess, 16.6ms\n",
      "Speed: 2.2ms preprocess, 16.6ms inference, 2.9ms postprocess per image at shape (1, 3, 384, 640)\n",
      "\n",
      "0: 384x640 6 foods, 8 dishess, 14.2ms\n",
      "Speed: 2.1ms preprocess, 14.2ms inference, 3.1ms postprocess per image at shape (1, 3, 384, 640)\n",
      "\n",
      "0: 384x640 7 foods, 7 dishess, 14.3ms\n",
      "Speed: 2.0ms preprocess, 14.3ms inference, 3.3ms postprocess per image at shape (1, 3, 384, 640)\n",
      "\n",
      "0: 384x640 8 foods, 9 dishess, 16.9ms\n",
      "Speed: 2.4ms preprocess, 16.9ms inference, 1.8ms postprocess per image at shape (1, 3, 384, 640)\n",
      "\n",
      "0: 384x640 7 foods, 8 dishess, 19.4ms\n",
      "Speed: 2.4ms preprocess, 19.4ms inference, 2.0ms postprocess per image at shape (1, 3, 384, 640)\n",
      "\n",
      "0: 384x640 7 foods, 6 dishess, 14.1ms\n",
      "Speed: 2.9ms preprocess, 14.1ms inference, 3.2ms postprocess per image at shape (1, 3, 384, 640)\n",
      "\n",
      "0: 384x640 8 foods, 6 dishess, 14.4ms\n",
      "Speed: 2.5ms preprocess, 14.4ms inference, 3.2ms postprocess per image at shape (1, 3, 384, 640)\n",
      "\n",
      "0: 384x640 8 foods, 6 dishess, 16.7ms\n",
      "Speed: 2.3ms preprocess, 16.7ms inference, 1.9ms postprocess per image at shape (1, 3, 384, 640)\n",
      "\n",
      "0: 384x640 8 foods, 7 dishess, 16.5ms\n",
      "Speed: 2.6ms preprocess, 16.5ms inference, 3.7ms postprocess per image at shape (1, 3, 384, 640)\n",
      "\n",
      "0: 384x640 7 foods, 6 dishess, 16.3ms\n",
      "Speed: 2.3ms preprocess, 16.3ms inference, 3.1ms postprocess per image at shape (1, 3, 384, 640)\n",
      "\n",
      "0: 384x640 7 foods, 6 dishess, 15.9ms\n",
      "Speed: 2.4ms preprocess, 15.9ms inference, 3.2ms postprocess per image at shape (1, 3, 384, 640)\n",
      "\n",
      "0: 384x640 7 foods, 6 dishess, 13.2ms\n",
      "Speed: 2.4ms preprocess, 13.2ms inference, 3.6ms postprocess per image at shape (1, 3, 384, 640)\n",
      "\n",
      "0: 384x640 7 foods, 8 dishess, 24.1ms\n",
      "Speed: 2.1ms preprocess, 24.1ms inference, 1.9ms postprocess per image at shape (1, 3, 384, 640)\n",
      "\n",
      "0: 384x640 7 foods, 9 dishess, 19.5ms\n",
      "Speed: 2.1ms preprocess, 19.5ms inference, 3.4ms postprocess per image at shape (1, 3, 384, 640)\n",
      "\n",
      "0: 384x640 6 foods, 7 dishess, 18.5ms\n",
      "Speed: 2.3ms preprocess, 18.5ms inference, 3.2ms postprocess per image at shape (1, 3, 384, 640)\n",
      "\n",
      "0: 384x640 7 foods, 7 dishess, 17.1ms\n",
      "Speed: 2.3ms preprocess, 17.1ms inference, 2.2ms postprocess per image at shape (1, 3, 384, 640)\n",
      "\n",
      "0: 384x640 7 foods, 8 dishess, 15.4ms\n",
      "Speed: 2.2ms preprocess, 15.4ms inference, 2.9ms postprocess per image at shape (1, 3, 384, 640)\n",
      "\n",
      "0: 384x640 8 foods, 9 dishess, 16.4ms\n",
      "Speed: 2.2ms preprocess, 16.4ms inference, 2.5ms postprocess per image at shape (1, 3, 384, 640)\n",
      "\n",
      "0: 384x640 6 foods, 9 dishess, 17.5ms\n",
      "Speed: 2.2ms preprocess, 17.5ms inference, 4.2ms postprocess per image at shape (1, 3, 384, 640)\n",
      "\n",
      "0: 384x640 6 foods, 8 dishess, 17.3ms\n",
      "Speed: 2.2ms preprocess, 17.3ms inference, 1.7ms postprocess per image at shape (1, 3, 384, 640)\n",
      "\n",
      "0: 384x640 5 foods, 7 dishess, 19.6ms\n",
      "Speed: 4.3ms preprocess, 19.6ms inference, 2.6ms postprocess per image at shape (1, 3, 384, 640)\n",
      "\n",
      "0: 384x640 6 foods, 8 dishess, 22.2ms\n",
      "Speed: 2.1ms preprocess, 22.2ms inference, 2.3ms postprocess per image at shape (1, 3, 384, 640)\n",
      "\n",
      "0: 384x640 7 foods, 8 dishess, 16.6ms\n",
      "Speed: 2.5ms preprocess, 16.6ms inference, 2.3ms postprocess per image at shape (1, 3, 384, 640)\n",
      "\n",
      "0: 384x640 5 foods, 9 dishess, 16.7ms\n",
      "Speed: 2.3ms preprocess, 16.7ms inference, 2.1ms postprocess per image at shape (1, 3, 384, 640)\n",
      "\n",
      "0: 384x640 6 foods, 8 dishess, 14.9ms\n",
      "Speed: 3.0ms preprocess, 14.9ms inference, 2.4ms postprocess per image at shape (1, 3, 384, 640)\n",
      "\n",
      "0: 384x640 5 foods, 9 dishess, 15.6ms\n",
      "Speed: 2.3ms preprocess, 15.6ms inference, 4.3ms postprocess per image at shape (1, 3, 384, 640)\n",
      "\n",
      "0: 384x640 5 foods, 9 dishess, 17.3ms\n",
      "Speed: 2.3ms preprocess, 17.3ms inference, 2.4ms postprocess per image at shape (1, 3, 384, 640)\n",
      "\n",
      "0: 384x640 5 foods, 7 dishess, 21.7ms\n",
      "Speed: 4.1ms preprocess, 21.7ms inference, 2.2ms postprocess per image at shape (1, 3, 384, 640)\n",
      "\n",
      "0: 384x640 6 foods, 7 dishess, 14.4ms\n",
      "Speed: 2.4ms preprocess, 14.4ms inference, 4.1ms postprocess per image at shape (1, 3, 384, 640)\n",
      "\n",
      "0: 384x640 5 foods, 9 dishess, 17.4ms\n",
      "Speed: 2.1ms preprocess, 17.4ms inference, 2.3ms postprocess per image at shape (1, 3, 384, 640)\n",
      "\n",
      "0: 384x640 6 foods, 9 dishess, 17.2ms\n",
      "Speed: 2.3ms preprocess, 17.2ms inference, 2.4ms postprocess per image at shape (1, 3, 384, 640)\n",
      "\n",
      "0: 384x640 5 foods, 8 dishess, 17.2ms\n",
      "Speed: 2.1ms preprocess, 17.2ms inference, 3.9ms postprocess per image at shape (1, 3, 384, 640)\n",
      "\n",
      "0: 384x640 4 foods, 10 dishess, 17.2ms\n",
      "Speed: 2.4ms preprocess, 17.2ms inference, 4.2ms postprocess per image at shape (1, 3, 384, 640)\n",
      "\n",
      "0: 384x640 5 foods, 10 dishess, 15.9ms\n",
      "Speed: 2.1ms preprocess, 15.9ms inference, 3.0ms postprocess per image at shape (1, 3, 384, 640)\n",
      "\n",
      "0: 384x640 5 foods, 9 dishess, 18.0ms\n",
      "Speed: 2.3ms preprocess, 18.0ms inference, 2.1ms postprocess per image at shape (1, 3, 384, 640)\n",
      "\n",
      "0: 384x640 6 foods, 6 dishess, 18.3ms\n",
      "Speed: 2.8ms preprocess, 18.3ms inference, 2.2ms postprocess per image at shape (1, 3, 384, 640)\n",
      "\n",
      "0: 384x640 6 foods, 4 dishess, 15.9ms\n",
      "Speed: 2.4ms preprocess, 15.9ms inference, 4.0ms postprocess per image at shape (1, 3, 384, 640)\n",
      "\n",
      "0: 384x640 7 foods, 6 dishess, 17.5ms\n",
      "Speed: 3.0ms preprocess, 17.5ms inference, 3.1ms postprocess per image at shape (1, 3, 384, 640)\n",
      "\n",
      "0: 384x640 5 foods, 7 dishess, 20.4ms\n",
      "Speed: 2.7ms preprocess, 20.4ms inference, 3.3ms postprocess per image at shape (1, 3, 384, 640)\n",
      "\n",
      "0: 384x640 5 foods, 6 dishess, 18.5ms\n",
      "Speed: 2.3ms preprocess, 18.5ms inference, 6.7ms postprocess per image at shape (1, 3, 384, 640)\n",
      "\n",
      "0: 384x640 5 foods, 7 dishess, 18.9ms\n",
      "Speed: 2.4ms preprocess, 18.9ms inference, 5.2ms postprocess per image at shape (1, 3, 384, 640)\n",
      "\n",
      "0: 384x640 5 foods, 8 dishess, 15.2ms\n",
      "Speed: 3.2ms preprocess, 15.2ms inference, 4.0ms postprocess per image at shape (1, 3, 384, 640)\n",
      "\n",
      "0: 384x640 5 foods, 7 dishess, 15.4ms\n",
      "Speed: 2.2ms preprocess, 15.4ms inference, 2.0ms postprocess per image at shape (1, 3, 384, 640)\n",
      "\n",
      "0: 384x640 6 foods, 9 dishess, 18.7ms\n",
      "Speed: 3.4ms preprocess, 18.7ms inference, 1.9ms postprocess per image at shape (1, 3, 384, 640)\n",
      "\n",
      "0: 384x640 6 foods, 9 dishess, 19.0ms\n",
      "Speed: 2.6ms preprocess, 19.0ms inference, 1.9ms postprocess per image at shape (1, 3, 384, 640)\n",
      "\n",
      "0: 384x640 5 foods, 9 dishess, 15.3ms\n",
      "Speed: 2.7ms preprocess, 15.3ms inference, 3.6ms postprocess per image at shape (1, 3, 384, 640)\n",
      "\n",
      "0: 384x640 5 foods, 9 dishess, 20.1ms\n",
      "Speed: 3.1ms preprocess, 20.1ms inference, 3.7ms postprocess per image at shape (1, 3, 384, 640)\n",
      "\n",
      "0: 384x640 5 foods, 8 dishess, 20.1ms\n",
      "Speed: 2.5ms preprocess, 20.1ms inference, 2.1ms postprocess per image at shape (1, 3, 384, 640)\n",
      "\n",
      "0: 384x640 6 foods, 10 dishess, 16.0ms\n",
      "Speed: 2.7ms preprocess, 16.0ms inference, 3.7ms postprocess per image at shape (1, 3, 384, 640)\n",
      "\n",
      "0: 384x640 5 foods, 9 dishess, 15.5ms\n",
      "Speed: 2.9ms preprocess, 15.5ms inference, 3.8ms postprocess per image at shape (1, 3, 384, 640)\n",
      "\n",
      "0: 384x640 5 foods, 10 dishess, 15.8ms\n",
      "Speed: 2.0ms preprocess, 15.8ms inference, 3.0ms postprocess per image at shape (1, 3, 384, 640)\n",
      "\n",
      "0: 384x640 6 foods, 11 dishess, 18.0ms\n",
      "Speed: 2.2ms preprocess, 18.0ms inference, 2.0ms postprocess per image at shape (1, 3, 384, 640)\n",
      "\n",
      "0: 384x640 5 foods, 10 dishess, 15.4ms\n",
      "Speed: 4.1ms preprocess, 15.4ms inference, 3.0ms postprocess per image at shape (1, 3, 384, 640)\n",
      "\n",
      "0: 384x640 4 foods, 6 dishess, 17.8ms\n",
      "Speed: 2.3ms preprocess, 17.8ms inference, 3.2ms postprocess per image at shape (1, 3, 384, 640)\n",
      "\n",
      "0: 384x640 5 foods, 6 dishess, 15.4ms\n",
      "Speed: 2.5ms preprocess, 15.4ms inference, 4.7ms postprocess per image at shape (1, 3, 384, 640)\n",
      "\n",
      "0: 384x640 6 foods, 6 dishess, 33.5ms\n",
      "Speed: 4.2ms preprocess, 33.5ms inference, 11.0ms postprocess per image at shape (1, 3, 384, 640)\n",
      "\n",
      "0: 384x640 7 foods, 5 dishess, 18.0ms\n",
      "Speed: 2.3ms preprocess, 18.0ms inference, 3.2ms postprocess per image at shape (1, 3, 384, 640)\n",
      "\n",
      "0: 384x640 5 foods, 4 dishess, 16.1ms\n",
      "Speed: 3.5ms preprocess, 16.1ms inference, 3.8ms postprocess per image at shape (1, 3, 384, 640)\n",
      "\n",
      "0: 384x640 5 foods, 3 dishess, 16.4ms\n",
      "Speed: 3.3ms preprocess, 16.4ms inference, 4.2ms postprocess per image at shape (1, 3, 384, 640)\n",
      "\n",
      "0: 384x640 7 foods, 3 dishess, 15.7ms\n",
      "Speed: 2.5ms preprocess, 15.7ms inference, 4.7ms postprocess per image at shape (1, 3, 384, 640)\n",
      "\n",
      "0: 384x640 6 foods, 3 dishess, 16.9ms\n",
      "Speed: 2.8ms preprocess, 16.9ms inference, 2.6ms postprocess per image at shape (1, 3, 384, 640)\n",
      "\n",
      "0: 384x640 7 foods, 2 dishess, 17.8ms\n",
      "Speed: 2.2ms preprocess, 17.8ms inference, 4.0ms postprocess per image at shape (1, 3, 384, 640)\n",
      "\n",
      "0: 384x640 6 foods, 2 dishess, 15.1ms\n",
      "Speed: 2.3ms preprocess, 15.1ms inference, 3.8ms postprocess per image at shape (1, 3, 384, 640)\n"
     ]
    }
   ],
   "source": [
    "from collections import defaultdict\n",
    "import cv2\n",
    "import numpy as np\n",
    "from ultralytics import YOLO\n",
    "\n",
    "# Load the YOLO11 model\n",
    "model = YOLO(r\"runs\\detect\\train23\\weights\\best.pt\")\n",
    "\n",
    "# Open the video file\n",
    "video_path = r\"тест\\6011752_Person_People_3840x2160.mov\"\n",
    "cap = cv2.VideoCapture(video_path)\n",
    "\n",
    "\n",
    "screen_res = (1920, 1080) \n",
    "\n",
    "\n",
    "max_width, max_height = screen_res\n",
    "\n",
    "# Store the track history\n",
    "track_history = defaultdict(lambda: [])\n",
    "\n",
    "def scale_frame(frame, max_width, max_height):\n",
    "    height, width = frame.shape[:2]\n",
    "    scale = min(max_width / width, max_height / height)\n",
    "    new_width = int(width * scale)\n",
    "    new_height = int(height * scale)\n",
    "    return cv2.resize(frame, (new_width, new_height))\n",
    "\n",
    "# Loop through the video frames\n",
    "while cap.isOpened():\n",
    "    success, frame = cap.read()\n",
    "    if success:\n",
    "        # Run YOLO11 tracking on the frame, persisting tracks between frames\n",
    "        result = model.track(frame,\n",
    "                              persist=True,\n",
    "                              conf=0.4,\n",
    "                              iou=0.7,\n",
    "                             )[0]\n",
    "\n",
    "        # Get the boxes and track IDs\n",
    "        if result.boxes and result.boxes.is_track:\n",
    "            boxes = result.boxes.xywh.cpu()\n",
    "            track_ids = result.boxes.id.int().cpu().tolist()\n",
    "\n",
    "            # Visualize the result on the frame\n",
    "            frame = result.plot()\n",
    "\n",
    "            # Plot the tracks\n",
    "            for box, track_id in zip(boxes, track_ids):\n",
    "                x, y, w, h = box\n",
    "                track = track_history[track_id]\n",
    "                track.append((float(x), float(y)))  # x, y center point\n",
    "                if len(track) > 30:  # retain 30 tracks for 30 frames\n",
    "                    track.pop(0)\n",
    "\n",
    "                # Draw the tracking lines\n",
    "                points = np.hstack(track).astype(np.int32).reshape((-1, 1, 2))\n",
    "                cv2.polylines(frame, [points], isClosed=False, color=(230, 230, 230), thickness=10)\n",
    "\n",
    "        frame_resized = scale_frame(frame, max_width, max_height)\n",
    "\n",
    "        # Display the annotated frame\n",
    "        cv2.imshow(\"YOLO11 Tracking\", frame_resized)\n",
    "\n",
    "        # Break the loop if 'q' is pressed\n",
    "        if cv2.waitKey(1) & 0xFF == ord(\"q\"):\n",
    "            break\n",
    "    else:\n",
    "        break\n",
    "\n",
    "cap.release()\n",
    "cv2.destroyAllWindows()\n"
   ]
  },
  {
   "cell_type": "markdown",
   "metadata": {},
   "source": [
    "# Составим датасет из видео"
   ]
  },
  {
   "cell_type": "code",
   "execution_count": 8,
   "metadata": {},
   "outputs": [
    {
     "name": "stderr",
     "output_type": "stream",
     "text": [
      "ffmpeg version 7.1.1-full_build-www.gyan.dev Copyright (c) 2000-2025 the FFmpeg developers\n",
      "  built with gcc 14.2.0 (Rev1, Built by MSYS2 project)\n",
      "  configuration: --enable-gpl --enable-version3 --enable-static --disable-w32threads --disable-autodetect --enable-fontconfig --enable-iconv --enable-gnutls --enable-lcms2 --enable-libxml2 --enable-gmp --enable-bzlib --enable-lzma --enable-libsnappy --enable-zlib --enable-librist --enable-libsrt --enable-libssh --enable-libzmq --enable-avisynth --enable-libbluray --enable-libcaca --enable-libdvdnav --enable-libdvdread --enable-sdl2 --enable-libaribb24 --enable-libaribcaption --enable-libdav1d --enable-libdavs2 --enable-libopenjpeg --enable-libquirc --enable-libuavs3d --enable-libxevd --enable-libzvbi --enable-libqrencode --enable-librav1e --enable-libsvtav1 --enable-libvvenc --enable-libwebp --enable-libx264 --enable-libx265 --enable-libxavs2 --enable-libxeve --enable-libxvid --enable-libaom --enable-libjxl --enable-libvpx --enable-mediafoundation --enable-libass --enable-frei0r --enable-libfreetype --enable-libfribidi --enable-libharfbuzz --enable-liblensfun --enable-libvidstab --enable-libvmaf --enable-libzimg --enable-amf --enable-cuda-llvm --enable-cuvid --enable-dxva2 --enable-d3d11va --enable-d3d12va --enable-ffnvcodec --enable-libvpl --enable-nvdec --enable-nvenc --enable-vaapi --enable-libshaderc --enable-vulkan --enable-libplacebo --enable-opencl --enable-libcdio --enable-libgme --enable-libmodplug --enable-libopenmpt --enable-libopencore-amrwb --enable-libmp3lame --enable-libshine --enable-libtheora --enable-libtwolame --enable-libvo-amrwbenc --enable-libcodec2 --enable-libilbc --enable-libgsm --enable-liblc3 --enable-libopencore-amrnb --enable-libopus --enable-libspeex --enable-libvorbis --enable-ladspa --enable-libbs2b --enable-libflite --enable-libmysofa --enable-librubberband --enable-libsoxr --enable-chromaprint\n",
      "  libavutil      59. 39.100 / 59. 39.100\n",
      "  libavcodec     61. 19.101 / 61. 19.101\n",
      "  libavformat    61.  7.100 / 61.  7.100\n",
      "  libavdevice    61.  3.100 / 61.  3.100\n",
      "  libavfilter    10.  4.100 / 10.  4.100\n",
      "  libswscale      8.  3.100 /  8.  3.100\n",
      "  libswresample   5.  3.100 /  5.  3.100\n",
      "  libpostproc    58.  3.100 / 58.  3.100\n",
      "Input #0, mov,mp4,m4a,3gp,3g2,mj2, from 'C:\\Users\\Администратор\\Desktop\\zebra_test\\dataset\\train.mov':\n",
      "  Metadata:\n",
      "    major_brand     : qt  \n",
      "    minor_version   : 0\n",
      "    compatible_brands: qt  \n",
      "    creation_time   : 2025-04-25T11:56:30.000000Z\n",
      "    com.apple.quicktime.location.accuracy.horizontal: 10.188540\n",
      "    com.apple.quicktime.full-frame-rate-playback-intent: 0\n",
      "    com.apple.quicktime.location.ISO6709: +59.3702+028.6150+023.965/\n",
      "    com.apple.quicktime.make: Apple\n",
      "    com.apple.quicktime.model: iPhone 12\n",
      "    com.apple.quicktime.software: 18.3.1\n",
      "    com.apple.quicktime.creationdate: 2025-04-25T14:56:30+0300\n",
      "  Duration: 00:00:05.97, start: 0.000000, bitrate: 38278 kb/s\n",
      "  Stream #0:0[0x1](und): Video: hevc (Main 10) (hvc1 / 0x31637668), yuv420p10le(tv, bt2020nc/bt2020/arib-std-b67), 3840x2160, 38030 kb/s, 30 fps, 30 tbr, 600 tbn (default)\n",
      "      Metadata:\n",
      "        creation_time   : 2025-04-25T11:56:30.000000Z\n",
      "        handler_name    : Core Media Video\n",
      "        vendor_id       : [0][0][0][0]\n",
      "        encoder         : HEVC\n",
      "      Side data:\n",
      "        DOVI configuration record: version: 1.0, profile: 8, level: 7, rpu flag: 1, el flag: 0, bl flag: 1, compatibility id: 4, compression: 0\n",
      "        displaymatrix: rotation of -90.00 degrees\n",
      "        Ambient Viewing Environment, ambient_illuminance=314.000000, ambient_light_x=0.312700, ambient_light_y=0.329000\n",
      "  Stream #0:1[0x2](und): Audio: aac (LC) (mp4a / 0x6134706D), 44100 Hz, stereo, fltp, 177 kb/s (default)\n",
      "      Metadata:\n",
      "        creation_time   : 2025-04-25T11:56:30.000000Z\n",
      "        handler_name    : Core Media Audio\n",
      "        vendor_id       : [0][0][0][0]\n",
      "  Stream #0:2[0x3](und): Data: none (mebx / 0x7862656D), 0 kb/s (default)\n",
      "      Metadata:\n",
      "        creation_time   : 2025-04-25T11:56:30.000000Z\n",
      "        handler_name    : Core Media Metadata\n",
      "  Stream #0:3[0x4](und): Data: none (mebx / 0x7862656D), 0 kb/s (default)\n",
      "      Metadata:\n",
      "        creation_time   : 2025-04-25T11:56:30.000000Z\n",
      "        handler_name    : Core Media Metadata\n",
      "  Stream #0:4[0x5](und): Data: none (mebx / 0x7862656D), 34 kb/s (default)\n",
      "      Metadata:\n",
      "        creation_time   : 2025-04-25T11:56:30.000000Z\n",
      "        handler_name    : Core Media Metadata\n",
      "  Stream #0:5[0x6](und): Data: none (mebx / 0x7862656D), 2 kb/s (default)\n",
      "      Metadata:\n",
      "        creation_time   : 2025-04-25T11:56:30.000000Z\n",
      "        handler_name    : Core Media Metadata\n",
      "  Stream #0:6[0x7](und): Data: none (mebx / 0x7862656D), 0 kb/s (default)\n",
      "      Metadata:\n",
      "        creation_time   : 2025-04-25T11:56:30.000000Z\n",
      "        handler_name    : Core Media Metadata\n",
      "Stream mapping:\n",
      "  Stream #0:0 -> #0:0 (hevc (native) -> mjpeg (native))\n",
      "Press [q] to stop, [?] for help\n",
      "Output #0, image2, to 'C:\\Users\\Администратор\\Desktop\\zebra_test\\dataset\\images_train\\0_img%03d.jpg':\n",
      "  Metadata:\n",
      "    major_brand     : qt  \n",
      "    minor_version   : 0\n",
      "    compatible_brands: qt  \n",
      "    com.apple.quicktime.creationdate: 2025-04-25T14:56:30+0300\n",
      "    com.apple.quicktime.location.accuracy.horizontal: 10.188540\n",
      "    com.apple.quicktime.full-frame-rate-playback-intent: 0\n",
      "    com.apple.quicktime.location.ISO6709: +59.3702+028.6150+023.965/\n",
      "    com.apple.quicktime.make: Apple\n",
      "    com.apple.quicktime.model: iPhone 12\n",
      "    com.apple.quicktime.software: 18.3.1\n",
      "    encoder         : Lavf61.7.100\n",
      "  Stream #0:0(und): Video: mjpeg, yuv420p(pc, bt2020nc/bt2020/arib-std-b67, progressive), 2160x3840, q=2-31, 200 kb/s, 1.50 fps, 1.50 tbn (default)\n",
      "      Metadata:\n",
      "        creation_time   : 2025-04-25T11:56:30.000000Z\n",
      "        handler_name    : Core Media Video\n",
      "        vendor_id       : [0][0][0][0]\n",
      "        encoder         : Lavc61.19.101 mjpeg\n",
      "      Side data:\n",
      "        Ambient Viewing Environment, ambient_illuminance=314.000000, ambient_light_x=0.312700, ambient_light_y=0.329000\n",
      "        cpb: bitrate max/min/avg: 0/0/200000 buffer size: 0 vbv_delay: N/A\n",
      "frame=    1 fps=0.0 q=10.2 size=N/A time=00:00:00.66 bitrate=N/A speed=1.29x    \n",
      "frame=    3 fps=2.9 q=9.4 size=N/A time=00:00:02.00 bitrate=N/A speed=1.92x    \n",
      "frame=    4 fps=2.6 q=11.4 size=N/A time=00:00:02.66 bitrate=N/A speed=1.72x    \n",
      "frame=    6 fps=2.9 q=16.6 size=N/A time=00:00:04.00 bitrate=N/A speed=1.93x    \n",
      "frame=    8 fps=3.1 q=22.3 size=N/A time=00:00:05.33 bitrate=N/A speed=2.06x    \n",
      "[out#0/image2 @ 0000028aff580900] video:3002KiB audio:0KiB subtitle:0KiB other streams:0KiB global headers:0KiB muxing overhead: unknown\n",
      "frame=    9 fps=3.3 q=24.8 Lsize=N/A time=00:00:06.00 bitrate=N/A speed= 2.2x    \n"
     ]
    }
   ],
   "source": [
    "# Порежем видео на кадры через ffmpeg\n",
    "# фпс берем маленький, т.к. у нас медленно двигающиеся объекты\n",
    "# выбираем jpg для экономии места\n",
    "! ffmpeg -i C:\\Users\\Администратор\\Desktop\\zebra_test\\dataset\\train.mov -vf fps=1.5 C:\\Users\\Администратор\\Desktop\\zebra_test\\dataset\\images_train\\0_img%03d.jpg"
   ]
  },
  {
   "cell_type": "code",
   "execution_count": 9,
   "metadata": {},
   "outputs": [
    {
     "name": "stderr",
     "output_type": "stream",
     "text": [
      "ffmpeg version 7.1.1-full_build-www.gyan.dev Copyright (c) 2000-2025 the FFmpeg developers\n",
      "  built with gcc 14.2.0 (Rev1, Built by MSYS2 project)\n",
      "  configuration: --enable-gpl --enable-version3 --enable-static --disable-w32threads --disable-autodetect --enable-fontconfig --enable-iconv --enable-gnutls --enable-lcms2 --enable-libxml2 --enable-gmp --enable-bzlib --enable-lzma --enable-libsnappy --enable-zlib --enable-librist --enable-libsrt --enable-libssh --enable-libzmq --enable-avisynth --enable-libbluray --enable-libcaca --enable-libdvdnav --enable-libdvdread --enable-sdl2 --enable-libaribb24 --enable-libaribcaption --enable-libdav1d --enable-libdavs2 --enable-libopenjpeg --enable-libquirc --enable-libuavs3d --enable-libxevd --enable-libzvbi --enable-libqrencode --enable-librav1e --enable-libsvtav1 --enable-libvvenc --enable-libwebp --enable-libx264 --enable-libx265 --enable-libxavs2 --enable-libxeve --enable-libxvid --enable-libaom --enable-libjxl --enable-libvpx --enable-mediafoundation --enable-libass --enable-frei0r --enable-libfreetype --enable-libfribidi --enable-libharfbuzz --enable-liblensfun --enable-libvidstab --enable-libvmaf --enable-libzimg --enable-amf --enable-cuda-llvm --enable-cuvid --enable-dxva2 --enable-d3d11va --enable-d3d12va --enable-ffnvcodec --enable-libvpl --enable-nvdec --enable-nvenc --enable-vaapi --enable-libshaderc --enable-vulkan --enable-libplacebo --enable-opencl --enable-libcdio --enable-libgme --enable-libmodplug --enable-libopenmpt --enable-libopencore-amrwb --enable-libmp3lame --enable-libshine --enable-libtheora --enable-libtwolame --enable-libvo-amrwbenc --enable-libcodec2 --enable-libilbc --enable-libgsm --enable-liblc3 --enable-libopencore-amrnb --enable-libopus --enable-libspeex --enable-libvorbis --enable-ladspa --enable-libbs2b --enable-libflite --enable-libmysofa --enable-librubberband --enable-libsoxr --enable-chromaprint\n",
      "  libavutil      59. 39.100 / 59. 39.100\n",
      "  libavcodec     61. 19.101 / 61. 19.101\n",
      "  libavformat    61.  7.100 / 61.  7.100\n",
      "  libavdevice    61.  3.100 / 61.  3.100\n",
      "  libavfilter    10.  4.100 / 10.  4.100\n",
      "  libswscale      8.  3.100 /  8.  3.100\n",
      "  libswresample   5.  3.100 /  5.  3.100\n",
      "  libpostproc    58.  3.100 / 58.  3.100\n",
      "Input #0, mov,mp4,m4a,3gp,3g2,mj2, from 'C:\\Users\\Администратор\\Desktop\\zebra_test\\dataset\\train1.mov':\n",
      "  Metadata:\n",
      "    major_brand     : qt  \n",
      "    minor_version   : 512\n",
      "    compatible_brands: qt  \n",
      "    encoder         : Lavf61.9.107\n",
      "  Duration: 00:00:50.14, start: 0.020998, bitrate: 36962 kb/s\n",
      "  Stream #0:0[0x1]: Video: hevc (Main 10) (hvc1 / 0x31637668), yuv420p10le(tv, bt2020nc/bt2020/arib-std-b67), 3840x2160, 37460 kb/s, 30 fps, 30 tbr, 19200 tbn (default)\n",
      "      Metadata:\n",
      "        handler_name    : Core Media Video\n",
      "        vendor_id       : FFMP\n",
      "        encoder         : HEVC\n",
      "      Side data:\n",
      "        displaymatrix: rotation of -90.00 degrees\n",
      "        Ambient Viewing Environment, ambient_illuminance=314.000000, ambient_light_x=0.312700, ambient_light_y=0.329000\n",
      "  Stream #0:1[0x2]: Audio: aac (LC) (mp4a / 0x6134706D), 44100 Hz, stereo, fltp, 174 kb/s (default)\n",
      "      Metadata:\n",
      "        handler_name    : Core Media Audio\n",
      "        vendor_id       : [0][0][0][0]\n",
      "Stream mapping:\n",
      "  Stream #0:0 -> #0:0 (hevc (native) -> mjpeg (native))\n",
      "Press [q] to stop, [?] for help\n",
      "[hevc @ 0000018947eab300] Multiple Dolby Vision RPUs found in one AU. Skipping previous.\n",
      "[hevc @ 0000018947e59440] Multiple Dolby Vision RPUs found in one AU. Skipping previous.\n",
      "[hevc @ 0000018947eac740] Multiple Dolby Vision RPUs found in one AU. Skipping previous.\n",
      "Output #0, image2, to 'C:\\Users\\Администратор\\Desktop\\zebra_test\\dataset\\images_train\\1_img%03d.jpg':\n",
      "  Metadata:\n",
      "    major_brand     : qt  \n",
      "    minor_version   : 512\n",
      "    compatible_brands: qt  \n",
      "    encoder         : Lavf61.7.100\n",
      "  Stream #0:0: Video: mjpeg, yuv420p(pc, bt2020nc/bt2020/arib-std-b67, progressive), 2160x3840, q=2-31, 200 kb/s, 1.50 fps, 1.50 tbn (default)\n",
      "      Metadata:\n",
      "        handler_name    : Core Media Video\n",
      "        vendor_id       : FFMP\n",
      "        encoder         : Lavc61.19.101 mjpeg\n",
      "      Side data:\n",
      "        Ambient Viewing Environment, ambient_illuminance=314.000000, ambient_light_x=0.312700, ambient_light_y=0.329000\n",
      "        cpb: bitrate max/min/avg: 0/0/200000 buffer size: 0 vbv_delay: N/A\n",
      "frame=    2 fps=0.0 q=9.0 size=N/A time=00:00:01.33 bitrate=N/A dup=1 drop=0 speed=2.64x    \n",
      "frame=    4 fps=3.9 q=12.2 size=N/A time=00:00:02.66 bitrate=N/A dup=1 drop=0 speed=2.61x    \n",
      "frame=    6 fps=3.9 q=17.4 size=N/A time=00:00:04.00 bitrate=N/A dup=1 drop=0 speed=2.58x    \n",
      "frame=    7 fps=3.4 q=20.2 size=N/A time=00:00:04.66 bitrate=N/A dup=1 drop=0 speed=2.26x    \n",
      "frame=    9 fps=3.5 q=24.8 size=N/A time=00:00:06.00 bitrate=N/A dup=1 drop=0 speed=2.32x    \n",
      "frame=   11 fps=3.5 q=24.8 size=N/A time=00:00:07.33 bitrate=N/A dup=1 drop=0 speed=2.36x    \n",
      "frame=   13 fps=3.6 q=24.8 size=N/A time=00:00:08.66 bitrate=N/A dup=1 drop=0 speed=2.38x    \n",
      "frame=   14 fps=3.4 q=24.8 size=N/A time=00:00:09.33 bitrate=N/A dup=1 drop=0 speed=2.25x    \n",
      "frame=   16 fps=3.4 q=24.8 size=N/A time=00:00:10.66 bitrate=N/A dup=1 drop=0 speed=2.29x    \n",
      "frame=   17 fps=3.3 q=24.8 size=N/A time=00:00:11.33 bitrate=N/A dup=1 drop=0 speed=2.18x    \n",
      "frame=   19 fps=3.3 q=24.8 size=N/A time=00:00:12.66 bitrate=N/A dup=1 drop=0 speed=2.22x    \n",
      "frame=   20 fps=3.2 q=24.8 size=N/A time=00:00:13.33 bitrate=N/A dup=1 drop=0 speed=2.14x    \n",
      "frame=   22 fps=3.3 q=24.8 size=N/A time=00:00:14.66 bitrate=N/A dup=1 drop=0 speed=2.18x    \n",
      "frame=   23 fps=3.2 q=24.8 size=N/A time=00:00:15.33 bitrate=N/A dup=1 drop=0 speed=2.11x    \n",
      "frame=   25 fps=3.2 q=24.8 size=N/A time=00:00:16.66 bitrate=N/A dup=1 drop=0 speed=2.14x    \n",
      "frame=   27 fps=3.3 q=24.8 size=N/A time=00:00:18.00 bitrate=N/A dup=1 drop=0 speed=2.17x    \n",
      "frame=   28 fps=3.2 q=24.8 size=N/A time=00:00:18.66 bitrate=N/A dup=1 drop=0 speed=2.11x    \n",
      "frame=   30 fps=3.2 q=24.8 size=N/A time=00:00:20.00 bitrate=N/A dup=1 drop=0 speed=2.14x    \n",
      "frame=   32 fps=3.2 q=24.8 size=N/A time=00:00:21.33 bitrate=N/A dup=1 drop=0 speed=2.16x    \n",
      "frame=   33 fps=3.2 q=24.8 size=N/A time=00:00:22.00 bitrate=N/A dup=1 drop=0 speed=2.12x    \n",
      "frame=   35 fps=3.2 q=24.8 size=N/A time=00:00:23.33 bitrate=N/A dup=1 drop=0 speed=2.14x    \n",
      "frame=   37 fps=3.2 q=24.8 size=N/A time=00:00:24.66 bitrate=N/A dup=1 drop=0 speed=2.16x    \n",
      "frame=   39 fps=3.3 q=24.8 size=N/A time=00:00:26.00 bitrate=N/A dup=1 drop=0 speed=2.17x    \n",
      "frame=   40 fps=3.2 q=24.8 size=N/A time=00:00:26.66 bitrate=N/A dup=1 drop=0 speed=2.14x    \n",
      "frame=   42 fps=3.2 q=24.8 size=N/A time=00:00:28.00 bitrate=N/A dup=1 drop=0 speed=2.15x    \n",
      "frame=   43 fps=3.2 q=24.8 size=N/A time=00:00:28.66 bitrate=N/A dup=1 drop=0 speed=2.12x    \n",
      "frame=   45 fps=3.2 q=24.8 size=N/A time=00:00:30.00 bitrate=N/A dup=1 drop=0 speed=2.14x    \n",
      "frame=   47 fps=3.2 q=24.8 size=N/A time=00:00:31.33 bitrate=N/A dup=1 drop=0 speed=2.15x    \n",
      "frame=   48 fps=3.2 q=24.8 size=N/A time=00:00:32.00 bitrate=N/A dup=1 drop=0 speed=2.12x    \n",
      "frame=   50 fps=3.2 q=24.8 size=N/A time=00:00:33.33 bitrate=N/A dup=1 drop=0 speed=2.14x    \n",
      "frame=   51 fps=3.2 q=24.8 size=N/A time=00:00:34.00 bitrate=N/A dup=1 drop=0 speed=2.11x    \n",
      "frame=   53 fps=3.2 q=24.8 size=N/A time=00:00:35.33 bitrate=N/A dup=1 drop=0 speed=2.12x    \n",
      "frame=   55 fps=3.2 q=24.8 size=N/A time=00:00:36.66 bitrate=N/A dup=1 drop=0 speed=2.14x    \n",
      "frame=   56 fps=3.2 q=24.8 size=N/A time=00:00:37.33 bitrate=N/A dup=1 drop=0 speed=2.11x    \n",
      "frame=   58 fps=3.2 q=24.8 size=N/A time=00:00:38.66 bitrate=N/A dup=1 drop=0 speed=2.13x    \n",
      "frame=   60 fps=3.2 q=24.8 size=N/A time=00:00:40.00 bitrate=N/A dup=1 drop=0 speed=2.14x    \n",
      "frame=   61 fps=3.2 q=24.8 size=N/A time=00:00:40.66 bitrate=N/A dup=1 drop=0 speed=2.12x    \n",
      "frame=   63 fps=3.2 q=24.8 size=N/A time=00:00:42.00 bitrate=N/A dup=1 drop=0 speed=2.13x    \n",
      "frame=   64 fps=3.2 q=24.8 size=N/A time=00:00:42.66 bitrate=N/A dup=1 drop=0 speed= 2.1x    \n",
      "frame=   66 fps=3.2 q=24.8 size=N/A time=00:00:44.00 bitrate=N/A dup=1 drop=0 speed=2.12x    \n",
      "frame=   68 fps=3.2 q=24.8 size=N/A time=00:00:45.33 bitrate=N/A dup=1 drop=0 speed=2.13x    \n",
      "frame=   69 fps=3.2 q=24.8 size=N/A time=00:00:46.00 bitrate=N/A dup=1 drop=0 speed=2.11x    \n",
      "frame=   71 fps=3.2 q=24.8 size=N/A time=00:00:47.33 bitrate=N/A dup=1 drop=0 speed=2.12x    \n",
      "frame=   72 fps=3.1 q=24.8 size=N/A time=00:00:48.00 bitrate=N/A dup=1 drop=0 speed= 2.1x    \n",
      "frame=   74 fps=3.2 q=24.8 size=N/A time=00:00:49.33 bitrate=N/A dup=1 drop=0 speed=2.11x    \n",
      "[out#0/image2 @ 000001894858fd40] video:19427KiB audio:0KiB subtitle:0KiB other streams:0KiB global headers:0KiB muxing overhead: unknown\n",
      "frame=   75 fps=3.2 q=24.8 Lsize=N/A time=00:00:50.00 bitrate=N/A dup=1 drop=0 speed=2.12x    \n"
     ]
    }
   ],
   "source": [
    "! ffmpeg -i C:\\Users\\Администратор\\Desktop\\zebra_test\\dataset\\train1.mov -vf fps=1.5 C:\\Users\\Администратор\\Desktop\\zebra_test\\dataset\\images_train\\1_img%03d.jpg"
   ]
  },
  {
   "cell_type": "code",
   "execution_count": 10,
   "metadata": {},
   "outputs": [
    {
     "name": "stderr",
     "output_type": "stream",
     "text": [
      "ffmpeg version 7.1.1-full_build-www.gyan.dev Copyright (c) 2000-2025 the FFmpeg developers\n",
      "  built with gcc 14.2.0 (Rev1, Built by MSYS2 project)\n",
      "  configuration: --enable-gpl --enable-version3 --enable-static --disable-w32threads --disable-autodetect --enable-fontconfig --enable-iconv --enable-gnutls --enable-lcms2 --enable-libxml2 --enable-gmp --enable-bzlib --enable-lzma --enable-libsnappy --enable-zlib --enable-librist --enable-libsrt --enable-libssh --enable-libzmq --enable-avisynth --enable-libbluray --enable-libcaca --enable-libdvdnav --enable-libdvdread --enable-sdl2 --enable-libaribb24 --enable-libaribcaption --enable-libdav1d --enable-libdavs2 --enable-libopenjpeg --enable-libquirc --enable-libuavs3d --enable-libxevd --enable-libzvbi --enable-libqrencode --enable-librav1e --enable-libsvtav1 --enable-libvvenc --enable-libwebp --enable-libx264 --enable-libx265 --enable-libxavs2 --enable-libxeve --enable-libxvid --enable-libaom --enable-libjxl --enable-libvpx --enable-mediafoundation --enable-libass --enable-frei0r --enable-libfreetype --enable-libfribidi --enable-libharfbuzz --enable-liblensfun --enable-libvidstab --enable-libvmaf --enable-libzimg --enable-amf --enable-cuda-llvm --enable-cuvid --enable-dxva2 --enable-d3d11va --enable-d3d12va --enable-ffnvcodec --enable-libvpl --enable-nvdec --enable-nvenc --enable-vaapi --enable-libshaderc --enable-vulkan --enable-libplacebo --enable-opencl --enable-libcdio --enable-libgme --enable-libmodplug --enable-libopenmpt --enable-libopencore-amrwb --enable-libmp3lame --enable-libshine --enable-libtheora --enable-libtwolame --enable-libvo-amrwbenc --enable-libcodec2 --enable-libilbc --enable-libgsm --enable-liblc3 --enable-libopencore-amrnb --enable-libopus --enable-libspeex --enable-libvorbis --enable-ladspa --enable-libbs2b --enable-libflite --enable-libmysofa --enable-librubberband --enable-libsoxr --enable-chromaprint\n",
      "  libavutil      59. 39.100 / 59. 39.100\n",
      "  libavcodec     61. 19.101 / 61. 19.101\n",
      "  libavformat    61.  7.100 / 61.  7.100\n",
      "  libavdevice    61.  3.100 / 61.  3.100\n",
      "  libavfilter    10.  4.100 / 10.  4.100\n",
      "  libswscale      8.  3.100 /  8.  3.100\n",
      "  libswresample   5.  3.100 /  5.  3.100\n",
      "  libpostproc    58.  3.100 / 58.  3.100\n",
      "Input #0, mov,mp4,m4a,3gp,3g2,mj2, from 'C:\\Users\\Администратор\\Desktop\\zebra_test\\dataset\\train2.mov':\n",
      "  Metadata:\n",
      "    major_brand     : qt  \n",
      "    minor_version   : 512\n",
      "    compatible_brands: qt  \n",
      "    encoder         : Lavf61.9.107\n",
      "  Duration: 00:01:40.15, start: 0.006009, bitrate: 37211 kb/s\n",
      "  Stream #0:0[0x1]: Video: hevc (Main 10) (hvc1 / 0x31637668), yuv420p10le(tv, bt2020nc/bt2020/arib-std-b67), 3840x2160, 37367 kb/s, 30 fps, 30 tbr, 19200 tbn (default)\n",
      "      Metadata:\n",
      "        handler_name    : Core Media Video\n",
      "        vendor_id       : FFMP\n",
      "        encoder         : HEVC\n",
      "      Side data:\n",
      "        displaymatrix: rotation of -90.00 degrees\n",
      "        Ambient Viewing Environment, ambient_illuminance=314.000000, ambient_light_x=0.312700, ambient_light_y=0.329000\n",
      "  Stream #0:1[0x2]: Audio: aac (LC) (mp4a / 0x6134706D), 44100 Hz, stereo, fltp, 179 kb/s (default)\n",
      "      Metadata:\n",
      "        handler_name    : Core Media Audio\n",
      "        vendor_id       : [0][0][0][0]\n",
      "Stream mapping:\n",
      "  Stream #0:0 -> #0:0 (hevc (native) -> mjpeg (native))\n",
      "Press [q] to stop, [?] for help\n",
      "[hevc @ 000001e3e008d140] Multiple Dolby Vision RPUs found in one AU. Skipping previous.\n",
      "[hevc @ 000001e3e008e2c0] Multiple Dolby Vision RPUs found in one AU. Skipping previous.\n",
      "[hevc @ 000001e3e00f4e80] Multiple Dolby Vision RPUs found in one AU. Skipping previous.\n",
      "Output #0, image2, to 'C:\\Users\\Администратор\\Desktop\\zebra_test\\dataset\\images_train\\2_img%03d.jpg':\n",
      "  Metadata:\n",
      "    major_brand     : qt  \n",
      "    minor_version   : 512\n",
      "    compatible_brands: qt  \n",
      "    encoder         : Lavf61.7.100\n",
      "  Stream #0:0: Video: mjpeg, yuv420p(pc, bt2020nc/bt2020/arib-std-b67, progressive), 2160x3840, q=2-31, 200 kb/s, 1.50 fps, 1.50 tbn (default)\n",
      "      Metadata:\n",
      "        handler_name    : Core Media Video\n",
      "        vendor_id       : FFMP\n",
      "        encoder         : Lavc61.19.101 mjpeg\n",
      "      Side data:\n",
      "        Ambient Viewing Environment, ambient_illuminance=314.000000, ambient_light_x=0.312700, ambient_light_y=0.329000\n",
      "        cpb: bitrate max/min/avg: 0/0/200000 buffer size: 0 vbv_delay: N/A\n",
      "frame=    2 fps=0.0 q=9.1 size=N/A time=00:00:01.33 bitrate=N/A dup=1 drop=0 speed=2.63x    \n",
      "frame=    4 fps=3.9 q=12.3 size=N/A time=00:00:02.66 bitrate=N/A dup=1 drop=0 speed=2.61x    \n",
      "frame=    6 fps=3.9 q=17.4 size=N/A time=00:00:04.00 bitrate=N/A dup=1 drop=0 speed= 2.6x    \n",
      "frame=    7 fps=3.4 q=20.3 size=N/A time=00:00:04.66 bitrate=N/A dup=1 drop=0 speed=2.26x    \n",
      "frame=    9 fps=3.5 q=24.8 size=N/A time=00:00:06.00 bitrate=N/A dup=1 drop=0 speed=2.32x    \n",
      "frame=   11 fps=3.5 q=24.8 size=N/A time=00:00:07.33 bitrate=N/A dup=1 drop=0 speed=2.37x    \n",
      "frame=   12 fps=3.3 q=24.8 size=N/A time=00:00:08.00 bitrate=N/A dup=1 drop=0 speed=2.21x    \n",
      "frame=   14 fps=3.4 q=24.8 size=N/A time=00:00:09.33 bitrate=N/A dup=1 drop=0 speed=2.26x    \n",
      "frame=   15 fps=3.2 q=24.8 size=N/A time=00:00:10.00 bitrate=N/A dup=1 drop=0 speed=2.15x    \n",
      "frame=   16 fps=3.1 q=24.8 size=N/A time=00:00:10.66 bitrate=N/A dup=1 drop=0 speed=2.06x    \n",
      "frame=   18 fps=3.2 q=24.8 size=N/A time=00:00:12.00 bitrate=N/A dup=1 drop=0 speed=2.11x    \n",
      "frame=   19 fps=3.1 q=24.8 size=N/A time=00:00:12.66 bitrate=N/A dup=1 drop=0 speed=2.04x    \n",
      "frame=   20 fps=3.0 q=24.8 size=N/A time=00:00:13.33 bitrate=N/A dup=1 drop=0 speed=1.98x    \n",
      "frame=   22 fps=3.0 q=24.8 size=N/A time=00:00:14.66 bitrate=N/A dup=1 drop=0 speed=2.02x    \n",
      "frame=   23 fps=3.0 q=24.8 size=N/A time=00:00:15.33 bitrate=N/A dup=1 drop=0 speed=1.97x    \n",
      "frame=   25 fps=3.0 q=24.8 size=N/A time=00:00:16.66 bitrate=N/A dup=1 drop=0 speed=2.01x    \n",
      "frame=   27 fps=3.1 q=24.8 size=N/A time=00:00:18.00 bitrate=N/A dup=1 drop=0 speed=2.05x    \n",
      "frame=   28 fps=3.0 q=24.8 size=N/A time=00:00:18.66 bitrate=N/A dup=1 drop=0 speed=2.01x    \n",
      "frame=   30 fps=3.1 q=24.8 size=N/A time=00:00:20.00 bitrate=N/A dup=1 drop=0 speed=2.03x    \n",
      "frame=   32 fps=3.1 q=24.8 size=N/A time=00:00:21.33 bitrate=N/A dup=1 drop=0 speed=2.06x    \n",
      "frame=   33 fps=3.0 q=24.8 size=N/A time=00:00:22.00 bitrate=N/A dup=1 drop=0 speed=2.02x    \n",
      "frame=   35 fps=3.1 q=24.8 size=N/A time=00:00:23.33 bitrate=N/A dup=1 drop=0 speed=2.05x    \n",
      "frame=   37 fps=3.1 q=24.8 size=N/A time=00:00:24.66 bitrate=N/A dup=1 drop=0 speed=2.07x    \n",
      "frame=   39 fps=3.1 q=24.8 size=N/A time=00:00:26.00 bitrate=N/A dup=1 drop=0 speed=2.09x    \n",
      "frame=   40 fps=3.1 q=24.8 size=N/A time=00:00:26.66 bitrate=N/A dup=1 drop=0 speed=2.06x    \n",
      "frame=   42 fps=3.1 q=24.8 size=N/A time=00:00:28.00 bitrate=N/A dup=1 drop=0 speed=2.08x    \n",
      "frame=   43 fps=3.1 q=24.8 size=N/A time=00:00:28.66 bitrate=N/A dup=1 drop=0 speed=2.05x    \n",
      "frame=   45 fps=3.1 q=24.8 size=N/A time=00:00:30.00 bitrate=N/A dup=1 drop=0 speed=2.07x    \n",
      "frame=   46 fps=3.1 q=24.8 size=N/A time=00:00:30.66 bitrate=N/A dup=1 drop=0 speed=2.04x    \n",
      "frame=   48 fps=3.1 q=24.8 size=N/A time=00:00:32.00 bitrate=N/A dup=1 drop=0 speed=2.06x    \n",
      "frame=   49 fps=3.1 q=24.8 size=N/A time=00:00:32.66 bitrate=N/A dup=1 drop=0 speed=2.04x    \n",
      "frame=   51 fps=3.1 q=24.8 size=N/A time=00:00:34.00 bitrate=N/A dup=1 drop=0 speed=2.05x    \n",
      "frame=   52 fps=3.0 q=24.8 size=N/A time=00:00:34.66 bitrate=N/A dup=1 drop=0 speed=2.03x    \n",
      "frame=   54 fps=3.1 q=24.8 size=N/A time=00:00:36.00 bitrate=N/A dup=1 drop=0 speed=2.04x    \n",
      "frame=   56 fps=3.1 q=24.8 size=N/A time=00:00:37.33 bitrate=N/A dup=1 drop=0 speed=2.06x    \n",
      "frame=   57 fps=3.1 q=24.8 size=N/A time=00:00:38.00 bitrate=N/A dup=1 drop=0 speed=2.04x    \n",
      "frame=   59 fps=3.1 q=24.8 size=N/A time=00:00:39.33 bitrate=N/A dup=1 drop=0 speed=2.05x    \n",
      "frame=   61 fps=3.1 q=24.8 size=N/A time=00:00:40.66 bitrate=N/A dup=1 drop=0 speed=2.06x    \n",
      "frame=   63 fps=3.1 q=24.8 size=N/A time=00:00:42.00 bitrate=N/A dup=1 drop=0 speed=2.08x    \n",
      "frame=   64 fps=3.1 q=24.8 size=N/A time=00:00:42.66 bitrate=N/A dup=1 drop=0 speed=2.06x    \n",
      "frame=   66 fps=3.1 q=24.8 size=N/A time=00:00:44.00 bitrate=N/A dup=1 drop=0 speed=2.07x    \n",
      "frame=   68 fps=3.1 q=24.8 size=N/A time=00:00:45.33 bitrate=N/A dup=1 drop=0 speed=2.08x    \n",
      "frame=   70 fps=3.1 q=24.8 size=N/A time=00:00:46.66 bitrate=N/A dup=1 drop=0 speed=2.09x    \n",
      "frame=   71 fps=3.1 q=24.8 size=N/A time=00:00:47.33 bitrate=N/A dup=1 drop=0 speed=2.07x    \n",
      "frame=   73 fps=3.1 q=24.8 size=N/A time=00:00:48.66 bitrate=N/A dup=1 drop=0 speed=2.09x    \n",
      "frame=   75 fps=3.1 q=24.8 size=N/A time=00:00:50.00 bitrate=N/A dup=1 drop=0 speed= 2.1x    \n",
      "frame=   76 fps=3.1 q=24.8 size=N/A time=00:00:50.66 bitrate=N/A dup=1 drop=0 speed=2.08x    \n",
      "frame=   77 fps=3.1 q=24.8 size=N/A time=00:00:51.33 bitrate=N/A dup=1 drop=0 speed=2.06x    \n",
      "frame=   79 fps=3.1 q=24.8 size=N/A time=00:00:52.66 bitrate=N/A dup=1 drop=0 speed=2.07x    \n",
      "frame=   80 fps=3.1 q=24.8 size=N/A time=00:00:53.33 bitrate=N/A dup=1 drop=0 speed=2.05x    \n",
      "frame=   82 fps=3.1 q=24.8 size=N/A time=00:00:54.66 bitrate=N/A dup=1 drop=0 speed=2.06x    \n",
      "frame=   83 fps=3.1 q=24.8 size=N/A time=00:00:55.33 bitrate=N/A dup=1 drop=0 speed=2.05x    \n",
      "frame=   85 fps=3.1 q=24.8 size=N/A time=00:00:56.66 bitrate=N/A dup=1 drop=0 speed=2.06x    \n",
      "frame=   86 fps=3.1 q=24.8 size=N/A time=00:00:57.33 bitrate=N/A dup=1 drop=0 speed=2.04x    \n",
      "frame=   88 fps=3.1 q=24.8 size=N/A time=00:00:58.66 bitrate=N/A dup=1 drop=0 speed=2.05x    \n",
      "frame=   89 fps=3.1 q=24.8 size=N/A time=00:00:59.33 bitrate=N/A dup=1 drop=0 speed=2.04x    \n",
      "frame=   91 fps=3.1 q=24.8 size=N/A time=00:01:00.66 bitrate=N/A dup=1 drop=0 speed=2.05x    \n",
      "frame=   92 fps=3.1 q=24.8 size=N/A time=00:01:01.33 bitrate=N/A dup=1 drop=0 speed=2.04x    \n",
      "frame=   94 fps=3.1 q=24.8 size=N/A time=00:01:02.66 bitrate=N/A dup=1 drop=0 speed=2.05x    \n",
      "frame=   96 fps=3.1 q=24.8 size=N/A time=00:01:04.00 bitrate=N/A dup=1 drop=0 speed=2.06x    \n",
      "frame=   97 fps=3.1 q=24.8 size=N/A time=00:01:04.66 bitrate=N/A dup=1 drop=0 speed=2.04x    \n",
      "frame=   99 fps=3.1 q=24.8 size=N/A time=00:01:06.00 bitrate=N/A dup=1 drop=0 speed=2.05x    \n",
      "frame=  100 fps=3.1 q=24.8 size=N/A time=00:01:06.66 bitrate=N/A dup=1 drop=0 speed=2.04x    \n",
      "frame=  102 fps=3.1 q=24.8 size=N/A time=00:01:08.00 bitrate=N/A dup=1 drop=0 speed=2.05x    \n",
      "frame=  103 fps=3.1 q=24.8 size=N/A time=00:01:08.66 bitrate=N/A dup=1 drop=0 speed=2.04x    \n",
      "frame=  105 fps=3.1 q=24.8 size=N/A time=00:01:10.00 bitrate=N/A dup=1 drop=0 speed=2.05x    \n",
      "frame=  107 fps=3.1 q=24.8 size=N/A time=00:01:11.33 bitrate=N/A dup=1 drop=0 speed=2.05x    \n",
      "frame=  108 fps=3.1 q=24.8 size=N/A time=00:01:12.00 bitrate=N/A dup=1 drop=0 speed=2.04x    \n",
      "frame=  110 fps=3.1 q=24.8 size=N/A time=00:01:13.33 bitrate=N/A dup=1 drop=0 speed=2.05x    \n",
      "frame=  111 fps=3.1 q=24.8 size=N/A time=00:01:14.00 bitrate=N/A dup=1 drop=0 speed=2.04x    \n",
      "frame=  112 fps=3.0 q=24.8 size=N/A time=00:01:14.66 bitrate=N/A dup=1 drop=0 speed=2.03x    \n",
      "frame=  114 fps=3.1 q=24.8 size=N/A time=00:01:16.00 bitrate=N/A dup=1 drop=0 speed=2.04x    \n",
      "frame=  115 fps=3.0 q=24.8 size=N/A time=00:01:16.66 bitrate=N/A dup=1 drop=0 speed=2.03x    \n",
      "frame=  116 fps=3.0 q=24.8 size=N/A time=00:01:17.33 bitrate=N/A dup=1 drop=0 speed=2.02x    \n",
      "frame=  118 fps=3.0 q=24.8 size=N/A time=00:01:18.66 bitrate=N/A dup=1 drop=0 speed=2.02x    \n",
      "frame=  119 fps=3.0 q=24.8 size=N/A time=00:01:19.33 bitrate=N/A dup=1 drop=0 speed=2.01x    \n",
      "frame=  121 fps=3.0 q=24.8 size=N/A time=00:01:20.66 bitrate=N/A dup=1 drop=0 speed=2.02x    \n",
      "frame=  123 fps=3.0 q=24.8 size=N/A time=00:01:22.00 bitrate=N/A dup=1 drop=0 speed=2.03x    \n",
      "frame=  124 fps=3.0 q=24.8 size=N/A time=00:01:22.66 bitrate=N/A dup=1 drop=0 speed=2.02x    \n",
      "frame=  126 fps=3.0 q=24.8 size=N/A time=00:01:24.00 bitrate=N/A dup=1 drop=0 speed=2.02x    \n",
      "frame=  127 fps=3.0 q=24.8 size=N/A time=00:01:24.66 bitrate=N/A dup=1 drop=0 speed=2.02x    \n",
      "frame=  128 fps=3.0 q=24.8 size=N/A time=00:01:25.33 bitrate=N/A dup=1 drop=0 speed=2.01x    \n",
      "frame=  130 fps=3.0 q=24.8 size=N/A time=00:01:26.66 bitrate=N/A dup=1 drop=0 speed=2.01x    \n",
      "frame=  131 fps=3.0 q=24.8 size=N/A time=00:01:27.33 bitrate=N/A dup=1 drop=0 speed=   2x    \n",
      "frame=  133 fps=3.0 q=24.8 size=N/A time=00:01:28.66 bitrate=N/A dup=1 drop=0 speed=2.01x    \n",
      "frame=  135 fps=3.0 q=24.8 size=N/A time=00:01:30.00 bitrate=N/A dup=1 drop=0 speed=2.02x    \n",
      "frame=  136 fps=3.0 q=24.8 size=N/A time=00:01:30.66 bitrate=N/A dup=1 drop=0 speed=2.01x    \n",
      "frame=  138 fps=3.0 q=24.8 size=N/A time=00:01:32.00 bitrate=N/A dup=1 drop=0 speed=2.02x    \n",
      "frame=  139 fps=3.0 q=24.8 size=N/A time=00:01:32.66 bitrate=N/A dup=1 drop=0 speed=2.01x    \n",
      "frame=  140 fps=3.0 q=24.8 size=N/A time=00:01:33.33 bitrate=N/A dup=1 drop=0 speed=   2x    \n",
      "frame=  142 fps=3.0 q=24.8 size=N/A time=00:01:34.66 bitrate=N/A dup=1 drop=0 speed=2.01x    \n",
      "frame=  144 fps=3.0 q=24.8 size=N/A time=00:01:36.00 bitrate=N/A dup=1 drop=0 speed=2.01x    \n",
      "frame=  145 fps=3.0 q=24.8 size=N/A time=00:01:36.66 bitrate=N/A dup=1 drop=0 speed=   2x    \n",
      "frame=  147 fps=3.0 q=24.8 size=N/A time=00:01:38.00 bitrate=N/A dup=1 drop=0 speed=2.01x    \n",
      "frame=  149 fps=3.0 q=24.8 size=N/A time=00:01:39.33 bitrate=N/A dup=1 drop=0 speed=2.02x    \n",
      "[out#0/image2 @ 000001e3e06ff380] video:37221KiB audio:0KiB subtitle:0KiB other streams:0KiB global headers:0KiB muxing overhead: unknown\n",
      "frame=  150 fps=3.0 q=24.8 Lsize=N/A time=00:01:40.00 bitrate=N/A dup=1 drop=0 speed=2.02x    \n"
     ]
    }
   ],
   "source": [
    "! ffmpeg -i C:\\Users\\Администратор\\Desktop\\zebra_test\\dataset\\train2.mov -vf fps=1.5 C:\\Users\\Администратор\\Desktop\\zebra_test\\dataset\\images_train\\2_img%03d.jpg"
   ]
  },
  {
   "cell_type": "code",
   "execution_count": 11,
   "metadata": {},
   "outputs": [
    {
     "name": "stderr",
     "output_type": "stream",
     "text": [
      "ffmpeg version 7.1.1-full_build-www.gyan.dev Copyright (c) 2000-2025 the FFmpeg developers\n",
      "  built with gcc 14.2.0 (Rev1, Built by MSYS2 project)\n",
      "  configuration: --enable-gpl --enable-version3 --enable-static --disable-w32threads --disable-autodetect --enable-fontconfig --enable-iconv --enable-gnutls --enable-lcms2 --enable-libxml2 --enable-gmp --enable-bzlib --enable-lzma --enable-libsnappy --enable-zlib --enable-librist --enable-libsrt --enable-libssh --enable-libzmq --enable-avisynth --enable-libbluray --enable-libcaca --enable-libdvdnav --enable-libdvdread --enable-sdl2 --enable-libaribb24 --enable-libaribcaption --enable-libdav1d --enable-libdavs2 --enable-libopenjpeg --enable-libquirc --enable-libuavs3d --enable-libxevd --enable-libzvbi --enable-libqrencode --enable-librav1e --enable-libsvtav1 --enable-libvvenc --enable-libwebp --enable-libx264 --enable-libx265 --enable-libxavs2 --enable-libxeve --enable-libxvid --enable-libaom --enable-libjxl --enable-libvpx --enable-mediafoundation --enable-libass --enable-frei0r --enable-libfreetype --enable-libfribidi --enable-libharfbuzz --enable-liblensfun --enable-libvidstab --enable-libvmaf --enable-libzimg --enable-amf --enable-cuda-llvm --enable-cuvid --enable-dxva2 --enable-d3d11va --enable-d3d12va --enable-ffnvcodec --enable-libvpl --enable-nvdec --enable-nvenc --enable-vaapi --enable-libshaderc --enable-vulkan --enable-libplacebo --enable-opencl --enable-libcdio --enable-libgme --enable-libmodplug --enable-libopenmpt --enable-libopencore-amrwb --enable-libmp3lame --enable-libshine --enable-libtheora --enable-libtwolame --enable-libvo-amrwbenc --enable-libcodec2 --enable-libilbc --enable-libgsm --enable-liblc3 --enable-libopencore-amrnb --enable-libopus --enable-libspeex --enable-libvorbis --enable-ladspa --enable-libbs2b --enable-libflite --enable-libmysofa --enable-librubberband --enable-libsoxr --enable-chromaprint\n",
      "  libavutil      59. 39.100 / 59. 39.100\n",
      "  libavcodec     61. 19.101 / 61. 19.101\n",
      "  libavformat    61.  7.100 / 61.  7.100\n",
      "  libavdevice    61.  3.100 / 61.  3.100\n",
      "  libavfilter    10.  4.100 / 10.  4.100\n",
      "  libswscale      8.  3.100 /  8.  3.100\n",
      "  libswresample   5.  3.100 /  5.  3.100\n",
      "  libpostproc    58.  3.100 / 58.  3.100\n",
      "Input #0, mov,mp4,m4a,3gp,3g2,mj2, from 'C:\\Users\\Администратор\\Desktop\\zebra_test\\dataset\\train3.mov':\n",
      "  Metadata:\n",
      "    major_brand     : qt  \n",
      "    minor_version   : 512\n",
      "    compatible_brands: qt  \n",
      "    encoder         : Lavf61.9.107\n",
      "  Duration: 00:00:33.92, start: 0.009002, bitrate: 37385 kb/s\n",
      "  Stream #0:0[0x1]: Video: hevc (Main 10) (hvc1 / 0x31637668), yuv420p10le(tv, bt2020nc/bt2020/arib-std-b67), 3840x2160, 37480 kb/s, 30 fps, 30 tbr, 19200 tbn (default)\n",
      "      Metadata:\n",
      "        handler_name    : Core Media Video\n",
      "        vendor_id       : FFMP\n",
      "        encoder         : HEVC\n",
      "      Side data:\n",
      "        displaymatrix: rotation of -90.00 degrees\n",
      "        Ambient Viewing Environment, ambient_illuminance=314.000000, ambient_light_x=0.312700, ambient_light_y=0.329000\n",
      "  Stream #0:1[0x2]: Audio: aac (LC) (mp4a / 0x6134706D), 44100 Hz, stereo, fltp, 184 kb/s (default)\n",
      "      Metadata:\n",
      "        handler_name    : Core Media Audio\n",
      "        vendor_id       : [0][0][0][0]\n",
      "Stream mapping:\n",
      "  Stream #0:0 -> #0:0 (hevc (native) -> mjpeg (native))\n",
      "Press [q] to stop, [?] for help\n",
      "[hevc @ 0000022e73311880] Multiple Dolby Vision RPUs found in one AU. Skipping previous.\n",
      "[hevc @ 0000022e73312a00] Multiple Dolby Vision RPUs found in one AU. Skipping previous.\n",
      "[hevc @ 0000022e73313080] Multiple Dolby Vision RPUs found in one AU. Skipping previous.\n",
      "Output #0, image2, to 'C:\\Users\\Администратор\\Desktop\\zebra_test\\dataset\\images_train\\3_img%03d.jpg':\n",
      "  Metadata:\n",
      "    major_brand     : qt  \n",
      "    minor_version   : 512\n",
      "    compatible_brands: qt  \n",
      "    encoder         : Lavf61.7.100\n",
      "  Stream #0:0: Video: mjpeg, yuv420p(pc, bt2020nc/bt2020/arib-std-b67, progressive), 2160x3840, q=2-31, 200 kb/s, 1.50 fps, 1.50 tbn (default)\n",
      "      Metadata:\n",
      "        handler_name    : Core Media Video\n",
      "        vendor_id       : FFMP\n",
      "        encoder         : Lavc61.19.101 mjpeg\n",
      "      Side data:\n",
      "        Ambient Viewing Environment, ambient_illuminance=314.000000, ambient_light_x=0.312700, ambient_light_y=0.329000\n",
      "        cpb: bitrate max/min/avg: 0/0/200000 buffer size: 0 vbv_delay: N/A\n",
      "frame=    1 fps=0.0 q=10.6 size=N/A time=00:00:00.66 bitrate=N/A speed=1.28x    \n",
      "frame=    3 fps=2.9 q=9.8 size=N/A time=00:00:02.00 bitrate=N/A speed=1.93x    \n",
      "frame=    4 fps=2.6 q=11.8 size=N/A time=00:00:02.66 bitrate=N/A speed=1.73x    \n",
      "frame=    6 fps=2.9 q=17.0 size=N/A time=00:00:04.00 bitrate=N/A speed=1.93x    \n",
      "frame=    8 fps=3.1 q=22.8 size=N/A time=00:00:05.33 bitrate=N/A speed=2.06x    \n",
      "frame=    9 fps=2.9 q=24.8 size=N/A time=00:00:06.00 bitrate=N/A speed=1.93x    \n",
      "frame=   11 fps=3.0 q=24.8 size=N/A time=00:00:07.33 bitrate=N/A speed=2.03x    \n",
      "frame=   12 fps=2.9 q=24.8 size=N/A time=00:00:08.00 bitrate=N/A speed=1.93x    \n",
      "frame=   14 fps=3.0 q=24.8 size=N/A time=00:00:09.33 bitrate=N/A speed=2.01x    \n",
      "frame=   15 fps=2.9 q=24.8 size=N/A time=00:00:10.00 bitrate=N/A speed=1.94x    \n",
      "frame=   18 fps=3.2 q=24.8 size=N/A time=00:00:12.00 bitrate=N/A speed=2.11x    \n",
      "frame=   19 fps=3.1 q=24.8 size=N/A time=00:00:12.66 bitrate=N/A speed=2.05x    \n",
      "frame=   21 fps=3.1 q=24.8 size=N/A time=00:00:14.00 bitrate=N/A speed=2.08x    \n",
      "frame=   23 fps=3.2 q=24.8 size=N/A time=00:00:15.33 bitrate=N/A speed=2.12x    \n",
      "frame=   25 fps=3.2 q=24.8 size=N/A time=00:00:16.66 bitrate=N/A speed=2.14x    \n",
      "frame=   26 fps=3.1 q=24.8 size=N/A time=00:00:17.33 bitrate=N/A speed=2.09x    \n",
      "frame=   28 fps=3.2 q=24.8 size=N/A time=00:00:18.66 bitrate=N/A speed=2.12x    \n",
      "frame=   29 fps=3.1 q=24.8 size=N/A time=00:00:19.33 bitrate=N/A speed=2.07x    \n",
      "frame=   31 fps=3.1 q=24.8 size=N/A time=00:00:20.66 bitrate=N/A speed= 2.1x    \n",
      "frame=   33 fps=3.2 q=24.8 size=N/A time=00:00:22.00 bitrate=N/A speed=2.12x    \n",
      "frame=   35 fps=3.2 q=24.8 size=N/A time=00:00:23.33 bitrate=N/A speed=2.14x    \n",
      "frame=   36 fps=3.2 q=24.8 size=N/A time=00:00:24.00 bitrate=N/A speed= 2.1x    \n",
      "frame=   38 fps=3.2 q=24.8 size=N/A time=00:00:25.33 bitrate=N/A speed=2.12x    \n",
      "frame=   40 fps=3.2 q=24.8 size=N/A time=00:00:26.66 bitrate=N/A speed=2.14x    \n",
      "frame=   41 fps=3.2 q=24.8 size=N/A time=00:00:27.33 bitrate=N/A speed=2.11x    \n",
      "frame=   43 fps=3.2 q=24.8 size=N/A time=00:00:28.66 bitrate=N/A speed=2.12x    \n",
      "frame=   45 fps=3.2 q=24.8 size=N/A time=00:00:30.00 bitrate=N/A speed=2.14x    \n",
      "frame=   47 fps=3.2 q=24.8 size=N/A time=00:00:31.33 bitrate=N/A speed=2.15x    \n",
      "frame=   48 fps=3.2 q=24.8 size=N/A time=00:00:32.00 bitrate=N/A speed=2.12x    \n",
      "frame=   50 fps=3.2 q=24.8 size=N/A time=00:00:33.33 bitrate=N/A speed=2.14x    \n",
      "[out#0/image2 @ 0000022e732a8440] video:12240KiB audio:0KiB subtitle:0KiB other streams:0KiB global headers:0KiB muxing overhead: unknown\n",
      "frame=   51 fps=3.3 q=24.8 Lsize=N/A time=00:00:34.00 bitrate=N/A speed=2.18x    \n"
     ]
    }
   ],
   "source": [
    "! ffmpeg -i C:\\Users\\Администратор\\Desktop\\zebra_test\\dataset\\train3.mov -vf fps=1.5 C:\\Users\\Администратор\\Desktop\\zebra_test\\dataset\\images_train\\3_img%03d.jpg"
   ]
  },
  {
   "cell_type": "code",
   "execution_count": 12,
   "metadata": {},
   "outputs": [
    {
     "name": "stderr",
     "output_type": "stream",
     "text": [
      "ffmpeg version 7.1.1-full_build-www.gyan.dev Copyright (c) 2000-2025 the FFmpeg developers\n",
      "  built with gcc 14.2.0 (Rev1, Built by MSYS2 project)\n",
      "  configuration: --enable-gpl --enable-version3 --enable-static --disable-w32threads --disable-autodetect --enable-fontconfig --enable-iconv --enable-gnutls --enable-lcms2 --enable-libxml2 --enable-gmp --enable-bzlib --enable-lzma --enable-libsnappy --enable-zlib --enable-librist --enable-libsrt --enable-libssh --enable-libzmq --enable-avisynth --enable-libbluray --enable-libcaca --enable-libdvdnav --enable-libdvdread --enable-sdl2 --enable-libaribb24 --enable-libaribcaption --enable-libdav1d --enable-libdavs2 --enable-libopenjpeg --enable-libquirc --enable-libuavs3d --enable-libxevd --enable-libzvbi --enable-libqrencode --enable-librav1e --enable-libsvtav1 --enable-libvvenc --enable-libwebp --enable-libx264 --enable-libx265 --enable-libxavs2 --enable-libxeve --enable-libxvid --enable-libaom --enable-libjxl --enable-libvpx --enable-mediafoundation --enable-libass --enable-frei0r --enable-libfreetype --enable-libfribidi --enable-libharfbuzz --enable-liblensfun --enable-libvidstab --enable-libvmaf --enable-libzimg --enable-amf --enable-cuda-llvm --enable-cuvid --enable-dxva2 --enable-d3d11va --enable-d3d12va --enable-ffnvcodec --enable-libvpl --enable-nvdec --enable-nvenc --enable-vaapi --enable-libshaderc --enable-vulkan --enable-libplacebo --enable-opencl --enable-libcdio --enable-libgme --enable-libmodplug --enable-libopenmpt --enable-libopencore-amrwb --enable-libmp3lame --enable-libshine --enable-libtheora --enable-libtwolame --enable-libvo-amrwbenc --enable-libcodec2 --enable-libilbc --enable-libgsm --enable-liblc3 --enable-libopencore-amrnb --enable-libopus --enable-libspeex --enable-libvorbis --enable-ladspa --enable-libbs2b --enable-libflite --enable-libmysofa --enable-librubberband --enable-libsoxr --enable-chromaprint\n",
      "  libavutil      59. 39.100 / 59. 39.100\n",
      "  libavcodec     61. 19.101 / 61. 19.101\n",
      "  libavformat    61.  7.100 / 61.  7.100\n",
      "  libavdevice    61.  3.100 / 61.  3.100\n",
      "  libavfilter    10.  4.100 / 10.  4.100\n",
      "  libswscale      8.  3.100 /  8.  3.100\n",
      "  libswresample   5.  3.100 /  5.  3.100\n",
      "  libpostproc    58.  3.100 / 58.  3.100\n",
      "Input #0, mov,mp4,m4a,3gp,3g2,mj2, from 'C:\\Users\\Администратор\\Desktop\\zebra_test\\dataset\\val.mov':\n",
      "  Metadata:\n",
      "    major_brand     : qt  \n",
      "    minor_version   : 512\n",
      "    compatible_brands: qt  \n",
      "    encoder         : Lavf61.9.107\n",
      "  Duration: 00:00:58.09, start: 0.015011, bitrate: 37225 kb/s\n",
      "  Stream #0:0[0x1]: Video: hevc (Main 10) (hvc1 / 0x31637668), yuv420p10le(tv, bt2020nc/bt2020/arib-std-b67), 3840x2160, 37333 kb/s, 30 fps, 30 tbr, 19200 tbn (default)\n",
      "      Metadata:\n",
      "        handler_name    : Core Media Video\n",
      "        vendor_id       : FFMP\n",
      "        encoder         : HEVC\n",
      "      Side data:\n",
      "        displaymatrix: rotation of -90.00 degrees\n",
      "        Ambient Viewing Environment, ambient_illuminance=314.000000, ambient_light_x=0.312700, ambient_light_y=0.329000\n",
      "  Stream #0:1[0x2]: Audio: aac (LC) (mp4a / 0x6134706D), 44100 Hz, stereo, fltp, 182 kb/s (default)\n",
      "      Metadata:\n",
      "        handler_name    : Core Media Audio\n",
      "        vendor_id       : [0][0][0][0]\n",
      "Stream mapping:\n",
      "  Stream #0:0 -> #0:0 (hevc (native) -> mjpeg (native))\n",
      "Press [q] to stop, [?] for help\n",
      "[hevc @ 000001e31a032740] Multiple Dolby Vision RPUs found in one AU. Skipping previous.\n",
      "[hevc @ 000001e31a03afc0] Multiple Dolby Vision RPUs found in one AU. Skipping previous.\n",
      "[hevc @ 000001e31a674980] Multiple Dolby Vision RPUs found in one AU. Skipping previous.\n",
      "Output #0, image2, to 'C:\\Users\\Администратор\\Desktop\\zebra_test\\dataset\\images_val\\1_img%03d.jpg':\n",
      "  Metadata:\n",
      "    major_brand     : qt  \n",
      "    minor_version   : 512\n",
      "    compatible_brands: qt  \n",
      "    encoder         : Lavf61.7.100\n",
      "  Stream #0:0: Video: mjpeg, yuv420p(pc, bt2020nc/bt2020/arib-std-b67, progressive), 2160x3840, q=2-31, 200 kb/s, 1.50 fps, 1.50 tbn (default)\n",
      "      Metadata:\n",
      "        handler_name    : Core Media Video\n",
      "        vendor_id       : FFMP\n",
      "        encoder         : Lavc61.19.101 mjpeg\n",
      "      Side data:\n",
      "        Ambient Viewing Environment, ambient_illuminance=314.000000, ambient_light_x=0.312700, ambient_light_y=0.329000\n",
      "        cpb: bitrate max/min/avg: 0/0/200000 buffer size: 0 vbv_delay: N/A\n",
      "frame=    0 fps=0.0 q=0.0 size=       0KiB time=N/A bitrate=N/A dup=1 drop=0 speed=N/A    \n",
      "frame=    3 fps=2.9 q=10.1 size=N/A time=00:00:02.00 bitrate=N/A dup=1 drop=0 speed=1.92x    \n",
      "frame=    5 fps=3.2 q=14.6 size=N/A time=00:00:03.33 bitrate=N/A dup=1 drop=0 speed=2.14x    \n",
      "frame=    7 fps=3.4 q=20.2 size=N/A time=00:00:04.66 bitrate=N/A dup=1 drop=0 speed=2.27x    \n",
      "frame=    9 fps=3.4 q=24.8 size=N/A time=00:00:06.00 bitrate=N/A dup=1 drop=0 speed=2.27x    \n",
      "frame=   10 fps=3.2 q=24.8 size=N/A time=00:00:06.66 bitrate=N/A dup=1 drop=0 speed=2.11x    \n",
      "frame=   12 fps=3.3 q=24.8 size=N/A time=00:00:08.00 bitrate=N/A dup=1 drop=0 speed=2.17x    \n",
      "frame=   14 fps=3.3 q=24.8 size=N/A time=00:00:09.33 bitrate=N/A dup=1 drop=0 speed=2.22x    \n",
      "frame=   15 fps=3.2 q=24.8 size=N/A time=00:00:10.00 bitrate=N/A dup=1 drop=0 speed=2.12x    \n",
      "frame=   17 fps=3.3 q=24.8 size=N/A time=00:00:11.33 bitrate=N/A dup=1 drop=0 speed=2.17x    \n",
      "frame=   19 fps=3.3 q=24.8 size=N/A time=00:00:12.66 bitrate=N/A dup=1 drop=0 speed=2.21x    \n",
      "frame=   21 fps=3.4 q=24.8 size=N/A time=00:00:14.00 bitrate=N/A dup=1 drop=0 speed=2.24x    \n",
      "frame=   22 fps=3.2 q=24.8 size=N/A time=00:00:14.66 bitrate=N/A dup=1 drop=0 speed=2.17x    \n",
      "frame=   24 fps=3.3 q=24.8 size=N/A time=00:00:16.00 bitrate=N/A dup=1 drop=0 speed= 2.2x    \n",
      "frame=   26 fps=3.3 q=24.8 size=N/A time=00:00:17.33 bitrate=N/A dup=1 drop=0 speed=2.22x    \n",
      "frame=   28 fps=3.4 q=24.8 size=N/A time=00:00:18.66 bitrate=N/A dup=1 drop=0 speed=2.24x    \n",
      "frame=   29 fps=3.3 q=24.8 size=N/A time=00:00:19.33 bitrate=N/A dup=1 drop=0 speed=2.19x    \n",
      "frame=   31 fps=3.3 q=24.8 size=N/A time=00:00:20.66 bitrate=N/A dup=1 drop=0 speed=2.21x    \n",
      "frame=   33 fps=3.3 q=24.8 size=N/A time=00:00:22.00 bitrate=N/A dup=1 drop=0 speed=2.23x    \n",
      "frame=   35 fps=3.4 q=24.8 size=N/A time=00:00:23.33 bitrate=N/A dup=1 drop=0 speed=2.24x    \n",
      "frame=   37 fps=3.4 q=24.8 size=N/A time=00:00:24.66 bitrate=N/A dup=1 drop=0 speed=2.26x    \n",
      "frame=   39 fps=3.4 q=24.8 size=N/A time=00:00:26.00 bitrate=N/A dup=1 drop=0 speed=2.27x    \n",
      "frame=   40 fps=3.3 q=24.8 size=N/A time=00:00:26.66 bitrate=N/A dup=1 drop=0 speed=2.23x    \n",
      "frame=   42 fps=3.4 q=24.8 size=N/A time=00:00:28.00 bitrate=N/A dup=1 drop=0 speed=2.24x    \n",
      "frame=   44 fps=3.4 q=24.8 size=N/A time=00:00:29.33 bitrate=N/A dup=1 drop=0 speed=2.26x    \n",
      "frame=   45 fps=3.3 q=24.8 size=N/A time=00:00:30.00 bitrate=N/A dup=1 drop=0 speed=2.22x    \n",
      "frame=   47 fps=3.3 q=24.8 size=N/A time=00:00:31.33 bitrate=N/A dup=1 drop=0 speed=2.23x    \n",
      "frame=   49 fps=3.4 q=24.8 size=N/A time=00:00:32.66 bitrate=N/A dup=1 drop=0 speed=2.24x    \n",
      "frame=   51 fps=3.4 q=24.8 size=N/A time=00:00:34.00 bitrate=N/A dup=1 drop=0 speed=2.26x    \n",
      "frame=   52 fps=3.3 q=24.8 size=N/A time=00:00:34.66 bitrate=N/A dup=1 drop=0 speed=2.22x    \n",
      "frame=   54 fps=3.3 q=24.8 size=N/A time=00:00:36.00 bitrate=N/A dup=1 drop=0 speed=2.23x    \n",
      "frame=   56 fps=3.4 q=24.8 size=N/A time=00:00:37.33 bitrate=N/A dup=1 drop=0 speed=2.24x    \n",
      "frame=   58 fps=3.4 q=24.8 size=N/A time=00:00:38.66 bitrate=N/A dup=1 drop=0 speed=2.25x    \n",
      "frame=   59 fps=3.3 q=24.8 size=N/A time=00:00:39.33 bitrate=N/A dup=1 drop=0 speed=2.23x    \n",
      "frame=   61 fps=3.4 q=24.8 size=N/A time=00:00:40.66 bitrate=N/A dup=1 drop=0 speed=2.24x    \n",
      "frame=   63 fps=3.4 q=24.8 size=N/A time=00:00:42.00 bitrate=N/A dup=1 drop=0 speed=2.24x    \n",
      "frame=   65 fps=3.4 q=24.8 size=N/A time=00:00:43.33 bitrate=N/A dup=1 drop=0 speed=2.25x    \n",
      "frame=   67 fps=3.4 q=24.8 size=N/A time=00:00:44.66 bitrate=N/A dup=1 drop=0 speed=2.26x    \n",
      "frame=   68 fps=3.4 q=24.8 size=N/A time=00:00:45.33 bitrate=N/A dup=1 drop=0 speed=2.24x    \n",
      "frame=   70 fps=3.4 q=24.8 size=N/A time=00:00:46.66 bitrate=N/A dup=1 drop=0 speed=2.25x    \n",
      "frame=   72 fps=3.4 q=24.8 size=N/A time=00:00:48.00 bitrate=N/A dup=1 drop=0 speed=2.26x    \n",
      "frame=   74 fps=3.4 q=24.8 size=N/A time=00:00:49.33 bitrate=N/A dup=1 drop=0 speed=2.26x    \n",
      "frame=   75 fps=3.4 q=24.8 size=N/A time=00:00:50.00 bitrate=N/A dup=1 drop=0 speed=2.24x    \n",
      "frame=   77 fps=3.4 q=24.8 size=N/A time=00:00:51.33 bitrate=N/A dup=1 drop=0 speed=2.25x    \n",
      "frame=   79 fps=3.4 q=24.8 size=N/A time=00:00:52.66 bitrate=N/A dup=1 drop=0 speed=2.26x    \n",
      "frame=   81 fps=3.4 q=24.8 size=N/A time=00:00:54.00 bitrate=N/A dup=1 drop=0 speed=2.26x    \n",
      "frame=   82 fps=3.4 q=24.8 size=N/A time=00:00:54.66 bitrate=N/A dup=1 drop=0 speed=2.24x    \n",
      "frame=   84 fps=3.4 q=24.8 size=N/A time=00:00:56.00 bitrate=N/A dup=1 drop=0 speed=2.25x    \n",
      "frame=   86 fps=3.4 q=24.8 size=N/A time=00:00:57.33 bitrate=N/A dup=1 drop=0 speed=2.25x    \n",
      "[out#0/image2 @ 000001e31a00dc00] video:21542KiB audio:0KiB subtitle:0KiB other streams:0KiB global headers:0KiB muxing overhead: unknown\n",
      "frame=   87 fps=3.4 q=24.8 Lsize=N/A time=00:00:58.00 bitrate=N/A dup=1 drop=0 speed=2.25x    \n"
     ]
    }
   ],
   "source": [
    "! ffmpeg -i C:\\Users\\Администратор\\Desktop\\zebra_test\\dataset\\val.mov -vf fps=1.5 C:\\Users\\Администратор\\Desktop\\zebra_test\\dataset\\images_val\\1_img%03d.jpg"
   ]
  },
  {
   "cell_type": "markdown",
   "metadata": {},
   "source": [
    "# Итог по нарезке\n",
    "\n",
    "Получили 285 в train и 87 на val, соотношение почти 70 на 30, что идеально нам подходит"
   ]
  },
  {
   "cell_type": "markdown",
   "metadata": {},
   "source": [
    "# Дальше склонируем гит для авторазметки и используем yolo11s.pt, дальше полученный результат в ручную доразметим в интерфейсе cvat\n",
    "\n",
    "\n",
    "Чтобы настроить конфиг, смотрим видео и просто переносим те классы, которые у нас есть\n",
    "\n",
    "Вспомним, какие классы мы сейчас будем автоматически размечать \n",
    "\n",
    "1. person\n",
    "2. bowl\n",
    "3. cup \n",
    "\n",
    "Соответственно эти метки переносим в cvat и оставляем в конфиге, остальные метки добавим после автоматической разметки и доделаем руками. \n",
    "\n",
    "В конфиге специально делаем маленький conf и большой iou, чтобы получить как можно больше разметки.\n",
    "\n",
    "запускаем авто разметку следующими командами \n",
    "\n",
    "> python AutoCvat.py --img_folder=\"C:\\Users\\Администратор\\Desktop\\zebra_test\\AutoCVAT\\images_train\" --weights=yolo11s.pt --yaml_pth=config.yaml\n",
    "> python AutoCvat.py --img_folder=\"C:\\Users\\Администратор\\Desktop\\zebra_test\\AutoCVAT\\images_val\" --weights=yolo11s.pt --yaml_pth=config.yaml\n",
    "\n",
    "Получили очень хорошу разметку, все, что останется сделать это убрать лишние метки и доразметить недостающие.\n",
    "\n",
    "Опять же делаем упрощение, что у нас маленький датасет и мы можем себе позволить вручную залезть в него и потратить время на подобные операции.\n",
    "\n",
    "\n",
    "![alt text](img_for_ipynb/2025-06-23_00-55-06.png)\n",
    "![alt text](img_for_ipynb/2025-06-23_00-57-05.png)"
   ]
  },
  {
   "cell_type": "markdown",
   "metadata": {},
   "source": [
    "# Оценка по времени \n",
    "\n",
    "Тестирование разных моделей и подключение автоматической разметки заняло 2 часа. "
   ]
  },
  {
   "cell_type": "markdown",
   "metadata": {},
   "source": [
    "# Разметка оставшихся меток \n",
    "\n",
    "В целом все ключевые объекты размечаются и как для теста можно было бы оставить 3 класса. \n",
    "\n",
    "Сейчас у нас есть такие классы \n",
    "\n",
    "1. person\n",
    "2. bowl\n",
    "3. cup\n",
    "\n",
    "Додавим к этому еще три класса.  \n",
    "\n",
    "4. food\n",
    "5. platter \n",
    "6. plate \n",
    "7. teapot\n",
    "\n",
    "Таким образом разметить нам нужно будет только 2 класса, т.к. тарелки уже определяются как bowl, а чайник как cup\n",
    "\n",
    "Добавим соответствующие метки в cvat.\n",
    "\n",
    "\n",
    "Соусницы автоматически определяются как cup, оставим как есть, соус будем определять как food, что немного расширит вариативность этого класса и даст модели возможность обобщать содержимое даже мелких объектов.\n",
    "\n",
    "Так же введем упрощение для еды, будем размечать просто внутренности тарелки и считать, все, что внутри = еда, аналогично для соусник и соусов.\n",
    "\n",
    "Крайне лень размечать все в ручную)) Попробуем запихнуть все классы на разметку и посмотрим результат. \n",
    "\n",
    "Залил в grok имена классов и попросил подставить вместо значений 0.01, таким образом сформировал список conf, такой маленький conf необходим, чтобы получить как можно больше классов. \n",
    "\n",
    "Маленький iou по той же причине ставим на 0.1.\n",
    "\n",
    "Не утапливаем до слишком маленьких значений, иначе удалять придется дольше, чем размечали бы руками. \n",
    "\n",
    "Получили такой результат ![alt text](2025-06-23_16-14-27.png)\n",
    "\n",
    "В целом не плохо, но ни один класс в тарелку не попал, а вот на следующих он начал определять мясо как cake, так же увидел broccoli в тарелке и суп определил как cake. Из странного - определил еду на подносе как bowl, ну главное определил. \n",
    "\n",
    "\n",
    "![alt text](2025-06-23_16-17-03.png)\n",
    "\n"
   ]
  },
  {
   "cell_type": "markdown",
   "metadata": {},
   "source": [
    "# Определим классы, которые встречаются на изображениях через такую авто разметку\n",
    "\n",
    "1. bowl \n",
    "2. cake\n",
    "3. cup\n",
    "4. broccoli\n",
    "5. carrot\n",
    "6. spoon\n",
    "7. fork\n",
    "8. dinning table\n",
    "9. person\n",
    "10. sandwich\n",
    "\n",
    "Из этого бесполезные для нас \n",
    "\n",
    "carrot - определяет слишком маленькую область\n",
    "\n",
    "fork и spoon - в задаче, где мы еду и тарелки определяем нам не нужны приборы. При большом желании их можно отдельно добавить в уже обученную модель, датасеты столовых приборов лежат в свободном доступе кучами. \n",
    "\n",
    "Так же уберем все совсем бредовые классы по типу bus, car итд, которые, по понятным причинам, тут появится не могут. \n",
    "\n",
    "Отсечем классы мебели, он ее хорошо видит, к задаче отношения не имеет.\n",
    "\n",
    "Таким образом итоговые классы будут \n",
    "\n",
    "1. bowl \n",
    "2. cake\n",
    "3. cup\n",
    "4. broccoli\n",
    "8. dinning table\n",
    "9. person\n",
    "10. sandwich\n",
    "\n",
    "Ищем их идентификаторы и делаем следующие переименования \n",
    "\n",
    "1. bowl, cup -> dishes. Датасет маленький, поэтому в итоге решил, что не будем разделять на тарелка/поднос/миска итд, просто оставляем как посуда.\n",
    "2. cake, broccoli, sandwich -> food, по той же причине, к тому же им зададим самый маленький conf, т.к. cake увидел мясо и суп, а sandwich увидел еду на подносе. \n",
    "\n",
    "Таким образом почти свели задачу к бинарной классификации, итоговых классов у нас всего 4 будет \n",
    "\n",
    "1. food\n",
    "2. dishes\n",
    "3. person\n",
    "4. diinning table\n",
    "\n",
    "Что уже начинает походить на прикладную задачу cv в ресторанном бизнесе. \n",
    "\n",
    "\n",
    " "
   ]
  },
  {
   "cell_type": "markdown",
   "metadata": {},
   "source": []
  },
  {
   "cell_type": "markdown",
   "metadata": {},
   "source": [
    "Разметка близка к идеальной, в ручную остается только подносы разметить и удалить лишние лейблы.\n",
    "\n",
    "![alt text](2025-06-23_16-41-02.png)"
   ]
  },
  {
   "cell_type": "markdown",
   "metadata": {},
   "source": [
    "# Затраты по времени\n",
    "\n",
    "На разметку трейна ушло примерно час, это с учетом трек полигонов и автоматической разметки большей части изображений. \n",
    "\n",
    "*Дополнение по метка*\n",
    "\n",
    "Можно было добавить еще лейбл с салфетками, что в приложении к ресторанному бизнесу можно было отслеживать качество осблуживания либо трекинг систему для официантов сделать, но у нас слишком мало кадров с салфетками, это можно использовать как идею для будущего развития.\n",
    "\n",
    "На разметку валидации ушло еще полчаса."
   ]
  },
  {
   "cell_type": "markdown",
   "metadata": {},
   "source": [
    "# Посмотрим получившийся датасет\n",
    "\n",
    "Визуализировать будем через ultralitics hub"
   ]
  },
  {
   "cell_type": "code",
   "execution_count": 4,
   "metadata": {},
   "outputs": [
    {
     "name": "stdout",
     "output_type": "stream",
     "text": [
      "Starting HUB dataset checks for C:\\Users\\\\Desktop\\zebra_test\\yolo_dataset.zip....\n",
      "WARNING Skipping C:\\Users\\\\Desktop\\zebra_test\\yolo_dataset.zip unzip as destination directory C:\\Users\\\\Desktop\\zebra_test\\yolo_dataset is not empty.\n",
      "Fast image access  (ping: 0.00.0 ms, read: 2785.6442.5 MB/s, size: 274.3 KB)\n"
     ]
    },
    {
     "name": "stderr",
     "output_type": "stream",
     "text": [
      "Scanning C:\\Users\\Администратор\\Desktop\\zebra_test\\yolo_dataset\\labels\\train... 285 images, 0 backgrounds, 0 corrupt: 100%|██████████| 285/285 [00:00<00:00, 2162.43it/s]"
     ]
    },
    {
     "name": "stdout",
     "output_type": "stream",
     "text": [
      "New cache created: C:\\Users\\\\Desktop\\zebra_test\\yolo_dataset\\labels\\train.cache\n"
     ]
    },
    {
     "name": "stderr",
     "output_type": "stream",
     "text": [
      "\n",
      "Statistics: 100%|██████████| 285/285 [00:00<00:00, 281994.96it/s]"
     ]
    },
    {
     "name": "stdout",
     "output_type": "stream",
     "text": [
      "Fast image access  (ping: 0.00.0 ms, read: 2872.4505.3 MB/s, size: 236.1 KB)\n"
     ]
    },
    {
     "name": "stderr",
     "output_type": "stream",
     "text": [
      "\n",
      "Scanning C:\\Users\\Администратор\\Desktop\\zebra_test\\yolo_dataset\\labels\\val... 87 images, 0 backgrounds, 0 corrupt: 100%|██████████| 87/87 [00:00<00:00, 2468.44it/s]"
     ]
    },
    {
     "name": "stdout",
     "output_type": "stream",
     "text": [
      "New cache created: C:\\Users\\\\Desktop\\zebra_test\\yolo_dataset\\labels\\val.cache\n"
     ]
    },
    {
     "name": "stderr",
     "output_type": "stream",
     "text": [
      "\n",
      "Statistics: 100%|██████████| 87/87 [00:00<00:00, 244083.24it/s]"
     ]
    },
    {
     "name": "stdout",
     "output_type": "stream",
     "text": [
      "Checks completed correctly . Upload this dataset to https://hub.ultralytics.com/datasets/.\n"
     ]
    },
    {
     "name": "stderr",
     "output_type": "stream",
     "text": [
      "\n"
     ]
    }
   ],
   "source": [
    "# проверим пригодность датасета\n",
    "from ultralytics.hub import check_dataset\n",
    "\n",
    "check_dataset(\"yolo_dataset.zip\", task=\"detect\")"
   ]
  },
  {
   "cell_type": "markdown",
   "metadata": {},
   "source": [
    "# Все подходит, загрузим через ui хаба"
   ]
  },
  {
   "cell_type": "markdown",
   "metadata": {},
   "source": [
    "По изображениям достаточно сбалансированно получилось\n",
    "\n",
    "![alt text](2025-06-23_19-04-21.png)"
   ]
  },
  {
   "cell_type": "markdown",
   "metadata": {},
   "source": [
    "А вот по инстансам очень сильный дисбаланс, т.к. я не фиксил сильно огрехи авторазметки и получалось, что на одном кадре могло быть по 5-10 полигонов для еды и аналогично для посуды. \n",
    "\n",
    "![alt text](2025-06-23_19-06-48.png)"
   ]
  },
  {
   "cell_type": "markdown",
   "metadata": {},
   "source": [
    "# Вывод\n",
    "\n",
    "Хоть на инстансах у нас и огромный дисбаланс, но соотношение еды к посуде 6390 к 4377, что в целом не сильно критично, а если person и dining table начнут тянуть метрики вниз, то просто отрежем их и для этих целей будем использовать предобученную модель. \n",
    "\n",
    "Затестим базовую yolo11s на этих данных и посмотрим динамику роста метрик, после чего используем встроенный тюнер и потестим аугментацию. Если аугментация не даст прироста, попробуем дозаполнить синтетикой. "
   ]
  },
  {
   "cell_type": "markdown",
   "metadata": {},
   "source": [
    "# Тест базовой модели без доп настроек на полученной датасете."
   ]
  },
  {
   "cell_type": "code",
   "execution_count": 7,
   "metadata": {},
   "outputs": [],
   "source": [
    "from ultralytics import YOLO\n",
    "from clearml import Task, Logger"
   ]
  },
  {
   "cell_type": "code",
   "execution_count": 8,
   "metadata": {},
   "outputs": [
    {
     "name": "stdout",
     "output_type": "stream",
     "text": [
      "ClearML Task: created new task id=f7af6cd6f70241fc9d866a78b4fac14f\n",
      "ClearML results page: https://app.clear.ml/projects/45d33c510f314a938c8dc1ea8644e9d4/experiments/f7af6cd6f70241fc9d866a78b4fac14f/output/log\n"
     ]
    },
    {
     "name": "stdout",
     "output_type": "stream",
     "text": [
      "2025-06-23 19:14:25,485 - clearml.storage - INFO - Uploading: 91.41MB from C:/Users/836D~1/AppData/Local/Temp/yolo_dataset.44ulbile.zip\n"
     ]
    },
    {
     "name": "stderr",
     "output_type": "stream",
     "text": [
      "████████████████▉                55% | 49.94/91.41 MB [01:28<01:20,  1.93s/MB]: "
     ]
    },
    {
     "name": "stdout",
     "output_type": "stream",
     "text": [
      "ClearML Monitor: Could not detect iteration reporting, falling back to iterations as seconds-from-start\n"
     ]
    },
    {
     "name": "stderr",
     "output_type": "stream",
     "text": [
      "███████████████████████████████ 100% | 91.41/91.41 MB [02:50<00:00,  1.87s/MB]: \n"
     ]
    }
   ],
   "source": [
    "# версионируем все через clearml\n",
    "task = Task.init(\n",
    "    project_name='zebra_test', \n",
    "    task_name='BaseYolo11', \n",
    "    tags=['yolo11, base args, no augment ds'])"
   ]
  },
  {
   "cell_type": "code",
   "execution_count": 9,
   "metadata": {},
   "outputs": [
    {
     "data": {
      "text/plain": [
       "True"
      ]
     },
     "execution_count": 9,
     "metadata": {},
     "output_type": "execute_result"
    }
   ],
   "source": [
    "# загрузим датасет\n",
    "task.upload_artifact(name='data.raw', artifact_object=\"yolo_dataset\")"
   ]
  },
  {
   "cell_type": "code",
   "execution_count": 10,
   "metadata": {},
   "outputs": [],
   "source": [
    "model = YOLO(\"yolo11s.pt\")"
   ]
  },
  {
   "cell_type": "code",
   "execution_count": null,
   "metadata": {},
   "outputs": [
    {
     "name": "stderr",
     "output_type": "stream",
     "text": [
      "<>:1: SyntaxWarning: invalid escape sequence '\\y'\n",
      "<>:1: SyntaxWarning: invalid escape sequence '\\y'\n",
      "C:\\Users\\Администратор\\AppData\\Local\\Temp\\ipykernel_14760\\3700638081.py:1: SyntaxWarning: invalid escape sequence '\\y'\n",
      "  model.train(data=\"yolo_dataset\\yolo_dataset.yaml\",\n"
     ]
    },
    {
     "name": "stdout",
     "output_type": "stream",
     "text": [
      "Ultralytics 8.3.158  Python-3.13.1 torch-2.7.1+cu128 CUDA:0 (NVIDIA GeForce RTX 3090, 24576MiB)\n",
      "\u001b[34m\u001b[1mengine\\trainer: \u001b[0magnostic_nms=False, amp=True, augment=False, auto_augment=randaugment, batch=-1, bgr=0.0, box=7.5, cache=False, cfg=None, classes=None, close_mosaic=10, cls=0.5, conf=None, copy_paste=0.0, copy_paste_mode=flip, cos_lr=False, cutmix=0.0, data=yolo_dataset\\yolo_dataset.yaml, degrees=0.0, deterministic=True, device=0, dfl=1.5, dnn=False, dropout=0.0, dynamic=False, embed=None, epochs=10, erasing=0.4, exist_ok=False, fliplr=0.5, flipud=0.0, format=torchscript, fraction=1.0, freeze=None, half=False, hsv_h=0.015, hsv_s=0.7, hsv_v=0.4, imgsz=640, int8=False, iou=0.7, keras=False, kobj=1.0, line_width=None, lr0=0.01, lrf=0.01, mask_ratio=4, max_det=300, mixup=0.0, mode=train, model=yolo11s.pt, momentum=0.937, mosaic=1.0, multi_scale=False, name=train, nbs=64, nms=False, opset=None, optimize=False, optimizer=auto, overlap_mask=True, patience=100, perspective=0.0, plots=True, pose=12.0, pretrained=True, profile=False, project=None, rect=False, resume=False, retina_masks=False, save=True, save_conf=False, save_crop=False, save_dir=runs\\detect\\train, save_frames=False, save_json=False, save_period=-1, save_txt=False, scale=0.5, seed=0, shear=0.0, show=False, show_boxes=True, show_conf=True, show_labels=True, simplify=True, single_cls=False, source=None, split=val, stream_buffer=False, task=detect, time=None, tracker=botsort.yaml, translate=0.1, val=True, verbose=True, vid_stride=1, visualize=False, warmup_bias_lr=0.1, warmup_epochs=3.0, warmup_momentum=0.8, weight_decay=0.0005, workers=4, workspace=None\n",
      "Overriding model.yaml nc=80 with nc=4\n",
      "\n",
      "                   from  n    params  module                                       arguments                     \n",
      "  0                  -1  1       928  ultralytics.nn.modules.conv.Conv             [3, 32, 3, 2]                 \n",
      "  1                  -1  1     18560  ultralytics.nn.modules.conv.Conv             [32, 64, 3, 2]                \n",
      "  2                  -1  1     26080  ultralytics.nn.modules.block.C3k2            [64, 128, 1, False, 0.25]     \n",
      "  3                  -1  1    147712  ultralytics.nn.modules.conv.Conv             [128, 128, 3, 2]              \n",
      "  4                  -1  1    103360  ultralytics.nn.modules.block.C3k2            [128, 256, 1, False, 0.25]    \n",
      "  5                  -1  1    590336  ultralytics.nn.modules.conv.Conv             [256, 256, 3, 2]              \n",
      "  6                  -1  1    346112  ultralytics.nn.modules.block.C3k2            [256, 256, 1, True]           \n",
      "  7                  -1  1   1180672  ultralytics.nn.modules.conv.Conv             [256, 512, 3, 2]              \n",
      "  8                  -1  1   1380352  ultralytics.nn.modules.block.C3k2            [512, 512, 1, True]           \n",
      "  9                  -1  1    656896  ultralytics.nn.modules.block.SPPF            [512, 512, 5]                 \n",
      " 10                  -1  1    990976  ultralytics.nn.modules.block.C2PSA           [512, 512, 1]                 \n",
      " 11                  -1  1         0  torch.nn.modules.upsampling.Upsample         [None, 2, 'nearest']          \n",
      " 12             [-1, 6]  1         0  ultralytics.nn.modules.conv.Concat           [1]                           \n",
      " 13                  -1  1    443776  ultralytics.nn.modules.block.C3k2            [768, 256, 1, False]          \n",
      " 14                  -1  1         0  torch.nn.modules.upsampling.Upsample         [None, 2, 'nearest']          \n",
      " 15             [-1, 4]  1         0  ultralytics.nn.modules.conv.Concat           [1]                           \n",
      " 16                  -1  1    127680  ultralytics.nn.modules.block.C3k2            [512, 128, 1, False]          \n",
      " 17                  -1  1    147712  ultralytics.nn.modules.conv.Conv             [128, 128, 3, 2]              \n",
      " 18            [-1, 13]  1         0  ultralytics.nn.modules.conv.Concat           [1]                           \n",
      " 19                  -1  1    345472  ultralytics.nn.modules.block.C3k2            [384, 256, 1, False]          \n",
      " 20                  -1  1    590336  ultralytics.nn.modules.conv.Conv             [256, 256, 3, 2]              \n",
      " 21            [-1, 10]  1         0  ultralytics.nn.modules.conv.Concat           [1]                           \n",
      " 22                  -1  1   1511424  ultralytics.nn.modules.block.C3k2            [768, 512, 1, True]           \n",
      " 23        [16, 19, 22]  1    820956  ultralytics.nn.modules.head.Detect           [4, [128, 256, 512]]          \n",
      "YOLO11s summary: 181 layers, 9,429,340 parameters, 9,429,324 gradients, 21.6 GFLOPs\n",
      "\n",
      "Transferred 493/499 items from pretrained weights\n",
      "Freezing layer 'model.23.dfl.conv.weight'\n",
      "\u001b[34m\u001b[1mAMP: \u001b[0mrunning Automatic Mixed Precision (AMP) checks...\n",
      "\u001b[34m\u001b[1mAMP: \u001b[0mchecks passed \n",
      "\u001b[34m\u001b[1mtrain: \u001b[0mFast image access  (ping: 0.00.0 ms, read: 2218.5781.2 MB/s, size: 236.1 KB)\n"
     ]
    },
    {
     "name": "stderr",
     "output_type": "stream",
     "text": [
      "\u001b[34m\u001b[1mtrain: \u001b[0mScanning C:\\Users\\Администратор\\Desktop\\zebra_test\\yolo_dataset\\labels\\train.cache... 285 images, 0 backgrounds, 0 corrupt: 100%|██████████| 285/285 [00:00<?, ?it/s]"
     ]
    },
    {
     "name": "stdout",
     "output_type": "stream",
     "text": [
      "\u001b[34m\u001b[1mAutoBatch: \u001b[0mComputing optimal batch size for imgsz=640 at 60.0% CUDA memory utilization.\n",
      "\u001b[34m\u001b[1mAutoBatch: \u001b[0mCUDA:0 (NVIDIA GeForce RTX 3090) 24.00G total, 0.13G reserved, 0.10G allocated, 23.77G free\n"
     ]
    },
    {
     "name": "stderr",
     "output_type": "stream",
     "text": [
      "\n"
     ]
    },
    {
     "name": "stdout",
     "output_type": "stream",
     "text": [
      "      Params      GFLOPs  GPU_mem (GB)  forward (ms) backward (ms)                   input                  output\n",
      "     9429340       21.55         0.835         65.73         496.6        (1, 3, 640, 640)                    list\n",
      "     9429340       43.11         1.181         40.94         172.9        (2, 3, 640, 640)                    list\n",
      "     9429340       86.22         1.755         34.74         174.4        (4, 3, 640, 640)                    list\n",
      "     9429340       172.4         2.858         52.54         171.2        (8, 3, 640, 640)                    list\n",
      "     9429340       344.9         4.962         92.74         173.7       (16, 3, 640, 640)                    list\n",
      "     9429340       689.8         9.387         163.6         196.6       (32, 3, 640, 640)                    list\n",
      "     9429340        1380        17.941         321.6           244       (64, 3, 640, 640)                    list\n",
      "\u001b[34m\u001b[1mAutoBatch: \u001b[0mUsing batch-size 49 for CUDA:0 14.15G/24.00G (59%) \n",
      "\u001b[34m\u001b[1mtrain: \u001b[0mFast image access  (ping: 0.00.0 ms, read: 2362.0842.0 MB/s, size: 234.1 KB)\n"
     ]
    },
    {
     "name": "stderr",
     "output_type": "stream",
     "text": [
      "\u001b[34m\u001b[1mtrain: \u001b[0mScanning C:\\Users\\Администратор\\Desktop\\zebra_test\\yolo_dataset\\labels\\train.cache... 285 images, 0 backgrounds, 0 corrupt: 100%|██████████| 285/285 [00:00<?, ?it/s]\n"
     ]
    },
    {
     "name": "stdout",
     "output_type": "stream",
     "text": [
      "\u001b[34m\u001b[1mval: \u001b[0mFast image access  (ping: 0.00.0 ms, read: 2123.5721.2 MB/s, size: 237.2 KB)\n"
     ]
    },
    {
     "name": "stderr",
     "output_type": "stream",
     "text": [
      "\u001b[34m\u001b[1mval: \u001b[0mScanning C:\\Users\\Администратор\\Desktop\\zebra_test\\yolo_dataset\\labels\\val.cache... 87 images, 0 backgrounds, 0 corrupt: 100%|██████████| 87/87 [00:00<?, ?it/s]\n"
     ]
    },
    {
     "name": "stdout",
     "output_type": "stream",
     "text": [
      "Plotting labels to runs\\detect\\train\\labels.jpg... \n",
      "\u001b[34m\u001b[1moptimizer:\u001b[0m 'optimizer=auto' found, ignoring 'lr0=0.01' and 'momentum=0.937' and determining best 'optimizer', 'lr0' and 'momentum' automatically... \n",
      "\u001b[34m\u001b[1moptimizer:\u001b[0m AdamW(lr=0.00125, momentum=0.9) with parameter groups 81 weight(decay=0.0), 88 weight(decay=0.0003828125), 87 bias(decay=0.0)\n",
      "Image sizes 640 train, 640 val\n",
      "Using 4 dataloader workers\n",
      "Logging results to \u001b[1mruns\\detect\\train\u001b[0m\n",
      "Starting training for 10 epochs...\n",
      "Closing dataloader mosaic\n",
      "\n",
      "      Epoch    GPU_mem   box_loss   cls_loss   dfl_loss  Instances       Size\n"
     ]
    },
    {
     "name": "stderr",
     "output_type": "stream",
     "text": [
      "       1/10        12G      1.381      3.192      1.306       1612        640: 100%|██████████| 6/6 [00:05<00:00,  1.04it/s]\n",
      "                 Class     Images  Instances      Box(P          R      mAP50  mAP50-95): 100%|██████████| 1/1 [00:01<00:00,  1.11s/it]"
     ]
    },
    {
     "name": "stdout",
     "output_type": "stream",
     "text": [
      "                   all         87       2611      0.187      0.156      0.185      0.164\n"
     ]
    },
    {
     "name": "stderr",
     "output_type": "stream",
     "text": [
      "\n"
     ]
    },
    {
     "name": "stdout",
     "output_type": "stream",
     "text": [
      "2025-06-23 19:18:12,521 - clearml - INFO - inf value encountered. Reporting it as '0.0'. Use clearml.Logger.set_reporting_inf_value to assign another value\n",
      "\n",
      "      Epoch    GPU_mem   box_loss   cls_loss   dfl_loss  Instances       Size\n"
     ]
    },
    {
     "name": "stderr",
     "output_type": "stream",
     "text": [
      "       2/10        12G      1.091      1.746      1.141       1669        640: 100%|██████████| 6/6 [00:02<00:00,  2.44it/s]\n",
      "                 Class     Images  Instances      Box(P          R      mAP50  mAP50-95): 100%|██████████| 1/1 [00:00<00:00,  1.11it/s]"
     ]
    },
    {
     "name": "stdout",
     "output_type": "stream",
     "text": [
      "                   all         87       2611      0.681      0.741       0.67      0.515\n"
     ]
    },
    {
     "name": "stderr",
     "output_type": "stream",
     "text": [
      "\n"
     ]
    },
    {
     "name": "stdout",
     "output_type": "stream",
     "text": [
      "\n",
      "      Epoch    GPU_mem   box_loss   cls_loss   dfl_loss  Instances       Size\n"
     ]
    },
    {
     "name": "stderr",
     "output_type": "stream",
     "text": [
      "       3/10        12G     0.8774     0.8606      1.007       1688        640: 100%|██████████| 6/6 [00:01<00:00,  3.05it/s]\n",
      "                 Class     Images  Instances      Box(P          R      mAP50  mAP50-95): 100%|██████████| 1/1 [00:00<00:00,  1.45it/s]"
     ]
    },
    {
     "name": "stdout",
     "output_type": "stream",
     "text": [
      "                   all         87       2611       0.71      0.674      0.639      0.479\n"
     ]
    },
    {
     "name": "stderr",
     "output_type": "stream",
     "text": [
      "\n"
     ]
    },
    {
     "name": "stdout",
     "output_type": "stream",
     "text": [
      "\n",
      "      Epoch    GPU_mem   box_loss   cls_loss   dfl_loss  Instances       Size\n"
     ]
    },
    {
     "name": "stderr",
     "output_type": "stream",
     "text": [
      "       4/10        12G     0.8037     0.7054     0.9791       1647        640: 100%|██████████| 6/6 [00:01<00:00,  3.11it/s]\n",
      "                 Class     Images  Instances      Box(P          R      mAP50  mAP50-95): 100%|██████████| 1/1 [00:00<00:00,  1.63it/s]"
     ]
    },
    {
     "name": "stdout",
     "output_type": "stream",
     "text": [
      "                   all         87       2611      0.685      0.724      0.635        0.5\n"
     ]
    },
    {
     "name": "stderr",
     "output_type": "stream",
     "text": [
      "\n"
     ]
    },
    {
     "name": "stdout",
     "output_type": "stream",
     "text": [
      "\n",
      "      Epoch    GPU_mem   box_loss   cls_loss   dfl_loss  Instances       Size\n"
     ]
    },
    {
     "name": "stderr",
     "output_type": "stream",
     "text": [
      "       5/10        12G     0.7527     0.6456     0.9535       1719        640: 100%|██████████| 6/6 [00:01<00:00,  3.11it/s]\n",
      "                 Class     Images  Instances      Box(P          R      mAP50  mAP50-95): 100%|██████████| 1/1 [00:00<00:00,  1.67it/s]"
     ]
    },
    {
     "name": "stdout",
     "output_type": "stream",
     "text": [
      "                   all         87       2611      0.726      0.688      0.677      0.537\n"
     ]
    },
    {
     "name": "stderr",
     "output_type": "stream",
     "text": [
      "\n"
     ]
    },
    {
     "name": "stdout",
     "output_type": "stream",
     "text": [
      "\n",
      "      Epoch    GPU_mem   box_loss   cls_loss   dfl_loss  Instances       Size\n"
     ]
    },
    {
     "name": "stderr",
     "output_type": "stream",
     "text": [
      "       6/10        12G     0.6968      0.595     0.9229       1535        640: 100%|██████████| 6/6 [00:01<00:00,  3.13it/s]\n",
      "                 Class     Images  Instances      Box(P          R      mAP50  mAP50-95): 100%|██████████| 1/1 [00:00<00:00,  1.89it/s]"
     ]
    },
    {
     "name": "stdout",
     "output_type": "stream",
     "text": [
      "                   all         87       2611      0.642      0.735      0.652       0.51\n"
     ]
    },
    {
     "name": "stderr",
     "output_type": "stream",
     "text": [
      "\n"
     ]
    },
    {
     "name": "stdout",
     "output_type": "stream",
     "text": [
      "ClearML Monitor: Reporting detected, reverting back to iteration based reporting\n"
     ]
    },
    {
     "name": "stdout",
     "output_type": "stream",
     "text": [
      "\n",
      "      Epoch    GPU_mem   box_loss   cls_loss   dfl_loss  Instances       Size\n"
     ]
    },
    {
     "name": "stderr",
     "output_type": "stream",
     "text": [
      "       7/10        12G     0.6677     0.5639      0.914       1555        640: 100%|██████████| 6/6 [00:01<00:00,  3.20it/s]\n",
      "                 Class     Images  Instances      Box(P          R      mAP50  mAP50-95): 100%|██████████| 1/1 [00:00<00:00,  1.81it/s]"
     ]
    },
    {
     "name": "stdout",
     "output_type": "stream",
     "text": [
      "                   all         87       2611      0.629      0.737      0.645      0.484\n"
     ]
    },
    {
     "name": "stderr",
     "output_type": "stream",
     "text": [
      "\n"
     ]
    },
    {
     "name": "stdout",
     "output_type": "stream",
     "text": [
      "\n",
      "      Epoch    GPU_mem   box_loss   cls_loss   dfl_loss  Instances       Size\n"
     ]
    },
    {
     "name": "stderr",
     "output_type": "stream",
     "text": [
      "       8/10      11.7G     0.6452     0.5356      0.901       1618        640: 100%|██████████| 6/6 [00:02<00:00,  2.96it/s]\n",
      "                 Class     Images  Instances      Box(P          R      mAP50  mAP50-95): 100%|██████████| 1/1 [00:00<00:00,  1.98it/s]"
     ]
    },
    {
     "name": "stdout",
     "output_type": "stream",
     "text": [
      "                   all         87       2611      0.672      0.731      0.673      0.516\n"
     ]
    },
    {
     "name": "stderr",
     "output_type": "stream",
     "text": [
      "\n"
     ]
    },
    {
     "name": "stdout",
     "output_type": "stream",
     "text": [
      "\n",
      "      Epoch    GPU_mem   box_loss   cls_loss   dfl_loss  Instances       Size\n"
     ]
    },
    {
     "name": "stderr",
     "output_type": "stream",
     "text": [
      "       9/10        12G     0.6094     0.5142     0.8914       1611        640: 100%|██████████| 6/6 [00:01<00:00,  3.17it/s]\n",
      "                 Class     Images  Instances      Box(P          R      mAP50  mAP50-95): 100%|██████████| 1/1 [00:00<00:00,  1.92it/s]"
     ]
    },
    {
     "name": "stdout",
     "output_type": "stream",
     "text": [
      "                   all         87       2611      0.708      0.775      0.696      0.559\n"
     ]
    },
    {
     "name": "stderr",
     "output_type": "stream",
     "text": [
      "\n"
     ]
    },
    {
     "name": "stdout",
     "output_type": "stream",
     "text": [
      "\n",
      "      Epoch    GPU_mem   box_loss   cls_loss   dfl_loss  Instances       Size\n"
     ]
    },
    {
     "name": "stderr",
     "output_type": "stream",
     "text": [
      "      10/10        12G     0.6034     0.5025     0.8855       1506        640: 100%|██████████| 6/6 [00:01<00:00,  3.00it/s]\n",
      "                 Class     Images  Instances      Box(P          R      mAP50  mAP50-95): 100%|██████████| 1/1 [00:00<00:00,  2.02it/s]"
     ]
    },
    {
     "name": "stdout",
     "output_type": "stream",
     "text": [
      "                   all         87       2611      0.718      0.806      0.737      0.566\n"
     ]
    },
    {
     "name": "stderr",
     "output_type": "stream",
     "text": [
      "\n"
     ]
    },
    {
     "name": "stdout",
     "output_type": "stream",
     "text": [
      "\n",
      "10 epochs completed in 0.014 hours.\n",
      "Optimizer stripped from runs\\detect\\train\\weights\\last.pt, 19.2MB\n",
      "Optimizer stripped from runs\\detect\\train\\weights\\best.pt, 19.2MB\n",
      "\n",
      "Validating runs\\detect\\train\\weights\\best.pt...\n",
      "Ultralytics 8.3.158  Python-3.13.1 torch-2.7.1+cu128 CUDA:0 (NVIDIA GeForce RTX 3090, 24576MiB)\n",
      "YOLO11s summary (fused): 100 layers, 9,414,348 parameters, 0 gradients, 21.3 GFLOPs\n"
     ]
    },
    {
     "name": "stderr",
     "output_type": "stream",
     "text": [
      "                 Class     Images  Instances      Box(P          R      mAP50  mAP50-95): 100%|██████████| 1/1 [00:00<00:00,  1.66it/s]\n"
     ]
    },
    {
     "name": "stdout",
     "output_type": "stream",
     "text": [
      "                   all         87       2611      0.718      0.808      0.737      0.566\n",
      "                  food         87       1121      0.367      0.604      0.378      0.181\n",
      "                person         75         87       0.65      0.828      0.754      0.483\n",
      "          dining table         87         87      0.991          1      0.995      0.995\n",
      "                dishes         87       1316      0.864      0.799      0.822      0.607\n",
      "Speed: 0.1ms preprocess, 0.8ms inference, 0.0ms loss, 1.6ms postprocess per image\n",
      "Results saved to \u001b[1mruns\\detect\\train\u001b[0m\n",
      "2025-06-23 19:18:55,666 - clearml.storage - INFO - Starting upload: runs\\detect\\train\\weights\\best.pt => https://files.clear.ml/zebra_test/BaseYolo11.f7af6cd6f70241fc9d866a78b4fac14f/models/best.pt\n"
     ]
    },
    {
     "data": {
      "text/plain": [
       "ultralytics.utils.metrics.DetMetrics object with attributes:\n",
       "\n",
       "ap_class_index: array([0, 1, 2, 3])\n",
       "box: ultralytics.utils.metrics.Metric object\n",
       "confusion_matrix: <ultralytics.utils.metrics.ConfusionMatrix object at 0x000001D053441040>\n",
       "curves: ['Precision-Recall(B)', 'F1-Confidence(B)', 'Precision-Confidence(B)', 'Recall-Confidence(B)']\n",
       "curves_results: [[array([          0,    0.001001,    0.002002,    0.003003,    0.004004,    0.005005,    0.006006,    0.007007,    0.008008,    0.009009,     0.01001,    0.011011,    0.012012,    0.013013,    0.014014,    0.015015,    0.016016,    0.017017,    0.018018,    0.019019,     0.02002,    0.021021,    0.022022,    0.023023,\n",
       "          0.024024,    0.025025,    0.026026,    0.027027,    0.028028,    0.029029,     0.03003,    0.031031,    0.032032,    0.033033,    0.034034,    0.035035,    0.036036,    0.037037,    0.038038,    0.039039,     0.04004,    0.041041,    0.042042,    0.043043,    0.044044,    0.045045,    0.046046,    0.047047,\n",
       "          0.048048,    0.049049,     0.05005,    0.051051,    0.052052,    0.053053,    0.054054,    0.055055,    0.056056,    0.057057,    0.058058,    0.059059,     0.06006,    0.061061,    0.062062,    0.063063,    0.064064,    0.065065,    0.066066,    0.067067,    0.068068,    0.069069,     0.07007,    0.071071,\n",
       "          0.072072,    0.073073,    0.074074,    0.075075,    0.076076,    0.077077,    0.078078,    0.079079,     0.08008,    0.081081,    0.082082,    0.083083,    0.084084,    0.085085,    0.086086,    0.087087,    0.088088,    0.089089,     0.09009,    0.091091,    0.092092,    0.093093,    0.094094,    0.095095,\n",
       "          0.096096,    0.097097,    0.098098,    0.099099,      0.1001,      0.1011,      0.1021,      0.1031,      0.1041,     0.10511,     0.10611,     0.10711,     0.10811,     0.10911,     0.11011,     0.11111,     0.11211,     0.11311,     0.11411,     0.11512,     0.11612,     0.11712,     0.11812,     0.11912,\n",
       "           0.12012,     0.12112,     0.12212,     0.12312,     0.12412,     0.12513,     0.12613,     0.12713,     0.12813,     0.12913,     0.13013,     0.13113,     0.13213,     0.13313,     0.13413,     0.13514,     0.13614,     0.13714,     0.13814,     0.13914,     0.14014,     0.14114,     0.14214,     0.14314,\n",
       "           0.14414,     0.14515,     0.14615,     0.14715,     0.14815,     0.14915,     0.15015,     0.15115,     0.15215,     0.15315,     0.15415,     0.15516,     0.15616,     0.15716,     0.15816,     0.15916,     0.16016,     0.16116,     0.16216,     0.16316,     0.16416,     0.16517,     0.16617,     0.16717,\n",
       "           0.16817,     0.16917,     0.17017,     0.17117,     0.17217,     0.17317,     0.17417,     0.17518,     0.17618,     0.17718,     0.17818,     0.17918,     0.18018,     0.18118,     0.18218,     0.18318,     0.18418,     0.18519,     0.18619,     0.18719,     0.18819,     0.18919,     0.19019,     0.19119,\n",
       "           0.19219,     0.19319,     0.19419,      0.1952,      0.1962,      0.1972,      0.1982,      0.1992,      0.2002,      0.2012,      0.2022,      0.2032,      0.2042,     0.20521,     0.20621,     0.20721,     0.20821,     0.20921,     0.21021,     0.21121,     0.21221,     0.21321,     0.21421,     0.21522,\n",
       "           0.21622,     0.21722,     0.21822,     0.21922,     0.22022,     0.22122,     0.22222,     0.22322,     0.22422,     0.22523,     0.22623,     0.22723,     0.22823,     0.22923,     0.23023,     0.23123,     0.23223,     0.23323,     0.23423,     0.23524,     0.23624,     0.23724,     0.23824,     0.23924,\n",
       "           0.24024,     0.24124,     0.24224,     0.24324,     0.24424,     0.24525,     0.24625,     0.24725,     0.24825,     0.24925,     0.25025,     0.25125,     0.25225,     0.25325,     0.25425,     0.25526,     0.25626,     0.25726,     0.25826,     0.25926,     0.26026,     0.26126,     0.26226,     0.26326,\n",
       "           0.26426,     0.26527,     0.26627,     0.26727,     0.26827,     0.26927,     0.27027,     0.27127,     0.27227,     0.27327,     0.27427,     0.27528,     0.27628,     0.27728,     0.27828,     0.27928,     0.28028,     0.28128,     0.28228,     0.28328,     0.28428,     0.28529,     0.28629,     0.28729,\n",
       "           0.28829,     0.28929,     0.29029,     0.29129,     0.29229,     0.29329,     0.29429,      0.2953,      0.2963,      0.2973,      0.2983,      0.2993,      0.3003,      0.3013,      0.3023,      0.3033,      0.3043,     0.30531,     0.30631,     0.30731,     0.30831,     0.30931,     0.31031,     0.31131,\n",
       "           0.31231,     0.31331,     0.31431,     0.31532,     0.31632,     0.31732,     0.31832,     0.31932,     0.32032,     0.32132,     0.32232,     0.32332,     0.32432,     0.32533,     0.32633,     0.32733,     0.32833,     0.32933,     0.33033,     0.33133,     0.33233,     0.33333,     0.33433,     0.33534,\n",
       "           0.33634,     0.33734,     0.33834,     0.33934,     0.34034,     0.34134,     0.34234,     0.34334,     0.34434,     0.34535,     0.34635,     0.34735,     0.34835,     0.34935,     0.35035,     0.35135,     0.35235,     0.35335,     0.35435,     0.35536,     0.35636,     0.35736,     0.35836,     0.35936,\n",
       "           0.36036,     0.36136,     0.36236,     0.36336,     0.36436,     0.36537,     0.36637,     0.36737,     0.36837,     0.36937,     0.37037,     0.37137,     0.37237,     0.37337,     0.37437,     0.37538,     0.37638,     0.37738,     0.37838,     0.37938,     0.38038,     0.38138,     0.38238,     0.38338,\n",
       "           0.38438,     0.38539,     0.38639,     0.38739,     0.38839,     0.38939,     0.39039,     0.39139,     0.39239,     0.39339,     0.39439,      0.3954,      0.3964,      0.3974,      0.3984,      0.3994,      0.4004,      0.4014,      0.4024,      0.4034,      0.4044,     0.40541,     0.40641,     0.40741,\n",
       "           0.40841,     0.40941,     0.41041,     0.41141,     0.41241,     0.41341,     0.41441,     0.41542,     0.41642,     0.41742,     0.41842,     0.41942,     0.42042,     0.42142,     0.42242,     0.42342,     0.42442,     0.42543,     0.42643,     0.42743,     0.42843,     0.42943,     0.43043,     0.43143,\n",
       "           0.43243,     0.43343,     0.43443,     0.43544,     0.43644,     0.43744,     0.43844,     0.43944,     0.44044,     0.44144,     0.44244,     0.44344,     0.44444,     0.44545,     0.44645,     0.44745,     0.44845,     0.44945,     0.45045,     0.45145,     0.45245,     0.45345,     0.45445,     0.45546,\n",
       "           0.45646,     0.45746,     0.45846,     0.45946,     0.46046,     0.46146,     0.46246,     0.46346,     0.46446,     0.46547,     0.46647,     0.46747,     0.46847,     0.46947,     0.47047,     0.47147,     0.47247,     0.47347,     0.47447,     0.47548,     0.47648,     0.47748,     0.47848,     0.47948,\n",
       "           0.48048,     0.48148,     0.48248,     0.48348,     0.48448,     0.48549,     0.48649,     0.48749,     0.48849,     0.48949,     0.49049,     0.49149,     0.49249,     0.49349,     0.49449,      0.4955,      0.4965,      0.4975,      0.4985,      0.4995,      0.5005,      0.5015,      0.5025,      0.5035,\n",
       "            0.5045,     0.50551,     0.50651,     0.50751,     0.50851,     0.50951,     0.51051,     0.51151,     0.51251,     0.51351,     0.51451,     0.51552,     0.51652,     0.51752,     0.51852,     0.51952,     0.52052,     0.52152,     0.52252,     0.52352,     0.52452,     0.52553,     0.52653,     0.52753,\n",
       "           0.52853,     0.52953,     0.53053,     0.53153,     0.53253,     0.53353,     0.53453,     0.53554,     0.53654,     0.53754,     0.53854,     0.53954,     0.54054,     0.54154,     0.54254,     0.54354,     0.54454,     0.54555,     0.54655,     0.54755,     0.54855,     0.54955,     0.55055,     0.55155,\n",
       "           0.55255,     0.55355,     0.55455,     0.55556,     0.55656,     0.55756,     0.55856,     0.55956,     0.56056,     0.56156,     0.56256,     0.56356,     0.56456,     0.56557,     0.56657,     0.56757,     0.56857,     0.56957,     0.57057,     0.57157,     0.57257,     0.57357,     0.57457,     0.57558,\n",
       "           0.57658,     0.57758,     0.57858,     0.57958,     0.58058,     0.58158,     0.58258,     0.58358,     0.58458,     0.58559,     0.58659,     0.58759,     0.58859,     0.58959,     0.59059,     0.59159,     0.59259,     0.59359,     0.59459,      0.5956,      0.5966,      0.5976,      0.5986,      0.5996,\n",
       "            0.6006,      0.6016,      0.6026,      0.6036,      0.6046,     0.60561,     0.60661,     0.60761,     0.60861,     0.60961,     0.61061,     0.61161,     0.61261,     0.61361,     0.61461,     0.61562,     0.61662,     0.61762,     0.61862,     0.61962,     0.62062,     0.62162,     0.62262,     0.62362,\n",
       "           0.62462,     0.62563,     0.62663,     0.62763,     0.62863,     0.62963,     0.63063,     0.63163,     0.63263,     0.63363,     0.63463,     0.63564,     0.63664,     0.63764,     0.63864,     0.63964,     0.64064,     0.64164,     0.64264,     0.64364,     0.64464,     0.64565,     0.64665,     0.64765,\n",
       "           0.64865,     0.64965,     0.65065,     0.65165,     0.65265,     0.65365,     0.65465,     0.65566,     0.65666,     0.65766,     0.65866,     0.65966,     0.66066,     0.66166,     0.66266,     0.66366,     0.66466,     0.66567,     0.66667,     0.66767,     0.66867,     0.66967,     0.67067,     0.67167,\n",
       "           0.67267,     0.67367,     0.67467,     0.67568,     0.67668,     0.67768,     0.67868,     0.67968,     0.68068,     0.68168,     0.68268,     0.68368,     0.68468,     0.68569,     0.68669,     0.68769,     0.68869,     0.68969,     0.69069,     0.69169,     0.69269,     0.69369,     0.69469,      0.6957,\n",
       "            0.6967,      0.6977,      0.6987,      0.6997,      0.7007,      0.7017,      0.7027,      0.7037,      0.7047,     0.70571,     0.70671,     0.70771,     0.70871,     0.70971,     0.71071,     0.71171,     0.71271,     0.71371,     0.71471,     0.71572,     0.71672,     0.71772,     0.71872,     0.71972,\n",
       "           0.72072,     0.72172,     0.72272,     0.72372,     0.72472,     0.72573,     0.72673,     0.72773,     0.72873,     0.72973,     0.73073,     0.73173,     0.73273,     0.73373,     0.73473,     0.73574,     0.73674,     0.73774,     0.73874,     0.73974,     0.74074,     0.74174,     0.74274,     0.74374,\n",
       "           0.74474,     0.74575,     0.74675,     0.74775,     0.74875,     0.74975,     0.75075,     0.75175,     0.75275,     0.75375,     0.75475,     0.75576,     0.75676,     0.75776,     0.75876,     0.75976,     0.76076,     0.76176,     0.76276,     0.76376,     0.76476,     0.76577,     0.76677,     0.76777,\n",
       "           0.76877,     0.76977,     0.77077,     0.77177,     0.77277,     0.77377,     0.77477,     0.77578,     0.77678,     0.77778,     0.77878,     0.77978,     0.78078,     0.78178,     0.78278,     0.78378,     0.78478,     0.78579,     0.78679,     0.78779,     0.78879,     0.78979,     0.79079,     0.79179,\n",
       "           0.79279,     0.79379,     0.79479,      0.7958,      0.7968,      0.7978,      0.7988,      0.7998,      0.8008,      0.8018,      0.8028,      0.8038,      0.8048,     0.80581,     0.80681,     0.80781,     0.80881,     0.80981,     0.81081,     0.81181,     0.81281,     0.81381,     0.81481,     0.81582,\n",
       "           0.81682,     0.81782,     0.81882,     0.81982,     0.82082,     0.82182,     0.82282,     0.82382,     0.82482,     0.82583,     0.82683,     0.82783,     0.82883,     0.82983,     0.83083,     0.83183,     0.83283,     0.83383,     0.83483,     0.83584,     0.83684,     0.83784,     0.83884,     0.83984,\n",
       "           0.84084,     0.84184,     0.84284,     0.84384,     0.84484,     0.84585,     0.84685,     0.84785,     0.84885,     0.84985,     0.85085,     0.85185,     0.85285,     0.85385,     0.85485,     0.85586,     0.85686,     0.85786,     0.85886,     0.85986,     0.86086,     0.86186,     0.86286,     0.86386,\n",
       "           0.86486,     0.86587,     0.86687,     0.86787,     0.86887,     0.86987,     0.87087,     0.87187,     0.87287,     0.87387,     0.87487,     0.87588,     0.87688,     0.87788,     0.87888,     0.87988,     0.88088,     0.88188,     0.88288,     0.88388,     0.88488,     0.88589,     0.88689,     0.88789,\n",
       "           0.88889,     0.88989,     0.89089,     0.89189,     0.89289,     0.89389,     0.89489,      0.8959,      0.8969,      0.8979,      0.8989,      0.8999,      0.9009,      0.9019,      0.9029,      0.9039,      0.9049,     0.90591,     0.90691,     0.90791,     0.90891,     0.90991,     0.91091,     0.91191,\n",
       "           0.91291,     0.91391,     0.91491,     0.91592,     0.91692,     0.91792,     0.91892,     0.91992,     0.92092,     0.92192,     0.92292,     0.92392,     0.92492,     0.92593,     0.92693,     0.92793,     0.92893,     0.92993,     0.93093,     0.93193,     0.93293,     0.93393,     0.93493,     0.93594,\n",
       "           0.93694,     0.93794,     0.93894,     0.93994,     0.94094,     0.94194,     0.94294,     0.94394,     0.94494,     0.94595,     0.94695,     0.94795,     0.94895,     0.94995,     0.95095,     0.95195,     0.95295,     0.95395,     0.95495,     0.95596,     0.95696,     0.95796,     0.95896,     0.95996,\n",
       "           0.96096,     0.96196,     0.96296,     0.96396,     0.96496,     0.96597,     0.96697,     0.96797,     0.96897,     0.96997,     0.97097,     0.97197,     0.97297,     0.97397,     0.97497,     0.97598,     0.97698,     0.97798,     0.97898,     0.97998,     0.98098,     0.98198,     0.98298,     0.98398,\n",
       "           0.98498,     0.98599,     0.98699,     0.98799,     0.98899,     0.98999,     0.99099,     0.99199,     0.99299,     0.99399,     0.99499,       0.996,       0.997,       0.998,       0.999,           1]), array([[          1,           1,           1, ...,    0.001493,   0.0007465,           0],\n",
       "       [          1,           1,           1, ...,   0.0039617,   0.0019809,           0],\n",
       "       [          1,           1,           1, ...,           1,           1,           0],\n",
       "       [          1,           1,           1, ...,   0.0015905,  0.00079527,           0]], shape=(4, 1000)), 'Recall', 'Precision'], [array([          0,    0.001001,    0.002002,    0.003003,    0.004004,    0.005005,    0.006006,    0.007007,    0.008008,    0.009009,     0.01001,    0.011011,    0.012012,    0.013013,    0.014014,    0.015015,    0.016016,    0.017017,    0.018018,    0.019019,     0.02002,    0.021021,    0.022022,    0.023023,\n",
       "          0.024024,    0.025025,    0.026026,    0.027027,    0.028028,    0.029029,     0.03003,    0.031031,    0.032032,    0.033033,    0.034034,    0.035035,    0.036036,    0.037037,    0.038038,    0.039039,     0.04004,    0.041041,    0.042042,    0.043043,    0.044044,    0.045045,    0.046046,    0.047047,\n",
       "          0.048048,    0.049049,     0.05005,    0.051051,    0.052052,    0.053053,    0.054054,    0.055055,    0.056056,    0.057057,    0.058058,    0.059059,     0.06006,    0.061061,    0.062062,    0.063063,    0.064064,    0.065065,    0.066066,    0.067067,    0.068068,    0.069069,     0.07007,    0.071071,\n",
       "          0.072072,    0.073073,    0.074074,    0.075075,    0.076076,    0.077077,    0.078078,    0.079079,     0.08008,    0.081081,    0.082082,    0.083083,    0.084084,    0.085085,    0.086086,    0.087087,    0.088088,    0.089089,     0.09009,    0.091091,    0.092092,    0.093093,    0.094094,    0.095095,\n",
       "          0.096096,    0.097097,    0.098098,    0.099099,      0.1001,      0.1011,      0.1021,      0.1031,      0.1041,     0.10511,     0.10611,     0.10711,     0.10811,     0.10911,     0.11011,     0.11111,     0.11211,     0.11311,     0.11411,     0.11512,     0.11612,     0.11712,     0.11812,     0.11912,\n",
       "           0.12012,     0.12112,     0.12212,     0.12312,     0.12412,     0.12513,     0.12613,     0.12713,     0.12813,     0.12913,     0.13013,     0.13113,     0.13213,     0.13313,     0.13413,     0.13514,     0.13614,     0.13714,     0.13814,     0.13914,     0.14014,     0.14114,     0.14214,     0.14314,\n",
       "           0.14414,     0.14515,     0.14615,     0.14715,     0.14815,     0.14915,     0.15015,     0.15115,     0.15215,     0.15315,     0.15415,     0.15516,     0.15616,     0.15716,     0.15816,     0.15916,     0.16016,     0.16116,     0.16216,     0.16316,     0.16416,     0.16517,     0.16617,     0.16717,\n",
       "           0.16817,     0.16917,     0.17017,     0.17117,     0.17217,     0.17317,     0.17417,     0.17518,     0.17618,     0.17718,     0.17818,     0.17918,     0.18018,     0.18118,     0.18218,     0.18318,     0.18418,     0.18519,     0.18619,     0.18719,     0.18819,     0.18919,     0.19019,     0.19119,\n",
       "           0.19219,     0.19319,     0.19419,      0.1952,      0.1962,      0.1972,      0.1982,      0.1992,      0.2002,      0.2012,      0.2022,      0.2032,      0.2042,     0.20521,     0.20621,     0.20721,     0.20821,     0.20921,     0.21021,     0.21121,     0.21221,     0.21321,     0.21421,     0.21522,\n",
       "           0.21622,     0.21722,     0.21822,     0.21922,     0.22022,     0.22122,     0.22222,     0.22322,     0.22422,     0.22523,     0.22623,     0.22723,     0.22823,     0.22923,     0.23023,     0.23123,     0.23223,     0.23323,     0.23423,     0.23524,     0.23624,     0.23724,     0.23824,     0.23924,\n",
       "           0.24024,     0.24124,     0.24224,     0.24324,     0.24424,     0.24525,     0.24625,     0.24725,     0.24825,     0.24925,     0.25025,     0.25125,     0.25225,     0.25325,     0.25425,     0.25526,     0.25626,     0.25726,     0.25826,     0.25926,     0.26026,     0.26126,     0.26226,     0.26326,\n",
       "           0.26426,     0.26527,     0.26627,     0.26727,     0.26827,     0.26927,     0.27027,     0.27127,     0.27227,     0.27327,     0.27427,     0.27528,     0.27628,     0.27728,     0.27828,     0.27928,     0.28028,     0.28128,     0.28228,     0.28328,     0.28428,     0.28529,     0.28629,     0.28729,\n",
       "           0.28829,     0.28929,     0.29029,     0.29129,     0.29229,     0.29329,     0.29429,      0.2953,      0.2963,      0.2973,      0.2983,      0.2993,      0.3003,      0.3013,      0.3023,      0.3033,      0.3043,     0.30531,     0.30631,     0.30731,     0.30831,     0.30931,     0.31031,     0.31131,\n",
       "           0.31231,     0.31331,     0.31431,     0.31532,     0.31632,     0.31732,     0.31832,     0.31932,     0.32032,     0.32132,     0.32232,     0.32332,     0.32432,     0.32533,     0.32633,     0.32733,     0.32833,     0.32933,     0.33033,     0.33133,     0.33233,     0.33333,     0.33433,     0.33534,\n",
       "           0.33634,     0.33734,     0.33834,     0.33934,     0.34034,     0.34134,     0.34234,     0.34334,     0.34434,     0.34535,     0.34635,     0.34735,     0.34835,     0.34935,     0.35035,     0.35135,     0.35235,     0.35335,     0.35435,     0.35536,     0.35636,     0.35736,     0.35836,     0.35936,\n",
       "           0.36036,     0.36136,     0.36236,     0.36336,     0.36436,     0.36537,     0.36637,     0.36737,     0.36837,     0.36937,     0.37037,     0.37137,     0.37237,     0.37337,     0.37437,     0.37538,     0.37638,     0.37738,     0.37838,     0.37938,     0.38038,     0.38138,     0.38238,     0.38338,\n",
       "           0.38438,     0.38539,     0.38639,     0.38739,     0.38839,     0.38939,     0.39039,     0.39139,     0.39239,     0.39339,     0.39439,      0.3954,      0.3964,      0.3974,      0.3984,      0.3994,      0.4004,      0.4014,      0.4024,      0.4034,      0.4044,     0.40541,     0.40641,     0.40741,\n",
       "           0.40841,     0.40941,     0.41041,     0.41141,     0.41241,     0.41341,     0.41441,     0.41542,     0.41642,     0.41742,     0.41842,     0.41942,     0.42042,     0.42142,     0.42242,     0.42342,     0.42442,     0.42543,     0.42643,     0.42743,     0.42843,     0.42943,     0.43043,     0.43143,\n",
       "           0.43243,     0.43343,     0.43443,     0.43544,     0.43644,     0.43744,     0.43844,     0.43944,     0.44044,     0.44144,     0.44244,     0.44344,     0.44444,     0.44545,     0.44645,     0.44745,     0.44845,     0.44945,     0.45045,     0.45145,     0.45245,     0.45345,     0.45445,     0.45546,\n",
       "           0.45646,     0.45746,     0.45846,     0.45946,     0.46046,     0.46146,     0.46246,     0.46346,     0.46446,     0.46547,     0.46647,     0.46747,     0.46847,     0.46947,     0.47047,     0.47147,     0.47247,     0.47347,     0.47447,     0.47548,     0.47648,     0.47748,     0.47848,     0.47948,\n",
       "           0.48048,     0.48148,     0.48248,     0.48348,     0.48448,     0.48549,     0.48649,     0.48749,     0.48849,     0.48949,     0.49049,     0.49149,     0.49249,     0.49349,     0.49449,      0.4955,      0.4965,      0.4975,      0.4985,      0.4995,      0.5005,      0.5015,      0.5025,      0.5035,\n",
       "            0.5045,     0.50551,     0.50651,     0.50751,     0.50851,     0.50951,     0.51051,     0.51151,     0.51251,     0.51351,     0.51451,     0.51552,     0.51652,     0.51752,     0.51852,     0.51952,     0.52052,     0.52152,     0.52252,     0.52352,     0.52452,     0.52553,     0.52653,     0.52753,\n",
       "           0.52853,     0.52953,     0.53053,     0.53153,     0.53253,     0.53353,     0.53453,     0.53554,     0.53654,     0.53754,     0.53854,     0.53954,     0.54054,     0.54154,     0.54254,     0.54354,     0.54454,     0.54555,     0.54655,     0.54755,     0.54855,     0.54955,     0.55055,     0.55155,\n",
       "           0.55255,     0.55355,     0.55455,     0.55556,     0.55656,     0.55756,     0.55856,     0.55956,     0.56056,     0.56156,     0.56256,     0.56356,     0.56456,     0.56557,     0.56657,     0.56757,     0.56857,     0.56957,     0.57057,     0.57157,     0.57257,     0.57357,     0.57457,     0.57558,\n",
       "           0.57658,     0.57758,     0.57858,     0.57958,     0.58058,     0.58158,     0.58258,     0.58358,     0.58458,     0.58559,     0.58659,     0.58759,     0.58859,     0.58959,     0.59059,     0.59159,     0.59259,     0.59359,     0.59459,      0.5956,      0.5966,      0.5976,      0.5986,      0.5996,\n",
       "            0.6006,      0.6016,      0.6026,      0.6036,      0.6046,     0.60561,     0.60661,     0.60761,     0.60861,     0.60961,     0.61061,     0.61161,     0.61261,     0.61361,     0.61461,     0.61562,     0.61662,     0.61762,     0.61862,     0.61962,     0.62062,     0.62162,     0.62262,     0.62362,\n",
       "           0.62462,     0.62563,     0.62663,     0.62763,     0.62863,     0.62963,     0.63063,     0.63163,     0.63263,     0.63363,     0.63463,     0.63564,     0.63664,     0.63764,     0.63864,     0.63964,     0.64064,     0.64164,     0.64264,     0.64364,     0.64464,     0.64565,     0.64665,     0.64765,\n",
       "           0.64865,     0.64965,     0.65065,     0.65165,     0.65265,     0.65365,     0.65465,     0.65566,     0.65666,     0.65766,     0.65866,     0.65966,     0.66066,     0.66166,     0.66266,     0.66366,     0.66466,     0.66567,     0.66667,     0.66767,     0.66867,     0.66967,     0.67067,     0.67167,\n",
       "           0.67267,     0.67367,     0.67467,     0.67568,     0.67668,     0.67768,     0.67868,     0.67968,     0.68068,     0.68168,     0.68268,     0.68368,     0.68468,     0.68569,     0.68669,     0.68769,     0.68869,     0.68969,     0.69069,     0.69169,     0.69269,     0.69369,     0.69469,      0.6957,\n",
       "            0.6967,      0.6977,      0.6987,      0.6997,      0.7007,      0.7017,      0.7027,      0.7037,      0.7047,     0.70571,     0.70671,     0.70771,     0.70871,     0.70971,     0.71071,     0.71171,     0.71271,     0.71371,     0.71471,     0.71572,     0.71672,     0.71772,     0.71872,     0.71972,\n",
       "           0.72072,     0.72172,     0.72272,     0.72372,     0.72472,     0.72573,     0.72673,     0.72773,     0.72873,     0.72973,     0.73073,     0.73173,     0.73273,     0.73373,     0.73473,     0.73574,     0.73674,     0.73774,     0.73874,     0.73974,     0.74074,     0.74174,     0.74274,     0.74374,\n",
       "           0.74474,     0.74575,     0.74675,     0.74775,     0.74875,     0.74975,     0.75075,     0.75175,     0.75275,     0.75375,     0.75475,     0.75576,     0.75676,     0.75776,     0.75876,     0.75976,     0.76076,     0.76176,     0.76276,     0.76376,     0.76476,     0.76577,     0.76677,     0.76777,\n",
       "           0.76877,     0.76977,     0.77077,     0.77177,     0.77277,     0.77377,     0.77477,     0.77578,     0.77678,     0.77778,     0.77878,     0.77978,     0.78078,     0.78178,     0.78278,     0.78378,     0.78478,     0.78579,     0.78679,     0.78779,     0.78879,     0.78979,     0.79079,     0.79179,\n",
       "           0.79279,     0.79379,     0.79479,      0.7958,      0.7968,      0.7978,      0.7988,      0.7998,      0.8008,      0.8018,      0.8028,      0.8038,      0.8048,     0.80581,     0.80681,     0.80781,     0.80881,     0.80981,     0.81081,     0.81181,     0.81281,     0.81381,     0.81481,     0.81582,\n",
       "           0.81682,     0.81782,     0.81882,     0.81982,     0.82082,     0.82182,     0.82282,     0.82382,     0.82482,     0.82583,     0.82683,     0.82783,     0.82883,     0.82983,     0.83083,     0.83183,     0.83283,     0.83383,     0.83483,     0.83584,     0.83684,     0.83784,     0.83884,     0.83984,\n",
       "           0.84084,     0.84184,     0.84284,     0.84384,     0.84484,     0.84585,     0.84685,     0.84785,     0.84885,     0.84985,     0.85085,     0.85185,     0.85285,     0.85385,     0.85485,     0.85586,     0.85686,     0.85786,     0.85886,     0.85986,     0.86086,     0.86186,     0.86286,     0.86386,\n",
       "           0.86486,     0.86587,     0.86687,     0.86787,     0.86887,     0.86987,     0.87087,     0.87187,     0.87287,     0.87387,     0.87487,     0.87588,     0.87688,     0.87788,     0.87888,     0.87988,     0.88088,     0.88188,     0.88288,     0.88388,     0.88488,     0.88589,     0.88689,     0.88789,\n",
       "           0.88889,     0.88989,     0.89089,     0.89189,     0.89289,     0.89389,     0.89489,      0.8959,      0.8969,      0.8979,      0.8989,      0.8999,      0.9009,      0.9019,      0.9029,      0.9039,      0.9049,     0.90591,     0.90691,     0.90791,     0.90891,     0.90991,     0.91091,     0.91191,\n",
       "           0.91291,     0.91391,     0.91491,     0.91592,     0.91692,     0.91792,     0.91892,     0.91992,     0.92092,     0.92192,     0.92292,     0.92392,     0.92492,     0.92593,     0.92693,     0.92793,     0.92893,     0.92993,     0.93093,     0.93193,     0.93293,     0.93393,     0.93493,     0.93594,\n",
       "           0.93694,     0.93794,     0.93894,     0.93994,     0.94094,     0.94194,     0.94294,     0.94394,     0.94494,     0.94595,     0.94695,     0.94795,     0.94895,     0.94995,     0.95095,     0.95195,     0.95295,     0.95395,     0.95495,     0.95596,     0.95696,     0.95796,     0.95896,     0.95996,\n",
       "           0.96096,     0.96196,     0.96296,     0.96396,     0.96496,     0.96597,     0.96697,     0.96797,     0.96897,     0.96997,     0.97097,     0.97197,     0.97297,     0.97397,     0.97497,     0.97598,     0.97698,     0.97798,     0.97898,     0.97998,     0.98098,     0.98198,     0.98298,     0.98398,\n",
       "           0.98498,     0.98599,     0.98699,     0.98799,     0.98899,     0.98999,     0.99099,     0.99199,     0.99299,     0.99399,     0.99499,       0.996,       0.997,       0.998,       0.999,           1]), array([[    0.11708,     0.11708,     0.11708, ...,           0,           0,           0],\n",
       "       [    0.12747,     0.12747,     0.12747, ...,           0,           0,           0],\n",
       "       [    0.91579,     0.91579,     0.91579, ...,           0,           0,           0],\n",
       "       [    0.22735,     0.22735,     0.22735, ...,           0,           0,           0]], shape=(4, 1000)), 'Confidence', 'F1'], [array([          0,    0.001001,    0.002002,    0.003003,    0.004004,    0.005005,    0.006006,    0.007007,    0.008008,    0.009009,     0.01001,    0.011011,    0.012012,    0.013013,    0.014014,    0.015015,    0.016016,    0.017017,    0.018018,    0.019019,     0.02002,    0.021021,    0.022022,    0.023023,\n",
       "          0.024024,    0.025025,    0.026026,    0.027027,    0.028028,    0.029029,     0.03003,    0.031031,    0.032032,    0.033033,    0.034034,    0.035035,    0.036036,    0.037037,    0.038038,    0.039039,     0.04004,    0.041041,    0.042042,    0.043043,    0.044044,    0.045045,    0.046046,    0.047047,\n",
       "          0.048048,    0.049049,     0.05005,    0.051051,    0.052052,    0.053053,    0.054054,    0.055055,    0.056056,    0.057057,    0.058058,    0.059059,     0.06006,    0.061061,    0.062062,    0.063063,    0.064064,    0.065065,    0.066066,    0.067067,    0.068068,    0.069069,     0.07007,    0.071071,\n",
       "          0.072072,    0.073073,    0.074074,    0.075075,    0.076076,    0.077077,    0.078078,    0.079079,     0.08008,    0.081081,    0.082082,    0.083083,    0.084084,    0.085085,    0.086086,    0.087087,    0.088088,    0.089089,     0.09009,    0.091091,    0.092092,    0.093093,    0.094094,    0.095095,\n",
       "          0.096096,    0.097097,    0.098098,    0.099099,      0.1001,      0.1011,      0.1021,      0.1031,      0.1041,     0.10511,     0.10611,     0.10711,     0.10811,     0.10911,     0.11011,     0.11111,     0.11211,     0.11311,     0.11411,     0.11512,     0.11612,     0.11712,     0.11812,     0.11912,\n",
       "           0.12012,     0.12112,     0.12212,     0.12312,     0.12412,     0.12513,     0.12613,     0.12713,     0.12813,     0.12913,     0.13013,     0.13113,     0.13213,     0.13313,     0.13413,     0.13514,     0.13614,     0.13714,     0.13814,     0.13914,     0.14014,     0.14114,     0.14214,     0.14314,\n",
       "           0.14414,     0.14515,     0.14615,     0.14715,     0.14815,     0.14915,     0.15015,     0.15115,     0.15215,     0.15315,     0.15415,     0.15516,     0.15616,     0.15716,     0.15816,     0.15916,     0.16016,     0.16116,     0.16216,     0.16316,     0.16416,     0.16517,     0.16617,     0.16717,\n",
       "           0.16817,     0.16917,     0.17017,     0.17117,     0.17217,     0.17317,     0.17417,     0.17518,     0.17618,     0.17718,     0.17818,     0.17918,     0.18018,     0.18118,     0.18218,     0.18318,     0.18418,     0.18519,     0.18619,     0.18719,     0.18819,     0.18919,     0.19019,     0.19119,\n",
       "           0.19219,     0.19319,     0.19419,      0.1952,      0.1962,      0.1972,      0.1982,      0.1992,      0.2002,      0.2012,      0.2022,      0.2032,      0.2042,     0.20521,     0.20621,     0.20721,     0.20821,     0.20921,     0.21021,     0.21121,     0.21221,     0.21321,     0.21421,     0.21522,\n",
       "           0.21622,     0.21722,     0.21822,     0.21922,     0.22022,     0.22122,     0.22222,     0.22322,     0.22422,     0.22523,     0.22623,     0.22723,     0.22823,     0.22923,     0.23023,     0.23123,     0.23223,     0.23323,     0.23423,     0.23524,     0.23624,     0.23724,     0.23824,     0.23924,\n",
       "           0.24024,     0.24124,     0.24224,     0.24324,     0.24424,     0.24525,     0.24625,     0.24725,     0.24825,     0.24925,     0.25025,     0.25125,     0.25225,     0.25325,     0.25425,     0.25526,     0.25626,     0.25726,     0.25826,     0.25926,     0.26026,     0.26126,     0.26226,     0.26326,\n",
       "           0.26426,     0.26527,     0.26627,     0.26727,     0.26827,     0.26927,     0.27027,     0.27127,     0.27227,     0.27327,     0.27427,     0.27528,     0.27628,     0.27728,     0.27828,     0.27928,     0.28028,     0.28128,     0.28228,     0.28328,     0.28428,     0.28529,     0.28629,     0.28729,\n",
       "           0.28829,     0.28929,     0.29029,     0.29129,     0.29229,     0.29329,     0.29429,      0.2953,      0.2963,      0.2973,      0.2983,      0.2993,      0.3003,      0.3013,      0.3023,      0.3033,      0.3043,     0.30531,     0.30631,     0.30731,     0.30831,     0.30931,     0.31031,     0.31131,\n",
       "           0.31231,     0.31331,     0.31431,     0.31532,     0.31632,     0.31732,     0.31832,     0.31932,     0.32032,     0.32132,     0.32232,     0.32332,     0.32432,     0.32533,     0.32633,     0.32733,     0.32833,     0.32933,     0.33033,     0.33133,     0.33233,     0.33333,     0.33433,     0.33534,\n",
       "           0.33634,     0.33734,     0.33834,     0.33934,     0.34034,     0.34134,     0.34234,     0.34334,     0.34434,     0.34535,     0.34635,     0.34735,     0.34835,     0.34935,     0.35035,     0.35135,     0.35235,     0.35335,     0.35435,     0.35536,     0.35636,     0.35736,     0.35836,     0.35936,\n",
       "           0.36036,     0.36136,     0.36236,     0.36336,     0.36436,     0.36537,     0.36637,     0.36737,     0.36837,     0.36937,     0.37037,     0.37137,     0.37237,     0.37337,     0.37437,     0.37538,     0.37638,     0.37738,     0.37838,     0.37938,     0.38038,     0.38138,     0.38238,     0.38338,\n",
       "           0.38438,     0.38539,     0.38639,     0.38739,     0.38839,     0.38939,     0.39039,     0.39139,     0.39239,     0.39339,     0.39439,      0.3954,      0.3964,      0.3974,      0.3984,      0.3994,      0.4004,      0.4014,      0.4024,      0.4034,      0.4044,     0.40541,     0.40641,     0.40741,\n",
       "           0.40841,     0.40941,     0.41041,     0.41141,     0.41241,     0.41341,     0.41441,     0.41542,     0.41642,     0.41742,     0.41842,     0.41942,     0.42042,     0.42142,     0.42242,     0.42342,     0.42442,     0.42543,     0.42643,     0.42743,     0.42843,     0.42943,     0.43043,     0.43143,\n",
       "           0.43243,     0.43343,     0.43443,     0.43544,     0.43644,     0.43744,     0.43844,     0.43944,     0.44044,     0.44144,     0.44244,     0.44344,     0.44444,     0.44545,     0.44645,     0.44745,     0.44845,     0.44945,     0.45045,     0.45145,     0.45245,     0.45345,     0.45445,     0.45546,\n",
       "           0.45646,     0.45746,     0.45846,     0.45946,     0.46046,     0.46146,     0.46246,     0.46346,     0.46446,     0.46547,     0.46647,     0.46747,     0.46847,     0.46947,     0.47047,     0.47147,     0.47247,     0.47347,     0.47447,     0.47548,     0.47648,     0.47748,     0.47848,     0.47948,\n",
       "           0.48048,     0.48148,     0.48248,     0.48348,     0.48448,     0.48549,     0.48649,     0.48749,     0.48849,     0.48949,     0.49049,     0.49149,     0.49249,     0.49349,     0.49449,      0.4955,      0.4965,      0.4975,      0.4985,      0.4995,      0.5005,      0.5015,      0.5025,      0.5035,\n",
       "            0.5045,     0.50551,     0.50651,     0.50751,     0.50851,     0.50951,     0.51051,     0.51151,     0.51251,     0.51351,     0.51451,     0.51552,     0.51652,     0.51752,     0.51852,     0.51952,     0.52052,     0.52152,     0.52252,     0.52352,     0.52452,     0.52553,     0.52653,     0.52753,\n",
       "           0.52853,     0.52953,     0.53053,     0.53153,     0.53253,     0.53353,     0.53453,     0.53554,     0.53654,     0.53754,     0.53854,     0.53954,     0.54054,     0.54154,     0.54254,     0.54354,     0.54454,     0.54555,     0.54655,     0.54755,     0.54855,     0.54955,     0.55055,     0.55155,\n",
       "           0.55255,     0.55355,     0.55455,     0.55556,     0.55656,     0.55756,     0.55856,     0.55956,     0.56056,     0.56156,     0.56256,     0.56356,     0.56456,     0.56557,     0.56657,     0.56757,     0.56857,     0.56957,     0.57057,     0.57157,     0.57257,     0.57357,     0.57457,     0.57558,\n",
       "           0.57658,     0.57758,     0.57858,     0.57958,     0.58058,     0.58158,     0.58258,     0.58358,     0.58458,     0.58559,     0.58659,     0.58759,     0.58859,     0.58959,     0.59059,     0.59159,     0.59259,     0.59359,     0.59459,      0.5956,      0.5966,      0.5976,      0.5986,      0.5996,\n",
       "            0.6006,      0.6016,      0.6026,      0.6036,      0.6046,     0.60561,     0.60661,     0.60761,     0.60861,     0.60961,     0.61061,     0.61161,     0.61261,     0.61361,     0.61461,     0.61562,     0.61662,     0.61762,     0.61862,     0.61962,     0.62062,     0.62162,     0.62262,     0.62362,\n",
       "           0.62462,     0.62563,     0.62663,     0.62763,     0.62863,     0.62963,     0.63063,     0.63163,     0.63263,     0.63363,     0.63463,     0.63564,     0.63664,     0.63764,     0.63864,     0.63964,     0.64064,     0.64164,     0.64264,     0.64364,     0.64464,     0.64565,     0.64665,     0.64765,\n",
       "           0.64865,     0.64965,     0.65065,     0.65165,     0.65265,     0.65365,     0.65465,     0.65566,     0.65666,     0.65766,     0.65866,     0.65966,     0.66066,     0.66166,     0.66266,     0.66366,     0.66466,     0.66567,     0.66667,     0.66767,     0.66867,     0.66967,     0.67067,     0.67167,\n",
       "           0.67267,     0.67367,     0.67467,     0.67568,     0.67668,     0.67768,     0.67868,     0.67968,     0.68068,     0.68168,     0.68268,     0.68368,     0.68468,     0.68569,     0.68669,     0.68769,     0.68869,     0.68969,     0.69069,     0.69169,     0.69269,     0.69369,     0.69469,      0.6957,\n",
       "            0.6967,      0.6977,      0.6987,      0.6997,      0.7007,      0.7017,      0.7027,      0.7037,      0.7047,     0.70571,     0.70671,     0.70771,     0.70871,     0.70971,     0.71071,     0.71171,     0.71271,     0.71371,     0.71471,     0.71572,     0.71672,     0.71772,     0.71872,     0.71972,\n",
       "           0.72072,     0.72172,     0.72272,     0.72372,     0.72472,     0.72573,     0.72673,     0.72773,     0.72873,     0.72973,     0.73073,     0.73173,     0.73273,     0.73373,     0.73473,     0.73574,     0.73674,     0.73774,     0.73874,     0.73974,     0.74074,     0.74174,     0.74274,     0.74374,\n",
       "           0.74474,     0.74575,     0.74675,     0.74775,     0.74875,     0.74975,     0.75075,     0.75175,     0.75275,     0.75375,     0.75475,     0.75576,     0.75676,     0.75776,     0.75876,     0.75976,     0.76076,     0.76176,     0.76276,     0.76376,     0.76476,     0.76577,     0.76677,     0.76777,\n",
       "           0.76877,     0.76977,     0.77077,     0.77177,     0.77277,     0.77377,     0.77477,     0.77578,     0.77678,     0.77778,     0.77878,     0.77978,     0.78078,     0.78178,     0.78278,     0.78378,     0.78478,     0.78579,     0.78679,     0.78779,     0.78879,     0.78979,     0.79079,     0.79179,\n",
       "           0.79279,     0.79379,     0.79479,      0.7958,      0.7968,      0.7978,      0.7988,      0.7998,      0.8008,      0.8018,      0.8028,      0.8038,      0.8048,     0.80581,     0.80681,     0.80781,     0.80881,     0.80981,     0.81081,     0.81181,     0.81281,     0.81381,     0.81481,     0.81582,\n",
       "           0.81682,     0.81782,     0.81882,     0.81982,     0.82082,     0.82182,     0.82282,     0.82382,     0.82482,     0.82583,     0.82683,     0.82783,     0.82883,     0.82983,     0.83083,     0.83183,     0.83283,     0.83383,     0.83483,     0.83584,     0.83684,     0.83784,     0.83884,     0.83984,\n",
       "           0.84084,     0.84184,     0.84284,     0.84384,     0.84484,     0.84585,     0.84685,     0.84785,     0.84885,     0.84985,     0.85085,     0.85185,     0.85285,     0.85385,     0.85485,     0.85586,     0.85686,     0.85786,     0.85886,     0.85986,     0.86086,     0.86186,     0.86286,     0.86386,\n",
       "           0.86486,     0.86587,     0.86687,     0.86787,     0.86887,     0.86987,     0.87087,     0.87187,     0.87287,     0.87387,     0.87487,     0.87588,     0.87688,     0.87788,     0.87888,     0.87988,     0.88088,     0.88188,     0.88288,     0.88388,     0.88488,     0.88589,     0.88689,     0.88789,\n",
       "           0.88889,     0.88989,     0.89089,     0.89189,     0.89289,     0.89389,     0.89489,      0.8959,      0.8969,      0.8979,      0.8989,      0.8999,      0.9009,      0.9019,      0.9029,      0.9039,      0.9049,     0.90591,     0.90691,     0.90791,     0.90891,     0.90991,     0.91091,     0.91191,\n",
       "           0.91291,     0.91391,     0.91491,     0.91592,     0.91692,     0.91792,     0.91892,     0.91992,     0.92092,     0.92192,     0.92292,     0.92392,     0.92492,     0.92593,     0.92693,     0.92793,     0.92893,     0.92993,     0.93093,     0.93193,     0.93293,     0.93393,     0.93493,     0.93594,\n",
       "           0.93694,     0.93794,     0.93894,     0.93994,     0.94094,     0.94194,     0.94294,     0.94394,     0.94494,     0.94595,     0.94695,     0.94795,     0.94895,     0.94995,     0.95095,     0.95195,     0.95295,     0.95395,     0.95495,     0.95596,     0.95696,     0.95796,     0.95896,     0.95996,\n",
       "           0.96096,     0.96196,     0.96296,     0.96396,     0.96496,     0.96597,     0.96697,     0.96797,     0.96897,     0.96997,     0.97097,     0.97197,     0.97297,     0.97397,     0.97497,     0.97598,     0.97698,     0.97798,     0.97898,     0.97998,     0.98098,     0.98198,     0.98298,     0.98398,\n",
       "           0.98498,     0.98599,     0.98699,     0.98799,     0.98899,     0.98999,     0.99099,     0.99199,     0.99299,     0.99399,     0.99499,       0.996,       0.997,       0.998,       0.999,           1]), array([[   0.062534,    0.062534,    0.062534, ...,           1,           1,           1],\n",
       "       [   0.068237,    0.068237,    0.068237, ...,           1,           1,           1],\n",
       "       [    0.84466,     0.84466,     0.84466, ...,           1,           1,           1],\n",
       "       [    0.13161,     0.13161,     0.13161, ...,           1,           1,           1]], shape=(4, 1000)), 'Confidence', 'Precision'], [array([          0,    0.001001,    0.002002,    0.003003,    0.004004,    0.005005,    0.006006,    0.007007,    0.008008,    0.009009,     0.01001,    0.011011,    0.012012,    0.013013,    0.014014,    0.015015,    0.016016,    0.017017,    0.018018,    0.019019,     0.02002,    0.021021,    0.022022,    0.023023,\n",
       "          0.024024,    0.025025,    0.026026,    0.027027,    0.028028,    0.029029,     0.03003,    0.031031,    0.032032,    0.033033,    0.034034,    0.035035,    0.036036,    0.037037,    0.038038,    0.039039,     0.04004,    0.041041,    0.042042,    0.043043,    0.044044,    0.045045,    0.046046,    0.047047,\n",
       "          0.048048,    0.049049,     0.05005,    0.051051,    0.052052,    0.053053,    0.054054,    0.055055,    0.056056,    0.057057,    0.058058,    0.059059,     0.06006,    0.061061,    0.062062,    0.063063,    0.064064,    0.065065,    0.066066,    0.067067,    0.068068,    0.069069,     0.07007,    0.071071,\n",
       "          0.072072,    0.073073,    0.074074,    0.075075,    0.076076,    0.077077,    0.078078,    0.079079,     0.08008,    0.081081,    0.082082,    0.083083,    0.084084,    0.085085,    0.086086,    0.087087,    0.088088,    0.089089,     0.09009,    0.091091,    0.092092,    0.093093,    0.094094,    0.095095,\n",
       "          0.096096,    0.097097,    0.098098,    0.099099,      0.1001,      0.1011,      0.1021,      0.1031,      0.1041,     0.10511,     0.10611,     0.10711,     0.10811,     0.10911,     0.11011,     0.11111,     0.11211,     0.11311,     0.11411,     0.11512,     0.11612,     0.11712,     0.11812,     0.11912,\n",
       "           0.12012,     0.12112,     0.12212,     0.12312,     0.12412,     0.12513,     0.12613,     0.12713,     0.12813,     0.12913,     0.13013,     0.13113,     0.13213,     0.13313,     0.13413,     0.13514,     0.13614,     0.13714,     0.13814,     0.13914,     0.14014,     0.14114,     0.14214,     0.14314,\n",
       "           0.14414,     0.14515,     0.14615,     0.14715,     0.14815,     0.14915,     0.15015,     0.15115,     0.15215,     0.15315,     0.15415,     0.15516,     0.15616,     0.15716,     0.15816,     0.15916,     0.16016,     0.16116,     0.16216,     0.16316,     0.16416,     0.16517,     0.16617,     0.16717,\n",
       "           0.16817,     0.16917,     0.17017,     0.17117,     0.17217,     0.17317,     0.17417,     0.17518,     0.17618,     0.17718,     0.17818,     0.17918,     0.18018,     0.18118,     0.18218,     0.18318,     0.18418,     0.18519,     0.18619,     0.18719,     0.18819,     0.18919,     0.19019,     0.19119,\n",
       "           0.19219,     0.19319,     0.19419,      0.1952,      0.1962,      0.1972,      0.1982,      0.1992,      0.2002,      0.2012,      0.2022,      0.2032,      0.2042,     0.20521,     0.20621,     0.20721,     0.20821,     0.20921,     0.21021,     0.21121,     0.21221,     0.21321,     0.21421,     0.21522,\n",
       "           0.21622,     0.21722,     0.21822,     0.21922,     0.22022,     0.22122,     0.22222,     0.22322,     0.22422,     0.22523,     0.22623,     0.22723,     0.22823,     0.22923,     0.23023,     0.23123,     0.23223,     0.23323,     0.23423,     0.23524,     0.23624,     0.23724,     0.23824,     0.23924,\n",
       "           0.24024,     0.24124,     0.24224,     0.24324,     0.24424,     0.24525,     0.24625,     0.24725,     0.24825,     0.24925,     0.25025,     0.25125,     0.25225,     0.25325,     0.25425,     0.25526,     0.25626,     0.25726,     0.25826,     0.25926,     0.26026,     0.26126,     0.26226,     0.26326,\n",
       "           0.26426,     0.26527,     0.26627,     0.26727,     0.26827,     0.26927,     0.27027,     0.27127,     0.27227,     0.27327,     0.27427,     0.27528,     0.27628,     0.27728,     0.27828,     0.27928,     0.28028,     0.28128,     0.28228,     0.28328,     0.28428,     0.28529,     0.28629,     0.28729,\n",
       "           0.28829,     0.28929,     0.29029,     0.29129,     0.29229,     0.29329,     0.29429,      0.2953,      0.2963,      0.2973,      0.2983,      0.2993,      0.3003,      0.3013,      0.3023,      0.3033,      0.3043,     0.30531,     0.30631,     0.30731,     0.30831,     0.30931,     0.31031,     0.31131,\n",
       "           0.31231,     0.31331,     0.31431,     0.31532,     0.31632,     0.31732,     0.31832,     0.31932,     0.32032,     0.32132,     0.32232,     0.32332,     0.32432,     0.32533,     0.32633,     0.32733,     0.32833,     0.32933,     0.33033,     0.33133,     0.33233,     0.33333,     0.33433,     0.33534,\n",
       "           0.33634,     0.33734,     0.33834,     0.33934,     0.34034,     0.34134,     0.34234,     0.34334,     0.34434,     0.34535,     0.34635,     0.34735,     0.34835,     0.34935,     0.35035,     0.35135,     0.35235,     0.35335,     0.35435,     0.35536,     0.35636,     0.35736,     0.35836,     0.35936,\n",
       "           0.36036,     0.36136,     0.36236,     0.36336,     0.36436,     0.36537,     0.36637,     0.36737,     0.36837,     0.36937,     0.37037,     0.37137,     0.37237,     0.37337,     0.37437,     0.37538,     0.37638,     0.37738,     0.37838,     0.37938,     0.38038,     0.38138,     0.38238,     0.38338,\n",
       "           0.38438,     0.38539,     0.38639,     0.38739,     0.38839,     0.38939,     0.39039,     0.39139,     0.39239,     0.39339,     0.39439,      0.3954,      0.3964,      0.3974,      0.3984,      0.3994,      0.4004,      0.4014,      0.4024,      0.4034,      0.4044,     0.40541,     0.40641,     0.40741,\n",
       "           0.40841,     0.40941,     0.41041,     0.41141,     0.41241,     0.41341,     0.41441,     0.41542,     0.41642,     0.41742,     0.41842,     0.41942,     0.42042,     0.42142,     0.42242,     0.42342,     0.42442,     0.42543,     0.42643,     0.42743,     0.42843,     0.42943,     0.43043,     0.43143,\n",
       "           0.43243,     0.43343,     0.43443,     0.43544,     0.43644,     0.43744,     0.43844,     0.43944,     0.44044,     0.44144,     0.44244,     0.44344,     0.44444,     0.44545,     0.44645,     0.44745,     0.44845,     0.44945,     0.45045,     0.45145,     0.45245,     0.45345,     0.45445,     0.45546,\n",
       "           0.45646,     0.45746,     0.45846,     0.45946,     0.46046,     0.46146,     0.46246,     0.46346,     0.46446,     0.46547,     0.46647,     0.46747,     0.46847,     0.46947,     0.47047,     0.47147,     0.47247,     0.47347,     0.47447,     0.47548,     0.47648,     0.47748,     0.47848,     0.47948,\n",
       "           0.48048,     0.48148,     0.48248,     0.48348,     0.48448,     0.48549,     0.48649,     0.48749,     0.48849,     0.48949,     0.49049,     0.49149,     0.49249,     0.49349,     0.49449,      0.4955,      0.4965,      0.4975,      0.4985,      0.4995,      0.5005,      0.5015,      0.5025,      0.5035,\n",
       "            0.5045,     0.50551,     0.50651,     0.50751,     0.50851,     0.50951,     0.51051,     0.51151,     0.51251,     0.51351,     0.51451,     0.51552,     0.51652,     0.51752,     0.51852,     0.51952,     0.52052,     0.52152,     0.52252,     0.52352,     0.52452,     0.52553,     0.52653,     0.52753,\n",
       "           0.52853,     0.52953,     0.53053,     0.53153,     0.53253,     0.53353,     0.53453,     0.53554,     0.53654,     0.53754,     0.53854,     0.53954,     0.54054,     0.54154,     0.54254,     0.54354,     0.54454,     0.54555,     0.54655,     0.54755,     0.54855,     0.54955,     0.55055,     0.55155,\n",
       "           0.55255,     0.55355,     0.55455,     0.55556,     0.55656,     0.55756,     0.55856,     0.55956,     0.56056,     0.56156,     0.56256,     0.56356,     0.56456,     0.56557,     0.56657,     0.56757,     0.56857,     0.56957,     0.57057,     0.57157,     0.57257,     0.57357,     0.57457,     0.57558,\n",
       "           0.57658,     0.57758,     0.57858,     0.57958,     0.58058,     0.58158,     0.58258,     0.58358,     0.58458,     0.58559,     0.58659,     0.58759,     0.58859,     0.58959,     0.59059,     0.59159,     0.59259,     0.59359,     0.59459,      0.5956,      0.5966,      0.5976,      0.5986,      0.5996,\n",
       "            0.6006,      0.6016,      0.6026,      0.6036,      0.6046,     0.60561,     0.60661,     0.60761,     0.60861,     0.60961,     0.61061,     0.61161,     0.61261,     0.61361,     0.61461,     0.61562,     0.61662,     0.61762,     0.61862,     0.61962,     0.62062,     0.62162,     0.62262,     0.62362,\n",
       "           0.62462,     0.62563,     0.62663,     0.62763,     0.62863,     0.62963,     0.63063,     0.63163,     0.63263,     0.63363,     0.63463,     0.63564,     0.63664,     0.63764,     0.63864,     0.63964,     0.64064,     0.64164,     0.64264,     0.64364,     0.64464,     0.64565,     0.64665,     0.64765,\n",
       "           0.64865,     0.64965,     0.65065,     0.65165,     0.65265,     0.65365,     0.65465,     0.65566,     0.65666,     0.65766,     0.65866,     0.65966,     0.66066,     0.66166,     0.66266,     0.66366,     0.66466,     0.66567,     0.66667,     0.66767,     0.66867,     0.66967,     0.67067,     0.67167,\n",
       "           0.67267,     0.67367,     0.67467,     0.67568,     0.67668,     0.67768,     0.67868,     0.67968,     0.68068,     0.68168,     0.68268,     0.68368,     0.68468,     0.68569,     0.68669,     0.68769,     0.68869,     0.68969,     0.69069,     0.69169,     0.69269,     0.69369,     0.69469,      0.6957,\n",
       "            0.6967,      0.6977,      0.6987,      0.6997,      0.7007,      0.7017,      0.7027,      0.7037,      0.7047,     0.70571,     0.70671,     0.70771,     0.70871,     0.70971,     0.71071,     0.71171,     0.71271,     0.71371,     0.71471,     0.71572,     0.71672,     0.71772,     0.71872,     0.71972,\n",
       "           0.72072,     0.72172,     0.72272,     0.72372,     0.72472,     0.72573,     0.72673,     0.72773,     0.72873,     0.72973,     0.73073,     0.73173,     0.73273,     0.73373,     0.73473,     0.73574,     0.73674,     0.73774,     0.73874,     0.73974,     0.74074,     0.74174,     0.74274,     0.74374,\n",
       "           0.74474,     0.74575,     0.74675,     0.74775,     0.74875,     0.74975,     0.75075,     0.75175,     0.75275,     0.75375,     0.75475,     0.75576,     0.75676,     0.75776,     0.75876,     0.75976,     0.76076,     0.76176,     0.76276,     0.76376,     0.76476,     0.76577,     0.76677,     0.76777,\n",
       "           0.76877,     0.76977,     0.77077,     0.77177,     0.77277,     0.77377,     0.77477,     0.77578,     0.77678,     0.77778,     0.77878,     0.77978,     0.78078,     0.78178,     0.78278,     0.78378,     0.78478,     0.78579,     0.78679,     0.78779,     0.78879,     0.78979,     0.79079,     0.79179,\n",
       "           0.79279,     0.79379,     0.79479,      0.7958,      0.7968,      0.7978,      0.7988,      0.7998,      0.8008,      0.8018,      0.8028,      0.8038,      0.8048,     0.80581,     0.80681,     0.80781,     0.80881,     0.80981,     0.81081,     0.81181,     0.81281,     0.81381,     0.81481,     0.81582,\n",
       "           0.81682,     0.81782,     0.81882,     0.81982,     0.82082,     0.82182,     0.82282,     0.82382,     0.82482,     0.82583,     0.82683,     0.82783,     0.82883,     0.82983,     0.83083,     0.83183,     0.83283,     0.83383,     0.83483,     0.83584,     0.83684,     0.83784,     0.83884,     0.83984,\n",
       "           0.84084,     0.84184,     0.84284,     0.84384,     0.84484,     0.84585,     0.84685,     0.84785,     0.84885,     0.84985,     0.85085,     0.85185,     0.85285,     0.85385,     0.85485,     0.85586,     0.85686,     0.85786,     0.85886,     0.85986,     0.86086,     0.86186,     0.86286,     0.86386,\n",
       "           0.86486,     0.86587,     0.86687,     0.86787,     0.86887,     0.86987,     0.87087,     0.87187,     0.87287,     0.87387,     0.87487,     0.87588,     0.87688,     0.87788,     0.87888,     0.87988,     0.88088,     0.88188,     0.88288,     0.88388,     0.88488,     0.88589,     0.88689,     0.88789,\n",
       "           0.88889,     0.88989,     0.89089,     0.89189,     0.89289,     0.89389,     0.89489,      0.8959,      0.8969,      0.8979,      0.8989,      0.8999,      0.9009,      0.9019,      0.9029,      0.9039,      0.9049,     0.90591,     0.90691,     0.90791,     0.90891,     0.90991,     0.91091,     0.91191,\n",
       "           0.91291,     0.91391,     0.91491,     0.91592,     0.91692,     0.91792,     0.91892,     0.91992,     0.92092,     0.92192,     0.92292,     0.92392,     0.92492,     0.92593,     0.92693,     0.92793,     0.92893,     0.92993,     0.93093,     0.93193,     0.93293,     0.93393,     0.93493,     0.93594,\n",
       "           0.93694,     0.93794,     0.93894,     0.93994,     0.94094,     0.94194,     0.94294,     0.94394,     0.94494,     0.94595,     0.94695,     0.94795,     0.94895,     0.94995,     0.95095,     0.95195,     0.95295,     0.95395,     0.95495,     0.95596,     0.95696,     0.95796,     0.95896,     0.95996,\n",
       "           0.96096,     0.96196,     0.96296,     0.96396,     0.96496,     0.96597,     0.96697,     0.96797,     0.96897,     0.96997,     0.97097,     0.97197,     0.97297,     0.97397,     0.97497,     0.97598,     0.97698,     0.97798,     0.97898,     0.97998,     0.98098,     0.98198,     0.98298,     0.98398,\n",
       "           0.98498,     0.98599,     0.98699,     0.98799,     0.98899,     0.98999,     0.99099,     0.99199,     0.99299,     0.99399,     0.99499,       0.996,       0.997,       0.998,       0.999,           1]), array([[    0.91615,     0.91615,     0.91615, ...,           0,           0,           0],\n",
       "       [    0.96552,     0.96552,     0.96552, ...,           0,           0,           0],\n",
       "       [          1,           1,           1, ...,           0,           0,           0],\n",
       "       [    0.83435,     0.83435,     0.83435, ...,           0,           0,           0]], shape=(4, 1000)), 'Confidence', 'Recall']]\n",
       "fitness: np.float64(0.5835063690689352)\n",
       "keys: ['metrics/precision(B)', 'metrics/recall(B)', 'metrics/mAP50(B)', 'metrics/mAP50-95(B)']\n",
       "maps: array([    0.18126,     0.48288,       0.995,     0.60653])\n",
       "names: {0: 'food', 1: 'person', 2: 'dining table', 3: 'dishes'}\n",
       "nt_per_class: array([1121,   87,   87, 1316])\n",
       "nt_per_image: array([87, 75, 87, 87])\n",
       "results_dict: {'metrics/precision(B)': np.float64(0.7178032437106838), 'metrics/recall(B)': np.float64(0.8075358731615215), 'metrics/mAP50(B)': np.float64(0.7372962748734619), 'metrics/mAP50-95(B)': np.float64(0.566418601757321), 'fitness': np.float64(0.5835063690689352)}\n",
       "speed: {'preprocess': 0.05661954048849728, 'inference': 0.7832551725615544, 'loss': 5.6322267942730036e-05, 'postprocess': 1.598190803926481}\n",
       "stats: {'tp': [], 'conf': [], 'pred_cls': [], 'target_cls': [], 'target_img': []}\n",
       "task: 'detect'"
      ]
     },
     "execution_count": 11,
     "metadata": {},
     "output_type": "execute_result"
    },
    {
     "name": "stdout",
     "output_type": "stream",
     "text": [
      "2025-06-23 19:19:05,723 - clearml.storage - INFO - Uploading: 18.26MB from runs\\detect\\train\\weights\\best.pt\n"
     ]
    },
    {
     "name": "stderr",
     "output_type": "stream",
     "text": [
      "███████████████████████████████ 100% | 18.26/18.26 MB [00:26<00:00,  1.44s/MB]: "
     ]
    },
    {
     "name": "stdout",
     "output_type": "stream",
     "text": [
      "2025-06-23 19:19:32,103 - clearml.Task - INFO - Completed model upload to https://files.clear.ml/zebra_test/BaseYolo11.f7af6cd6f70241fc9d866a78b4fac14f/models/best.pt\n"
     ]
    },
    {
     "name": "stderr",
     "output_type": "stream",
     "text": [
      "\n"
     ]
    },
    {
     "name": "stderr",
     "output_type": "stream",
     "text": [
      "███████████████████████████████ 100% | 18.35/18.35 MB [00:26<00:00,  1.46s/MB]: "
     ]
    },
    {
     "name": "stdout",
     "output_type": "stream",
     "text": [
      "2025-06-23 19:55:52,466 - clearml.Task - INFO - Completed model upload to https://files.clear.ml/zebra_test/BaseYolo11.f7af6cd6f70241fc9d866a78b4fac14f/models/best.pt\n"
     ]
    },
    {
     "name": "stderr",
     "output_type": "stream",
     "text": [
      "\n"
     ]
    }
   ],
   "source": [
    "model.train(data=\"yolo_dataset\\yolo_dataset.yaml\",\n",
    "            epochs=10,\n",
    "            batch=-1,\n",
    "            imgsz=640,\n",
    "            device=0,\n",
    "            cache=False,\n",
    "            workers=4,\n",
    "            )"
   ]
  },
  {
   "cell_type": "code",
   "execution_count": 22,
   "metadata": {},
   "outputs": [
    {
     "name": "stdout",
     "output_type": "stream",
     "text": [
      "\n",
      "0: 384x640 8 foods, 3 persons, 15 dishess, 91.2ms\n",
      "Speed: 2.0ms preprocess, 91.2ms inference, 1.9ms postprocess per image at shape (1, 3, 384, 640)\n",
      "\n",
      "0: 384x640 7 foods, 3 persons, 14 dishess, 10.0ms\n",
      "Speed: 1.6ms preprocess, 10.0ms inference, 1.6ms postprocess per image at shape (1, 3, 384, 640)\n",
      "\n",
      "0: 384x640 9 foods, 3 persons, 12 dishess, 10.3ms\n",
      "Speed: 1.7ms preprocess, 10.3ms inference, 1.5ms postprocess per image at shape (1, 3, 384, 640)\n",
      "\n",
      "0: 384x640 9 foods, 3 persons, 13 dishess, 10.0ms\n",
      "Speed: 1.7ms preprocess, 10.0ms inference, 1.8ms postprocess per image at shape (1, 3, 384, 640)\n",
      "\n",
      "0: 384x640 9 foods, 3 persons, 12 dishess, 10.5ms\n",
      "Speed: 1.7ms preprocess, 10.5ms inference, 1.5ms postprocess per image at shape (1, 3, 384, 640)\n",
      "\n",
      "0: 384x640 10 foods, 2 persons, 11 dishess, 10.6ms\n",
      "Speed: 1.7ms preprocess, 10.6ms inference, 1.5ms postprocess per image at shape (1, 3, 384, 640)\n",
      "\n",
      "0: 384x640 10 foods, 2 persons, 16 dishess, 21.1ms\n",
      "Speed: 2.0ms preprocess, 21.1ms inference, 3.8ms postprocess per image at shape (1, 3, 384, 640)\n",
      "\n",
      "0: 384x640 10 foods, 3 persons, 16 dishess, 10.6ms\n",
      "Speed: 1.8ms preprocess, 10.6ms inference, 1.6ms postprocess per image at shape (1, 3, 384, 640)\n",
      "\n",
      "0: 384x640 10 foods, 3 persons, 16 dishess, 10.3ms\n",
      "Speed: 1.7ms preprocess, 10.3ms inference, 1.7ms postprocess per image at shape (1, 3, 384, 640)\n",
      "\n",
      "0: 384x640 10 foods, 3 persons, 14 dishess, 17.7ms\n",
      "Speed: 1.8ms preprocess, 17.7ms inference, 1.7ms postprocess per image at shape (1, 3, 384, 640)\n",
      "\n",
      "0: 384x640 9 foods, 1 person, 14 dishess, 10.3ms\n",
      "Speed: 1.7ms preprocess, 10.3ms inference, 1.5ms postprocess per image at shape (1, 3, 384, 640)\n",
      "\n",
      "0: 384x640 7 foods, 1 person, 13 dishess, 10.7ms\n",
      "Speed: 1.7ms preprocess, 10.7ms inference, 1.9ms postprocess per image at shape (1, 3, 384, 640)\n",
      "\n",
      "0: 384x640 10 foods, 1 person, 13 dishess, 10.6ms\n",
      "Speed: 1.8ms preprocess, 10.6ms inference, 1.5ms postprocess per image at shape (1, 3, 384, 640)\n",
      "\n",
      "0: 384x640 8 foods, 2 persons, 13 dishess, 9.9ms\n",
      "Speed: 1.6ms preprocess, 9.9ms inference, 1.5ms postprocess per image at shape (1, 3, 384, 640)\n",
      "\n",
      "0: 384x640 7 foods, 2 persons, 13 dishess, 10.3ms\n",
      "Speed: 2.0ms preprocess, 10.3ms inference, 1.6ms postprocess per image at shape (1, 3, 384, 640)\n",
      "\n",
      "0: 384x640 8 foods, 2 persons, 13 dishess, 14.6ms\n",
      "Speed: 2.0ms preprocess, 14.6ms inference, 2.1ms postprocess per image at shape (1, 3, 384, 640)\n",
      "\n",
      "0: 384x640 6 foods, 1 person, 13 dishess, 19.4ms\n",
      "Speed: 2.3ms preprocess, 19.4ms inference, 3.2ms postprocess per image at shape (1, 3, 384, 640)\n",
      "\n",
      "0: 384x640 6 foods, 2 persons, 12 dishess, 19.1ms\n",
      "Speed: 2.4ms preprocess, 19.1ms inference, 4.4ms postprocess per image at shape (1, 3, 384, 640)\n",
      "\n",
      "0: 384x640 6 foods, 1 person, 13 dishess, 16.6ms\n",
      "Speed: 4.2ms preprocess, 16.6ms inference, 2.1ms postprocess per image at shape (1, 3, 384, 640)\n",
      "\n",
      "0: 384x640 6 foods, 1 person, 13 dishess, 13.3ms\n",
      "Speed: 2.0ms preprocess, 13.3ms inference, 2.1ms postprocess per image at shape (1, 3, 384, 640)\n",
      "\n",
      "0: 384x640 7 foods, 1 person, 12 dishess, 13.6ms\n",
      "Speed: 1.9ms preprocess, 13.6ms inference, 2.9ms postprocess per image at shape (1, 3, 384, 640)\n",
      "\n",
      "0: 384x640 5 foods, 2 persons, 14 dishess, 18.8ms\n",
      "Speed: 2.1ms preprocess, 18.8ms inference, 4.6ms postprocess per image at shape (1, 3, 384, 640)\n",
      "\n",
      "0: 384x640 7 foods, 2 persons, 13 dishess, 16.7ms\n",
      "Speed: 2.1ms preprocess, 16.7ms inference, 1.8ms postprocess per image at shape (1, 3, 384, 640)\n",
      "\n",
      "0: 384x640 7 foods, 2 persons, 14 dishess, 13.3ms\n",
      "Speed: 1.8ms preprocess, 13.3ms inference, 2.2ms postprocess per image at shape (1, 3, 384, 640)\n",
      "\n",
      "0: 384x640 9 foods, 3 persons, 15 dishess, 15.8ms\n",
      "Speed: 3.9ms preprocess, 15.8ms inference, 2.2ms postprocess per image at shape (1, 3, 384, 640)\n",
      "\n",
      "0: 384x640 8 foods, 3 persons, 16 dishess, 16.4ms\n",
      "Speed: 2.0ms preprocess, 16.4ms inference, 1.8ms postprocess per image at shape (1, 3, 384, 640)\n",
      "\n",
      "0: 384x640 9 foods, 3 persons, 17 dishess, 14.6ms\n",
      "Speed: 1.9ms preprocess, 14.6ms inference, 2.2ms postprocess per image at shape (1, 3, 384, 640)\n",
      "\n",
      "0: 384x640 10 foods, 3 persons, 16 dishess, 15.2ms\n",
      "Speed: 2.3ms preprocess, 15.2ms inference, 2.3ms postprocess per image at shape (1, 3, 384, 640)\n",
      "\n",
      "0: 384x640 11 foods, 3 persons, 15 dishess, 15.7ms\n",
      "Speed: 2.2ms preprocess, 15.7ms inference, 2.1ms postprocess per image at shape (1, 3, 384, 640)\n",
      "\n",
      "0: 384x640 9 foods, 3 persons, 16 dishess, 16.9ms\n",
      "Speed: 2.0ms preprocess, 16.9ms inference, 2.2ms postprocess per image at shape (1, 3, 384, 640)\n",
      "\n",
      "0: 384x640 10 foods, 4 persons, 16 dishess, 23.5ms\n",
      "Speed: 3.2ms preprocess, 23.5ms inference, 7.4ms postprocess per image at shape (1, 3, 384, 640)\n",
      "\n",
      "0: 384x640 9 foods, 3 persons, 15 dishess, 25.9ms\n",
      "Speed: 2.6ms preprocess, 25.9ms inference, 7.4ms postprocess per image at shape (1, 3, 384, 640)\n",
      "\n",
      "0: 384x640 9 foods, 3 persons, 15 dishess, 13.8ms\n",
      "Speed: 2.1ms preprocess, 13.8ms inference, 3.9ms postprocess per image at shape (1, 3, 384, 640)\n",
      "\n",
      "0: 384x640 9 foods, 4 persons, 16 dishess, 16.1ms\n",
      "Speed: 2.5ms preprocess, 16.1ms inference, 3.3ms postprocess per image at shape (1, 3, 384, 640)\n",
      "\n",
      "0: 384x640 10 foods, 2 persons, 16 dishess, 13.8ms\n",
      "Speed: 2.8ms preprocess, 13.8ms inference, 4.2ms postprocess per image at shape (1, 3, 384, 640)\n",
      "\n",
      "0: 384x640 8 foods, 3 persons, 16 dishess, 16.7ms\n",
      "Speed: 2.3ms preprocess, 16.7ms inference, 3.9ms postprocess per image at shape (1, 3, 384, 640)\n",
      "\n",
      "0: 384x640 8 foods, 2 persons, 15 dishess, 17.2ms\n",
      "Speed: 2.1ms preprocess, 17.2ms inference, 3.8ms postprocess per image at shape (1, 3, 384, 640)\n",
      "\n",
      "0: 384x640 8 foods, 3 persons, 15 dishess, 15.3ms\n",
      "Speed: 2.5ms preprocess, 15.3ms inference, 5.6ms postprocess per image at shape (1, 3, 384, 640)\n",
      "\n",
      "0: 384x640 9 foods, 3 persons, 15 dishess, 16.1ms\n",
      "Speed: 2.0ms preprocess, 16.1ms inference, 3.4ms postprocess per image at shape (1, 3, 384, 640)\n",
      "\n",
      "0: 384x640 10 foods, 2 persons, 16 dishess, 18.6ms\n",
      "Speed: 2.7ms preprocess, 18.6ms inference, 2.7ms postprocess per image at shape (1, 3, 384, 640)\n",
      "\n",
      "0: 384x640 10 foods, 3 persons, 14 dishess, 14.4ms\n",
      "Speed: 2.6ms preprocess, 14.4ms inference, 3.8ms postprocess per image at shape (1, 3, 384, 640)\n",
      "\n",
      "0: 384x640 8 foods, 3 persons, 15 dishess, 14.2ms\n",
      "Speed: 1.9ms preprocess, 14.2ms inference, 4.0ms postprocess per image at shape (1, 3, 384, 640)\n",
      "\n",
      "0: 384x640 9 foods, 1 person, 16 dishess, 20.9ms\n",
      "Speed: 2.0ms preprocess, 20.9ms inference, 9.9ms postprocess per image at shape (1, 3, 384, 640)\n",
      "\n",
      "0: 384x640 9 foods, 2 persons, 17 dishess, 22.2ms\n",
      "Speed: 2.4ms preprocess, 22.2ms inference, 9.9ms postprocess per image at shape (1, 3, 384, 640)\n",
      "\n",
      "0: 384x640 8 foods, 3 persons, 17 dishess, 17.5ms\n",
      "Speed: 1.9ms preprocess, 17.5ms inference, 3.5ms postprocess per image at shape (1, 3, 384, 640)\n",
      "\n",
      "0: 384x640 7 foods, 3 persons, 16 dishess, 14.0ms\n",
      "Speed: 2.5ms preprocess, 14.0ms inference, 2.1ms postprocess per image at shape (1, 3, 384, 640)\n",
      "\n",
      "0: 384x640 7 foods, 3 persons, 15 dishess, 15.5ms\n",
      "Speed: 2.0ms preprocess, 15.5ms inference, 2.2ms postprocess per image at shape (1, 3, 384, 640)\n",
      "\n",
      "0: 384x640 8 foods, 3 persons, 14 dishess, 16.5ms\n",
      "Speed: 1.9ms preprocess, 16.5ms inference, 2.7ms postprocess per image at shape (1, 3, 384, 640)\n",
      "\n",
      "0: 384x640 8 foods, 3 persons, 14 dishess, 16.7ms\n",
      "Speed: 2.0ms preprocess, 16.7ms inference, 2.5ms postprocess per image at shape (1, 3, 384, 640)\n",
      "\n",
      "0: 384x640 7 foods, 3 persons, 14 dishess, 19.5ms\n",
      "Speed: 2.4ms preprocess, 19.5ms inference, 1.9ms postprocess per image at shape (1, 3, 384, 640)\n",
      "\n",
      "0: 384x640 8 foods, 3 persons, 14 dishess, 17.8ms\n",
      "Speed: 2.3ms preprocess, 17.8ms inference, 3.5ms postprocess per image at shape (1, 3, 384, 640)\n",
      "\n",
      "0: 384x640 5 foods, 3 persons, 14 dishess, 14.7ms\n",
      "Speed: 2.1ms preprocess, 14.7ms inference, 3.6ms postprocess per image at shape (1, 3, 384, 640)\n",
      "\n",
      "0: 384x640 6 foods, 3 persons, 14 dishess, 14.9ms\n",
      "Speed: 2.4ms preprocess, 14.9ms inference, 3.2ms postprocess per image at shape (1, 3, 384, 640)\n",
      "\n",
      "0: 384x640 5 foods, 3 persons, 12 dishess, 16.2ms\n",
      "Speed: 2.3ms preprocess, 16.2ms inference, 3.1ms postprocess per image at shape (1, 3, 384, 640)\n",
      "\n",
      "0: 384x640 5 foods, 3 persons, 11 dishess, 21.2ms\n",
      "Speed: 3.9ms preprocess, 21.2ms inference, 8.1ms postprocess per image at shape (1, 3, 384, 640)\n",
      "\n",
      "0: 384x640 6 foods, 3 persons, 11 dishess, 15.2ms\n",
      "Speed: 2.0ms preprocess, 15.2ms inference, 2.9ms postprocess per image at shape (1, 3, 384, 640)\n",
      "\n",
      "0: 384x640 7 foods, 3 persons, 12 dishess, 14.2ms\n",
      "Speed: 2.0ms preprocess, 14.2ms inference, 3.9ms postprocess per image at shape (1, 3, 384, 640)\n",
      "\n",
      "0: 384x640 7 foods, 3 persons, 13 dishess, 14.2ms\n",
      "Speed: 2.5ms preprocess, 14.2ms inference, 3.8ms postprocess per image at shape (1, 3, 384, 640)\n",
      "\n",
      "0: 384x640 7 foods, 2 persons, 11 dishess, 18.5ms\n",
      "Speed: 2.1ms preprocess, 18.5ms inference, 3.7ms postprocess per image at shape (1, 3, 384, 640)\n",
      "\n",
      "0: 384x640 6 foods, 2 persons, 10 dishess, 19.5ms\n",
      "Speed: 2.3ms preprocess, 19.5ms inference, 5.0ms postprocess per image at shape (1, 3, 384, 640)\n",
      "\n",
      "0: 384x640 7 foods, 2 persons, 12 dishess, 16.9ms\n",
      "Speed: 2.2ms preprocess, 16.9ms inference, 2.4ms postprocess per image at shape (1, 3, 384, 640)\n",
      "\n",
      "0: 384x640 8 foods, 2 persons, 10 dishess, 14.1ms\n",
      "Speed: 2.0ms preprocess, 14.1ms inference, 4.9ms postprocess per image at shape (1, 3, 384, 640)\n",
      "\n",
      "0: 384x640 7 foods, 1 person, 11 dishess, 17.2ms\n",
      "Speed: 2.1ms preprocess, 17.2ms inference, 3.5ms postprocess per image at shape (1, 3, 384, 640)\n",
      "\n",
      "0: 384x640 6 foods, 1 person, 13 dishess, 17.0ms\n",
      "Speed: 2.0ms preprocess, 17.0ms inference, 4.7ms postprocess per image at shape (1, 3, 384, 640)\n",
      "\n",
      "0: 384x640 4 foods, 1 person, 12 dishess, 14.4ms\n",
      "Speed: 2.6ms preprocess, 14.4ms inference, 4.8ms postprocess per image at shape (1, 3, 384, 640)\n",
      "\n",
      "0: 384x640 6 foods, 2 persons, 10 dishess, 13.6ms\n",
      "Speed: 3.2ms preprocess, 13.6ms inference, 3.7ms postprocess per image at shape (1, 3, 384, 640)\n",
      "\n",
      "0: 384x640 4 foods, 2 persons, 10 dishess, 14.7ms\n",
      "Speed: 2.0ms preprocess, 14.7ms inference, 3.8ms postprocess per image at shape (1, 3, 384, 640)\n",
      "\n",
      "0: 384x640 3 foods, 1 person, 10 dishess, 27.2ms\n",
      "Speed: 2.4ms preprocess, 27.2ms inference, 6.3ms postprocess per image at shape (1, 3, 384, 640)\n",
      "\n",
      "0: 384x640 4 foods, 1 person, 12 dishess, 25.1ms\n",
      "Speed: 2.3ms preprocess, 25.1ms inference, 4.5ms postprocess per image at shape (1, 3, 384, 640)\n",
      "\n",
      "0: 384x640 4 foods, 2 persons, 10 dishess, 16.3ms\n",
      "Speed: 2.2ms preprocess, 16.3ms inference, 2.2ms postprocess per image at shape (1, 3, 384, 640)\n",
      "\n",
      "0: 384x640 3 foods, 1 person, 10 dishess, 16.9ms\n",
      "Speed: 2.0ms preprocess, 16.9ms inference, 2.2ms postprocess per image at shape (1, 3, 384, 640)\n",
      "\n",
      "0: 384x640 3 foods, 1 person, 10 dishess, 13.8ms\n",
      "Speed: 2.0ms preprocess, 13.8ms inference, 3.0ms postprocess per image at shape (1, 3, 384, 640)\n",
      "\n",
      "0: 384x640 3 foods, 1 person, 10 dishess, 15.7ms\n",
      "Speed: 2.2ms preprocess, 15.7ms inference, 2.2ms postprocess per image at shape (1, 3, 384, 640)\n",
      "\n",
      "0: 384x640 3 foods, 1 person, 11 dishess, 13.1ms\n",
      "Speed: 2.1ms preprocess, 13.1ms inference, 2.9ms postprocess per image at shape (1, 3, 384, 640)\n",
      "\n",
      "0: 384x640 4 foods, 1 person, 11 dishess, 13.9ms\n",
      "Speed: 2.1ms preprocess, 13.9ms inference, 4.3ms postprocess per image at shape (1, 3, 384, 640)\n",
      "\n",
      "0: 384x640 4 foods, 1 person, 9 dishess, 14.4ms\n",
      "Speed: 2.4ms preprocess, 14.4ms inference, 2.9ms postprocess per image at shape (1, 3, 384, 640)\n",
      "\n",
      "0: 384x640 4 foods, 1 person, 10 dishess, 15.0ms\n",
      "Speed: 2.0ms preprocess, 15.0ms inference, 2.9ms postprocess per image at shape (1, 3, 384, 640)\n",
      "\n",
      "0: 384x640 5 foods, 1 person, 9 dishess, 16.3ms\n",
      "Speed: 2.6ms preprocess, 16.3ms inference, 3.4ms postprocess per image at shape (1, 3, 384, 640)\n",
      "\n",
      "0: 384x640 5 foods, 1 person, 10 dishess, 14.9ms\n",
      "Speed: 2.1ms preprocess, 14.9ms inference, 3.3ms postprocess per image at shape (1, 3, 384, 640)\n",
      "\n",
      "0: 384x640 3 foods, 2 persons, 9 dishess, 26.5ms\n",
      "Speed: 2.3ms preprocess, 26.5ms inference, 4.2ms postprocess per image at shape (1, 3, 384, 640)\n",
      "\n",
      "0: 384x640 3 foods, 1 person, 9 dishess, 30.6ms\n",
      "Speed: 2.2ms preprocess, 30.6ms inference, 9.3ms postprocess per image at shape (1, 3, 384, 640)\n",
      "\n",
      "0: 384x640 4 foods, 1 person, 9 dishess, 24.2ms\n",
      "Speed: 4.5ms preprocess, 24.2ms inference, 3.2ms postprocess per image at shape (1, 3, 384, 640)\n",
      "\n",
      "0: 384x640 4 foods, 9 dishess, 17.3ms\n",
      "Speed: 2.8ms preprocess, 17.3ms inference, 2.2ms postprocess per image at shape (1, 3, 384, 640)\n",
      "\n",
      "0: 384x640 4 foods, 1 person, 10 dishess, 12.6ms\n",
      "Speed: 2.1ms preprocess, 12.6ms inference, 3.5ms postprocess per image at shape (1, 3, 384, 640)\n",
      "\n",
      "0: 384x640 3 foods, 7 dishess, 21.0ms\n",
      "Speed: 3.6ms preprocess, 21.0ms inference, 2.7ms postprocess per image at shape (1, 3, 384, 640)\n",
      "\n",
      "0: 384x640 3 foods, 1 person, 7 dishess, 16.9ms\n",
      "Speed: 2.8ms preprocess, 16.9ms inference, 1.9ms postprocess per image at shape (1, 3, 384, 640)\n",
      "\n",
      "0: 384x640 2 foods, 1 person, 7 dishess, 17.4ms\n",
      "Speed: 2.0ms preprocess, 17.4ms inference, 3.8ms postprocess per image at shape (1, 3, 384, 640)\n",
      "\n",
      "0: 384x640 4 foods, 1 person, 9 dishess, 17.2ms\n",
      "Speed: 2.3ms preprocess, 17.2ms inference, 2.3ms postprocess per image at shape (1, 3, 384, 640)\n",
      "\n",
      "0: 384x640 3 foods, 1 person, 7 dishess, 12.7ms\n",
      "Speed: 2.7ms preprocess, 12.7ms inference, 3.0ms postprocess per image at shape (1, 3, 384, 640)\n",
      "\n",
      "0: 384x640 3 foods, 1 person, 10 dishess, 14.4ms\n",
      "Speed: 2.4ms preprocess, 14.4ms inference, 2.3ms postprocess per image at shape (1, 3, 384, 640)\n",
      "\n",
      "0: 384x640 5 foods, 1 person, 11 dishess, 15.1ms\n",
      "Speed: 2.2ms preprocess, 15.1ms inference, 3.5ms postprocess per image at shape (1, 3, 384, 640)\n",
      "\n",
      "0: 384x640 4 foods, 1 person, 10 dishess, 15.4ms\n",
      "Speed: 2.3ms preprocess, 15.4ms inference, 3.0ms postprocess per image at shape (1, 3, 384, 640)\n",
      "\n",
      "0: 384x640 4 foods, 1 person, 9 dishess, 17.0ms\n",
      "Speed: 2.1ms preprocess, 17.0ms inference, 2.3ms postprocess per image at shape (1, 3, 384, 640)\n",
      "\n",
      "0: 384x640 4 foods, 1 person, 10 dishess, 14.1ms\n",
      "Speed: 2.0ms preprocess, 14.1ms inference, 3.9ms postprocess per image at shape (1, 3, 384, 640)\n",
      "\n",
      "0: 384x640 5 foods, 9 dishess, 16.5ms\n",
      "Speed: 2.1ms preprocess, 16.5ms inference, 2.5ms postprocess per image at shape (1, 3, 384, 640)\n",
      "\n",
      "0: 384x640 4 foods, 10 dishess, 14.7ms\n",
      "Speed: 2.2ms preprocess, 14.7ms inference, 2.8ms postprocess per image at shape (1, 3, 384, 640)\n",
      "\n",
      "0: 384x640 5 foods, 9 dishess, 18.3ms\n",
      "Speed: 2.1ms preprocess, 18.3ms inference, 1.9ms postprocess per image at shape (1, 3, 384, 640)\n",
      "\n",
      "0: 384x640 5 foods, 1 person, 9 dishess, 19.8ms\n",
      "Speed: 2.8ms preprocess, 19.8ms inference, 4.9ms postprocess per image at shape (1, 3, 384, 640)\n",
      "\n",
      "0: 384x640 5 foods, 10 dishess, 16.7ms\n",
      "Speed: 2.1ms preprocess, 16.7ms inference, 4.4ms postprocess per image at shape (1, 3, 384, 640)\n",
      "\n",
      "0: 384x640 5 foods, 1 person, 9 dishess, 14.6ms\n",
      "Speed: 2.0ms preprocess, 14.6ms inference, 2.9ms postprocess per image at shape (1, 3, 384, 640)\n",
      "\n",
      "0: 384x640 7 foods, 2 persons, 11 dishess, 26.5ms\n",
      "Speed: 2.2ms preprocess, 26.5ms inference, 5.4ms postprocess per image at shape (1, 3, 384, 640)\n",
      "\n",
      "0: 384x640 6 foods, 1 person, 10 dishess, 22.9ms\n",
      "Speed: 2.3ms preprocess, 22.9ms inference, 7.1ms postprocess per image at shape (1, 3, 384, 640)\n",
      "\n",
      "0: 384x640 4 foods, 1 person, 10 dishess, 15.1ms\n",
      "Speed: 3.1ms preprocess, 15.1ms inference, 3.0ms postprocess per image at shape (1, 3, 384, 640)\n",
      "\n",
      "0: 384x640 5 foods, 1 person, 10 dishess, 19.6ms\n",
      "Speed: 4.4ms preprocess, 19.6ms inference, 3.7ms postprocess per image at shape (1, 3, 384, 640)\n",
      "\n",
      "0: 384x640 5 foods, 1 person, 12 dishess, 15.3ms\n",
      "Speed: 2.1ms preprocess, 15.3ms inference, 3.3ms postprocess per image at shape (1, 3, 384, 640)\n",
      "\n",
      "0: 384x640 4 foods, 1 person, 12 dishess, 13.1ms\n",
      "Speed: 2.0ms preprocess, 13.1ms inference, 3.7ms postprocess per image at shape (1, 3, 384, 640)\n",
      "\n",
      "0: 384x640 4 foods, 1 person, 11 dishess, 15.6ms\n",
      "Speed: 2.3ms preprocess, 15.6ms inference, 3.3ms postprocess per image at shape (1, 3, 384, 640)\n",
      "\n",
      "0: 384x640 4 foods, 1 person, 11 dishess, 16.2ms\n",
      "Speed: 2.4ms preprocess, 16.2ms inference, 4.9ms postprocess per image at shape (1, 3, 384, 640)\n",
      "\n",
      "0: 384x640 6 foods, 1 person, 10 dishess, 16.0ms\n",
      "Speed: 2.0ms preprocess, 16.0ms inference, 3.2ms postprocess per image at shape (1, 3, 384, 640)\n",
      "\n",
      "0: 384x640 5 foods, 1 person, 10 dishess, 15.1ms\n",
      "Speed: 2.1ms preprocess, 15.1ms inference, 2.3ms postprocess per image at shape (1, 3, 384, 640)\n",
      "\n",
      "0: 384x640 5 foods, 1 person, 12 dishess, 16.3ms\n",
      "Speed: 3.2ms preprocess, 16.3ms inference, 3.1ms postprocess per image at shape (1, 3, 384, 640)\n",
      "\n",
      "0: 384x640 4 foods, 1 person, 10 dishess, 13.9ms\n",
      "Speed: 2.5ms preprocess, 13.9ms inference, 3.0ms postprocess per image at shape (1, 3, 384, 640)\n",
      "\n",
      "0: 384x640 4 foods, 1 person, 11 dishess, 15.8ms\n",
      "Speed: 2.7ms preprocess, 15.8ms inference, 2.9ms postprocess per image at shape (1, 3, 384, 640)\n",
      "\n",
      "0: 384x640 5 foods, 1 person, 11 dishess, 15.2ms\n",
      "Speed: 2.1ms preprocess, 15.2ms inference, 4.2ms postprocess per image at shape (1, 3, 384, 640)\n",
      "\n",
      "0: 384x640 5 foods, 1 person, 12 dishess, 27.1ms\n",
      "Speed: 2.3ms preprocess, 27.1ms inference, 4.8ms postprocess per image at shape (1, 3, 384, 640)\n",
      "\n",
      "0: 384x640 6 foods, 1 person, 10 dishess, 14.3ms\n",
      "Speed: 2.1ms preprocess, 14.3ms inference, 2.9ms postprocess per image at shape (1, 3, 384, 640)\n",
      "\n",
      "0: 384x640 5 foods, 2 persons, 10 dishess, 16.2ms\n",
      "Speed: 2.0ms preprocess, 16.2ms inference, 2.2ms postprocess per image at shape (1, 3, 384, 640)\n",
      "\n",
      "0: 384x640 5 foods, 1 person, 10 dishess, 14.0ms\n",
      "Speed: 2.9ms preprocess, 14.0ms inference, 4.5ms postprocess per image at shape (1, 3, 384, 640)\n",
      "\n",
      "0: 384x640 4 foods, 2 persons, 10 dishess, 14.7ms\n",
      "Speed: 2.5ms preprocess, 14.7ms inference, 3.2ms postprocess per image at shape (1, 3, 384, 640)\n",
      "\n",
      "0: 384x640 6 foods, 2 persons, 10 dishess, 15.0ms\n",
      "Speed: 4.3ms preprocess, 15.0ms inference, 3.6ms postprocess per image at shape (1, 3, 384, 640)\n",
      "\n",
      "0: 384x640 6 foods, 2 persons, 11 dishess, 16.3ms\n",
      "Speed: 2.1ms preprocess, 16.3ms inference, 2.2ms postprocess per image at shape (1, 3, 384, 640)\n",
      "\n",
      "0: 384x640 5 foods, 2 persons, 11 dishess, 14.9ms\n",
      "Speed: 2.1ms preprocess, 14.9ms inference, 3.6ms postprocess per image at shape (1, 3, 384, 640)\n",
      "\n",
      "0: 384x640 6 foods, 2 persons, 12 dishess, 16.8ms\n",
      "Speed: 2.1ms preprocess, 16.8ms inference, 2.2ms postprocess per image at shape (1, 3, 384, 640)\n",
      "\n",
      "0: 384x640 6 foods, 2 persons, 11 dishess, 17.7ms\n",
      "Speed: 2.1ms preprocess, 17.7ms inference, 2.3ms postprocess per image at shape (1, 3, 384, 640)\n",
      "\n",
      "0: 384x640 9 foods, 2 persons, 11 dishess, 13.6ms\n",
      "Speed: 2.2ms preprocess, 13.6ms inference, 3.1ms postprocess per image at shape (1, 3, 384, 640)\n",
      "\n",
      "0: 384x640 7 foods, 2 persons, 10 dishess, 16.1ms\n",
      "Speed: 2.1ms preprocess, 16.1ms inference, 3.7ms postprocess per image at shape (1, 3, 384, 640)\n",
      "\n",
      "0: 384x640 8 foods, 2 persons, 10 dishess, 25.8ms\n",
      "Speed: 2.4ms preprocess, 25.8ms inference, 4.0ms postprocess per image at shape (1, 3, 384, 640)\n",
      "\n",
      "0: 384x640 8 foods, 2 persons, 9 dishess, 28.6ms\n",
      "Speed: 2.2ms preprocess, 28.6ms inference, 4.7ms postprocess per image at shape (1, 3, 384, 640)\n",
      "\n",
      "0: 384x640 7 foods, 2 persons, 11 dishess, 13.5ms\n",
      "Speed: 2.1ms preprocess, 13.5ms inference, 4.3ms postprocess per image at shape (1, 3, 384, 640)\n",
      "\n",
      "0: 384x640 7 foods, 2 persons, 12 dishess, 15.3ms\n",
      "Speed: 4.2ms preprocess, 15.3ms inference, 3.0ms postprocess per image at shape (1, 3, 384, 640)\n",
      "\n",
      "0: 384x640 5 foods, 2 persons, 12 dishess, 16.7ms\n",
      "Speed: 3.9ms preprocess, 16.7ms inference, 4.8ms postprocess per image at shape (1, 3, 384, 640)\n",
      "\n",
      "0: 384x640 5 foods, 2 persons, 11 dishess, 15.5ms\n",
      "Speed: 2.2ms preprocess, 15.5ms inference, 2.4ms postprocess per image at shape (1, 3, 384, 640)\n",
      "\n",
      "0: 384x640 6 foods, 2 persons, 12 dishess, 13.7ms\n",
      "Speed: 2.4ms preprocess, 13.7ms inference, 4.5ms postprocess per image at shape (1, 3, 384, 640)\n",
      "\n",
      "0: 384x640 8 foods, 2 persons, 10 dishess, 14.2ms\n",
      "Speed: 2.1ms preprocess, 14.2ms inference, 3.7ms postprocess per image at shape (1, 3, 384, 640)\n",
      "\n",
      "0: 384x640 6 foods, 2 persons, 11 dishess, 13.5ms\n",
      "Speed: 2.7ms preprocess, 13.5ms inference, 3.8ms postprocess per image at shape (1, 3, 384, 640)\n",
      "\n",
      "0: 384x640 9 foods, 2 persons, 13 dishess, 15.2ms\n",
      "Speed: 2.1ms preprocess, 15.2ms inference, 4.5ms postprocess per image at shape (1, 3, 384, 640)\n",
      "\n",
      "0: 384x640 9 foods, 2 persons, 14 dishess, 14.4ms\n",
      "Speed: 2.0ms preprocess, 14.4ms inference, 3.8ms postprocess per image at shape (1, 3, 384, 640)\n",
      "\n",
      "0: 384x640 9 foods, 2 persons, 13 dishess, 15.9ms\n",
      "Speed: 2.3ms preprocess, 15.9ms inference, 2.8ms postprocess per image at shape (1, 3, 384, 640)\n",
      "\n",
      "0: 384x640 7 foods, 2 persons, 13 dishess, 23.3ms\n",
      "Speed: 3.2ms preprocess, 23.3ms inference, 8.7ms postprocess per image at shape (1, 3, 384, 640)\n",
      "\n",
      "0: 384x640 9 foods, 2 persons, 12 dishess, 25.9ms\n",
      "Speed: 2.5ms preprocess, 25.9ms inference, 4.3ms postprocess per image at shape (1, 3, 384, 640)\n",
      "\n",
      "0: 384x640 8 foods, 2 persons, 11 dishess, 13.4ms\n",
      "Speed: 2.7ms preprocess, 13.4ms inference, 3.9ms postprocess per image at shape (1, 3, 384, 640)\n",
      "\n",
      "0: 384x640 9 foods, 2 persons, 11 dishess, 16.2ms\n",
      "Speed: 2.1ms preprocess, 16.2ms inference, 3.5ms postprocess per image at shape (1, 3, 384, 640)\n",
      "\n",
      "0: 384x640 7 foods, 2 persons, 10 dishess, 17.0ms\n",
      "Speed: 2.1ms preprocess, 17.0ms inference, 3.7ms postprocess per image at shape (1, 3, 384, 640)\n",
      "\n",
      "0: 384x640 9 foods, 2 persons, 13 dishess, 18.8ms\n",
      "Speed: 2.2ms preprocess, 18.8ms inference, 3.2ms postprocess per image at shape (1, 3, 384, 640)\n",
      "\n",
      "0: 384x640 10 foods, 2 persons, 12 dishess, 16.5ms\n",
      "Speed: 2.5ms preprocess, 16.5ms inference, 3.6ms postprocess per image at shape (1, 3, 384, 640)\n",
      "\n",
      "0: 384x640 8 foods, 2 persons, 13 dishess, 14.2ms\n",
      "Speed: 2.1ms preprocess, 14.2ms inference, 3.6ms postprocess per image at shape (1, 3, 384, 640)\n",
      "\n",
      "0: 384x640 8 foods, 2 persons, 13 dishess, 15.7ms\n",
      "Speed: 2.1ms preprocess, 15.7ms inference, 3.0ms postprocess per image at shape (1, 3, 384, 640)\n",
      "\n",
      "0: 384x640 9 foods, 2 persons, 14 dishess, 16.1ms\n",
      "Speed: 2.2ms preprocess, 16.1ms inference, 2.2ms postprocess per image at shape (1, 3, 384, 640)\n",
      "\n",
      "0: 384x640 9 foods, 3 persons, 17 dishess, 14.8ms\n",
      "Speed: 2.1ms preprocess, 14.8ms inference, 2.8ms postprocess per image at shape (1, 3, 384, 640)\n",
      "\n",
      "0: 384x640 10 foods, 3 persons, 15 dishess, 14.4ms\n",
      "Speed: 2.1ms preprocess, 14.4ms inference, 4.0ms postprocess per image at shape (1, 3, 384, 640)\n",
      "\n",
      "0: 384x640 8 foods, 1 person, 15 dishess, 14.8ms\n",
      "Speed: 2.3ms preprocess, 14.8ms inference, 2.8ms postprocess per image at shape (1, 3, 384, 640)\n",
      "\n",
      "0: 384x640 10 foods, 2 persons, 15 dishess, 17.4ms\n",
      "Speed: 3.8ms preprocess, 17.4ms inference, 4.0ms postprocess per image at shape (1, 3, 384, 640)\n",
      "\n",
      "0: 384x640 7 foods, 2 persons, 13 dishess, 25.8ms\n",
      "Speed: 2.7ms preprocess, 25.8ms inference, 6.7ms postprocess per image at shape (1, 3, 384, 640)\n",
      "\n",
      "0: 384x640 6 foods, 2 persons, 14 dishess, 14.1ms\n",
      "Speed: 2.6ms preprocess, 14.1ms inference, 4.2ms postprocess per image at shape (1, 3, 384, 640)\n",
      "\n",
      "0: 384x640 5 foods, 2 persons, 14 dishess, 15.3ms\n",
      "Speed: 2.9ms preprocess, 15.3ms inference, 4.4ms postprocess per image at shape (1, 3, 384, 640)\n",
      "\n",
      "0: 384x640 7 foods, 2 persons, 15 dishess, 18.1ms\n",
      "Speed: 2.1ms preprocess, 18.1ms inference, 1.9ms postprocess per image at shape (1, 3, 384, 640)\n",
      "\n",
      "0: 384x640 8 foods, 2 persons, 16 dishess, 16.1ms\n",
      "Speed: 2.1ms preprocess, 16.1ms inference, 2.3ms postprocess per image at shape (1, 3, 384, 640)\n",
      "\n",
      "0: 384x640 6 foods, 3 persons, 16 dishess, 14.2ms\n",
      "Speed: 2.2ms preprocess, 14.2ms inference, 4.6ms postprocess per image at shape (1, 3, 384, 640)\n",
      "\n",
      "0: 384x640 4 foods, 3 persons, 18 dishess, 16.4ms\n",
      "Speed: 2.7ms preprocess, 16.4ms inference, 3.2ms postprocess per image at shape (1, 3, 384, 640)\n",
      "\n",
      "0: 384x640 5 foods, 2 persons, 17 dishess, 14.1ms\n",
      "Speed: 4.5ms preprocess, 14.1ms inference, 4.0ms postprocess per image at shape (1, 3, 384, 640)\n",
      "\n",
      "0: 384x640 7 foods, 2 persons, 19 dishess, 14.6ms\n",
      "Speed: 2.3ms preprocess, 14.6ms inference, 4.0ms postprocess per image at shape (1, 3, 384, 640)\n",
      "\n",
      "0: 384x640 6 foods, 1 person, 20 dishess, 15.2ms\n",
      "Speed: 2.8ms preprocess, 15.2ms inference, 4.2ms postprocess per image at shape (1, 3, 384, 640)\n",
      "\n",
      "0: 384x640 9 foods, 1 person, 21 dishess, 14.3ms\n",
      "Speed: 1.9ms preprocess, 14.3ms inference, 4.0ms postprocess per image at shape (1, 3, 384, 640)\n",
      "\n",
      "0: 384x640 9 foods, 1 person, 19 dishess, 24.1ms\n",
      "Speed: 1.9ms preprocess, 24.1ms inference, 11.0ms postprocess per image at shape (1, 3, 384, 640)\n",
      "\n",
      "0: 384x640 8 foods, 2 persons, 19 dishess, 10.7ms\n",
      "Speed: 1.6ms preprocess, 10.7ms inference, 1.5ms postprocess per image at shape (1, 3, 384, 640)\n",
      "\n",
      "0: 384x640 7 foods, 2 persons, 19 dishess, 22.9ms\n",
      "Speed: 1.8ms preprocess, 22.9ms inference, 4.1ms postprocess per image at shape (1, 3, 384, 640)\n",
      "\n",
      "0: 384x640 8 foods, 2 persons, 20 dishess, 9.8ms\n",
      "Speed: 1.6ms preprocess, 9.8ms inference, 1.7ms postprocess per image at shape (1, 3, 384, 640)\n",
      "\n",
      "0: 384x640 8 foods, 2 persons, 20 dishess, 10.8ms\n",
      "Speed: 1.6ms preprocess, 10.8ms inference, 1.9ms postprocess per image at shape (1, 3, 384, 640)\n",
      "\n",
      "0: 384x640 9 foods, 2 persons, 20 dishess, 10.3ms\n",
      "Speed: 1.8ms preprocess, 10.3ms inference, 1.6ms postprocess per image at shape (1, 3, 384, 640)\n",
      "\n",
      "0: 384x640 9 foods, 2 persons, 21 dishess, 10.6ms\n",
      "Speed: 1.7ms preprocess, 10.6ms inference, 1.5ms postprocess per image at shape (1, 3, 384, 640)\n",
      "\n",
      "0: 384x640 8 foods, 2 persons, 19 dishess, 21.4ms\n",
      "Speed: 1.7ms preprocess, 21.4ms inference, 2.5ms postprocess per image at shape (1, 3, 384, 640)\n",
      "\n",
      "0: 384x640 10 foods, 2 persons, 19 dishess, 9.9ms\n",
      "Speed: 1.7ms preprocess, 9.9ms inference, 1.7ms postprocess per image at shape (1, 3, 384, 640)\n",
      "\n",
      "0: 384x640 8 foods, 3 persons, 21 dishess, 10.0ms\n",
      "Speed: 1.6ms preprocess, 10.0ms inference, 1.5ms postprocess per image at shape (1, 3, 384, 640)\n",
      "\n",
      "0: 384x640 9 foods, 3 persons, 20 dishess, 12.9ms\n",
      "Speed: 1.6ms preprocess, 12.9ms inference, 1.9ms postprocess per image at shape (1, 3, 384, 640)\n",
      "\n",
      "0: 384x640 8 foods, 3 persons, 19 dishess, 11.0ms\n",
      "Speed: 1.6ms preprocess, 11.0ms inference, 1.6ms postprocess per image at shape (1, 3, 384, 640)\n",
      "\n",
      "0: 384x640 9 foods, 3 persons, 20 dishess, 10.5ms\n",
      "Speed: 1.7ms preprocess, 10.5ms inference, 1.8ms postprocess per image at shape (1, 3, 384, 640)\n",
      "\n",
      "0: 384x640 9 foods, 3 persons, 19 dishess, 9.7ms\n",
      "Speed: 1.7ms preprocess, 9.7ms inference, 2.1ms postprocess per image at shape (1, 3, 384, 640)\n",
      "\n",
      "0: 384x640 11 foods, 3 persons, 21 dishess, 16.7ms\n",
      "Speed: 1.6ms preprocess, 16.7ms inference, 1.5ms postprocess per image at shape (1, 3, 384, 640)\n",
      "\n",
      "0: 384x640 11 foods, 3 persons, 18 dishess, 10.6ms\n",
      "Speed: 1.8ms preprocess, 10.6ms inference, 1.6ms postprocess per image at shape (1, 3, 384, 640)\n",
      "\n",
      "0: 384x640 9 foods, 3 persons, 21 dishess, 9.7ms\n",
      "Speed: 1.5ms preprocess, 9.7ms inference, 1.9ms postprocess per image at shape (1, 3, 384, 640)\n",
      "\n",
      "0: 384x640 9 foods, 2 persons, 21 dishess, 10.4ms\n",
      "Speed: 1.6ms preprocess, 10.4ms inference, 1.5ms postprocess per image at shape (1, 3, 384, 640)\n",
      "\n",
      "0: 384x640 10 foods, 3 persons, 20 dishess, 11.3ms\n",
      "Speed: 1.7ms preprocess, 11.3ms inference, 1.7ms postprocess per image at shape (1, 3, 384, 640)\n",
      "\n",
      "0: 384x640 9 foods, 3 persons, 17 dishess, 15.1ms\n",
      "Speed: 2.0ms preprocess, 15.1ms inference, 1.9ms postprocess per image at shape (1, 3, 384, 640)\n",
      "\n",
      "0: 384x640 9 foods, 3 persons, 18 dishess, 14.2ms\n",
      "Speed: 2.0ms preprocess, 14.2ms inference, 3.0ms postprocess per image at shape (1, 3, 384, 640)\n",
      "\n",
      "0: 384x640 10 foods, 3 persons, 1 dining table, 16 dishess, 14.7ms\n",
      "Speed: 1.9ms preprocess, 14.7ms inference, 2.9ms postprocess per image at shape (1, 3, 384, 640)\n",
      "\n",
      "0: 384x640 11 foods, 1 person, 1 dining table, 18 dishess, 15.4ms\n",
      "Speed: 2.0ms preprocess, 15.4ms inference, 2.2ms postprocess per image at shape (1, 3, 384, 640)\n",
      "\n",
      "0: 384x640 10 foods, 1 person, 19 dishess, 12.7ms\n",
      "Speed: 3.7ms preprocess, 12.7ms inference, 3.2ms postprocess per image at shape (1, 3, 384, 640)\n",
      "\n",
      "0: 384x640 9 foods, 1 person, 19 dishess, 16.3ms\n",
      "Speed: 2.3ms preprocess, 16.3ms inference, 2.0ms postprocess per image at shape (1, 3, 384, 640)\n",
      "\n",
      "0: 384x640 9 foods, 3 persons, 18 dishess, 13.6ms\n",
      "Speed: 2.0ms preprocess, 13.6ms inference, 3.8ms postprocess per image at shape (1, 3, 384, 640)\n",
      "\n",
      "0: 384x640 8 foods, 2 persons, 1 dining table, 19 dishess, 15.7ms\n",
      "Speed: 2.0ms preprocess, 15.7ms inference, 2.8ms postprocess per image at shape (1, 3, 384, 640)\n",
      "\n",
      "0: 384x640 7 foods, 1 person, 1 dining table, 19 dishess, 12.9ms\n",
      "Speed: 2.5ms preprocess, 12.9ms inference, 2.9ms postprocess per image at shape (1, 3, 384, 640)\n",
      "\n",
      "0: 384x640 7 foods, 1 person, 18 dishess, 15.7ms\n",
      "Speed: 2.1ms preprocess, 15.7ms inference, 1.8ms postprocess per image at shape (1, 3, 384, 640)\n",
      "\n",
      "0: 384x640 7 foods, 2 persons, 1 dining table, 18 dishess, 17.8ms\n",
      "Speed: 2.5ms preprocess, 17.8ms inference, 1.9ms postprocess per image at shape (1, 3, 384, 640)\n",
      "\n",
      "0: 384x640 9 foods, 2 persons, 19 dishess, 16.4ms\n",
      "Speed: 2.1ms preprocess, 16.4ms inference, 2.4ms postprocess per image at shape (1, 3, 384, 640)\n",
      "\n",
      "0: 384x640 9 foods, 2 persons, 20 dishess, 15.8ms\n",
      "Speed: 2.0ms preprocess, 15.8ms inference, 2.8ms postprocess per image at shape (1, 3, 384, 640)\n",
      "\n",
      "0: 384x640 7 foods, 2 persons, 1 dining table, 18 dishess, 14.5ms\n",
      "Speed: 2.4ms preprocess, 14.5ms inference, 2.1ms postprocess per image at shape (1, 3, 384, 640)\n",
      "\n",
      "0: 384x640 9 foods, 2 persons, 17 dishess, 15.8ms\n",
      "Speed: 2.7ms preprocess, 15.8ms inference, 4.6ms postprocess per image at shape (1, 3, 384, 640)\n",
      "\n",
      "0: 384x640 8 foods, 2 persons, 19 dishess, 16.8ms\n",
      "Speed: 2.8ms preprocess, 16.8ms inference, 3.1ms postprocess per image at shape (1, 3, 384, 640)\n",
      "\n",
      "0: 384x640 8 foods, 2 persons, 18 dishess, 21.6ms\n",
      "Speed: 2.7ms preprocess, 21.6ms inference, 2.3ms postprocess per image at shape (1, 3, 384, 640)\n",
      "\n",
      "0: 384x640 10 foods, 2 persons, 18 dishess, 16.4ms\n",
      "Speed: 2.1ms preprocess, 16.4ms inference, 3.8ms postprocess per image at shape (1, 3, 384, 640)\n",
      "\n",
      "0: 384x640 8 foods, 2 persons, 15 dishess, 18.0ms\n",
      "Speed: 2.1ms preprocess, 18.0ms inference, 3.0ms postprocess per image at shape (1, 3, 384, 640)\n",
      "\n",
      "0: 384x640 9 foods, 2 persons, 14 dishess, 18.9ms\n",
      "Speed: 2.0ms preprocess, 18.9ms inference, 4.5ms postprocess per image at shape (1, 3, 384, 640)\n",
      "\n",
      "0: 384x640 9 foods, 3 persons, 15 dishess, 27.5ms\n",
      "Speed: 2.7ms preprocess, 27.5ms inference, 3.8ms postprocess per image at shape (1, 3, 384, 640)\n",
      "\n",
      "0: 384x640 9 foods, 3 persons, 17 dishess, 19.1ms\n",
      "Speed: 2.0ms preprocess, 19.1ms inference, 4.7ms postprocess per image at shape (1, 3, 384, 640)\n",
      "\n",
      "0: 384x640 8 foods, 3 persons, 16 dishess, 16.9ms\n",
      "Speed: 2.3ms preprocess, 16.9ms inference, 4.2ms postprocess per image at shape (1, 3, 384, 640)\n",
      "\n",
      "0: 384x640 9 foods, 3 persons, 16 dishess, 22.6ms\n",
      "Speed: 2.1ms preprocess, 22.6ms inference, 3.7ms postprocess per image at shape (1, 3, 384, 640)\n",
      "\n",
      "0: 384x640 9 foods, 3 persons, 14 dishess, 17.9ms\n",
      "Speed: 2.2ms preprocess, 17.9ms inference, 3.7ms postprocess per image at shape (1, 3, 384, 640)\n",
      "\n",
      "0: 384x640 9 foods, 3 persons, 16 dishess, 144.7ms\n",
      "Speed: 2.1ms preprocess, 144.7ms inference, 1.9ms postprocess per image at shape (1, 3, 384, 640)\n",
      "\n",
      "0: 384x640 8 foods, 3 persons, 17 dishess, 17.4ms\n",
      "Speed: 2.2ms preprocess, 17.4ms inference, 3.9ms postprocess per image at shape (1, 3, 384, 640)\n",
      "\n",
      "0: 384x640 10 foods, 3 persons, 17 dishess, 17.5ms\n",
      "Speed: 2.1ms preprocess, 17.5ms inference, 5.1ms postprocess per image at shape (1, 3, 384, 640)\n",
      "\n",
      "0: 384x640 8 foods, 3 persons, 16 dishess, 19.6ms\n",
      "Speed: 2.2ms preprocess, 19.6ms inference, 3.2ms postprocess per image at shape (1, 3, 384, 640)\n",
      "\n",
      "0: 384x640 8 foods, 3 persons, 1 dining table, 15 dishess, 14.4ms\n",
      "Speed: 2.3ms preprocess, 14.4ms inference, 2.8ms postprocess per image at shape (1, 3, 384, 640)\n",
      "\n",
      "0: 384x640 8 foods, 3 persons, 1 dining table, 16 dishess, 18.7ms\n",
      "Speed: 1.9ms preprocess, 18.7ms inference, 1.9ms postprocess per image at shape (1, 3, 384, 640)\n",
      "\n",
      "0: 384x640 8 foods, 3 persons, 1 dining table, 15 dishess, 14.2ms\n",
      "Speed: 2.6ms preprocess, 14.2ms inference, 2.1ms postprocess per image at shape (1, 3, 384, 640)\n",
      "\n",
      "0: 384x640 9 foods, 3 persons, 14 dishess, 15.9ms\n",
      "Speed: 2.1ms preprocess, 15.9ms inference, 2.0ms postprocess per image at shape (1, 3, 384, 640)\n",
      "\n",
      "0: 384x640 9 foods, 3 persons, 15 dishess, 17.3ms\n",
      "Speed: 2.2ms preprocess, 17.3ms inference, 2.6ms postprocess per image at shape (1, 3, 384, 640)\n",
      "\n",
      "0: 384x640 9 foods, 3 persons, 1 dining table, 14 dishess, 14.8ms\n",
      "Speed: 2.4ms preprocess, 14.8ms inference, 1.9ms postprocess per image at shape (1, 3, 384, 640)\n",
      "\n",
      "0: 384x640 10 foods, 3 persons, 1 dining table, 14 dishess, 13.7ms\n",
      "Speed: 2.1ms preprocess, 13.7ms inference, 3.1ms postprocess per image at shape (1, 3, 384, 640)\n",
      "\n",
      "0: 384x640 10 foods, 3 persons, 1 dining table, 15 dishess, 18.0ms\n",
      "Speed: 3.1ms preprocess, 18.0ms inference, 3.3ms postprocess per image at shape (1, 3, 384, 640)\n",
      "\n",
      "0: 384x640 10 foods, 3 persons, 1 dining table, 14 dishess, 14.3ms\n",
      "Speed: 2.2ms preprocess, 14.3ms inference, 2.4ms postprocess per image at shape (1, 3, 384, 640)\n",
      "\n",
      "0: 384x640 9 foods, 3 persons, 1 dining table, 16 dishess, 18.2ms\n",
      "Speed: 2.2ms preprocess, 18.2ms inference, 3.0ms postprocess per image at shape (1, 3, 384, 640)\n",
      "\n",
      "0: 384x640 10 foods, 3 persons, 1 dining table, 16 dishess, 16.9ms\n",
      "Speed: 1.9ms preprocess, 16.9ms inference, 3.6ms postprocess per image at shape (1, 3, 384, 640)\n",
      "\n",
      "0: 384x640 9 foods, 3 persons, 1 dining table, 18 dishess, 15.6ms\n",
      "Speed: 2.2ms preprocess, 15.6ms inference, 3.7ms postprocess per image at shape (1, 3, 384, 640)\n",
      "\n",
      "0: 384x640 10 foods, 3 persons, 1 dining table, 17 dishess, 18.8ms\n",
      "Speed: 2.0ms preprocess, 18.8ms inference, 3.9ms postprocess per image at shape (1, 3, 384, 640)\n",
      "\n",
      "0: 384x640 10 foods, 3 persons, 2 dining tables, 17 dishess, 20.7ms\n",
      "Speed: 2.5ms preprocess, 20.7ms inference, 4.6ms postprocess per image at shape (1, 3, 384, 640)\n",
      "\n",
      "0: 384x640 10 foods, 3 persons, 17 dishess, 19.0ms\n",
      "Speed: 2.8ms preprocess, 19.0ms inference, 2.4ms postprocess per image at shape (1, 3, 384, 640)\n",
      "\n",
      "0: 384x640 10 foods, 3 persons, 1 dining table, 15 dishess, 20.1ms\n",
      "Speed: 2.1ms preprocess, 20.1ms inference, 2.7ms postprocess per image at shape (1, 3, 384, 640)\n",
      "\n",
      "0: 384x640 11 foods, 3 persons, 1 dining table, 18 dishess, 19.8ms\n",
      "Speed: 2.1ms preprocess, 19.8ms inference, 4.1ms postprocess per image at shape (1, 3, 384, 640)\n",
      "\n",
      "0: 384x640 10 foods, 3 persons, 1 dining table, 16 dishess, 17.6ms\n",
      "Speed: 2.4ms preprocess, 17.6ms inference, 2.5ms postprocess per image at shape (1, 3, 384, 640)\n",
      "\n",
      "0: 384x640 10 foods, 3 persons, 1 dining table, 15 dishess, 15.4ms\n",
      "Speed: 2.2ms preprocess, 15.4ms inference, 3.7ms postprocess per image at shape (1, 3, 384, 640)\n",
      "\n",
      "0: 384x640 10 foods, 3 persons, 1 dining table, 18 dishess, 21.4ms\n",
      "Speed: 1.9ms preprocess, 21.4ms inference, 2.2ms postprocess per image at shape (1, 3, 384, 640)\n",
      "\n",
      "0: 384x640 11 foods, 3 persons, 1 dining table, 19 dishess, 20.6ms\n",
      "Speed: 1.9ms preprocess, 20.6ms inference, 3.8ms postprocess per image at shape (1, 3, 384, 640)\n",
      "\n",
      "0: 384x640 10 foods, 3 persons, 1 dining table, 17 dishess, 33.4ms\n",
      "Speed: 2.3ms preprocess, 33.4ms inference, 2.0ms postprocess per image at shape (1, 3, 384, 640)\n",
      "\n",
      "0: 384x640 10 foods, 3 persons, 1 dining table, 16 dishess, 18.6ms\n",
      "Speed: 2.6ms preprocess, 18.6ms inference, 2.0ms postprocess per image at shape (1, 3, 384, 640)\n",
      "\n",
      "0: 384x640 10 foods, 3 persons, 2 dining tables, 15 dishess, 16.6ms\n",
      "Speed: 2.1ms preprocess, 16.6ms inference, 3.1ms postprocess per image at shape (1, 3, 384, 640)\n",
      "\n",
      "0: 384x640 10 foods, 3 persons, 1 dining table, 13 dishess, 166.4ms\n",
      "Speed: 2.4ms preprocess, 166.4ms inference, 2.0ms postprocess per image at shape (1, 3, 384, 640)\n",
      "\n",
      "0: 384x640 9 foods, 3 persons, 1 dining table, 12 dishess, 10.7ms\n",
      "Speed: 1.6ms preprocess, 10.7ms inference, 1.5ms postprocess per image at shape (1, 3, 384, 640)\n",
      "\n",
      "0: 384x640 8 foods, 3 persons, 1 dining table, 15 dishess, 10.0ms\n",
      "Speed: 1.7ms preprocess, 10.0ms inference, 1.6ms postprocess per image at shape (1, 3, 384, 640)\n",
      "\n",
      "0: 384x640 10 foods, 4 persons, 1 dining table, 15 dishess, 10.1ms\n",
      "Speed: 1.7ms preprocess, 10.1ms inference, 1.5ms postprocess per image at shape (1, 3, 384, 640)\n",
      "\n",
      "0: 384x640 9 foods, 4 persons, 1 dining table, 15 dishess, 10.4ms\n",
      "Speed: 1.8ms preprocess, 10.4ms inference, 1.7ms postprocess per image at shape (1, 3, 384, 640)\n",
      "\n",
      "0: 384x640 10 foods, 3 persons, 1 dining table, 15 dishess, 10.8ms\n",
      "Speed: 1.7ms preprocess, 10.8ms inference, 1.6ms postprocess per image at shape (1, 3, 384, 640)\n",
      "\n",
      "0: 384x640 9 foods, 4 persons, 1 dining table, 16 dishess, 10.9ms\n",
      "Speed: 1.8ms preprocess, 10.9ms inference, 2.0ms postprocess per image at shape (1, 3, 384, 640)\n",
      "\n",
      "0: 384x640 10 foods, 3 persons, 1 dining table, 17 dishess, 10.3ms\n",
      "Speed: 1.9ms preprocess, 10.3ms inference, 2.6ms postprocess per image at shape (1, 3, 384, 640)\n",
      "\n",
      "0: 384x640 11 foods, 3 persons, 1 dining table, 15 dishess, 10.4ms\n",
      "Speed: 1.7ms preprocess, 10.4ms inference, 1.6ms postprocess per image at shape (1, 3, 384, 640)\n",
      "\n",
      "0: 384x640 11 foods, 4 persons, 1 dining table, 16 dishess, 10.0ms\n",
      "Speed: 1.8ms preprocess, 10.0ms inference, 1.6ms postprocess per image at shape (1, 3, 384, 640)\n",
      "\n",
      "0: 384x640 12 foods, 3 persons, 1 dining table, 13 dishess, 10.2ms\n",
      "Speed: 2.1ms preprocess, 10.2ms inference, 2.1ms postprocess per image at shape (1, 3, 384, 640)\n",
      "\n",
      "0: 384x640 11 foods, 4 persons, 1 dining table, 16 dishess, 10.6ms\n",
      "Speed: 1.8ms preprocess, 10.6ms inference, 1.6ms postprocess per image at shape (1, 3, 384, 640)\n",
      "\n",
      "0: 384x640 10 foods, 3 persons, 1 dining table, 16 dishess, 10.2ms\n",
      "Speed: 2.0ms preprocess, 10.2ms inference, 2.4ms postprocess per image at shape (1, 3, 384, 640)\n",
      "\n",
      "0: 384x640 9 foods, 3 persons, 1 dining table, 14 dishess, 11.4ms\n",
      "Speed: 1.9ms preprocess, 11.4ms inference, 2.0ms postprocess per image at shape (1, 3, 384, 640)\n",
      "\n",
      "0: 384x640 10 foods, 3 persons, 1 dining table, 13 dishess, 10.8ms\n",
      "Speed: 1.8ms preprocess, 10.8ms inference, 2.3ms postprocess per image at shape (1, 3, 384, 640)\n",
      "\n",
      "0: 384x640 10 foods, 3 persons, 1 dining table, 16 dishess, 10.8ms\n",
      "Speed: 1.8ms preprocess, 10.8ms inference, 1.6ms postprocess per image at shape (1, 3, 384, 640)\n",
      "\n",
      "0: 384x640 10 foods, 4 persons, 1 dining table, 15 dishess, 10.2ms\n",
      "Speed: 1.8ms preprocess, 10.2ms inference, 2.0ms postprocess per image at shape (1, 3, 384, 640)\n",
      "\n",
      "0: 384x640 12 foods, 3 persons, 1 dining table, 15 dishess, 10.5ms\n",
      "Speed: 1.9ms preprocess, 10.5ms inference, 1.6ms postprocess per image at shape (1, 3, 384, 640)\n",
      "\n",
      "0: 384x640 10 foods, 3 persons, 1 dining table, 15 dishess, 10.6ms\n",
      "Speed: 2.2ms preprocess, 10.6ms inference, 1.7ms postprocess per image at shape (1, 3, 384, 640)\n",
      "\n",
      "0: 384x640 8 foods, 3 persons, 1 dining table, 15 dishess, 16.4ms\n",
      "Speed: 2.2ms preprocess, 16.4ms inference, 1.9ms postprocess per image at shape (1, 3, 384, 640)\n",
      "\n",
      "0: 384x640 8 foods, 3 persons, 1 dining table, 16 dishess, 12.3ms\n",
      "Speed: 2.3ms preprocess, 12.3ms inference, 2.5ms postprocess per image at shape (1, 3, 384, 640)\n",
      "\n",
      "0: 384x640 9 foods, 4 persons, 15 dishess, 10.8ms\n",
      "Speed: 2.1ms preprocess, 10.8ms inference, 2.1ms postprocess per image at shape (1, 3, 384, 640)\n",
      "\n",
      "0: 384x640 10 foods, 4 persons, 1 dining table, 16 dishess, 10.4ms\n",
      "Speed: 2.2ms preprocess, 10.4ms inference, 1.8ms postprocess per image at shape (1, 3, 384, 640)\n",
      "\n",
      "0: 384x640 9 foods, 4 persons, 1 dining table, 19 dishess, 11.4ms\n",
      "Speed: 2.0ms preprocess, 11.4ms inference, 2.0ms postprocess per image at shape (1, 3, 384, 640)\n",
      "\n",
      "0: 384x640 9 foods, 4 persons, 1 dining table, 16 dishess, 11.0ms\n",
      "Speed: 2.1ms preprocess, 11.0ms inference, 1.8ms postprocess per image at shape (1, 3, 384, 640)\n",
      "\n",
      "0: 384x640 8 foods, 3 persons, 1 dining table, 16 dishess, 10.7ms\n",
      "Speed: 2.4ms preprocess, 10.7ms inference, 3.2ms postprocess per image at shape (1, 3, 384, 640)\n",
      "\n",
      "0: 384x640 8 foods, 3 persons, 1 dining table, 16 dishess, 11.8ms\n",
      "Speed: 2.0ms preprocess, 11.8ms inference, 1.7ms postprocess per image at shape (1, 3, 384, 640)\n",
      "\n",
      "0: 384x640 8 foods, 4 persons, 1 dining table, 19 dishess, 11.3ms\n",
      "Speed: 2.0ms preprocess, 11.3ms inference, 3.0ms postprocess per image at shape (1, 3, 384, 640)\n",
      "\n",
      "0: 384x640 8 foods, 3 persons, 1 dining table, 18 dishess, 20.4ms\n",
      "Speed: 2.5ms preprocess, 20.4ms inference, 2.0ms postprocess per image at shape (1, 3, 384, 640)\n",
      "\n",
      "0: 384x640 9 foods, 3 persons, 15 dishess, 21.8ms\n",
      "Speed: 2.0ms preprocess, 21.8ms inference, 4.8ms postprocess per image at shape (1, 3, 384, 640)\n",
      "\n",
      "0: 384x640 10 foods, 4 persons, 1 dining table, 17 dishess, 32.0ms\n",
      "Speed: 2.2ms preprocess, 32.0ms inference, 2.2ms postprocess per image at shape (1, 3, 384, 640)\n",
      "\n",
      "0: 384x640 7 foods, 4 persons, 1 dining table, 17 dishess, 19.2ms\n",
      "Speed: 2.5ms preprocess, 19.2ms inference, 3.3ms postprocess per image at shape (1, 3, 384, 640)\n",
      "\n",
      "0: 384x640 9 foods, 4 persons, 1 dining table, 17 dishess, 19.5ms\n",
      "Speed: 2.0ms preprocess, 19.5ms inference, 4.9ms postprocess per image at shape (1, 3, 384, 640)\n",
      "\n",
      "0: 384x640 5 foods, 4 persons, 1 dining table, 18 dishess, 35.7ms\n",
      "Speed: 37.8ms preprocess, 35.7ms inference, 3.7ms postprocess per image at shape (1, 3, 384, 640)\n",
      "\n",
      "0: 384x640 6 foods, 4 persons, 1 dining table, 18 dishess, 22.0ms\n",
      "Speed: 2.2ms preprocess, 22.0ms inference, 2.0ms postprocess per image at shape (1, 3, 384, 640)\n",
      "\n",
      "0: 384x640 7 foods, 2 persons, 1 dining table, 18 dishess, 23.2ms\n",
      "Speed: 2.2ms preprocess, 23.2ms inference, 2.0ms postprocess per image at shape (1, 3, 384, 640)\n",
      "\n",
      "0: 384x640 8 foods, 3 persons, 16 dishess, 23.2ms\n",
      "Speed: 2.1ms preprocess, 23.2ms inference, 3.7ms postprocess per image at shape (1, 3, 384, 640)\n",
      "\n",
      "0: 384x640 10 foods, 3 persons, 1 dining table, 16 dishess, 26.5ms\n",
      "Speed: 2.6ms preprocess, 26.5ms inference, 4.1ms postprocess per image at shape (1, 3, 384, 640)\n",
      "\n",
      "0: 384x640 11 foods, 4 persons, 1 dining table, 15 dishess, 19.7ms\n",
      "Speed: 2.0ms preprocess, 19.7ms inference, 3.7ms postprocess per image at shape (1, 3, 384, 640)\n",
      "\n",
      "0: 384x640 7 foods, 5 persons, 1 dining table, 16 dishess, 22.7ms\n",
      "Speed: 2.1ms preprocess, 22.7ms inference, 4.2ms postprocess per image at shape (1, 3, 384, 640)\n",
      "\n",
      "0: 384x640 8 foods, 4 persons, 1 dining table, 18 dishess, 51.7ms\n",
      "Speed: 2.2ms preprocess, 51.7ms inference, 4.6ms postprocess per image at shape (1, 3, 384, 640)\n",
      "\n",
      "0: 384x640 7 foods, 3 persons, 1 dining table, 18 dishess, 47.4ms\n",
      "Speed: 2.6ms preprocess, 47.4ms inference, 5.6ms postprocess per image at shape (1, 3, 384, 640)\n",
      "\n",
      "0: 384x640 7 foods, 3 persons, 1 dining table, 16 dishess, 18.9ms\n",
      "Speed: 2.5ms preprocess, 18.9ms inference, 3.6ms postprocess per image at shape (1, 3, 384, 640)\n",
      "\n",
      "0: 384x640 8 foods, 3 persons, 1 dining table, 15 dishess, 20.8ms\n",
      "Speed: 2.1ms preprocess, 20.8ms inference, 2.3ms postprocess per image at shape (1, 3, 384, 640)\n",
      "\n",
      "0: 384x640 6 foods, 3 persons, 1 dining table, 14 dishess, 15.9ms\n",
      "Speed: 2.4ms preprocess, 15.9ms inference, 3.8ms postprocess per image at shape (1, 3, 384, 640)\n",
      "\n",
      "0: 384x640 7 foods, 5 persons, 1 dining table, 15 dishess, 19.0ms\n",
      "Speed: 2.7ms preprocess, 19.0ms inference, 4.8ms postprocess per image at shape (1, 3, 384, 640)\n",
      "\n",
      "0: 384x640 8 foods, 4 persons, 18 dishess, 17.6ms\n",
      "Speed: 2.0ms preprocess, 17.6ms inference, 2.1ms postprocess per image at shape (1, 3, 384, 640)\n",
      "\n",
      "0: 384x640 8 foods, 4 persons, 1 dining table, 18 dishess, 18.4ms\n",
      "Speed: 2.1ms preprocess, 18.4ms inference, 1.8ms postprocess per image at shape (1, 3, 384, 640)\n",
      "\n",
      "0: 384x640 7 foods, 3 persons, 1 dining table, 16 dishess, 15.6ms\n",
      "Speed: 2.2ms preprocess, 15.6ms inference, 3.2ms postprocess per image at shape (1, 3, 384, 640)\n",
      "\n",
      "0: 384x640 7 foods, 3 persons, 1 dining table, 18 dishess, 15.6ms\n",
      "Speed: 2.1ms preprocess, 15.6ms inference, 3.8ms postprocess per image at shape (1, 3, 384, 640)\n",
      "\n",
      "0: 384x640 8 foods, 3 persons, 1 dining table, 13 dishess, 17.7ms\n",
      "Speed: 2.2ms preprocess, 17.7ms inference, 1.9ms postprocess per image at shape (1, 3, 384, 640)\n",
      "\n",
      "0: 384x640 8 foods, 3 persons, 1 dining table, 13 dishess, 17.9ms\n",
      "Speed: 2.1ms preprocess, 17.9ms inference, 3.4ms postprocess per image at shape (1, 3, 384, 640)\n",
      "\n",
      "0: 384x640 9 foods, 3 persons, 1 dining table, 13 dishess, 15.8ms\n",
      "Speed: 2.4ms preprocess, 15.8ms inference, 3.5ms postprocess per image at shape (1, 3, 384, 640)\n",
      "\n",
      "0: 384x640 10 foods, 3 persons, 1 dining table, 13 dishess, 18.7ms\n",
      "Speed: 3.8ms preprocess, 18.7ms inference, 2.2ms postprocess per image at shape (1, 3, 384, 640)\n",
      "\n",
      "0: 384x640 10 foods, 3 persons, 1 dining table, 14 dishess, 20.2ms\n",
      "Speed: 2.0ms preprocess, 20.2ms inference, 3.7ms postprocess per image at shape (1, 3, 384, 640)\n",
      "\n",
      "0: 384x640 11 foods, 3 persons, 1 dining table, 12 dishess, 17.6ms\n",
      "Speed: 2.1ms preprocess, 17.6ms inference, 3.5ms postprocess per image at shape (1, 3, 384, 640)\n",
      "\n",
      "0: 384x640 10 foods, 3 persons, 1 dining table, 12 dishess, 19.5ms\n",
      "Speed: 2.2ms preprocess, 19.5ms inference, 3.8ms postprocess per image at shape (1, 3, 384, 640)\n",
      "\n",
      "0: 384x640 10 foods, 3 persons, 1 dining table, 13 dishess, 18.5ms\n",
      "Speed: 2.1ms preprocess, 18.5ms inference, 3.9ms postprocess per image at shape (1, 3, 384, 640)\n",
      "\n",
      "0: 384x640 10 foods, 3 persons, 1 dining table, 14 dishess, 44.3ms\n",
      "Speed: 2.7ms preprocess, 44.3ms inference, 4.1ms postprocess per image at shape (1, 3, 384, 640)\n",
      "\n",
      "0: 384x640 10 foods, 3 persons, 1 dining table, 13 dishess, 17.3ms\n",
      "Speed: 2.3ms preprocess, 17.3ms inference, 2.3ms postprocess per image at shape (1, 3, 384, 640)\n",
      "\n",
      "0: 384x640 9 foods, 3 persons, 1 dining table, 13 dishess, 15.4ms\n",
      "Speed: 2.3ms preprocess, 15.4ms inference, 3.5ms postprocess per image at shape (1, 3, 384, 640)\n",
      "\n",
      "0: 384x640 9 foods, 3 persons, 1 dining table, 13 dishess, 19.1ms\n",
      "Speed: 2.5ms preprocess, 19.1ms inference, 2.5ms postprocess per image at shape (1, 3, 384, 640)\n",
      "\n",
      "0: 384x640 11 foods, 3 persons, 1 dining table, 16 dishess, 19.0ms\n",
      "Speed: 2.0ms preprocess, 19.0ms inference, 4.0ms postprocess per image at shape (1, 3, 384, 640)\n",
      "\n",
      "0: 384x640 11 foods, 3 persons, 1 dining table, 14 dishess, 19.1ms\n",
      "Speed: 2.4ms preprocess, 19.1ms inference, 2.5ms postprocess per image at shape (1, 3, 384, 640)\n",
      "\n",
      "0: 384x640 10 foods, 3 persons, 1 dining table, 15 dishess, 19.9ms\n",
      "Speed: 2.9ms preprocess, 19.9ms inference, 4.6ms postprocess per image at shape (1, 3, 384, 640)\n",
      "\n",
      "0: 384x640 9 foods, 3 persons, 1 dining table, 17 dishess, 17.4ms\n",
      "Speed: 2.2ms preprocess, 17.4ms inference, 3.5ms postprocess per image at shape (1, 3, 384, 640)\n",
      "\n",
      "0: 384x640 9 foods, 3 persons, 1 dining table, 17 dishess, 17.8ms\n",
      "Speed: 2.1ms preprocess, 17.8ms inference, 2.0ms postprocess per image at shape (1, 3, 384, 640)\n",
      "\n",
      "0: 384x640 9 foods, 3 persons, 1 dining table, 17 dishess, 16.4ms\n",
      "Speed: 2.4ms preprocess, 16.4ms inference, 3.1ms postprocess per image at shape (1, 3, 384, 640)\n",
      "\n",
      "0: 384x640 8 foods, 3 persons, 1 dining table, 16 dishess, 17.0ms\n",
      "Speed: 2.0ms preprocess, 17.0ms inference, 4.2ms postprocess per image at shape (1, 3, 384, 640)\n",
      "\n",
      "0: 384x640 8 foods, 3 persons, 1 dining table, 16 dishess, 34.6ms\n",
      "Speed: 3.1ms preprocess, 34.6ms inference, 4.4ms postprocess per image at shape (1, 3, 384, 640)\n",
      "\n",
      "0: 384x640 9 foods, 3 persons, 1 dining table, 16 dishess, 19.2ms\n",
      "Speed: 2.4ms preprocess, 19.2ms inference, 4.4ms postprocess per image at shape (1, 3, 384, 640)\n",
      "\n",
      "0: 384x640 8 foods, 3 persons, 1 dining table, 16 dishess, 18.1ms\n",
      "Speed: 2.1ms preprocess, 18.1ms inference, 2.8ms postprocess per image at shape (1, 3, 384, 640)\n",
      "\n",
      "0: 384x640 8 foods, 4 persons, 1 dining table, 15 dishess, 21.1ms\n",
      "Speed: 2.4ms preprocess, 21.1ms inference, 2.7ms postprocess per image at shape (1, 3, 384, 640)\n",
      "\n",
      "0: 384x640 10 foods, 3 persons, 16 dishess, 16.6ms\n",
      "Speed: 2.2ms preprocess, 16.6ms inference, 4.1ms postprocess per image at shape (1, 3, 384, 640)\n",
      "\n",
      "0: 384x640 7 foods, 4 persons, 18 dishess, 21.6ms\n",
      "Speed: 3.7ms preprocess, 21.6ms inference, 2.0ms postprocess per image at shape (1, 3, 384, 640)\n",
      "\n",
      "0: 384x640 8 foods, 4 persons, 16 dishess, 19.7ms\n",
      "Speed: 6.3ms preprocess, 19.7ms inference, 2.3ms postprocess per image at shape (1, 3, 384, 640)\n",
      "\n",
      "0: 384x640 8 foods, 3 persons, 15 dishess, 17.2ms\n",
      "Speed: 2.8ms preprocess, 17.2ms inference, 3.3ms postprocess per image at shape (1, 3, 384, 640)\n",
      "\n",
      "0: 384x640 8 foods, 3 persons, 18 dishess, 18.1ms\n",
      "Speed: 2.4ms preprocess, 18.1ms inference, 2.0ms postprocess per image at shape (1, 3, 384, 640)\n",
      "\n",
      "0: 384x640 8 foods, 3 persons, 15 dishess, 17.5ms\n",
      "Speed: 2.0ms preprocess, 17.5ms inference, 2.2ms postprocess per image at shape (1, 3, 384, 640)\n",
      "\n",
      "0: 384x640 8 foods, 3 persons, 15 dishess, 15.9ms\n",
      "Speed: 2.6ms preprocess, 15.9ms inference, 5.5ms postprocess per image at shape (1, 3, 384, 640)\n",
      "\n",
      "0: 384x640 8 foods, 3 persons, 15 dishess, 187.2ms\n",
      "Speed: 2.4ms preprocess, 187.2ms inference, 2.4ms postprocess per image at shape (1, 3, 384, 640)\n",
      "\n",
      "0: 384x640 6 foods, 3 persons, 11 dishess, 9.9ms\n",
      "Speed: 1.5ms preprocess, 9.9ms inference, 1.6ms postprocess per image at shape (1, 3, 384, 640)\n",
      "\n",
      "0: 384x640 8 foods, 3 persons, 14 dishess, 10.2ms\n",
      "Speed: 1.7ms preprocess, 10.2ms inference, 1.6ms postprocess per image at shape (1, 3, 384, 640)\n",
      "\n",
      "0: 384x640 8 foods, 3 persons, 14 dishess, 9.9ms\n",
      "Speed: 1.5ms preprocess, 9.9ms inference, 1.6ms postprocess per image at shape (1, 3, 384, 640)\n",
      "\n",
      "0: 384x640 7 foods, 3 persons, 13 dishess, 17.1ms\n",
      "Speed: 1.6ms preprocess, 17.1ms inference, 1.9ms postprocess per image at shape (1, 3, 384, 640)\n",
      "\n",
      "0: 384x640 6 foods, 3 persons, 12 dishess, 10.1ms\n",
      "Speed: 1.7ms preprocess, 10.1ms inference, 1.5ms postprocess per image at shape (1, 3, 384, 640)\n",
      "\n",
      "0: 384x640 8 foods, 3 persons, 14 dishess, 10.9ms\n",
      "Speed: 1.8ms preprocess, 10.9ms inference, 2.1ms postprocess per image at shape (1, 3, 384, 640)\n",
      "\n",
      "0: 384x640 6 foods, 3 persons, 13 dishess, 10.3ms\n",
      "Speed: 1.6ms preprocess, 10.3ms inference, 2.0ms postprocess per image at shape (1, 3, 384, 640)\n",
      "\n",
      "0: 384x640 6 foods, 3 persons, 10 dishess, 10.3ms\n",
      "Speed: 1.7ms preprocess, 10.3ms inference, 1.5ms postprocess per image at shape (1, 3, 384, 640)\n",
      "\n",
      "0: 384x640 9 foods, 3 persons, 11 dishess, 10.2ms\n",
      "Speed: 1.9ms preprocess, 10.2ms inference, 1.7ms postprocess per image at shape (1, 3, 384, 640)\n",
      "\n",
      "0: 384x640 7 foods, 3 persons, 12 dishess, 10.5ms\n",
      "Speed: 1.7ms preprocess, 10.5ms inference, 1.5ms postprocess per image at shape (1, 3, 384, 640)\n",
      "\n",
      "0: 384x640 9 foods, 4 persons, 12 dishess, 10.2ms\n",
      "Speed: 2.2ms preprocess, 10.2ms inference, 2.5ms postprocess per image at shape (1, 3, 384, 640)\n",
      "\n",
      "0: 384x640 8 foods, 4 persons, 11 dishess, 10.8ms\n",
      "Speed: 1.7ms preprocess, 10.8ms inference, 1.9ms postprocess per image at shape (1, 3, 384, 640)\n",
      "\n",
      "0: 384x640 10 foods, 4 persons, 12 dishess, 14.1ms\n",
      "Speed: 2.1ms preprocess, 14.1ms inference, 2.4ms postprocess per image at shape (1, 3, 384, 640)\n",
      "\n",
      "0: 384x640 10 foods, 4 persons, 10 dishess, 11.3ms\n",
      "Speed: 1.7ms preprocess, 11.3ms inference, 2.3ms postprocess per image at shape (1, 3, 384, 640)\n",
      "\n",
      "0: 384x640 9 foods, 4 persons, 13 dishess, 11.0ms\n",
      "Speed: 1.7ms preprocess, 11.0ms inference, 1.7ms postprocess per image at shape (1, 3, 384, 640)\n",
      "\n",
      "0: 384x640 8 foods, 4 persons, 13 dishess, 10.3ms\n",
      "Speed: 1.9ms preprocess, 10.3ms inference, 1.5ms postprocess per image at shape (1, 3, 384, 640)\n",
      "\n",
      "0: 384x640 9 foods, 3 persons, 12 dishess, 10.3ms\n",
      "Speed: 1.8ms preprocess, 10.3ms inference, 2.0ms postprocess per image at shape (1, 3, 384, 640)\n",
      "\n",
      "0: 384x640 9 foods, 3 persons, 10 dishess, 11.3ms\n",
      "Speed: 1.7ms preprocess, 11.3ms inference, 1.7ms postprocess per image at shape (1, 3, 384, 640)\n",
      "\n",
      "0: 384x640 6 foods, 3 persons, 12 dishess, 10.0ms\n",
      "Speed: 1.7ms preprocess, 10.0ms inference, 1.5ms postprocess per image at shape (1, 3, 384, 640)\n",
      "\n",
      "0: 384x640 7 foods, 3 persons, 10 dishess, 18.0ms\n",
      "Speed: 2.0ms preprocess, 18.0ms inference, 2.7ms postprocess per image at shape (1, 3, 384, 640)\n",
      "\n",
      "0: 384x640 6 foods, 3 persons, 11 dishess, 10.4ms\n",
      "Speed: 1.7ms preprocess, 10.4ms inference, 1.6ms postprocess per image at shape (1, 3, 384, 640)\n",
      "\n",
      "0: 384x640 7 foods, 3 persons, 12 dishess, 10.4ms\n",
      "Speed: 1.7ms preprocess, 10.4ms inference, 1.9ms postprocess per image at shape (1, 3, 384, 640)\n",
      "\n",
      "0: 384x640 5 foods, 3 persons, 10 dishess, 9.8ms\n",
      "Speed: 1.8ms preprocess, 9.8ms inference, 9.5ms postprocess per image at shape (1, 3, 384, 640)\n",
      "\n",
      "0: 384x640 7 foods, 3 persons, 11 dishess, 11.9ms\n",
      "Speed: 1.9ms preprocess, 11.9ms inference, 1.6ms postprocess per image at shape (1, 3, 384, 640)\n",
      "\n",
      "0: 384x640 7 foods, 3 persons, 12 dishess, 9.8ms\n",
      "Speed: 1.6ms preprocess, 9.8ms inference, 1.6ms postprocess per image at shape (1, 3, 384, 640)\n",
      "\n",
      "0: 384x640 7 foods, 3 persons, 13 dishess, 11.1ms\n",
      "Speed: 2.2ms preprocess, 11.1ms inference, 2.2ms postprocess per image at shape (1, 3, 384, 640)\n",
      "\n",
      "0: 384x640 9 foods, 3 persons, 11 dishess, 9.8ms\n",
      "Speed: 2.0ms preprocess, 9.8ms inference, 2.7ms postprocess per image at shape (1, 3, 384, 640)\n",
      "\n",
      "0: 384x640 8 foods, 3 persons, 13 dishess, 10.8ms\n",
      "Speed: 1.9ms preprocess, 10.8ms inference, 1.6ms postprocess per image at shape (1, 3, 384, 640)\n",
      "\n",
      "0: 384x640 7 foods, 3 persons, 14 dishess, 10.5ms\n",
      "Speed: 1.9ms preprocess, 10.5ms inference, 1.7ms postprocess per image at shape (1, 3, 384, 640)\n",
      "\n",
      "0: 384x640 6 foods, 3 persons, 14 dishess, 10.4ms\n",
      "Speed: 1.9ms preprocess, 10.4ms inference, 1.7ms postprocess per image at shape (1, 3, 384, 640)\n",
      "\n",
      "0: 384x640 6 foods, 3 persons, 12 dishess, 11.1ms\n",
      "Speed: 2.0ms preprocess, 11.1ms inference, 1.7ms postprocess per image at shape (1, 3, 384, 640)\n",
      "\n",
      "0: 384x640 7 foods, 3 persons, 12 dishess, 15.5ms\n",
      "Speed: 2.0ms preprocess, 15.5ms inference, 2.4ms postprocess per image at shape (1, 3, 384, 640)\n",
      "\n",
      "0: 384x640 8 foods, 3 persons, 11 dishess, 17.5ms\n",
      "Speed: 2.0ms preprocess, 17.5ms inference, 1.9ms postprocess per image at shape (1, 3, 384, 640)\n",
      "\n",
      "0: 384x640 6 foods, 3 persons, 14 dishess, 17.0ms\n",
      "Speed: 2.1ms preprocess, 17.0ms inference, 4.2ms postprocess per image at shape (1, 3, 384, 640)\n",
      "\n",
      "0: 384x640 6 foods, 3 persons, 14 dishess, 18.9ms\n",
      "Speed: 2.0ms preprocess, 18.9ms inference, 3.3ms postprocess per image at shape (1, 3, 384, 640)\n",
      "\n",
      "0: 384x640 6 foods, 3 persons, 14 dishess, 19.3ms\n",
      "Speed: 3.2ms preprocess, 19.3ms inference, 1.9ms postprocess per image at shape (1, 3, 384, 640)\n",
      "\n",
      "0: 384x640 6 foods, 3 persons, 13 dishess, 18.5ms\n",
      "Speed: 1.9ms preprocess, 18.5ms inference, 5.1ms postprocess per image at shape (1, 3, 384, 640)\n",
      "\n",
      "0: 384x640 5 foods, 3 persons, 14 dishess, 18.1ms\n",
      "Speed: 2.1ms preprocess, 18.1ms inference, 1.9ms postprocess per image at shape (1, 3, 384, 640)\n",
      "\n",
      "0: 384x640 5 foods, 3 persons, 11 dishess, 18.2ms\n",
      "Speed: 2.1ms preprocess, 18.2ms inference, 3.0ms postprocess per image at shape (1, 3, 384, 640)\n",
      "\n",
      "0: 384x640 5 foods, 2 persons, 12 dishess, 17.3ms\n",
      "Speed: 2.4ms preprocess, 17.3ms inference, 1.9ms postprocess per image at shape (1, 3, 384, 640)\n",
      "\n",
      "0: 384x640 5 foods, 3 persons, 10 dishess, 18.5ms\n",
      "Speed: 2.0ms preprocess, 18.5ms inference, 3.2ms postprocess per image at shape (1, 3, 384, 640)\n",
      "\n",
      "0: 384x640 5 foods, 3 persons, 12 dishess, 17.7ms\n",
      "Speed: 2.2ms preprocess, 17.7ms inference, 3.1ms postprocess per image at shape (1, 3, 384, 640)\n",
      "\n",
      "0: 384x640 5 foods, 3 persons, 12 dishess, 21.8ms\n",
      "Speed: 2.2ms preprocess, 21.8ms inference, 1.9ms postprocess per image at shape (1, 3, 384, 640)\n",
      "\n",
      "0: 384x640 4 foods, 3 persons, 13 dishess, 19.0ms\n",
      "Speed: 2.1ms preprocess, 19.0ms inference, 3.2ms postprocess per image at shape (1, 3, 384, 640)\n",
      "\n",
      "0: 384x640 4 foods, 3 persons, 10 dishess, 22.4ms\n",
      "Speed: 2.4ms preprocess, 22.4ms inference, 2.1ms postprocess per image at shape (1, 3, 384, 640)\n",
      "\n",
      "0: 384x640 6 foods, 3 persons, 10 dishess, 58.2ms\n",
      "Speed: 2.3ms preprocess, 58.2ms inference, 2.0ms postprocess per image at shape (1, 3, 384, 640)\n",
      "\n",
      "0: 384x640 6 foods, 3 persons, 9 dishess, 22.6ms\n",
      "Speed: 2.0ms preprocess, 22.6ms inference, 3.6ms postprocess per image at shape (1, 3, 384, 640)\n",
      "\n",
      "0: 384x640 7 foods, 3 persons, 11 dishess, 18.7ms\n",
      "Speed: 2.1ms preprocess, 18.7ms inference, 2.1ms postprocess per image at shape (1, 3, 384, 640)\n",
      "\n",
      "0: 384x640 5 foods, 3 persons, 11 dishess, 22.3ms\n",
      "Speed: 2.1ms preprocess, 22.3ms inference, 2.4ms postprocess per image at shape (1, 3, 384, 640)\n",
      "\n",
      "0: 384x640 5 foods, 3 persons, 11 dishess, 18.8ms\n",
      "Speed: 2.1ms preprocess, 18.8ms inference, 3.7ms postprocess per image at shape (1, 3, 384, 640)\n",
      "\n",
      "0: 384x640 6 foods, 3 persons, 9 dishess, 15.8ms\n",
      "Speed: 2.1ms preprocess, 15.8ms inference, 4.0ms postprocess per image at shape (1, 3, 384, 640)\n",
      "\n",
      "0: 384x640 5 foods, 3 persons, 9 dishess, 15.9ms\n",
      "Speed: 2.9ms preprocess, 15.9ms inference, 3.8ms postprocess per image at shape (1, 3, 384, 640)\n",
      "\n",
      "0: 384x640 6 foods, 3 persons, 8 dishess, 22.6ms\n",
      "Speed: 2.1ms preprocess, 22.6ms inference, 1.9ms postprocess per image at shape (1, 3, 384, 640)\n",
      "\n",
      "0: 384x640 5 foods, 3 persons, 8 dishess, 19.9ms\n",
      "Speed: 2.2ms preprocess, 19.9ms inference, 3.4ms postprocess per image at shape (1, 3, 384, 640)\n",
      "\n",
      "0: 384x640 5 foods, 3 persons, 8 dishess, 18.8ms\n",
      "Speed: 2.2ms preprocess, 18.8ms inference, 3.5ms postprocess per image at shape (1, 3, 384, 640)\n",
      "\n",
      "0: 384x640 7 foods, 3 persons, 8 dishess, 18.2ms\n",
      "Speed: 2.1ms preprocess, 18.2ms inference, 3.6ms postprocess per image at shape (1, 3, 384, 640)\n",
      "\n",
      "0: 384x640 6 foods, 3 persons, 9 dishess, 24.6ms\n",
      "Speed: 2.1ms preprocess, 24.6ms inference, 5.0ms postprocess per image at shape (1, 3, 384, 640)\n",
      "\n",
      "0: 384x640 6 foods, 3 persons, 9 dishess, 61.1ms\n",
      "Speed: 2.3ms preprocess, 61.1ms inference, 3.9ms postprocess per image at shape (1, 3, 384, 640)\n",
      "\n",
      "0: 384x640 6 foods, 3 persons, 7 dishess, 21.1ms\n",
      "Speed: 2.1ms preprocess, 21.1ms inference, 4.7ms postprocess per image at shape (1, 3, 384, 640)\n",
      "\n",
      "0: 384x640 5 foods, 3 persons, 8 dishess, 19.2ms\n",
      "Speed: 2.1ms preprocess, 19.2ms inference, 3.5ms postprocess per image at shape (1, 3, 384, 640)\n",
      "\n",
      "0: 384x640 7 foods, 3 persons, 9 dishess, 20.9ms\n",
      "Speed: 2.1ms preprocess, 20.9ms inference, 2.0ms postprocess per image at shape (1, 3, 384, 640)\n",
      "\n",
      "0: 384x640 8 foods, 3 persons, 7 dishess, 19.3ms\n",
      "Speed: 2.1ms preprocess, 19.3ms inference, 3.9ms postprocess per image at shape (1, 3, 384, 640)\n",
      "\n",
      "0: 384x640 7 foods, 3 persons, 7 dishess, 17.2ms\n",
      "Speed: 2.8ms preprocess, 17.2ms inference, 3.7ms postprocess per image at shape (1, 3, 384, 640)\n",
      "\n",
      "0: 384x640 7 foods, 3 persons, 11 dishess, 17.1ms\n",
      "Speed: 2.9ms preprocess, 17.1ms inference, 3.3ms postprocess per image at shape (1, 3, 384, 640)\n",
      "\n",
      "0: 384x640 7 foods, 3 persons, 11 dishess, 16.1ms\n",
      "Speed: 2.1ms preprocess, 16.1ms inference, 3.6ms postprocess per image at shape (1, 3, 384, 640)\n",
      "\n",
      "0: 384x640 6 foods, 3 persons, 12 dishess, 18.2ms\n",
      "Speed: 2.8ms preprocess, 18.2ms inference, 3.8ms postprocess per image at shape (1, 3, 384, 640)\n"
     ]
    }
   ],
   "source": [
    "from collections import defaultdict\n",
    "import cv2\n",
    "import numpy as np\n",
    "from ultralytics import YOLO\n",
    "\n",
    "# Load the YOLO11 model\n",
    "model = YOLO(r\"runs\\detect\\train\\weights\\best.pt\")\n",
    "\n",
    "# Open the video file\n",
    "# video_path = r\"dataset\\test.mov\"\n",
    "video_path = r\"тест\\6011752_Person_People_3840x2160.mov\"\n",
    "cap = cv2.VideoCapture(video_path)\n",
    "\n",
    "# Получаем размер экрана (монитора)\n",
    "screen_res = (1920, 1080)  # Можно заменить на реальный размер экрана, например с помощью pyautogui или ctypes\n",
    "# Альтернативный способ получить разрешение экрана (для Windows):\n",
    "# import ctypes\n",
    "# user32 = ctypes.windll.user32\n",
    "# screen_res = (user32.GetSystemMetrics(0), user32.GetSystemMetrics(1))\n",
    "\n",
    "max_width, max_height = screen_res\n",
    "\n",
    "# Store the track history\n",
    "track_history = defaultdict(lambda: [])\n",
    "\n",
    "def scale_frame(frame, max_width, max_height):\n",
    "    height, width = frame.shape[:2]\n",
    "    scale = min(max_width / width, max_height / height)\n",
    "    new_width = int(width * scale)\n",
    "    new_height = int(height * scale)\n",
    "    return cv2.resize(frame, (new_width, new_height))\n",
    "\n",
    "# Loop through the video frames\n",
    "while cap.isOpened():\n",
    "    success, frame = cap.read()\n",
    "    if success:\n",
    "        # Run YOLO11 tracking on the frame, persisting tracks between frames\n",
    "        result = model.track(frame,\n",
    "                              persist=True,\n",
    "                              conf=0.5,\n",
    "                             )[0]\n",
    "\n",
    "        # Get the boxes and track IDs\n",
    "        if result.boxes and result.boxes.is_track:\n",
    "            boxes = result.boxes.xywh.cpu()\n",
    "            track_ids = result.boxes.id.int().cpu().tolist()\n",
    "\n",
    "            # Visualize the result on the frame\n",
    "            frame = result.plot()\n",
    "\n",
    "            # Plot the tracks\n",
    "            for box, track_id in zip(boxes, track_ids):\n",
    "                x, y, w, h = box\n",
    "                track = track_history[track_id]\n",
    "                track.append((float(x), float(y)))  # x, y center point\n",
    "                if len(track) > 30:  # retain 30 tracks for 30 frames\n",
    "                    track.pop(0)\n",
    "\n",
    "                # Draw the tracking lines\n",
    "                points = np.hstack(track).astype(np.int32).reshape((-1, 1, 2))\n",
    "                cv2.polylines(frame, [points], isClosed=False, color=(230, 230, 230), thickness=10)\n",
    "\n",
    "        # Масштабируем кадр под экран\n",
    "        frame_resized = scale_frame(frame, max_width, max_height)\n",
    "\n",
    "        # Display the annotated frame\n",
    "        cv2.imshow(\"YOLO11 Tracking\", frame_resized)\n",
    "\n",
    "        # Break the loop if 'q' is pressed\n",
    "        if cv2.waitKey(1) & 0xFF == ord(\"q\"):\n",
    "            break\n",
    "    else:\n",
    "        break\n",
    "\n",
    "cap.release()\n",
    "cv2.destroyAllWindows()\n"
   ]
  },
  {
   "cell_type": "markdown",
   "metadata": {},
   "source": [
    "# Итог \n",
    "\n",
    "В целом модель полностью готова, на тестовом видео не видит только одно блюдо в центре, из-за того, что я его проморгал каким то образом на разметке, так же начинают мелькать лишние детали из-за качества разметки, я не чистил мелкие полигоны авторазметки для экономии времени. \n",
    "\n",
    "Что касается качества результата, все упирается в разметку\n",
    "\n",
    "# Оценка по времени \n",
    "\n",
    "Дойти до этого момента заняло 4 часа\n",
    "\n",
    "2 часа на препроцессинг (получение датасета, тесты моделей для авторазметки, нарезка видео, настройка авторазметки)\n",
    "1:30 часа на разметку\n",
    "30 минут на подготовку датасета и версионирование. "
   ]
  },
  {
   "cell_type": "markdown",
   "metadata": {},
   "source": [
    "# Перед более подробным подбором гиперпараметров увеличим количество эпох и размер изображений"
   ]
  },
  {
   "cell_type": "code",
   "execution_count": 23,
   "metadata": {},
   "outputs": [
    {
     "name": "stderr",
     "output_type": "stream",
     "text": [
      "<>:1: SyntaxWarning:\n",
      "\n",
      "invalid escape sequence '\\y'\n",
      "\n",
      "<>:1: SyntaxWarning:\n",
      "\n",
      "invalid escape sequence '\\y'\n",
      "\n",
      "C:\\Users\\Администратор\\AppData\\Local\\Temp\\ipykernel_14760\\1589773017.py:1: SyntaxWarning:\n",
      "\n",
      "invalid escape sequence '\\y'\n",
      "\n"
     ]
    },
    {
     "name": "stdout",
     "output_type": "stream",
     "text": [
      "Ultralytics 8.3.158  Python-3.13.1 torch-2.7.1+cu128 CUDA:0 (NVIDIA GeForce RTX 3090, 24576MiB)\n",
      "\u001b[34m\u001b[1mengine\\trainer: \u001b[0magnostic_nms=False, amp=True, augment=False, auto_augment=randaugment, batch=-1, bgr=0.0, box=7.5, cache=False, cfg=None, classes=None, close_mosaic=10, cls=0.5, conf=None, copy_paste=0.0, copy_paste_mode=flip, cos_lr=False, cutmix=0.0, data=yolo_dataset\\yolo_dataset.yaml, degrees=0.0, deterministic=True, device=0, dfl=1.5, dnn=False, dropout=0.0, dynamic=False, embed=None, epochs=40, erasing=0.4, exist_ok=False, fliplr=0.5, flipud=0.0, format=torchscript, fraction=1.0, freeze=None, half=False, hsv_h=0.015, hsv_s=0.7, hsv_v=0.4, imgsz=1280, int8=False, iou=0.7, keras=False, kobj=1.0, line_width=None, lr0=0.01, lrf=0.01, mask_ratio=4, max_det=300, mixup=0.0, mode=train, model=runs\\detect\\train\\weights\\best.pt, momentum=0.937, mosaic=1.0, multi_scale=False, name=train2, nbs=64, nms=False, opset=None, optimize=False, optimizer=auto, overlap_mask=True, patience=100, perspective=0.0, plots=True, pose=12.0, pretrained=True, profile=False, project=None, rect=False, resume=False, retina_masks=False, save=True, save_conf=False, save_crop=False, save_dir=runs\\detect\\train2, save_frames=False, save_json=False, save_period=-1, save_txt=False, scale=0.5, seed=0, shear=0.0, show=False, show_boxes=True, show_conf=True, show_labels=True, simplify=True, single_cls=False, source=None, split=val, stream_buffer=False, task=detect, time=None, tracker=botsort.yaml, translate=0.1, val=True, verbose=True, vid_stride=1, visualize=False, warmup_bias_lr=0.1, warmup_epochs=3.0, warmup_momentum=0.8, weight_decay=0.0005, workers=4, workspace=None\n",
      "\n",
      "                   from  n    params  module                                       arguments                     \n",
      "  0                  -1  1       928  ultralytics.nn.modules.conv.Conv             [3, 32, 3, 2]                 \n",
      "  1                  -1  1     18560  ultralytics.nn.modules.conv.Conv             [32, 64, 3, 2]                \n",
      "  2                  -1  1     26080  ultralytics.nn.modules.block.C3k2            [64, 128, 1, False, 0.25]     \n",
      "  3                  -1  1    147712  ultralytics.nn.modules.conv.Conv             [128, 128, 3, 2]              \n",
      "  4                  -1  1    103360  ultralytics.nn.modules.block.C3k2            [128, 256, 1, False, 0.25]    \n",
      "  5                  -1  1    590336  ultralytics.nn.modules.conv.Conv             [256, 256, 3, 2]              \n",
      "  6                  -1  1    346112  ultralytics.nn.modules.block.C3k2            [256, 256, 1, True]           \n",
      "  7                  -1  1   1180672  ultralytics.nn.modules.conv.Conv             [256, 512, 3, 2]              \n",
      "  8                  -1  1   1380352  ultralytics.nn.modules.block.C3k2            [512, 512, 1, True]           \n",
      "  9                  -1  1    656896  ultralytics.nn.modules.block.SPPF            [512, 512, 5]                 \n",
      " 10                  -1  1    990976  ultralytics.nn.modules.block.C2PSA           [512, 512, 1]                 \n",
      " 11                  -1  1         0  torch.nn.modules.upsampling.Upsample         [None, 2, 'nearest']          \n",
      " 12             [-1, 6]  1         0  ultralytics.nn.modules.conv.Concat           [1]                           \n",
      " 13                  -1  1    443776  ultralytics.nn.modules.block.C3k2            [768, 256, 1, False]          \n",
      " 14                  -1  1         0  torch.nn.modules.upsampling.Upsample         [None, 2, 'nearest']          \n",
      " 15             [-1, 4]  1         0  ultralytics.nn.modules.conv.Concat           [1]                           \n",
      " 16                  -1  1    127680  ultralytics.nn.modules.block.C3k2            [512, 128, 1, False]          \n",
      " 17                  -1  1    147712  ultralytics.nn.modules.conv.Conv             [128, 128, 3, 2]              \n",
      " 18            [-1, 13]  1         0  ultralytics.nn.modules.conv.Concat           [1]                           \n",
      " 19                  -1  1    345472  ultralytics.nn.modules.block.C3k2            [384, 256, 1, False]          \n",
      " 20                  -1  1    590336  ultralytics.nn.modules.conv.Conv             [256, 256, 3, 2]              \n",
      " 21            [-1, 10]  1         0  ultralytics.nn.modules.conv.Concat           [1]                           \n",
      " 22                  -1  1   1511424  ultralytics.nn.modules.block.C3k2            [768, 512, 1, True]           \n",
      " 23        [16, 19, 22]  1    820956  ultralytics.nn.modules.head.Detect           [4, [128, 256, 512]]          \n",
      "YOLO11s summary: 181 layers, 9,429,340 parameters, 9,429,324 gradients, 21.6 GFLOPs\n",
      "\n",
      "Transferred 94/499 items from pretrained weights\n",
      "Freezing layer 'model.23.dfl.conv.weight'\n",
      "\u001b[34m\u001b[1mAMP: \u001b[0mrunning Automatic Mixed Precision (AMP) checks...\n",
      "\u001b[34m\u001b[1mAMP: \u001b[0mchecks passed \n",
      "\u001b[34m\u001b[1mtrain: \u001b[0mFast image access  (ping: 0.00.0 ms, read: 2749.1476.7 MB/s, size: 236.1 KB)\n"
     ]
    },
    {
     "name": "stderr",
     "output_type": "stream",
     "text": [
      "\u001b[34m\u001b[1mtrain: \u001b[0mScanning C:\\Users\\Администратор\\Desktop\\zebra_test\\yolo_dataset\\labels\\train.cache... 285 images, 0 backgrounds, 0 corrupt: 100%|██████████| 285/285 [00:00<?, ?it/s]"
     ]
    },
    {
     "name": "stdout",
     "output_type": "stream",
     "text": [
      "\u001b[34m\u001b[1mAutoBatch: \u001b[0mComputing optimal batch size for imgsz=1280 at 60.0% CUDA memory utilization.\n",
      "\u001b[34m\u001b[1mAutoBatch: \u001b[0mCUDA:0 (NVIDIA GeForce RTX 3090) 24.00G total, 1.21G reserved, 0.57G allocated, 22.22G free\n"
     ]
    },
    {
     "name": "stderr",
     "output_type": "stream",
     "text": [
      "\n"
     ]
    },
    {
     "name": "stdout",
     "output_type": "stream",
     "text": [
      "      Params      GFLOPs  GPU_mem (GB)  forward (ms) backward (ms)                   input                  output\n",
      "     9429340       86.22         1.961         117.5         137.1      (1, 3, 1280, 1280)                    list\n",
      "     9429340       172.4         3.217          46.6         135.8      (2, 3, 1280, 1280)                    list\n",
      "     9429340       344.9         5.482         85.61         135.8      (4, 3, 1280, 1280)                    list\n",
      "     9429340       689.8        10.177         166.9         149.3      (8, 3, 1280, 1280)                    list\n",
      "     9429340        1380        19.258         752.1         289.4     (16, 3, 1280, 1280)                    list\n",
      "     9429340        2759        37.430      1.29e+04     6.661e+04     (32, 3, 1280, 1280)                    list\n",
      "CUDA out of memory. Tried to allocate 50.00 MiB. GPU 0 has a total capacity of 24.00 GiB of which 0 bytes is free. Of the allocated memory 35.58 GiB is allocated by PyTorch, and 227.59 MiB is reserved by PyTorch but unallocated. If reserved but unallocated memory is large try setting PYTORCH_CUDA_ALLOC_CONF=expandable_segments:True to avoid fragmentation.  See documentation for Memory Management  (https://pytorch.org/docs/stable/notes/cuda.html#environment-variables)\n",
      "\u001b[34m\u001b[1mAutoBatch: \u001b[0mUsing batch-size 10 for CUDA:0 14.17G/24.00G (59%) \n",
      "\u001b[34m\u001b[1mtrain: \u001b[0mFast image access  (ping: 0.10.0 ms, read: 313.039.5 MB/s, size: 234.1 KB)\n"
     ]
    },
    {
     "name": "stderr",
     "output_type": "stream",
     "text": [
      "\u001b[34m\u001b[1mtrain: \u001b[0mScanning C:\\Users\\Администратор\\Desktop\\zebra_test\\yolo_dataset\\labels\\train.cache... 285 images, 0 backgrounds, 0 corrupt: 100%|██████████| 285/285 [00:00<?, ?it/s]\n"
     ]
    },
    {
     "name": "stdout",
     "output_type": "stream",
     "text": [
      "\u001b[34m\u001b[1mval: \u001b[0mFast image access  (ping: 0.10.0 ms, read: 350.343.0 MB/s, size: 237.2 KB)\n"
     ]
    },
    {
     "name": "stderr",
     "output_type": "stream",
     "text": [
      "\u001b[34m\u001b[1mval: \u001b[0mScanning C:\\Users\\Администратор\\Desktop\\zebra_test\\yolo_dataset\\labels\\val.cache... 87 images, 0 backgrounds, 0 corrupt: 100%|██████████| 87/87 [00:00<?, ?it/s]\n"
     ]
    },
    {
     "name": "stdout",
     "output_type": "stream",
     "text": [
      "Plotting labels to runs\\detect\\train2\\labels.jpg... \n",
      "\u001b[34m\u001b[1moptimizer:\u001b[0m 'optimizer=auto' found, ignoring 'lr0=0.01' and 'momentum=0.937' and determining best 'optimizer', 'lr0' and 'momentum' automatically... \n",
      "\u001b[34m\u001b[1moptimizer:\u001b[0m AdamW(lr=0.00125, momentum=0.9) with parameter groups 81 weight(decay=0.0), 88 weight(decay=0.00046875), 87 bias(decay=0.0)\n",
      "Image sizes 1280 train, 1280 val\n",
      "Using 4 dataloader workers\n",
      "Logging results to \u001b[1mruns\\detect\\train2\u001b[0m\n",
      "Starting training for 40 epochs...\n",
      "\n",
      "      Epoch    GPU_mem   box_loss   cls_loss   dfl_loss  Instances       Size\n"
     ]
    },
    {
     "name": "stderr",
     "output_type": "stream",
     "text": [
      "       1/40      11.9G       1.72      2.496      1.731        406       1280: 100%|██████████| 29/29 [00:13<00:00,  2.14it/s]\n",
      "                 Class     Images  Instances      Box(P          R      mAP50  mAP50-95): 100%|██████████| 5/5 [00:01<00:00,  4.35it/s]"
     ]
    },
    {
     "name": "stdout",
     "output_type": "stream",
     "text": [
      "                   all         87       2611      0.821      0.175      0.261      0.136\n"
     ]
    },
    {
     "name": "stderr",
     "output_type": "stream",
     "text": [
      "\n"
     ]
    },
    {
     "name": "stdout",
     "output_type": "stream",
     "text": [
      "\n",
      "      Epoch    GPU_mem   box_loss   cls_loss   dfl_loss  Instances       Size\n"
     ]
    },
    {
     "name": "stderr",
     "output_type": "stream",
     "text": [
      "       2/40      12.8G      1.233      1.261      1.396        268       1280: 100%|██████████| 29/29 [00:08<00:00,  3.44it/s]\n",
      "                 Class     Images  Instances      Box(P          R      mAP50  mAP50-95): 100%|██████████| 5/5 [00:00<00:00,  5.01it/s]"
     ]
    },
    {
     "name": "stdout",
     "output_type": "stream",
     "text": [
      "                   all         87       2611      0.727      0.381      0.393        0.2\n"
     ]
    },
    {
     "name": "stderr",
     "output_type": "stream",
     "text": [
      "\n"
     ]
    },
    {
     "name": "stdout",
     "output_type": "stream",
     "text": [
      "\n",
      "      Epoch    GPU_mem   box_loss   cls_loss   dfl_loss  Instances       Size\n"
     ]
    },
    {
     "name": "stderr",
     "output_type": "stream",
     "text": [
      "       3/40      14.5G      1.017     0.9121      1.245        385       1280: 100%|██████████| 29/29 [00:08<00:00,  3.35it/s]\n",
      "                 Class     Images  Instances      Box(P          R      mAP50  mAP50-95): 100%|██████████| 5/5 [00:00<00:00,  5.10it/s]"
     ]
    },
    {
     "name": "stdout",
     "output_type": "stream",
     "text": [
      "                   all         87       2611       0.51       0.47      0.486      0.281\n"
     ]
    },
    {
     "name": "stderr",
     "output_type": "stream",
     "text": [
      "\n"
     ]
    },
    {
     "name": "stdout",
     "output_type": "stream",
     "text": [
      "\n",
      "      Epoch    GPU_mem   box_loss   cls_loss   dfl_loss  Instances       Size\n"
     ]
    },
    {
     "name": "stderr",
     "output_type": "stream",
     "text": [
      "       4/40      14.5G     0.9429     0.8414      1.216        246       1280: 100%|██████████| 29/29 [00:08<00:00,  3.33it/s]\n",
      "                 Class     Images  Instances      Box(P          R      mAP50  mAP50-95): 100%|██████████| 5/5 [00:00<00:00,  5.14it/s]"
     ]
    },
    {
     "name": "stdout",
     "output_type": "stream",
     "text": [
      "                   all         87       2611      0.834      0.422      0.476      0.276\n"
     ]
    },
    {
     "name": "stderr",
     "output_type": "stream",
     "text": [
      "\n"
     ]
    },
    {
     "name": "stdout",
     "output_type": "stream",
     "text": [
      "\n",
      "      Epoch    GPU_mem   box_loss   cls_loss   dfl_loss  Instances       Size\n"
     ]
    },
    {
     "name": "stderr",
     "output_type": "stream",
     "text": [
      "       5/40      11.9G     0.8521     0.7793      1.147        447       1280: 100%|██████████| 29/29 [00:08<00:00,  3.46it/s]\n",
      "                 Class     Images  Instances      Box(P          R      mAP50  mAP50-95): 100%|██████████| 5/5 [00:00<00:00,  5.07it/s]"
     ]
    },
    {
     "name": "stdout",
     "output_type": "stream",
     "text": [
      "                   all         87       2611       0.69       0.51      0.515       0.32\n"
     ]
    },
    {
     "name": "stderr",
     "output_type": "stream",
     "text": [
      "\n"
     ]
    },
    {
     "name": "stdout",
     "output_type": "stream",
     "text": [
      "\n",
      "      Epoch    GPU_mem   box_loss   cls_loss   dfl_loss  Instances       Size\n"
     ]
    },
    {
     "name": "stderr",
     "output_type": "stream",
     "text": [
      "       6/40      12.9G     0.8139     0.7445      1.134        335       1280: 100%|██████████| 29/29 [00:08<00:00,  3.55it/s]\n",
      "                 Class     Images  Instances      Box(P          R      mAP50  mAP50-95): 100%|██████████| 5/5 [00:00<00:00,  5.23it/s]"
     ]
    },
    {
     "name": "stdout",
     "output_type": "stream",
     "text": [
      "                   all         87       2611       0.81       0.48      0.499      0.321\n"
     ]
    },
    {
     "name": "stderr",
     "output_type": "stream",
     "text": [
      "\n"
     ]
    },
    {
     "name": "stdout",
     "output_type": "stream",
     "text": [
      "\n",
      "      Epoch    GPU_mem   box_loss   cls_loss   dfl_loss  Instances       Size\n"
     ]
    },
    {
     "name": "stderr",
     "output_type": "stream",
     "text": [
      "       7/40      13.9G      0.771      0.712      1.108        397       1280: 100%|██████████| 29/29 [00:08<00:00,  3.44it/s]\n",
      "                 Class     Images  Instances      Box(P          R      mAP50  mAP50-95): 100%|██████████| 5/5 [00:00<00:00,  5.26it/s]"
     ]
    },
    {
     "name": "stdout",
     "output_type": "stream",
     "text": [
      "                   all         87       2611       0.73      0.733      0.721      0.369\n"
     ]
    },
    {
     "name": "stderr",
     "output_type": "stream",
     "text": [
      "\n"
     ]
    },
    {
     "name": "stdout",
     "output_type": "stream",
     "text": [
      "\n",
      "      Epoch    GPU_mem   box_loss   cls_loss   dfl_loss  Instances       Size\n"
     ]
    },
    {
     "name": "stderr",
     "output_type": "stream",
     "text": [
      "       8/40      13.5G     0.7419     0.6691      1.086        374       1280: 100%|██████████| 29/29 [00:08<00:00,  3.44it/s]\n",
      "                 Class     Images  Instances      Box(P          R      mAP50  mAP50-95): 100%|██████████| 5/5 [00:00<00:00,  5.17it/s]"
     ]
    },
    {
     "name": "stdout",
     "output_type": "stream",
     "text": [
      "                   all         87       2611      0.815      0.714      0.746      0.415\n"
     ]
    },
    {
     "name": "stderr",
     "output_type": "stream",
     "text": [
      "\n"
     ]
    },
    {
     "name": "stdout",
     "output_type": "stream",
     "text": [
      "\n",
      "      Epoch    GPU_mem   box_loss   cls_loss   dfl_loss  Instances       Size\n"
     ]
    },
    {
     "name": "stderr",
     "output_type": "stream",
     "text": [
      "       9/40      14.8G     0.7173     0.6409       1.06        435       1280: 100%|██████████| 29/29 [00:08<00:00,  3.43it/s]\n",
      "                 Class     Images  Instances      Box(P          R      mAP50  mAP50-95): 100%|██████████| 5/5 [00:01<00:00,  4.94it/s]"
     ]
    },
    {
     "name": "stdout",
     "output_type": "stream",
     "text": [
      "                   all         87       2611      0.759      0.751      0.761      0.408\n"
     ]
    },
    {
     "name": "stderr",
     "output_type": "stream",
     "text": [
      "\n"
     ]
    },
    {
     "name": "stdout",
     "output_type": "stream",
     "text": [
      "\n",
      "      Epoch    GPU_mem   box_loss   cls_loss   dfl_loss  Instances       Size\n"
     ]
    },
    {
     "name": "stderr",
     "output_type": "stream",
     "text": [
      "      10/40      13.4G     0.7197     0.6452      1.067        322       1280: 100%|██████████| 29/29 [00:08<00:00,  3.40it/s]\n",
      "                 Class     Images  Instances      Box(P          R      mAP50  mAP50-95): 100%|██████████| 5/5 [00:00<00:00,  5.37it/s]"
     ]
    },
    {
     "name": "stdout",
     "output_type": "stream",
     "text": [
      "                   all         87       2611      0.746      0.712      0.723      0.365\n"
     ]
    },
    {
     "name": "stderr",
     "output_type": "stream",
     "text": [
      "\n"
     ]
    },
    {
     "name": "stdout",
     "output_type": "stream",
     "text": [
      "\n",
      "      Epoch    GPU_mem   box_loss   cls_loss   dfl_loss  Instances       Size\n"
     ]
    },
    {
     "name": "stderr",
     "output_type": "stream",
     "text": [
      "      11/40      15.3G      0.703     0.6317      1.057        336       1280: 100%|██████████| 29/29 [00:08<00:00,  3.42it/s]\n",
      "                 Class     Images  Instances      Box(P          R      mAP50  mAP50-95): 100%|██████████| 5/5 [00:00<00:00,  5.26it/s]"
     ]
    },
    {
     "name": "stdout",
     "output_type": "stream",
     "text": [
      "                   all         87       2611      0.798      0.759      0.747      0.445\n"
     ]
    },
    {
     "name": "stderr",
     "output_type": "stream",
     "text": [
      "\n"
     ]
    },
    {
     "name": "stdout",
     "output_type": "stream",
     "text": [
      "\n",
      "      Epoch    GPU_mem   box_loss   cls_loss   dfl_loss  Instances       Size\n"
     ]
    },
    {
     "name": "stderr",
     "output_type": "stream",
     "text": [
      "      12/40      14.1G     0.6743     0.6014      1.037        433       1280: 100%|██████████| 29/29 [00:08<00:00,  3.42it/s]\n",
      "                 Class     Images  Instances      Box(P          R      mAP50  mAP50-95): 100%|██████████| 5/5 [00:00<00:00,  5.39it/s]"
     ]
    },
    {
     "name": "stdout",
     "output_type": "stream",
     "text": [
      "                   all         87       2611        0.8      0.709      0.737      0.419\n"
     ]
    },
    {
     "name": "stderr",
     "output_type": "stream",
     "text": [
      "\n"
     ]
    },
    {
     "name": "stdout",
     "output_type": "stream",
     "text": [
      "\n",
      "      Epoch    GPU_mem   box_loss   cls_loss   dfl_loss  Instances       Size\n"
     ]
    },
    {
     "name": "stderr",
     "output_type": "stream",
     "text": [
      "      13/40      12.9G     0.6638     0.5958      1.036        376       1280: 100%|██████████| 29/29 [00:08<00:00,  3.41it/s]\n",
      "                 Class     Images  Instances      Box(P          R      mAP50  mAP50-95): 100%|██████████| 5/5 [00:00<00:00,  5.40it/s]"
     ]
    },
    {
     "name": "stdout",
     "output_type": "stream",
     "text": [
      "                   all         87       2611      0.803      0.742      0.757      0.405\n"
     ]
    },
    {
     "name": "stderr",
     "output_type": "stream",
     "text": [
      "\n"
     ]
    },
    {
     "name": "stdout",
     "output_type": "stream",
     "text": [
      "\n",
      "      Epoch    GPU_mem   box_loss   cls_loss   dfl_loss  Instances       Size\n"
     ]
    },
    {
     "name": "stderr",
     "output_type": "stream",
     "text": [
      "      14/40      12.1G      0.641     0.5735      1.027        321       1280: 100%|██████████| 29/29 [00:08<00:00,  3.43it/s]\n",
      "                 Class     Images  Instances      Box(P          R      mAP50  mAP50-95): 100%|██████████| 5/5 [00:00<00:00,  5.42it/s]"
     ]
    },
    {
     "name": "stdout",
     "output_type": "stream",
     "text": [
      "                   all         87       2611      0.765       0.75      0.733      0.438\n"
     ]
    },
    {
     "name": "stderr",
     "output_type": "stream",
     "text": [
      "\n"
     ]
    },
    {
     "name": "stdout",
     "output_type": "stream",
     "text": [
      "\n",
      "      Epoch    GPU_mem   box_loss   cls_loss   dfl_loss  Instances       Size\n"
     ]
    },
    {
     "name": "stderr",
     "output_type": "stream",
     "text": [
      "      15/40      14.1G     0.6214     0.5559      1.009        376       1280: 100%|██████████| 29/29 [00:08<00:00,  3.42it/s]\n",
      "                 Class     Images  Instances      Box(P          R      mAP50  mAP50-95): 100%|██████████| 5/5 [00:00<00:00,  5.51it/s]"
     ]
    },
    {
     "name": "stdout",
     "output_type": "stream",
     "text": [
      "                   all         87       2611       0.79      0.742       0.75      0.441\n"
     ]
    },
    {
     "name": "stderr",
     "output_type": "stream",
     "text": [
      "\n"
     ]
    },
    {
     "name": "stdout",
     "output_type": "stream",
     "text": [
      "\n",
      "      Epoch    GPU_mem   box_loss   cls_loss   dfl_loss  Instances       Size\n"
     ]
    },
    {
     "name": "stderr",
     "output_type": "stream",
     "text": [
      "      16/40      14.8G     0.6231     0.5608      1.021        327       1280: 100%|██████████| 29/29 [00:08<00:00,  3.38it/s]\n",
      "                 Class     Images  Instances      Box(P          R      mAP50  mAP50-95): 100%|██████████| 5/5 [00:00<00:00,  5.16it/s]"
     ]
    },
    {
     "name": "stdout",
     "output_type": "stream",
     "text": [
      "                   all         87       2611      0.789      0.755      0.733      0.446\n"
     ]
    },
    {
     "name": "stderr",
     "output_type": "stream",
     "text": [
      "\n"
     ]
    },
    {
     "name": "stdout",
     "output_type": "stream",
     "text": [
      "\n",
      "      Epoch    GPU_mem   box_loss   cls_loss   dfl_loss  Instances       Size\n"
     ]
    },
    {
     "name": "stderr",
     "output_type": "stream",
     "text": [
      "      17/40      11.6G     0.6143      0.543      1.002        446       1280: 100%|██████████| 29/29 [00:08<00:00,  3.46it/s]\n",
      "                 Class     Images  Instances      Box(P          R      mAP50  mAP50-95): 100%|██████████| 5/5 [00:00<00:00,  5.33it/s]"
     ]
    },
    {
     "name": "stdout",
     "output_type": "stream",
     "text": [
      "                   all         87       2611      0.784      0.763      0.734      0.456\n"
     ]
    },
    {
     "name": "stderr",
     "output_type": "stream",
     "text": [
      "\n"
     ]
    },
    {
     "name": "stdout",
     "output_type": "stream",
     "text": [
      "\n",
      "      Epoch    GPU_mem   box_loss   cls_loss   dfl_loss  Instances       Size\n"
     ]
    },
    {
     "name": "stderr",
     "output_type": "stream",
     "text": [
      "      18/40      11.6G     0.6034     0.5376      1.002        314       1280: 100%|██████████| 29/29 [00:08<00:00,  3.53it/s]\n",
      "                 Class     Images  Instances      Box(P          R      mAP50  mAP50-95): 100%|██████████| 5/5 [00:00<00:00,  5.49it/s]"
     ]
    },
    {
     "name": "stdout",
     "output_type": "stream",
     "text": [
      "                   all         87       2611      0.777       0.73      0.734      0.409\n"
     ]
    },
    {
     "name": "stderr",
     "output_type": "stream",
     "text": [
      "\n"
     ]
    },
    {
     "name": "stdout",
     "output_type": "stream",
     "text": [
      "\n",
      "      Epoch    GPU_mem   box_loss   cls_loss   dfl_loss  Instances       Size\n"
     ]
    },
    {
     "name": "stderr",
     "output_type": "stream",
     "text": [
      "      19/40      13.6G     0.6001     0.5339     0.9955        468       1280: 100%|██████████| 29/29 [00:08<00:00,  3.45it/s]\n",
      "                 Class     Images  Instances      Box(P          R      mAP50  mAP50-95): 100%|██████████| 5/5 [00:00<00:00,  5.47it/s]"
     ]
    },
    {
     "name": "stdout",
     "output_type": "stream",
     "text": [
      "                   all         87       2611      0.786       0.75      0.756       0.41\n"
     ]
    },
    {
     "name": "stderr",
     "output_type": "stream",
     "text": [
      "\n"
     ]
    },
    {
     "name": "stdout",
     "output_type": "stream",
     "text": [
      "\n",
      "      Epoch    GPU_mem   box_loss   cls_loss   dfl_loss  Instances       Size\n"
     ]
    },
    {
     "name": "stderr",
     "output_type": "stream",
     "text": [
      "      20/40      15.8G     0.5898     0.5271     0.9943        292       1280: 100%|██████████| 29/29 [00:08<00:00,  3.37it/s]\n",
      "                 Class     Images  Instances      Box(P          R      mAP50  mAP50-95): 100%|██████████| 5/5 [00:00<00:00,  5.57it/s]"
     ]
    },
    {
     "name": "stdout",
     "output_type": "stream",
     "text": [
      "                   all         87       2611      0.777      0.758      0.729       0.44\n"
     ]
    },
    {
     "name": "stderr",
     "output_type": "stream",
     "text": [
      "\n"
     ]
    },
    {
     "name": "stdout",
     "output_type": "stream",
     "text": [
      "\n",
      "      Epoch    GPU_mem   box_loss   cls_loss   dfl_loss  Instances       Size\n"
     ]
    },
    {
     "name": "stderr",
     "output_type": "stream",
     "text": [
      "      21/40      13.1G     0.5746     0.5136     0.9864        413       1280: 100%|██████████| 29/29 [00:08<00:00,  3.47it/s]\n",
      "                 Class     Images  Instances      Box(P          R      mAP50  mAP50-95): 100%|██████████| 5/5 [00:00<00:00,  5.69it/s]"
     ]
    },
    {
     "name": "stdout",
     "output_type": "stream",
     "text": [
      "                   all         87       2611      0.759      0.744      0.733      0.408\n"
     ]
    },
    {
     "name": "stderr",
     "output_type": "stream",
     "text": [
      "\n"
     ]
    },
    {
     "name": "stdout",
     "output_type": "stream",
     "text": [
      "\n",
      "      Epoch    GPU_mem   box_loss   cls_loss   dfl_loss  Instances       Size\n"
     ]
    },
    {
     "name": "stderr",
     "output_type": "stream",
     "text": [
      "      22/40      12.9G     0.5753     0.5136     0.9924        510       1280: 100%|██████████| 29/29 [00:08<00:00,  3.45it/s]\n",
      "                 Class     Images  Instances      Box(P          R      mAP50  mAP50-95): 100%|██████████| 5/5 [00:00<00:00,  5.54it/s]"
     ]
    },
    {
     "name": "stdout",
     "output_type": "stream",
     "text": [
      "                   all         87       2611      0.802      0.706      0.732      0.432\n"
     ]
    },
    {
     "name": "stderr",
     "output_type": "stream",
     "text": [
      "\n"
     ]
    },
    {
     "name": "stdout",
     "output_type": "stream",
     "text": [
      "\n",
      "      Epoch    GPU_mem   box_loss   cls_loss   dfl_loss  Instances       Size\n"
     ]
    },
    {
     "name": "stderr",
     "output_type": "stream",
     "text": [
      "      23/40      15.2G     0.5735     0.5053     0.9798        251       1280: 100%|██████████| 29/29 [00:08<00:00,  3.40it/s]\n",
      "                 Class     Images  Instances      Box(P          R      mAP50  mAP50-95): 100%|██████████| 5/5 [00:00<00:00,  5.61it/s]"
     ]
    },
    {
     "name": "stdout",
     "output_type": "stream",
     "text": [
      "                   all         87       2611      0.762      0.758      0.745      0.443\n"
     ]
    },
    {
     "name": "stderr",
     "output_type": "stream",
     "text": [
      "\n"
     ]
    },
    {
     "name": "stdout",
     "output_type": "stream",
     "text": [
      "\n",
      "      Epoch    GPU_mem   box_loss   cls_loss   dfl_loss  Instances       Size\n"
     ]
    },
    {
     "name": "stderr",
     "output_type": "stream",
     "text": [
      "      24/40      15.6G     0.5605     0.4929     0.9719        338       1280: 100%|██████████| 29/29 [00:08<00:00,  3.35it/s]\n",
      "                 Class     Images  Instances      Box(P          R      mAP50  mAP50-95): 100%|██████████| 5/5 [00:00<00:00,  5.54it/s]"
     ]
    },
    {
     "name": "stdout",
     "output_type": "stream",
     "text": [
      "                   all         87       2611       0.79      0.762      0.754      0.421\n"
     ]
    },
    {
     "name": "stderr",
     "output_type": "stream",
     "text": [
      "\n"
     ]
    },
    {
     "name": "stdout",
     "output_type": "stream",
     "text": [
      "\n",
      "      Epoch    GPU_mem   box_loss   cls_loss   dfl_loss  Instances       Size\n"
     ]
    },
    {
     "name": "stderr",
     "output_type": "stream",
     "text": [
      "      25/40      13.8G     0.5568      0.495     0.9613        516       1280: 100%|██████████| 29/29 [00:08<00:00,  3.39it/s]\n",
      "                 Class     Images  Instances      Box(P          R      mAP50  mAP50-95): 100%|██████████| 5/5 [00:00<00:00,  5.72it/s]"
     ]
    },
    {
     "name": "stdout",
     "output_type": "stream",
     "text": [
      "                   all         87       2611      0.768      0.751      0.748      0.432\n"
     ]
    },
    {
     "name": "stderr",
     "output_type": "stream",
     "text": [
      "\n"
     ]
    },
    {
     "name": "stdout",
     "output_type": "stream",
     "text": [
      "\n",
      "      Epoch    GPU_mem   box_loss   cls_loss   dfl_loss  Instances       Size\n"
     ]
    },
    {
     "name": "stderr",
     "output_type": "stream",
     "text": [
      "      26/40      11.8G      0.545     0.4854     0.9669        543       1280: 100%|██████████| 29/29 [00:08<00:00,  3.49it/s]\n",
      "                 Class     Images  Instances      Box(P          R      mAP50  mAP50-95): 100%|██████████| 5/5 [00:00<00:00,  5.58it/s]"
     ]
    },
    {
     "name": "stdout",
     "output_type": "stream",
     "text": [
      "                   all         87       2611      0.816      0.698      0.747      0.423\n"
     ]
    },
    {
     "name": "stderr",
     "output_type": "stream",
     "text": [
      "\n"
     ]
    },
    {
     "name": "stdout",
     "output_type": "stream",
     "text": [
      "\n",
      "      Epoch    GPU_mem   box_loss   cls_loss   dfl_loss  Instances       Size\n"
     ]
    },
    {
     "name": "stderr",
     "output_type": "stream",
     "text": [
      "      27/40      11.8G     0.5466     0.4826     0.9636        431       1280: 100%|██████████| 29/29 [00:08<00:00,  3.48it/s]\n",
      "                 Class     Images  Instances      Box(P          R      mAP50  mAP50-95): 100%|██████████| 5/5 [00:01<00:00,  4.80it/s]"
     ]
    },
    {
     "name": "stdout",
     "output_type": "stream",
     "text": [
      "                   all         87       2611      0.767      0.765      0.744      0.465\n"
     ]
    },
    {
     "name": "stderr",
     "output_type": "stream",
     "text": [
      "\n"
     ]
    },
    {
     "name": "stdout",
     "output_type": "stream",
     "text": [
      "\n",
      "      Epoch    GPU_mem   box_loss   cls_loss   dfl_loss  Instances       Size\n"
     ]
    },
    {
     "name": "stderr",
     "output_type": "stream",
     "text": [
      "      28/40      13.8G     0.5421     0.4826     0.9669        359       1280: 100%|██████████| 29/29 [00:08<00:00,  3.40it/s]\n",
      "                 Class     Images  Instances      Box(P          R      mAP50  mAP50-95): 100%|██████████| 5/5 [00:00<00:00,  5.69it/s]"
     ]
    },
    {
     "name": "stdout",
     "output_type": "stream",
     "text": [
      "                   all         87       2611      0.752      0.778       0.76       0.44\n"
     ]
    },
    {
     "name": "stderr",
     "output_type": "stream",
     "text": [
      "\n"
     ]
    },
    {
     "name": "stdout",
     "output_type": "stream",
     "text": [
      "\n",
      "      Epoch    GPU_mem   box_loss   cls_loss   dfl_loss  Instances       Size\n"
     ]
    },
    {
     "name": "stderr",
     "output_type": "stream",
     "text": [
      "      29/40      13.1G     0.5327     0.4743     0.9625        378       1280: 100%|██████████| 29/29 [00:08<00:00,  3.43it/s]\n",
      "                 Class     Images  Instances      Box(P          R      mAP50  mAP50-95): 100%|██████████| 5/5 [00:00<00:00,  5.47it/s]"
     ]
    },
    {
     "name": "stdout",
     "output_type": "stream",
     "text": [
      "                   all         87       2611      0.796      0.749      0.748      0.464\n"
     ]
    },
    {
     "name": "stderr",
     "output_type": "stream",
     "text": [
      "\n"
     ]
    },
    {
     "name": "stdout",
     "output_type": "stream",
     "text": [
      "\n",
      "      Epoch    GPU_mem   box_loss   cls_loss   dfl_loss  Instances       Size\n"
     ]
    },
    {
     "name": "stderr",
     "output_type": "stream",
     "text": [
      "      30/40      15.1G     0.5301     0.4702     0.9597        299       1280: 100%|██████████| 29/29 [00:08<00:00,  3.41it/s]\n",
      "                 Class     Images  Instances      Box(P          R      mAP50  mAP50-95): 100%|██████████| 5/5 [00:00<00:00,  5.54it/s]"
     ]
    },
    {
     "name": "stdout",
     "output_type": "stream",
     "text": [
      "                   all         87       2611      0.808      0.782      0.758      0.478\n"
     ]
    },
    {
     "name": "stderr",
     "output_type": "stream",
     "text": [
      "\n"
     ]
    },
    {
     "name": "stdout",
     "output_type": "stream",
     "text": [
      "Closing dataloader mosaic\n",
      "\n",
      "      Epoch    GPU_mem   box_loss   cls_loss   dfl_loss  Instances       Size\n"
     ]
    },
    {
     "name": "stderr",
     "output_type": "stream",
     "text": [
      "      31/40      10.6G     0.5245     0.4948      0.939        199       1280: 100%|██████████| 29/29 [00:08<00:00,  3.49it/s]\n",
      "                 Class     Images  Instances      Box(P          R      mAP50  mAP50-95): 100%|██████████| 5/5 [00:00<00:00,  5.56it/s]"
     ]
    },
    {
     "name": "stdout",
     "output_type": "stream",
     "text": [
      "                   all         87       2611      0.817      0.763      0.756      0.493\n"
     ]
    },
    {
     "name": "stderr",
     "output_type": "stream",
     "text": [
      "\n"
     ]
    },
    {
     "name": "stdout",
     "output_type": "stream",
     "text": [
      "\n",
      "      Epoch    GPU_mem   box_loss   cls_loss   dfl_loss  Instances       Size\n"
     ]
    },
    {
     "name": "stderr",
     "output_type": "stream",
     "text": [
      "      32/40      10.6G     0.5184     0.4817     0.9313        244       1280: 100%|██████████| 29/29 [00:07<00:00,  3.74it/s]\n",
      "                 Class     Images  Instances      Box(P          R      mAP50  mAP50-95): 100%|██████████| 5/5 [00:00<00:00,  5.90it/s]"
     ]
    },
    {
     "name": "stdout",
     "output_type": "stream",
     "text": [
      "                   all         87       2611      0.782      0.769       0.75      0.475\n"
     ]
    },
    {
     "name": "stderr",
     "output_type": "stream",
     "text": [
      "\n"
     ]
    },
    {
     "name": "stdout",
     "output_type": "stream",
     "text": [
      "\n",
      "      Epoch    GPU_mem   box_loss   cls_loss   dfl_loss  Instances       Size\n"
     ]
    },
    {
     "name": "stderr",
     "output_type": "stream",
     "text": [
      "      33/40      10.6G     0.5061     0.4714     0.9274        180       1280: 100%|██████████| 29/29 [00:07<00:00,  3.76it/s]\n",
      "                 Class     Images  Instances      Box(P          R      mAP50  mAP50-95): 100%|██████████| 5/5 [00:00<00:00,  5.70it/s]"
     ]
    },
    {
     "name": "stdout",
     "output_type": "stream",
     "text": [
      "                   all         87       2611      0.762      0.783      0.738      0.505\n"
     ]
    },
    {
     "name": "stderr",
     "output_type": "stream",
     "text": [
      "\n"
     ]
    },
    {
     "name": "stdout",
     "output_type": "stream",
     "text": [
      "\n",
      "      Epoch    GPU_mem   box_loss   cls_loss   dfl_loss  Instances       Size\n"
     ]
    },
    {
     "name": "stderr",
     "output_type": "stream",
     "text": [
      "      34/40      10.6G     0.4976     0.4645      0.921        225       1280: 100%|██████████| 29/29 [00:07<00:00,  3.72it/s]\n",
      "                 Class     Images  Instances      Box(P          R      mAP50  mAP50-95): 100%|██████████| 5/5 [00:00<00:00,  5.50it/s]"
     ]
    },
    {
     "name": "stdout",
     "output_type": "stream",
     "text": [
      "                   all         87       2611      0.788      0.796      0.748      0.499\n"
     ]
    },
    {
     "name": "stderr",
     "output_type": "stream",
     "text": [
      "\n"
     ]
    },
    {
     "name": "stdout",
     "output_type": "stream",
     "text": [
      "\n",
      "      Epoch    GPU_mem   box_loss   cls_loss   dfl_loss  Instances       Size\n"
     ]
    },
    {
     "name": "stderr",
     "output_type": "stream",
     "text": [
      "      35/40      10.6G     0.4942      0.459     0.9249        173       1280: 100%|██████████| 29/29 [00:07<00:00,  3.75it/s]\n",
      "                 Class     Images  Instances      Box(P          R      mAP50  mAP50-95): 100%|██████████| 5/5 [00:00<00:00,  5.59it/s]"
     ]
    },
    {
     "name": "stdout",
     "output_type": "stream",
     "text": [
      "                   all         87       2611       0.76      0.759      0.734      0.492\n"
     ]
    },
    {
     "name": "stderr",
     "output_type": "stream",
     "text": [
      "\n"
     ]
    },
    {
     "name": "stdout",
     "output_type": "stream",
     "text": [
      "\n",
      "      Epoch    GPU_mem   box_loss   cls_loss   dfl_loss  Instances       Size\n"
     ]
    },
    {
     "name": "stderr",
     "output_type": "stream",
     "text": [
      "      36/40      10.6G     0.4871     0.4545      0.923        132       1280: 100%|██████████| 29/29 [00:07<00:00,  3.75it/s]\n",
      "                 Class     Images  Instances      Box(P          R      mAP50  mAP50-95): 100%|██████████| 5/5 [00:00<00:00,  5.67it/s]"
     ]
    },
    {
     "name": "stdout",
     "output_type": "stream",
     "text": [
      "                   all         87       2611      0.772      0.762      0.732      0.492\n"
     ]
    },
    {
     "name": "stderr",
     "output_type": "stream",
     "text": [
      "\n"
     ]
    },
    {
     "name": "stdout",
     "output_type": "stream",
     "text": [
      "\n",
      "      Epoch    GPU_mem   box_loss   cls_loss   dfl_loss  Instances       Size\n"
     ]
    },
    {
     "name": "stderr",
     "output_type": "stream",
     "text": [
      "      37/40      10.6G     0.4843     0.4475     0.9182        184       1280: 100%|██████████| 29/29 [00:07<00:00,  3.71it/s]\n",
      "                 Class     Images  Instances      Box(P          R      mAP50  mAP50-95): 100%|██████████| 5/5 [00:00<00:00,  5.65it/s]"
     ]
    },
    {
     "name": "stdout",
     "output_type": "stream",
     "text": [
      "                   all         87       2611      0.773      0.748      0.734      0.509\n"
     ]
    },
    {
     "name": "stderr",
     "output_type": "stream",
     "text": [
      "\n"
     ]
    },
    {
     "name": "stdout",
     "output_type": "stream",
     "text": [
      "\n",
      "      Epoch    GPU_mem   box_loss   cls_loss   dfl_loss  Instances       Size\n"
     ]
    },
    {
     "name": "stderr",
     "output_type": "stream",
     "text": [
      "      38/40      10.6G     0.4827     0.4478     0.9143        245       1280: 100%|██████████| 29/29 [00:07<00:00,  3.71it/s]\n",
      "                 Class     Images  Instances      Box(P          R      mAP50  mAP50-95): 100%|██████████| 5/5 [00:00<00:00,  5.62it/s]"
     ]
    },
    {
     "name": "stdout",
     "output_type": "stream",
     "text": [
      "                   all         87       2611      0.787      0.763      0.737      0.513\n"
     ]
    },
    {
     "name": "stderr",
     "output_type": "stream",
     "text": [
      "\n"
     ]
    },
    {
     "name": "stdout",
     "output_type": "stream",
     "text": [
      "\n",
      "      Epoch    GPU_mem   box_loss   cls_loss   dfl_loss  Instances       Size\n"
     ]
    },
    {
     "name": "stderr",
     "output_type": "stream",
     "text": [
      "      39/40      10.6G     0.4762     0.4447     0.9171        213       1280: 100%|██████████| 29/29 [00:07<00:00,  3.75it/s]\n",
      "                 Class     Images  Instances      Box(P          R      mAP50  mAP50-95): 100%|██████████| 5/5 [00:00<00:00,  5.67it/s]"
     ]
    },
    {
     "name": "stdout",
     "output_type": "stream",
     "text": [
      "                   all         87       2611      0.797       0.76      0.741      0.515\n"
     ]
    },
    {
     "name": "stderr",
     "output_type": "stream",
     "text": [
      "\n"
     ]
    },
    {
     "name": "stdout",
     "output_type": "stream",
     "text": [
      "\n",
      "      Epoch    GPU_mem   box_loss   cls_loss   dfl_loss  Instances       Size\n"
     ]
    },
    {
     "name": "stderr",
     "output_type": "stream",
     "text": [
      "      40/40      10.7G     0.4714     0.4385     0.9136        198       1280: 100%|██████████| 29/29 [00:07<00:00,  3.71it/s]\n",
      "                 Class     Images  Instances      Box(P          R      mAP50  mAP50-95): 100%|██████████| 5/5 [00:00<00:00,  5.64it/s]"
     ]
    },
    {
     "name": "stdout",
     "output_type": "stream",
     "text": [
      "                   all         87       2611      0.789      0.754       0.74      0.513\n"
     ]
    },
    {
     "name": "stderr",
     "output_type": "stream",
     "text": [
      "\n"
     ]
    },
    {
     "name": "stdout",
     "output_type": "stream",
     "text": [
      "\n",
      "40 epochs completed in 0.115 hours.\n",
      "Optimizer stripped from runs\\detect\\train2\\weights\\last.pt, 19.2MB\n",
      "Optimizer stripped from runs\\detect\\train2\\weights\\best.pt, 19.2MB\n",
      "\n",
      "Validating runs\\detect\\train2\\weights\\best.pt...\n",
      "Ultralytics 8.3.158  Python-3.13.1 torch-2.7.1+cu128 CUDA:0 (NVIDIA GeForce RTX 3090, 24576MiB)\n",
      "YOLO11s summary (fused): 100 layers, 9,414,348 parameters, 0 gradients, 21.3 GFLOPs\n"
     ]
    },
    {
     "name": "stderr",
     "output_type": "stream",
     "text": [
      "                 Class     Images  Instances      Box(P          R      mAP50  mAP50-95): 100%|██████████| 5/5 [00:01<00:00,  2.75it/s]\n"
     ]
    },
    {
     "name": "stdout",
     "output_type": "stream",
     "text": [
      "                   all         87       2611      0.795       0.76      0.741      0.514\n",
      "                  food         87       1121      0.563      0.581      0.518      0.233\n",
      "                person         75         87      0.633      0.667      0.616      0.418\n",
      "          dining table         87         87      0.996          1      0.995      0.796\n",
      "                dishes         87       1316      0.987      0.792      0.835       0.61\n",
      "Speed: 0.3ms preprocess, 6.1ms inference, 0.0ms loss, 9.3ms postprocess per image\n",
      "Results saved to \u001b[1mruns\\detect\\train2\u001b[0m\n"
     ]
    },
    {
     "name": "stdout",
     "output_type": "stream",
     "text": [
      "2025-06-23 19:55:15,686 - clearml.storage - INFO - Starting upload: runs\\detect\\train2\\weights\\best.pt => https://files.clear.ml/zebra_test/BaseYolo11.f7af6cd6f70241fc9d866a78b4fac14f/models/best.pt\n",
      "2025-06-23 19:55:25,740 - clearml.storage - INFO - Uploading: 18.35MB from runs\\detect\\train2\\weights\\best.pt\n"
     ]
    },
    {
     "data": {
      "text/plain": [
       "ultralytics.utils.metrics.DetMetrics object with attributes:\n",
       "\n",
       "ap_class_index: array([0, 1, 2, 3])\n",
       "box: ultralytics.utils.metrics.Metric object\n",
       "confusion_matrix: <ultralytics.utils.metrics.ConfusionMatrix object at 0x000001D0570BC440>\n",
       "curves: ['Precision-Recall(B)', 'F1-Confidence(B)', 'Precision-Confidence(B)', 'Recall-Confidence(B)']\n",
       "curves_results: [[array([          0,    0.001001,    0.002002,    0.003003,    0.004004,    0.005005,    0.006006,    0.007007,    0.008008,    0.009009,     0.01001,    0.011011,    0.012012,    0.013013,    0.014014,    0.015015,    0.016016,    0.017017,    0.018018,    0.019019,     0.02002,    0.021021,    0.022022,    0.023023,\n",
       "          0.024024,    0.025025,    0.026026,    0.027027,    0.028028,    0.029029,     0.03003,    0.031031,    0.032032,    0.033033,    0.034034,    0.035035,    0.036036,    0.037037,    0.038038,    0.039039,     0.04004,    0.041041,    0.042042,    0.043043,    0.044044,    0.045045,    0.046046,    0.047047,\n",
       "          0.048048,    0.049049,     0.05005,    0.051051,    0.052052,    0.053053,    0.054054,    0.055055,    0.056056,    0.057057,    0.058058,    0.059059,     0.06006,    0.061061,    0.062062,    0.063063,    0.064064,    0.065065,    0.066066,    0.067067,    0.068068,    0.069069,     0.07007,    0.071071,\n",
       "          0.072072,    0.073073,    0.074074,    0.075075,    0.076076,    0.077077,    0.078078,    0.079079,     0.08008,    0.081081,    0.082082,    0.083083,    0.084084,    0.085085,    0.086086,    0.087087,    0.088088,    0.089089,     0.09009,    0.091091,    0.092092,    0.093093,    0.094094,    0.095095,\n",
       "          0.096096,    0.097097,    0.098098,    0.099099,      0.1001,      0.1011,      0.1021,      0.1031,      0.1041,     0.10511,     0.10611,     0.10711,     0.10811,     0.10911,     0.11011,     0.11111,     0.11211,     0.11311,     0.11411,     0.11512,     0.11612,     0.11712,     0.11812,     0.11912,\n",
       "           0.12012,     0.12112,     0.12212,     0.12312,     0.12412,     0.12513,     0.12613,     0.12713,     0.12813,     0.12913,     0.13013,     0.13113,     0.13213,     0.13313,     0.13413,     0.13514,     0.13614,     0.13714,     0.13814,     0.13914,     0.14014,     0.14114,     0.14214,     0.14314,\n",
       "           0.14414,     0.14515,     0.14615,     0.14715,     0.14815,     0.14915,     0.15015,     0.15115,     0.15215,     0.15315,     0.15415,     0.15516,     0.15616,     0.15716,     0.15816,     0.15916,     0.16016,     0.16116,     0.16216,     0.16316,     0.16416,     0.16517,     0.16617,     0.16717,\n",
       "           0.16817,     0.16917,     0.17017,     0.17117,     0.17217,     0.17317,     0.17417,     0.17518,     0.17618,     0.17718,     0.17818,     0.17918,     0.18018,     0.18118,     0.18218,     0.18318,     0.18418,     0.18519,     0.18619,     0.18719,     0.18819,     0.18919,     0.19019,     0.19119,\n",
       "           0.19219,     0.19319,     0.19419,      0.1952,      0.1962,      0.1972,      0.1982,      0.1992,      0.2002,      0.2012,      0.2022,      0.2032,      0.2042,     0.20521,     0.20621,     0.20721,     0.20821,     0.20921,     0.21021,     0.21121,     0.21221,     0.21321,     0.21421,     0.21522,\n",
       "           0.21622,     0.21722,     0.21822,     0.21922,     0.22022,     0.22122,     0.22222,     0.22322,     0.22422,     0.22523,     0.22623,     0.22723,     0.22823,     0.22923,     0.23023,     0.23123,     0.23223,     0.23323,     0.23423,     0.23524,     0.23624,     0.23724,     0.23824,     0.23924,\n",
       "           0.24024,     0.24124,     0.24224,     0.24324,     0.24424,     0.24525,     0.24625,     0.24725,     0.24825,     0.24925,     0.25025,     0.25125,     0.25225,     0.25325,     0.25425,     0.25526,     0.25626,     0.25726,     0.25826,     0.25926,     0.26026,     0.26126,     0.26226,     0.26326,\n",
       "           0.26426,     0.26527,     0.26627,     0.26727,     0.26827,     0.26927,     0.27027,     0.27127,     0.27227,     0.27327,     0.27427,     0.27528,     0.27628,     0.27728,     0.27828,     0.27928,     0.28028,     0.28128,     0.28228,     0.28328,     0.28428,     0.28529,     0.28629,     0.28729,\n",
       "           0.28829,     0.28929,     0.29029,     0.29129,     0.29229,     0.29329,     0.29429,      0.2953,      0.2963,      0.2973,      0.2983,      0.2993,      0.3003,      0.3013,      0.3023,      0.3033,      0.3043,     0.30531,     0.30631,     0.30731,     0.30831,     0.30931,     0.31031,     0.31131,\n",
       "           0.31231,     0.31331,     0.31431,     0.31532,     0.31632,     0.31732,     0.31832,     0.31932,     0.32032,     0.32132,     0.32232,     0.32332,     0.32432,     0.32533,     0.32633,     0.32733,     0.32833,     0.32933,     0.33033,     0.33133,     0.33233,     0.33333,     0.33433,     0.33534,\n",
       "           0.33634,     0.33734,     0.33834,     0.33934,     0.34034,     0.34134,     0.34234,     0.34334,     0.34434,     0.34535,     0.34635,     0.34735,     0.34835,     0.34935,     0.35035,     0.35135,     0.35235,     0.35335,     0.35435,     0.35536,     0.35636,     0.35736,     0.35836,     0.35936,\n",
       "           0.36036,     0.36136,     0.36236,     0.36336,     0.36436,     0.36537,     0.36637,     0.36737,     0.36837,     0.36937,     0.37037,     0.37137,     0.37237,     0.37337,     0.37437,     0.37538,     0.37638,     0.37738,     0.37838,     0.37938,     0.38038,     0.38138,     0.38238,     0.38338,\n",
       "           0.38438,     0.38539,     0.38639,     0.38739,     0.38839,     0.38939,     0.39039,     0.39139,     0.39239,     0.39339,     0.39439,      0.3954,      0.3964,      0.3974,      0.3984,      0.3994,      0.4004,      0.4014,      0.4024,      0.4034,      0.4044,     0.40541,     0.40641,     0.40741,\n",
       "           0.40841,     0.40941,     0.41041,     0.41141,     0.41241,     0.41341,     0.41441,     0.41542,     0.41642,     0.41742,     0.41842,     0.41942,     0.42042,     0.42142,     0.42242,     0.42342,     0.42442,     0.42543,     0.42643,     0.42743,     0.42843,     0.42943,     0.43043,     0.43143,\n",
       "           0.43243,     0.43343,     0.43443,     0.43544,     0.43644,     0.43744,     0.43844,     0.43944,     0.44044,     0.44144,     0.44244,     0.44344,     0.44444,     0.44545,     0.44645,     0.44745,     0.44845,     0.44945,     0.45045,     0.45145,     0.45245,     0.45345,     0.45445,     0.45546,\n",
       "           0.45646,     0.45746,     0.45846,     0.45946,     0.46046,     0.46146,     0.46246,     0.46346,     0.46446,     0.46547,     0.46647,     0.46747,     0.46847,     0.46947,     0.47047,     0.47147,     0.47247,     0.47347,     0.47447,     0.47548,     0.47648,     0.47748,     0.47848,     0.47948,\n",
       "           0.48048,     0.48148,     0.48248,     0.48348,     0.48448,     0.48549,     0.48649,     0.48749,     0.48849,     0.48949,     0.49049,     0.49149,     0.49249,     0.49349,     0.49449,      0.4955,      0.4965,      0.4975,      0.4985,      0.4995,      0.5005,      0.5015,      0.5025,      0.5035,\n",
       "            0.5045,     0.50551,     0.50651,     0.50751,     0.50851,     0.50951,     0.51051,     0.51151,     0.51251,     0.51351,     0.51451,     0.51552,     0.51652,     0.51752,     0.51852,     0.51952,     0.52052,     0.52152,     0.52252,     0.52352,     0.52452,     0.52553,     0.52653,     0.52753,\n",
       "           0.52853,     0.52953,     0.53053,     0.53153,     0.53253,     0.53353,     0.53453,     0.53554,     0.53654,     0.53754,     0.53854,     0.53954,     0.54054,     0.54154,     0.54254,     0.54354,     0.54454,     0.54555,     0.54655,     0.54755,     0.54855,     0.54955,     0.55055,     0.55155,\n",
       "           0.55255,     0.55355,     0.55455,     0.55556,     0.55656,     0.55756,     0.55856,     0.55956,     0.56056,     0.56156,     0.56256,     0.56356,     0.56456,     0.56557,     0.56657,     0.56757,     0.56857,     0.56957,     0.57057,     0.57157,     0.57257,     0.57357,     0.57457,     0.57558,\n",
       "           0.57658,     0.57758,     0.57858,     0.57958,     0.58058,     0.58158,     0.58258,     0.58358,     0.58458,     0.58559,     0.58659,     0.58759,     0.58859,     0.58959,     0.59059,     0.59159,     0.59259,     0.59359,     0.59459,      0.5956,      0.5966,      0.5976,      0.5986,      0.5996,\n",
       "            0.6006,      0.6016,      0.6026,      0.6036,      0.6046,     0.60561,     0.60661,     0.60761,     0.60861,     0.60961,     0.61061,     0.61161,     0.61261,     0.61361,     0.61461,     0.61562,     0.61662,     0.61762,     0.61862,     0.61962,     0.62062,     0.62162,     0.62262,     0.62362,\n",
       "           0.62462,     0.62563,     0.62663,     0.62763,     0.62863,     0.62963,     0.63063,     0.63163,     0.63263,     0.63363,     0.63463,     0.63564,     0.63664,     0.63764,     0.63864,     0.63964,     0.64064,     0.64164,     0.64264,     0.64364,     0.64464,     0.64565,     0.64665,     0.64765,\n",
       "           0.64865,     0.64965,     0.65065,     0.65165,     0.65265,     0.65365,     0.65465,     0.65566,     0.65666,     0.65766,     0.65866,     0.65966,     0.66066,     0.66166,     0.66266,     0.66366,     0.66466,     0.66567,     0.66667,     0.66767,     0.66867,     0.66967,     0.67067,     0.67167,\n",
       "           0.67267,     0.67367,     0.67467,     0.67568,     0.67668,     0.67768,     0.67868,     0.67968,     0.68068,     0.68168,     0.68268,     0.68368,     0.68468,     0.68569,     0.68669,     0.68769,     0.68869,     0.68969,     0.69069,     0.69169,     0.69269,     0.69369,     0.69469,      0.6957,\n",
       "            0.6967,      0.6977,      0.6987,      0.6997,      0.7007,      0.7017,      0.7027,      0.7037,      0.7047,     0.70571,     0.70671,     0.70771,     0.70871,     0.70971,     0.71071,     0.71171,     0.71271,     0.71371,     0.71471,     0.71572,     0.71672,     0.71772,     0.71872,     0.71972,\n",
       "           0.72072,     0.72172,     0.72272,     0.72372,     0.72472,     0.72573,     0.72673,     0.72773,     0.72873,     0.72973,     0.73073,     0.73173,     0.73273,     0.73373,     0.73473,     0.73574,     0.73674,     0.73774,     0.73874,     0.73974,     0.74074,     0.74174,     0.74274,     0.74374,\n",
       "           0.74474,     0.74575,     0.74675,     0.74775,     0.74875,     0.74975,     0.75075,     0.75175,     0.75275,     0.75375,     0.75475,     0.75576,     0.75676,     0.75776,     0.75876,     0.75976,     0.76076,     0.76176,     0.76276,     0.76376,     0.76476,     0.76577,     0.76677,     0.76777,\n",
       "           0.76877,     0.76977,     0.77077,     0.77177,     0.77277,     0.77377,     0.77477,     0.77578,     0.77678,     0.77778,     0.77878,     0.77978,     0.78078,     0.78178,     0.78278,     0.78378,     0.78478,     0.78579,     0.78679,     0.78779,     0.78879,     0.78979,     0.79079,     0.79179,\n",
       "           0.79279,     0.79379,     0.79479,      0.7958,      0.7968,      0.7978,      0.7988,      0.7998,      0.8008,      0.8018,      0.8028,      0.8038,      0.8048,     0.80581,     0.80681,     0.80781,     0.80881,     0.80981,     0.81081,     0.81181,     0.81281,     0.81381,     0.81481,     0.81582,\n",
       "           0.81682,     0.81782,     0.81882,     0.81982,     0.82082,     0.82182,     0.82282,     0.82382,     0.82482,     0.82583,     0.82683,     0.82783,     0.82883,     0.82983,     0.83083,     0.83183,     0.83283,     0.83383,     0.83483,     0.83584,     0.83684,     0.83784,     0.83884,     0.83984,\n",
       "           0.84084,     0.84184,     0.84284,     0.84384,     0.84484,     0.84585,     0.84685,     0.84785,     0.84885,     0.84985,     0.85085,     0.85185,     0.85285,     0.85385,     0.85485,     0.85586,     0.85686,     0.85786,     0.85886,     0.85986,     0.86086,     0.86186,     0.86286,     0.86386,\n",
       "           0.86486,     0.86587,     0.86687,     0.86787,     0.86887,     0.86987,     0.87087,     0.87187,     0.87287,     0.87387,     0.87487,     0.87588,     0.87688,     0.87788,     0.87888,     0.87988,     0.88088,     0.88188,     0.88288,     0.88388,     0.88488,     0.88589,     0.88689,     0.88789,\n",
       "           0.88889,     0.88989,     0.89089,     0.89189,     0.89289,     0.89389,     0.89489,      0.8959,      0.8969,      0.8979,      0.8989,      0.8999,      0.9009,      0.9019,      0.9029,      0.9039,      0.9049,     0.90591,     0.90691,     0.90791,     0.90891,     0.90991,     0.91091,     0.91191,\n",
       "           0.91291,     0.91391,     0.91491,     0.91592,     0.91692,     0.91792,     0.91892,     0.91992,     0.92092,     0.92192,     0.92292,     0.92392,     0.92492,     0.92593,     0.92693,     0.92793,     0.92893,     0.92993,     0.93093,     0.93193,     0.93293,     0.93393,     0.93493,     0.93594,\n",
       "           0.93694,     0.93794,     0.93894,     0.93994,     0.94094,     0.94194,     0.94294,     0.94394,     0.94494,     0.94595,     0.94695,     0.94795,     0.94895,     0.94995,     0.95095,     0.95195,     0.95295,     0.95395,     0.95495,     0.95596,     0.95696,     0.95796,     0.95896,     0.95996,\n",
       "           0.96096,     0.96196,     0.96296,     0.96396,     0.96496,     0.96597,     0.96697,     0.96797,     0.96897,     0.96997,     0.97097,     0.97197,     0.97297,     0.97397,     0.97497,     0.97598,     0.97698,     0.97798,     0.97898,     0.97998,     0.98098,     0.98198,     0.98298,     0.98398,\n",
       "           0.98498,     0.98599,     0.98699,     0.98799,     0.98899,     0.98999,     0.99099,     0.99199,     0.99299,     0.99399,     0.99499,       0.996,       0.997,       0.998,       0.999,           1]), array([[      0.736,       0.736,       0.736, ...,   0.0024584,   0.0012292,           0],\n",
       "       [        0.8,         0.8,         0.8, ...,   0.0024625,   0.0012312,           0],\n",
       "       [          1,           1,           1, ...,           1,           1,           0],\n",
       "       [          1,           1,           1, ...,   0.0020741,   0.0010371,           0]], shape=(4, 1000)), 'Recall', 'Precision'], [array([          0,    0.001001,    0.002002,    0.003003,    0.004004,    0.005005,    0.006006,    0.007007,    0.008008,    0.009009,     0.01001,    0.011011,    0.012012,    0.013013,    0.014014,    0.015015,    0.016016,    0.017017,    0.018018,    0.019019,     0.02002,    0.021021,    0.022022,    0.023023,\n",
       "          0.024024,    0.025025,    0.026026,    0.027027,    0.028028,    0.029029,     0.03003,    0.031031,    0.032032,    0.033033,    0.034034,    0.035035,    0.036036,    0.037037,    0.038038,    0.039039,     0.04004,    0.041041,    0.042042,    0.043043,    0.044044,    0.045045,    0.046046,    0.047047,\n",
       "          0.048048,    0.049049,     0.05005,    0.051051,    0.052052,    0.053053,    0.054054,    0.055055,    0.056056,    0.057057,    0.058058,    0.059059,     0.06006,    0.061061,    0.062062,    0.063063,    0.064064,    0.065065,    0.066066,    0.067067,    0.068068,    0.069069,     0.07007,    0.071071,\n",
       "          0.072072,    0.073073,    0.074074,    0.075075,    0.076076,    0.077077,    0.078078,    0.079079,     0.08008,    0.081081,    0.082082,    0.083083,    0.084084,    0.085085,    0.086086,    0.087087,    0.088088,    0.089089,     0.09009,    0.091091,    0.092092,    0.093093,    0.094094,    0.095095,\n",
       "          0.096096,    0.097097,    0.098098,    0.099099,      0.1001,      0.1011,      0.1021,      0.1031,      0.1041,     0.10511,     0.10611,     0.10711,     0.10811,     0.10911,     0.11011,     0.11111,     0.11211,     0.11311,     0.11411,     0.11512,     0.11612,     0.11712,     0.11812,     0.11912,\n",
       "           0.12012,     0.12112,     0.12212,     0.12312,     0.12412,     0.12513,     0.12613,     0.12713,     0.12813,     0.12913,     0.13013,     0.13113,     0.13213,     0.13313,     0.13413,     0.13514,     0.13614,     0.13714,     0.13814,     0.13914,     0.14014,     0.14114,     0.14214,     0.14314,\n",
       "           0.14414,     0.14515,     0.14615,     0.14715,     0.14815,     0.14915,     0.15015,     0.15115,     0.15215,     0.15315,     0.15415,     0.15516,     0.15616,     0.15716,     0.15816,     0.15916,     0.16016,     0.16116,     0.16216,     0.16316,     0.16416,     0.16517,     0.16617,     0.16717,\n",
       "           0.16817,     0.16917,     0.17017,     0.17117,     0.17217,     0.17317,     0.17417,     0.17518,     0.17618,     0.17718,     0.17818,     0.17918,     0.18018,     0.18118,     0.18218,     0.18318,     0.18418,     0.18519,     0.18619,     0.18719,     0.18819,     0.18919,     0.19019,     0.19119,\n",
       "           0.19219,     0.19319,     0.19419,      0.1952,      0.1962,      0.1972,      0.1982,      0.1992,      0.2002,      0.2012,      0.2022,      0.2032,      0.2042,     0.20521,     0.20621,     0.20721,     0.20821,     0.20921,     0.21021,     0.21121,     0.21221,     0.21321,     0.21421,     0.21522,\n",
       "           0.21622,     0.21722,     0.21822,     0.21922,     0.22022,     0.22122,     0.22222,     0.22322,     0.22422,     0.22523,     0.22623,     0.22723,     0.22823,     0.22923,     0.23023,     0.23123,     0.23223,     0.23323,     0.23423,     0.23524,     0.23624,     0.23724,     0.23824,     0.23924,\n",
       "           0.24024,     0.24124,     0.24224,     0.24324,     0.24424,     0.24525,     0.24625,     0.24725,     0.24825,     0.24925,     0.25025,     0.25125,     0.25225,     0.25325,     0.25425,     0.25526,     0.25626,     0.25726,     0.25826,     0.25926,     0.26026,     0.26126,     0.26226,     0.26326,\n",
       "           0.26426,     0.26527,     0.26627,     0.26727,     0.26827,     0.26927,     0.27027,     0.27127,     0.27227,     0.27327,     0.27427,     0.27528,     0.27628,     0.27728,     0.27828,     0.27928,     0.28028,     0.28128,     0.28228,     0.28328,     0.28428,     0.28529,     0.28629,     0.28729,\n",
       "           0.28829,     0.28929,     0.29029,     0.29129,     0.29229,     0.29329,     0.29429,      0.2953,      0.2963,      0.2973,      0.2983,      0.2993,      0.3003,      0.3013,      0.3023,      0.3033,      0.3043,     0.30531,     0.30631,     0.30731,     0.30831,     0.30931,     0.31031,     0.31131,\n",
       "           0.31231,     0.31331,     0.31431,     0.31532,     0.31632,     0.31732,     0.31832,     0.31932,     0.32032,     0.32132,     0.32232,     0.32332,     0.32432,     0.32533,     0.32633,     0.32733,     0.32833,     0.32933,     0.33033,     0.33133,     0.33233,     0.33333,     0.33433,     0.33534,\n",
       "           0.33634,     0.33734,     0.33834,     0.33934,     0.34034,     0.34134,     0.34234,     0.34334,     0.34434,     0.34535,     0.34635,     0.34735,     0.34835,     0.34935,     0.35035,     0.35135,     0.35235,     0.35335,     0.35435,     0.35536,     0.35636,     0.35736,     0.35836,     0.35936,\n",
       "           0.36036,     0.36136,     0.36236,     0.36336,     0.36436,     0.36537,     0.36637,     0.36737,     0.36837,     0.36937,     0.37037,     0.37137,     0.37237,     0.37337,     0.37437,     0.37538,     0.37638,     0.37738,     0.37838,     0.37938,     0.38038,     0.38138,     0.38238,     0.38338,\n",
       "           0.38438,     0.38539,     0.38639,     0.38739,     0.38839,     0.38939,     0.39039,     0.39139,     0.39239,     0.39339,     0.39439,      0.3954,      0.3964,      0.3974,      0.3984,      0.3994,      0.4004,      0.4014,      0.4024,      0.4034,      0.4044,     0.40541,     0.40641,     0.40741,\n",
       "           0.40841,     0.40941,     0.41041,     0.41141,     0.41241,     0.41341,     0.41441,     0.41542,     0.41642,     0.41742,     0.41842,     0.41942,     0.42042,     0.42142,     0.42242,     0.42342,     0.42442,     0.42543,     0.42643,     0.42743,     0.42843,     0.42943,     0.43043,     0.43143,\n",
       "           0.43243,     0.43343,     0.43443,     0.43544,     0.43644,     0.43744,     0.43844,     0.43944,     0.44044,     0.44144,     0.44244,     0.44344,     0.44444,     0.44545,     0.44645,     0.44745,     0.44845,     0.44945,     0.45045,     0.45145,     0.45245,     0.45345,     0.45445,     0.45546,\n",
       "           0.45646,     0.45746,     0.45846,     0.45946,     0.46046,     0.46146,     0.46246,     0.46346,     0.46446,     0.46547,     0.46647,     0.46747,     0.46847,     0.46947,     0.47047,     0.47147,     0.47247,     0.47347,     0.47447,     0.47548,     0.47648,     0.47748,     0.47848,     0.47948,\n",
       "           0.48048,     0.48148,     0.48248,     0.48348,     0.48448,     0.48549,     0.48649,     0.48749,     0.48849,     0.48949,     0.49049,     0.49149,     0.49249,     0.49349,     0.49449,      0.4955,      0.4965,      0.4975,      0.4985,      0.4995,      0.5005,      0.5015,      0.5025,      0.5035,\n",
       "            0.5045,     0.50551,     0.50651,     0.50751,     0.50851,     0.50951,     0.51051,     0.51151,     0.51251,     0.51351,     0.51451,     0.51552,     0.51652,     0.51752,     0.51852,     0.51952,     0.52052,     0.52152,     0.52252,     0.52352,     0.52452,     0.52553,     0.52653,     0.52753,\n",
       "           0.52853,     0.52953,     0.53053,     0.53153,     0.53253,     0.53353,     0.53453,     0.53554,     0.53654,     0.53754,     0.53854,     0.53954,     0.54054,     0.54154,     0.54254,     0.54354,     0.54454,     0.54555,     0.54655,     0.54755,     0.54855,     0.54955,     0.55055,     0.55155,\n",
       "           0.55255,     0.55355,     0.55455,     0.55556,     0.55656,     0.55756,     0.55856,     0.55956,     0.56056,     0.56156,     0.56256,     0.56356,     0.56456,     0.56557,     0.56657,     0.56757,     0.56857,     0.56957,     0.57057,     0.57157,     0.57257,     0.57357,     0.57457,     0.57558,\n",
       "           0.57658,     0.57758,     0.57858,     0.57958,     0.58058,     0.58158,     0.58258,     0.58358,     0.58458,     0.58559,     0.58659,     0.58759,     0.58859,     0.58959,     0.59059,     0.59159,     0.59259,     0.59359,     0.59459,      0.5956,      0.5966,      0.5976,      0.5986,      0.5996,\n",
       "            0.6006,      0.6016,      0.6026,      0.6036,      0.6046,     0.60561,     0.60661,     0.60761,     0.60861,     0.60961,     0.61061,     0.61161,     0.61261,     0.61361,     0.61461,     0.61562,     0.61662,     0.61762,     0.61862,     0.61962,     0.62062,     0.62162,     0.62262,     0.62362,\n",
       "           0.62462,     0.62563,     0.62663,     0.62763,     0.62863,     0.62963,     0.63063,     0.63163,     0.63263,     0.63363,     0.63463,     0.63564,     0.63664,     0.63764,     0.63864,     0.63964,     0.64064,     0.64164,     0.64264,     0.64364,     0.64464,     0.64565,     0.64665,     0.64765,\n",
       "           0.64865,     0.64965,     0.65065,     0.65165,     0.65265,     0.65365,     0.65465,     0.65566,     0.65666,     0.65766,     0.65866,     0.65966,     0.66066,     0.66166,     0.66266,     0.66366,     0.66466,     0.66567,     0.66667,     0.66767,     0.66867,     0.66967,     0.67067,     0.67167,\n",
       "           0.67267,     0.67367,     0.67467,     0.67568,     0.67668,     0.67768,     0.67868,     0.67968,     0.68068,     0.68168,     0.68268,     0.68368,     0.68468,     0.68569,     0.68669,     0.68769,     0.68869,     0.68969,     0.69069,     0.69169,     0.69269,     0.69369,     0.69469,      0.6957,\n",
       "            0.6967,      0.6977,      0.6987,      0.6997,      0.7007,      0.7017,      0.7027,      0.7037,      0.7047,     0.70571,     0.70671,     0.70771,     0.70871,     0.70971,     0.71071,     0.71171,     0.71271,     0.71371,     0.71471,     0.71572,     0.71672,     0.71772,     0.71872,     0.71972,\n",
       "           0.72072,     0.72172,     0.72272,     0.72372,     0.72472,     0.72573,     0.72673,     0.72773,     0.72873,     0.72973,     0.73073,     0.73173,     0.73273,     0.73373,     0.73473,     0.73574,     0.73674,     0.73774,     0.73874,     0.73974,     0.74074,     0.74174,     0.74274,     0.74374,\n",
       "           0.74474,     0.74575,     0.74675,     0.74775,     0.74875,     0.74975,     0.75075,     0.75175,     0.75275,     0.75375,     0.75475,     0.75576,     0.75676,     0.75776,     0.75876,     0.75976,     0.76076,     0.76176,     0.76276,     0.76376,     0.76476,     0.76577,     0.76677,     0.76777,\n",
       "           0.76877,     0.76977,     0.77077,     0.77177,     0.77277,     0.77377,     0.77477,     0.77578,     0.77678,     0.77778,     0.77878,     0.77978,     0.78078,     0.78178,     0.78278,     0.78378,     0.78478,     0.78579,     0.78679,     0.78779,     0.78879,     0.78979,     0.79079,     0.79179,\n",
       "           0.79279,     0.79379,     0.79479,      0.7958,      0.7968,      0.7978,      0.7988,      0.7998,      0.8008,      0.8018,      0.8028,      0.8038,      0.8048,     0.80581,     0.80681,     0.80781,     0.80881,     0.80981,     0.81081,     0.81181,     0.81281,     0.81381,     0.81481,     0.81582,\n",
       "           0.81682,     0.81782,     0.81882,     0.81982,     0.82082,     0.82182,     0.82282,     0.82382,     0.82482,     0.82583,     0.82683,     0.82783,     0.82883,     0.82983,     0.83083,     0.83183,     0.83283,     0.83383,     0.83483,     0.83584,     0.83684,     0.83784,     0.83884,     0.83984,\n",
       "           0.84084,     0.84184,     0.84284,     0.84384,     0.84484,     0.84585,     0.84685,     0.84785,     0.84885,     0.84985,     0.85085,     0.85185,     0.85285,     0.85385,     0.85485,     0.85586,     0.85686,     0.85786,     0.85886,     0.85986,     0.86086,     0.86186,     0.86286,     0.86386,\n",
       "           0.86486,     0.86587,     0.86687,     0.86787,     0.86887,     0.86987,     0.87087,     0.87187,     0.87287,     0.87387,     0.87487,     0.87588,     0.87688,     0.87788,     0.87888,     0.87988,     0.88088,     0.88188,     0.88288,     0.88388,     0.88488,     0.88589,     0.88689,     0.88789,\n",
       "           0.88889,     0.88989,     0.89089,     0.89189,     0.89289,     0.89389,     0.89489,      0.8959,      0.8969,      0.8979,      0.8989,      0.8999,      0.9009,      0.9019,      0.9029,      0.9039,      0.9049,     0.90591,     0.90691,     0.90791,     0.90891,     0.90991,     0.91091,     0.91191,\n",
       "           0.91291,     0.91391,     0.91491,     0.91592,     0.91692,     0.91792,     0.91892,     0.91992,     0.92092,     0.92192,     0.92292,     0.92392,     0.92492,     0.92593,     0.92693,     0.92793,     0.92893,     0.92993,     0.93093,     0.93193,     0.93293,     0.93393,     0.93493,     0.93594,\n",
       "           0.93694,     0.93794,     0.93894,     0.93994,     0.94094,     0.94194,     0.94294,     0.94394,     0.94494,     0.94595,     0.94695,     0.94795,     0.94895,     0.94995,     0.95095,     0.95195,     0.95295,     0.95395,     0.95495,     0.95596,     0.95696,     0.95796,     0.95896,     0.95996,\n",
       "           0.96096,     0.96196,     0.96296,     0.96396,     0.96496,     0.96597,     0.96697,     0.96797,     0.96897,     0.96997,     0.97097,     0.97197,     0.97297,     0.97397,     0.97497,     0.97598,     0.97698,     0.97798,     0.97898,     0.97998,     0.98098,     0.98198,     0.98298,     0.98398,\n",
       "           0.98498,     0.98599,     0.98699,     0.98799,     0.98899,     0.98999,     0.99099,     0.99199,     0.99299,     0.99399,     0.99499,       0.996,       0.997,       0.998,       0.999,           1]), array([[    0.11525,     0.11525,      0.1297, ...,           0,           0,           0],\n",
       "       [    0.13152,     0.13152,     0.16648, ...,           0,           0,           0],\n",
       "       [    0.22251,     0.22251,     0.38403, ...,           0,           0,           0],\n",
       "       [    0.27098,     0.27098,     0.35183, ...,           0,           0,           0]], shape=(4, 1000)), 'Confidence', 'F1'], [array([          0,    0.001001,    0.002002,    0.003003,    0.004004,    0.005005,    0.006006,    0.007007,    0.008008,    0.009009,     0.01001,    0.011011,    0.012012,    0.013013,    0.014014,    0.015015,    0.016016,    0.017017,    0.018018,    0.019019,     0.02002,    0.021021,    0.022022,    0.023023,\n",
       "          0.024024,    0.025025,    0.026026,    0.027027,    0.028028,    0.029029,     0.03003,    0.031031,    0.032032,    0.033033,    0.034034,    0.035035,    0.036036,    0.037037,    0.038038,    0.039039,     0.04004,    0.041041,    0.042042,    0.043043,    0.044044,    0.045045,    0.046046,    0.047047,\n",
       "          0.048048,    0.049049,     0.05005,    0.051051,    0.052052,    0.053053,    0.054054,    0.055055,    0.056056,    0.057057,    0.058058,    0.059059,     0.06006,    0.061061,    0.062062,    0.063063,    0.064064,    0.065065,    0.066066,    0.067067,    0.068068,    0.069069,     0.07007,    0.071071,\n",
       "          0.072072,    0.073073,    0.074074,    0.075075,    0.076076,    0.077077,    0.078078,    0.079079,     0.08008,    0.081081,    0.082082,    0.083083,    0.084084,    0.085085,    0.086086,    0.087087,    0.088088,    0.089089,     0.09009,    0.091091,    0.092092,    0.093093,    0.094094,    0.095095,\n",
       "          0.096096,    0.097097,    0.098098,    0.099099,      0.1001,      0.1011,      0.1021,      0.1031,      0.1041,     0.10511,     0.10611,     0.10711,     0.10811,     0.10911,     0.11011,     0.11111,     0.11211,     0.11311,     0.11411,     0.11512,     0.11612,     0.11712,     0.11812,     0.11912,\n",
       "           0.12012,     0.12112,     0.12212,     0.12312,     0.12412,     0.12513,     0.12613,     0.12713,     0.12813,     0.12913,     0.13013,     0.13113,     0.13213,     0.13313,     0.13413,     0.13514,     0.13614,     0.13714,     0.13814,     0.13914,     0.14014,     0.14114,     0.14214,     0.14314,\n",
       "           0.14414,     0.14515,     0.14615,     0.14715,     0.14815,     0.14915,     0.15015,     0.15115,     0.15215,     0.15315,     0.15415,     0.15516,     0.15616,     0.15716,     0.15816,     0.15916,     0.16016,     0.16116,     0.16216,     0.16316,     0.16416,     0.16517,     0.16617,     0.16717,\n",
       "           0.16817,     0.16917,     0.17017,     0.17117,     0.17217,     0.17317,     0.17417,     0.17518,     0.17618,     0.17718,     0.17818,     0.17918,     0.18018,     0.18118,     0.18218,     0.18318,     0.18418,     0.18519,     0.18619,     0.18719,     0.18819,     0.18919,     0.19019,     0.19119,\n",
       "           0.19219,     0.19319,     0.19419,      0.1952,      0.1962,      0.1972,      0.1982,      0.1992,      0.2002,      0.2012,      0.2022,      0.2032,      0.2042,     0.20521,     0.20621,     0.20721,     0.20821,     0.20921,     0.21021,     0.21121,     0.21221,     0.21321,     0.21421,     0.21522,\n",
       "           0.21622,     0.21722,     0.21822,     0.21922,     0.22022,     0.22122,     0.22222,     0.22322,     0.22422,     0.22523,     0.22623,     0.22723,     0.22823,     0.22923,     0.23023,     0.23123,     0.23223,     0.23323,     0.23423,     0.23524,     0.23624,     0.23724,     0.23824,     0.23924,\n",
       "           0.24024,     0.24124,     0.24224,     0.24324,     0.24424,     0.24525,     0.24625,     0.24725,     0.24825,     0.24925,     0.25025,     0.25125,     0.25225,     0.25325,     0.25425,     0.25526,     0.25626,     0.25726,     0.25826,     0.25926,     0.26026,     0.26126,     0.26226,     0.26326,\n",
       "           0.26426,     0.26527,     0.26627,     0.26727,     0.26827,     0.26927,     0.27027,     0.27127,     0.27227,     0.27327,     0.27427,     0.27528,     0.27628,     0.27728,     0.27828,     0.27928,     0.28028,     0.28128,     0.28228,     0.28328,     0.28428,     0.28529,     0.28629,     0.28729,\n",
       "           0.28829,     0.28929,     0.29029,     0.29129,     0.29229,     0.29329,     0.29429,      0.2953,      0.2963,      0.2973,      0.2983,      0.2993,      0.3003,      0.3013,      0.3023,      0.3033,      0.3043,     0.30531,     0.30631,     0.30731,     0.30831,     0.30931,     0.31031,     0.31131,\n",
       "           0.31231,     0.31331,     0.31431,     0.31532,     0.31632,     0.31732,     0.31832,     0.31932,     0.32032,     0.32132,     0.32232,     0.32332,     0.32432,     0.32533,     0.32633,     0.32733,     0.32833,     0.32933,     0.33033,     0.33133,     0.33233,     0.33333,     0.33433,     0.33534,\n",
       "           0.33634,     0.33734,     0.33834,     0.33934,     0.34034,     0.34134,     0.34234,     0.34334,     0.34434,     0.34535,     0.34635,     0.34735,     0.34835,     0.34935,     0.35035,     0.35135,     0.35235,     0.35335,     0.35435,     0.35536,     0.35636,     0.35736,     0.35836,     0.35936,\n",
       "           0.36036,     0.36136,     0.36236,     0.36336,     0.36436,     0.36537,     0.36637,     0.36737,     0.36837,     0.36937,     0.37037,     0.37137,     0.37237,     0.37337,     0.37437,     0.37538,     0.37638,     0.37738,     0.37838,     0.37938,     0.38038,     0.38138,     0.38238,     0.38338,\n",
       "           0.38438,     0.38539,     0.38639,     0.38739,     0.38839,     0.38939,     0.39039,     0.39139,     0.39239,     0.39339,     0.39439,      0.3954,      0.3964,      0.3974,      0.3984,      0.3994,      0.4004,      0.4014,      0.4024,      0.4034,      0.4044,     0.40541,     0.40641,     0.40741,\n",
       "           0.40841,     0.40941,     0.41041,     0.41141,     0.41241,     0.41341,     0.41441,     0.41542,     0.41642,     0.41742,     0.41842,     0.41942,     0.42042,     0.42142,     0.42242,     0.42342,     0.42442,     0.42543,     0.42643,     0.42743,     0.42843,     0.42943,     0.43043,     0.43143,\n",
       "           0.43243,     0.43343,     0.43443,     0.43544,     0.43644,     0.43744,     0.43844,     0.43944,     0.44044,     0.44144,     0.44244,     0.44344,     0.44444,     0.44545,     0.44645,     0.44745,     0.44845,     0.44945,     0.45045,     0.45145,     0.45245,     0.45345,     0.45445,     0.45546,\n",
       "           0.45646,     0.45746,     0.45846,     0.45946,     0.46046,     0.46146,     0.46246,     0.46346,     0.46446,     0.46547,     0.46647,     0.46747,     0.46847,     0.46947,     0.47047,     0.47147,     0.47247,     0.47347,     0.47447,     0.47548,     0.47648,     0.47748,     0.47848,     0.47948,\n",
       "           0.48048,     0.48148,     0.48248,     0.48348,     0.48448,     0.48549,     0.48649,     0.48749,     0.48849,     0.48949,     0.49049,     0.49149,     0.49249,     0.49349,     0.49449,      0.4955,      0.4965,      0.4975,      0.4985,      0.4995,      0.5005,      0.5015,      0.5025,      0.5035,\n",
       "            0.5045,     0.50551,     0.50651,     0.50751,     0.50851,     0.50951,     0.51051,     0.51151,     0.51251,     0.51351,     0.51451,     0.51552,     0.51652,     0.51752,     0.51852,     0.51952,     0.52052,     0.52152,     0.52252,     0.52352,     0.52452,     0.52553,     0.52653,     0.52753,\n",
       "           0.52853,     0.52953,     0.53053,     0.53153,     0.53253,     0.53353,     0.53453,     0.53554,     0.53654,     0.53754,     0.53854,     0.53954,     0.54054,     0.54154,     0.54254,     0.54354,     0.54454,     0.54555,     0.54655,     0.54755,     0.54855,     0.54955,     0.55055,     0.55155,\n",
       "           0.55255,     0.55355,     0.55455,     0.55556,     0.55656,     0.55756,     0.55856,     0.55956,     0.56056,     0.56156,     0.56256,     0.56356,     0.56456,     0.56557,     0.56657,     0.56757,     0.56857,     0.56957,     0.57057,     0.57157,     0.57257,     0.57357,     0.57457,     0.57558,\n",
       "           0.57658,     0.57758,     0.57858,     0.57958,     0.58058,     0.58158,     0.58258,     0.58358,     0.58458,     0.58559,     0.58659,     0.58759,     0.58859,     0.58959,     0.59059,     0.59159,     0.59259,     0.59359,     0.59459,      0.5956,      0.5966,      0.5976,      0.5986,      0.5996,\n",
       "            0.6006,      0.6016,      0.6026,      0.6036,      0.6046,     0.60561,     0.60661,     0.60761,     0.60861,     0.60961,     0.61061,     0.61161,     0.61261,     0.61361,     0.61461,     0.61562,     0.61662,     0.61762,     0.61862,     0.61962,     0.62062,     0.62162,     0.62262,     0.62362,\n",
       "           0.62462,     0.62563,     0.62663,     0.62763,     0.62863,     0.62963,     0.63063,     0.63163,     0.63263,     0.63363,     0.63463,     0.63564,     0.63664,     0.63764,     0.63864,     0.63964,     0.64064,     0.64164,     0.64264,     0.64364,     0.64464,     0.64565,     0.64665,     0.64765,\n",
       "           0.64865,     0.64965,     0.65065,     0.65165,     0.65265,     0.65365,     0.65465,     0.65566,     0.65666,     0.65766,     0.65866,     0.65966,     0.66066,     0.66166,     0.66266,     0.66366,     0.66466,     0.66567,     0.66667,     0.66767,     0.66867,     0.66967,     0.67067,     0.67167,\n",
       "           0.67267,     0.67367,     0.67467,     0.67568,     0.67668,     0.67768,     0.67868,     0.67968,     0.68068,     0.68168,     0.68268,     0.68368,     0.68468,     0.68569,     0.68669,     0.68769,     0.68869,     0.68969,     0.69069,     0.69169,     0.69269,     0.69369,     0.69469,      0.6957,\n",
       "            0.6967,      0.6977,      0.6987,      0.6997,      0.7007,      0.7017,      0.7027,      0.7037,      0.7047,     0.70571,     0.70671,     0.70771,     0.70871,     0.70971,     0.71071,     0.71171,     0.71271,     0.71371,     0.71471,     0.71572,     0.71672,     0.71772,     0.71872,     0.71972,\n",
       "           0.72072,     0.72172,     0.72272,     0.72372,     0.72472,     0.72573,     0.72673,     0.72773,     0.72873,     0.72973,     0.73073,     0.73173,     0.73273,     0.73373,     0.73473,     0.73574,     0.73674,     0.73774,     0.73874,     0.73974,     0.74074,     0.74174,     0.74274,     0.74374,\n",
       "           0.74474,     0.74575,     0.74675,     0.74775,     0.74875,     0.74975,     0.75075,     0.75175,     0.75275,     0.75375,     0.75475,     0.75576,     0.75676,     0.75776,     0.75876,     0.75976,     0.76076,     0.76176,     0.76276,     0.76376,     0.76476,     0.76577,     0.76677,     0.76777,\n",
       "           0.76877,     0.76977,     0.77077,     0.77177,     0.77277,     0.77377,     0.77477,     0.77578,     0.77678,     0.77778,     0.77878,     0.77978,     0.78078,     0.78178,     0.78278,     0.78378,     0.78478,     0.78579,     0.78679,     0.78779,     0.78879,     0.78979,     0.79079,     0.79179,\n",
       "           0.79279,     0.79379,     0.79479,      0.7958,      0.7968,      0.7978,      0.7988,      0.7998,      0.8008,      0.8018,      0.8028,      0.8038,      0.8048,     0.80581,     0.80681,     0.80781,     0.80881,     0.80981,     0.81081,     0.81181,     0.81281,     0.81381,     0.81481,     0.81582,\n",
       "           0.81682,     0.81782,     0.81882,     0.81982,     0.82082,     0.82182,     0.82282,     0.82382,     0.82482,     0.82583,     0.82683,     0.82783,     0.82883,     0.82983,     0.83083,     0.83183,     0.83283,     0.83383,     0.83483,     0.83584,     0.83684,     0.83784,     0.83884,     0.83984,\n",
       "           0.84084,     0.84184,     0.84284,     0.84384,     0.84484,     0.84585,     0.84685,     0.84785,     0.84885,     0.84985,     0.85085,     0.85185,     0.85285,     0.85385,     0.85485,     0.85586,     0.85686,     0.85786,     0.85886,     0.85986,     0.86086,     0.86186,     0.86286,     0.86386,\n",
       "           0.86486,     0.86587,     0.86687,     0.86787,     0.86887,     0.86987,     0.87087,     0.87187,     0.87287,     0.87387,     0.87487,     0.87588,     0.87688,     0.87788,     0.87888,     0.87988,     0.88088,     0.88188,     0.88288,     0.88388,     0.88488,     0.88589,     0.88689,     0.88789,\n",
       "           0.88889,     0.88989,     0.89089,     0.89189,     0.89289,     0.89389,     0.89489,      0.8959,      0.8969,      0.8979,      0.8989,      0.8999,      0.9009,      0.9019,      0.9029,      0.9039,      0.9049,     0.90591,     0.90691,     0.90791,     0.90891,     0.90991,     0.91091,     0.91191,\n",
       "           0.91291,     0.91391,     0.91491,     0.91592,     0.91692,     0.91792,     0.91892,     0.91992,     0.92092,     0.92192,     0.92292,     0.92392,     0.92492,     0.92593,     0.92693,     0.92793,     0.92893,     0.92993,     0.93093,     0.93193,     0.93293,     0.93393,     0.93493,     0.93594,\n",
       "           0.93694,     0.93794,     0.93894,     0.93994,     0.94094,     0.94194,     0.94294,     0.94394,     0.94494,     0.94595,     0.94695,     0.94795,     0.94895,     0.94995,     0.95095,     0.95195,     0.95295,     0.95395,     0.95495,     0.95596,     0.95696,     0.95796,     0.95896,     0.95996,\n",
       "           0.96096,     0.96196,     0.96296,     0.96396,     0.96496,     0.96597,     0.96697,     0.96797,     0.96897,     0.96997,     0.97097,     0.97197,     0.97297,     0.97397,     0.97497,     0.97598,     0.97698,     0.97798,     0.97898,     0.97998,     0.98098,     0.98198,     0.98298,     0.98398,\n",
       "           0.98498,     0.98599,     0.98699,     0.98799,     0.98899,     0.98999,     0.99099,     0.99199,     0.99299,     0.99399,     0.99499,       0.996,       0.997,       0.998,       0.999,           1]), array([[   0.061344,    0.061344,    0.069616, ...,           1,           1,           1],\n",
       "       [    0.07069,     0.07069,    0.091305, ...,           1,           1,           1],\n",
       "       [    0.12518,     0.12518,     0.23764, ...,           1,           1,           1],\n",
       "       [    0.16139,     0.16139,     0.22249, ...,           1,           1,           1]], shape=(4, 1000)), 'Confidence', 'Precision'], [array([          0,    0.001001,    0.002002,    0.003003,    0.004004,    0.005005,    0.006006,    0.007007,    0.008008,    0.009009,     0.01001,    0.011011,    0.012012,    0.013013,    0.014014,    0.015015,    0.016016,    0.017017,    0.018018,    0.019019,     0.02002,    0.021021,    0.022022,    0.023023,\n",
       "          0.024024,    0.025025,    0.026026,    0.027027,    0.028028,    0.029029,     0.03003,    0.031031,    0.032032,    0.033033,    0.034034,    0.035035,    0.036036,    0.037037,    0.038038,    0.039039,     0.04004,    0.041041,    0.042042,    0.043043,    0.044044,    0.045045,    0.046046,    0.047047,\n",
       "          0.048048,    0.049049,     0.05005,    0.051051,    0.052052,    0.053053,    0.054054,    0.055055,    0.056056,    0.057057,    0.058058,    0.059059,     0.06006,    0.061061,    0.062062,    0.063063,    0.064064,    0.065065,    0.066066,    0.067067,    0.068068,    0.069069,     0.07007,    0.071071,\n",
       "          0.072072,    0.073073,    0.074074,    0.075075,    0.076076,    0.077077,    0.078078,    0.079079,     0.08008,    0.081081,    0.082082,    0.083083,    0.084084,    0.085085,    0.086086,    0.087087,    0.088088,    0.089089,     0.09009,    0.091091,    0.092092,    0.093093,    0.094094,    0.095095,\n",
       "          0.096096,    0.097097,    0.098098,    0.099099,      0.1001,      0.1011,      0.1021,      0.1031,      0.1041,     0.10511,     0.10611,     0.10711,     0.10811,     0.10911,     0.11011,     0.11111,     0.11211,     0.11311,     0.11411,     0.11512,     0.11612,     0.11712,     0.11812,     0.11912,\n",
       "           0.12012,     0.12112,     0.12212,     0.12312,     0.12412,     0.12513,     0.12613,     0.12713,     0.12813,     0.12913,     0.13013,     0.13113,     0.13213,     0.13313,     0.13413,     0.13514,     0.13614,     0.13714,     0.13814,     0.13914,     0.14014,     0.14114,     0.14214,     0.14314,\n",
       "           0.14414,     0.14515,     0.14615,     0.14715,     0.14815,     0.14915,     0.15015,     0.15115,     0.15215,     0.15315,     0.15415,     0.15516,     0.15616,     0.15716,     0.15816,     0.15916,     0.16016,     0.16116,     0.16216,     0.16316,     0.16416,     0.16517,     0.16617,     0.16717,\n",
       "           0.16817,     0.16917,     0.17017,     0.17117,     0.17217,     0.17317,     0.17417,     0.17518,     0.17618,     0.17718,     0.17818,     0.17918,     0.18018,     0.18118,     0.18218,     0.18318,     0.18418,     0.18519,     0.18619,     0.18719,     0.18819,     0.18919,     0.19019,     0.19119,\n",
       "           0.19219,     0.19319,     0.19419,      0.1952,      0.1962,      0.1972,      0.1982,      0.1992,      0.2002,      0.2012,      0.2022,      0.2032,      0.2042,     0.20521,     0.20621,     0.20721,     0.20821,     0.20921,     0.21021,     0.21121,     0.21221,     0.21321,     0.21421,     0.21522,\n",
       "           0.21622,     0.21722,     0.21822,     0.21922,     0.22022,     0.22122,     0.22222,     0.22322,     0.22422,     0.22523,     0.22623,     0.22723,     0.22823,     0.22923,     0.23023,     0.23123,     0.23223,     0.23323,     0.23423,     0.23524,     0.23624,     0.23724,     0.23824,     0.23924,\n",
       "           0.24024,     0.24124,     0.24224,     0.24324,     0.24424,     0.24525,     0.24625,     0.24725,     0.24825,     0.24925,     0.25025,     0.25125,     0.25225,     0.25325,     0.25425,     0.25526,     0.25626,     0.25726,     0.25826,     0.25926,     0.26026,     0.26126,     0.26226,     0.26326,\n",
       "           0.26426,     0.26527,     0.26627,     0.26727,     0.26827,     0.26927,     0.27027,     0.27127,     0.27227,     0.27327,     0.27427,     0.27528,     0.27628,     0.27728,     0.27828,     0.27928,     0.28028,     0.28128,     0.28228,     0.28328,     0.28428,     0.28529,     0.28629,     0.28729,\n",
       "           0.28829,     0.28929,     0.29029,     0.29129,     0.29229,     0.29329,     0.29429,      0.2953,      0.2963,      0.2973,      0.2983,      0.2993,      0.3003,      0.3013,      0.3023,      0.3033,      0.3043,     0.30531,     0.30631,     0.30731,     0.30831,     0.30931,     0.31031,     0.31131,\n",
       "           0.31231,     0.31331,     0.31431,     0.31532,     0.31632,     0.31732,     0.31832,     0.31932,     0.32032,     0.32132,     0.32232,     0.32332,     0.32432,     0.32533,     0.32633,     0.32733,     0.32833,     0.32933,     0.33033,     0.33133,     0.33233,     0.33333,     0.33433,     0.33534,\n",
       "           0.33634,     0.33734,     0.33834,     0.33934,     0.34034,     0.34134,     0.34234,     0.34334,     0.34434,     0.34535,     0.34635,     0.34735,     0.34835,     0.34935,     0.35035,     0.35135,     0.35235,     0.35335,     0.35435,     0.35536,     0.35636,     0.35736,     0.35836,     0.35936,\n",
       "           0.36036,     0.36136,     0.36236,     0.36336,     0.36436,     0.36537,     0.36637,     0.36737,     0.36837,     0.36937,     0.37037,     0.37137,     0.37237,     0.37337,     0.37437,     0.37538,     0.37638,     0.37738,     0.37838,     0.37938,     0.38038,     0.38138,     0.38238,     0.38338,\n",
       "           0.38438,     0.38539,     0.38639,     0.38739,     0.38839,     0.38939,     0.39039,     0.39139,     0.39239,     0.39339,     0.39439,      0.3954,      0.3964,      0.3974,      0.3984,      0.3994,      0.4004,      0.4014,      0.4024,      0.4034,      0.4044,     0.40541,     0.40641,     0.40741,\n",
       "           0.40841,     0.40941,     0.41041,     0.41141,     0.41241,     0.41341,     0.41441,     0.41542,     0.41642,     0.41742,     0.41842,     0.41942,     0.42042,     0.42142,     0.42242,     0.42342,     0.42442,     0.42543,     0.42643,     0.42743,     0.42843,     0.42943,     0.43043,     0.43143,\n",
       "           0.43243,     0.43343,     0.43443,     0.43544,     0.43644,     0.43744,     0.43844,     0.43944,     0.44044,     0.44144,     0.44244,     0.44344,     0.44444,     0.44545,     0.44645,     0.44745,     0.44845,     0.44945,     0.45045,     0.45145,     0.45245,     0.45345,     0.45445,     0.45546,\n",
       "           0.45646,     0.45746,     0.45846,     0.45946,     0.46046,     0.46146,     0.46246,     0.46346,     0.46446,     0.46547,     0.46647,     0.46747,     0.46847,     0.46947,     0.47047,     0.47147,     0.47247,     0.47347,     0.47447,     0.47548,     0.47648,     0.47748,     0.47848,     0.47948,\n",
       "           0.48048,     0.48148,     0.48248,     0.48348,     0.48448,     0.48549,     0.48649,     0.48749,     0.48849,     0.48949,     0.49049,     0.49149,     0.49249,     0.49349,     0.49449,      0.4955,      0.4965,      0.4975,      0.4985,      0.4995,      0.5005,      0.5015,      0.5025,      0.5035,\n",
       "            0.5045,     0.50551,     0.50651,     0.50751,     0.50851,     0.50951,     0.51051,     0.51151,     0.51251,     0.51351,     0.51451,     0.51552,     0.51652,     0.51752,     0.51852,     0.51952,     0.52052,     0.52152,     0.52252,     0.52352,     0.52452,     0.52553,     0.52653,     0.52753,\n",
       "           0.52853,     0.52953,     0.53053,     0.53153,     0.53253,     0.53353,     0.53453,     0.53554,     0.53654,     0.53754,     0.53854,     0.53954,     0.54054,     0.54154,     0.54254,     0.54354,     0.54454,     0.54555,     0.54655,     0.54755,     0.54855,     0.54955,     0.55055,     0.55155,\n",
       "           0.55255,     0.55355,     0.55455,     0.55556,     0.55656,     0.55756,     0.55856,     0.55956,     0.56056,     0.56156,     0.56256,     0.56356,     0.56456,     0.56557,     0.56657,     0.56757,     0.56857,     0.56957,     0.57057,     0.57157,     0.57257,     0.57357,     0.57457,     0.57558,\n",
       "           0.57658,     0.57758,     0.57858,     0.57958,     0.58058,     0.58158,     0.58258,     0.58358,     0.58458,     0.58559,     0.58659,     0.58759,     0.58859,     0.58959,     0.59059,     0.59159,     0.59259,     0.59359,     0.59459,      0.5956,      0.5966,      0.5976,      0.5986,      0.5996,\n",
       "            0.6006,      0.6016,      0.6026,      0.6036,      0.6046,     0.60561,     0.60661,     0.60761,     0.60861,     0.60961,     0.61061,     0.61161,     0.61261,     0.61361,     0.61461,     0.61562,     0.61662,     0.61762,     0.61862,     0.61962,     0.62062,     0.62162,     0.62262,     0.62362,\n",
       "           0.62462,     0.62563,     0.62663,     0.62763,     0.62863,     0.62963,     0.63063,     0.63163,     0.63263,     0.63363,     0.63463,     0.63564,     0.63664,     0.63764,     0.63864,     0.63964,     0.64064,     0.64164,     0.64264,     0.64364,     0.64464,     0.64565,     0.64665,     0.64765,\n",
       "           0.64865,     0.64965,     0.65065,     0.65165,     0.65265,     0.65365,     0.65465,     0.65566,     0.65666,     0.65766,     0.65866,     0.65966,     0.66066,     0.66166,     0.66266,     0.66366,     0.66466,     0.66567,     0.66667,     0.66767,     0.66867,     0.66967,     0.67067,     0.67167,\n",
       "           0.67267,     0.67367,     0.67467,     0.67568,     0.67668,     0.67768,     0.67868,     0.67968,     0.68068,     0.68168,     0.68268,     0.68368,     0.68468,     0.68569,     0.68669,     0.68769,     0.68869,     0.68969,     0.69069,     0.69169,     0.69269,     0.69369,     0.69469,      0.6957,\n",
       "            0.6967,      0.6977,      0.6987,      0.6997,      0.7007,      0.7017,      0.7027,      0.7037,      0.7047,     0.70571,     0.70671,     0.70771,     0.70871,     0.70971,     0.71071,     0.71171,     0.71271,     0.71371,     0.71471,     0.71572,     0.71672,     0.71772,     0.71872,     0.71972,\n",
       "           0.72072,     0.72172,     0.72272,     0.72372,     0.72472,     0.72573,     0.72673,     0.72773,     0.72873,     0.72973,     0.73073,     0.73173,     0.73273,     0.73373,     0.73473,     0.73574,     0.73674,     0.73774,     0.73874,     0.73974,     0.74074,     0.74174,     0.74274,     0.74374,\n",
       "           0.74474,     0.74575,     0.74675,     0.74775,     0.74875,     0.74975,     0.75075,     0.75175,     0.75275,     0.75375,     0.75475,     0.75576,     0.75676,     0.75776,     0.75876,     0.75976,     0.76076,     0.76176,     0.76276,     0.76376,     0.76476,     0.76577,     0.76677,     0.76777,\n",
       "           0.76877,     0.76977,     0.77077,     0.77177,     0.77277,     0.77377,     0.77477,     0.77578,     0.77678,     0.77778,     0.77878,     0.77978,     0.78078,     0.78178,     0.78278,     0.78378,     0.78478,     0.78579,     0.78679,     0.78779,     0.78879,     0.78979,     0.79079,     0.79179,\n",
       "           0.79279,     0.79379,     0.79479,      0.7958,      0.7968,      0.7978,      0.7988,      0.7998,      0.8008,      0.8018,      0.8028,      0.8038,      0.8048,     0.80581,     0.80681,     0.80781,     0.80881,     0.80981,     0.81081,     0.81181,     0.81281,     0.81381,     0.81481,     0.81582,\n",
       "           0.81682,     0.81782,     0.81882,     0.81982,     0.82082,     0.82182,     0.82282,     0.82382,     0.82482,     0.82583,     0.82683,     0.82783,     0.82883,     0.82983,     0.83083,     0.83183,     0.83283,     0.83383,     0.83483,     0.83584,     0.83684,     0.83784,     0.83884,     0.83984,\n",
       "           0.84084,     0.84184,     0.84284,     0.84384,     0.84484,     0.84585,     0.84685,     0.84785,     0.84885,     0.84985,     0.85085,     0.85185,     0.85285,     0.85385,     0.85485,     0.85586,     0.85686,     0.85786,     0.85886,     0.85986,     0.86086,     0.86186,     0.86286,     0.86386,\n",
       "           0.86486,     0.86587,     0.86687,     0.86787,     0.86887,     0.86987,     0.87087,     0.87187,     0.87287,     0.87387,     0.87487,     0.87588,     0.87688,     0.87788,     0.87888,     0.87988,     0.88088,     0.88188,     0.88288,     0.88388,     0.88488,     0.88589,     0.88689,     0.88789,\n",
       "           0.88889,     0.88989,     0.89089,     0.89189,     0.89289,     0.89389,     0.89489,      0.8959,      0.8969,      0.8979,      0.8989,      0.8999,      0.9009,      0.9019,      0.9029,      0.9039,      0.9049,     0.90591,     0.90691,     0.90791,     0.90891,     0.90991,     0.91091,     0.91191,\n",
       "           0.91291,     0.91391,     0.91491,     0.91592,     0.91692,     0.91792,     0.91892,     0.91992,     0.92092,     0.92192,     0.92292,     0.92392,     0.92492,     0.92593,     0.92693,     0.92793,     0.92893,     0.92993,     0.93093,     0.93193,     0.93293,     0.93393,     0.93493,     0.93594,\n",
       "           0.93694,     0.93794,     0.93894,     0.93994,     0.94094,     0.94194,     0.94294,     0.94394,     0.94494,     0.94595,     0.94695,     0.94795,     0.94895,     0.94995,     0.95095,     0.95195,     0.95295,     0.95395,     0.95495,     0.95596,     0.95696,     0.95796,     0.95896,     0.95996,\n",
       "           0.96096,     0.96196,     0.96296,     0.96396,     0.96496,     0.96597,     0.96697,     0.96797,     0.96897,     0.96997,     0.97097,     0.97197,     0.97297,     0.97397,     0.97497,     0.97598,     0.97698,     0.97798,     0.97898,     0.97998,     0.98098,     0.98198,     0.98298,     0.98398,\n",
       "           0.98498,     0.98599,     0.98699,     0.98799,     0.98899,     0.98999,     0.99099,     0.99199,     0.99299,     0.99399,     0.99499,       0.996,       0.997,       0.998,       0.999,           1]), array([[    0.95004,     0.95004,     0.94737, ...,           0,           0,           0],\n",
       "       [    0.94253,     0.94253,     0.94253, ...,           0,           0,           0],\n",
       "       [          1,           1,           1, ...,           0,           0,           0],\n",
       "       [    0.84422,     0.84422,     0.84043, ...,           0,           0,           0]], shape=(4, 1000)), 'Confidence', 'Recall']]\n",
       "fitness: np.float64(0.536657362815963)\n",
       "keys: ['metrics/precision(B)', 'metrics/recall(B)', 'metrics/mAP50(B)', 'metrics/mAP50-95(B)']\n",
       "maps: array([     0.2327,     0.41751,       0.796,     0.60968])\n",
       "names: {0: 'food', 1: 'person', 2: 'dining table', 3: 'dishes'}\n",
       "nt_per_class: array([1121,   87,   87, 1316])\n",
       "nt_per_image: array([87, 75, 87, 87])\n",
       "results_dict: {'metrics/precision(B)': np.float64(0.7947746775165961), 'metrics/recall(B)': np.float64(0.7598728754730235), 'metrics/mAP50(B)': np.float64(0.7408145599836028), 'metrics/mAP50-95(B)': np.float64(0.5139732297973364), 'fitness': np.float64(0.536657362815963)}\n",
       "speed: {'preprocess': 0.2646057467757799, 'inference': 6.0593517250970175, 'loss': 0.00041609244613811887, 'postprocess': 9.272916092612277}\n",
       "stats: {'tp': [], 'conf': [], 'pred_cls': [], 'target_cls': [], 'target_img': []}\n",
       "task: 'detect'"
      ]
     },
     "execution_count": 23,
     "metadata": {},
     "output_type": "execute_result"
    }
   ],
   "source": [
    "model.train(data=\"yolo_dataset\\yolo_dataset.yaml\",\n",
    "            epochs=40,\n",
    "            batch=-1,\n",
    "            imgsz=1280,\n",
    "            device=0,\n",
    "            cache=False,\n",
    "            workers=4,\n",
    "            )"
   ]
  },
  {
   "cell_type": "markdown",
   "metadata": {},
   "source": [
    "# Увеличение по размерам не дало прирост метрик, будем тюнить на 640"
   ]
  },
  {
   "cell_type": "code",
   "execution_count": null,
   "metadata": {},
   "outputs": [],
   "source": []
  },
  {
   "cell_type": "code",
   "execution_count": null,
   "metadata": {},
   "outputs": [],
   "source": []
  }
 ],
 "metadata": {
  "kernelspec": {
   "display_name": "Python (ml_venv)",
   "language": "python",
   "name": "ml_venv"
  },
  "language_info": {
   "codemirror_mode": {
    "name": "ipython",
    "version": 3
   },
   "file_extension": ".py",
   "mimetype": "text/x-python",
   "name": "python",
   "nbconvert_exporter": "python",
   "pygments_lexer": "ipython3",
   "version": "3.13.1"
  }
 },
 "nbformat": 4,
 "nbformat_minor": 2
}
